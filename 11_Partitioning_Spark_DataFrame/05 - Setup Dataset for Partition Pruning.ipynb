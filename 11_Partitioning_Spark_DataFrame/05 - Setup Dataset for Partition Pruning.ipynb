{
 "cells": [
  {
   "cell_type": "code",
   "execution_count": 0,
   "metadata": {
    "application/vnd.databricks.v1+cell": {
     "cellMetadata": {
      "byteLimit": 2048000,
      "rowLimit": 10000
     },
     "inputWidgets": {},
     "nuid": "a8619b1f-2f55-488b-b5f2-05321addc9eb",
     "showTitle": false,
     "title": ""
    }
   },
   "outputs": [
    {
     "output_type": "display_data",
     "data": {
      "text/html": [
       "<style scoped>\n",
       "  .table-result-container {\n",
       "    max-height: 300px;\n",
       "    overflow: auto;\n",
       "  }\n",
       "  table, th, td {\n",
       "    border: 1px solid black;\n",
       "    border-collapse: collapse;\n",
       "  }\n",
       "  th, td {\n",
       "    padding: 5px;\n",
       "  }\n",
       "  th {\n",
       "    text-align: left;\n",
       "  }\n",
       "</style><div class='table-result-container'><table class='table-result'><thead style='background-color: white'><tr><th>path</th><th>name</th><th>size</th><th>modificationTime</th></tr></thead><tbody><tr><td>dbfs:/databricks-datasets/COVID/</td><td>COVID/</td><td>0</td><td>1698240921544</td></tr><tr><td>dbfs:/databricks-datasets/README.md</td><td>README.md</td><td>976</td><td>1532502324000</td></tr><tr><td>dbfs:/databricks-datasets/Rdatasets/</td><td>Rdatasets/</td><td>0</td><td>1698240921544</td></tr><tr><td>dbfs:/databricks-datasets/SPARK_README.md</td><td>SPARK_README.md</td><td>3359</td><td>1455505834000</td></tr><tr><td>dbfs:/databricks-datasets/adult/</td><td>adult/</td><td>0</td><td>1698240921544</td></tr><tr><td>dbfs:/databricks-datasets/airlines/</td><td>airlines/</td><td>0</td><td>1698240921544</td></tr><tr><td>dbfs:/databricks-datasets/amazon/</td><td>amazon/</td><td>0</td><td>1698240921544</td></tr><tr><td>dbfs:/databricks-datasets/asa/</td><td>asa/</td><td>0</td><td>1698240921544</td></tr><tr><td>dbfs:/databricks-datasets/atlas_higgs/</td><td>atlas_higgs/</td><td>0</td><td>1698240921544</td></tr><tr><td>dbfs:/databricks-datasets/bikeSharing/</td><td>bikeSharing/</td><td>0</td><td>1698240921544</td></tr><tr><td>dbfs:/databricks-datasets/cctvVideos/</td><td>cctvVideos/</td><td>0</td><td>1698240921544</td></tr><tr><td>dbfs:/databricks-datasets/credit-card-fraud/</td><td>credit-card-fraud/</td><td>0</td><td>1698240921544</td></tr><tr><td>dbfs:/databricks-datasets/cs100/</td><td>cs100/</td><td>0</td><td>1698240921544</td></tr><tr><td>dbfs:/databricks-datasets/cs110x/</td><td>cs110x/</td><td>0</td><td>1698240921544</td></tr><tr><td>dbfs:/databricks-datasets/cs190/</td><td>cs190/</td><td>0</td><td>1698240921544</td></tr><tr><td>dbfs:/databricks-datasets/data.gov/</td><td>data.gov/</td><td>0</td><td>1698240921544</td></tr><tr><td>dbfs:/databricks-datasets/definitive-guide/</td><td>definitive-guide/</td><td>0</td><td>1698240921544</td></tr><tr><td>dbfs:/databricks-datasets/delta-sharing/</td><td>delta-sharing/</td><td>0</td><td>1698240921544</td></tr><tr><td>dbfs:/databricks-datasets/flights/</td><td>flights/</td><td>0</td><td>1698240921544</td></tr><tr><td>dbfs:/databricks-datasets/flower_photos/</td><td>flower_photos/</td><td>0</td><td>1698240921544</td></tr><tr><td>dbfs:/databricks-datasets/flowers/</td><td>flowers/</td><td>0</td><td>1698240921544</td></tr><tr><td>dbfs:/databricks-datasets/genomics/</td><td>genomics/</td><td>0</td><td>1698240921544</td></tr><tr><td>dbfs:/databricks-datasets/hail/</td><td>hail/</td><td>0</td><td>1698240921544</td></tr><tr><td>dbfs:/databricks-datasets/identifying-campaign-effectiveness/</td><td>identifying-campaign-effectiveness/</td><td>0</td><td>1698240921544</td></tr><tr><td>dbfs:/databricks-datasets/iot/</td><td>iot/</td><td>0</td><td>1698240921544</td></tr><tr><td>dbfs:/databricks-datasets/iot-stream/</td><td>iot-stream/</td><td>0</td><td>1698240921544</td></tr><tr><td>dbfs:/databricks-datasets/learning-spark/</td><td>learning-spark/</td><td>0</td><td>1698240921544</td></tr><tr><td>dbfs:/databricks-datasets/learning-spark-v2/</td><td>learning-spark-v2/</td><td>0</td><td>1698240921544</td></tr><tr><td>dbfs:/databricks-datasets/lending-club-loan-stats/</td><td>lending-club-loan-stats/</td><td>0</td><td>1698240921544</td></tr><tr><td>dbfs:/databricks-datasets/med-images/</td><td>med-images/</td><td>0</td><td>1698240921544</td></tr><tr><td>dbfs:/databricks-datasets/media/</td><td>media/</td><td>0</td><td>1698240921544</td></tr><tr><td>dbfs:/databricks-datasets/mnist-digits/</td><td>mnist-digits/</td><td>0</td><td>1698240921544</td></tr><tr><td>dbfs:/databricks-datasets/news20.binary/</td><td>news20.binary/</td><td>0</td><td>1698240921544</td></tr><tr><td>dbfs:/databricks-datasets/nyctaxi/</td><td>nyctaxi/</td><td>0</td><td>1698240921544</td></tr><tr><td>dbfs:/databricks-datasets/nyctaxi-with-zipcodes/</td><td>nyctaxi-with-zipcodes/</td><td>0</td><td>1698240921544</td></tr><tr><td>dbfs:/databricks-datasets/online_retail/</td><td>online_retail/</td><td>0</td><td>1698240921544</td></tr><tr><td>dbfs:/databricks-datasets/overlap-join/</td><td>overlap-join/</td><td>0</td><td>1698240921544</td></tr><tr><td>dbfs:/databricks-datasets/power-plant/</td><td>power-plant/</td><td>0</td><td>1698240921544</td></tr><tr><td>dbfs:/databricks-datasets/retail-org/</td><td>retail-org/</td><td>0</td><td>1698240921544</td></tr><tr><td>dbfs:/databricks-datasets/rwe/</td><td>rwe/</td><td>0</td><td>1698240921544</td></tr><tr><td>dbfs:/databricks-datasets/sai-summit-2019-sf/</td><td>sai-summit-2019-sf/</td><td>0</td><td>1698240921544</td></tr><tr><td>dbfs:/databricks-datasets/sample_logs/</td><td>sample_logs/</td><td>0</td><td>1698240921544</td></tr><tr><td>dbfs:/databricks-datasets/samples/</td><td>samples/</td><td>0</td><td>1698240921544</td></tr><tr><td>dbfs:/databricks-datasets/sfo_customer_survey/</td><td>sfo_customer_survey/</td><td>0</td><td>1698240921544</td></tr><tr><td>dbfs:/databricks-datasets/sms_spam_collection/</td><td>sms_spam_collection/</td><td>0</td><td>1698240921544</td></tr><tr><td>dbfs:/databricks-datasets/songs/</td><td>songs/</td><td>0</td><td>1698240921544</td></tr><tr><td>dbfs:/databricks-datasets/structured-streaming/</td><td>structured-streaming/</td><td>0</td><td>1698240921544</td></tr><tr><td>dbfs:/databricks-datasets/timeseries/</td><td>timeseries/</td><td>0</td><td>1698240921544</td></tr><tr><td>dbfs:/databricks-datasets/tpch/</td><td>tpch/</td><td>0</td><td>1698240921544</td></tr><tr><td>dbfs:/databricks-datasets/travel_recommendations_realtime/</td><td>travel_recommendations_realtime/</td><td>0</td><td>1698240921544</td></tr><tr><td>dbfs:/databricks-datasets/warmup/</td><td>warmup/</td><td>0</td><td>1698240921544</td></tr><tr><td>dbfs:/databricks-datasets/weather/</td><td>weather/</td><td>0</td><td>1698240921544</td></tr><tr><td>dbfs:/databricks-datasets/wiki/</td><td>wiki/</td><td>0</td><td>1698240921544</td></tr><tr><td>dbfs:/databricks-datasets/wikipedia-datasets/</td><td>wikipedia-datasets/</td><td>0</td><td>1698240921544</td></tr><tr><td>dbfs:/databricks-datasets/wine-quality/</td><td>wine-quality/</td><td>0</td><td>1698240921544</td></tr></tbody></table></div>"
      ]
     },
     "metadata": {
      "application/vnd.databricks.v1+output": {
       "addedWidgets": {},
       "aggData": [],
       "aggError": "",
       "aggOverflow": false,
       "aggSchema": [],
       "aggSeriesLimitReached": false,
       "aggType": "",
       "arguments": {},
       "columnCustomDisplayInfos": {},
       "data": [
        [
         "dbfs:/databricks-datasets/COVID/",
         "COVID/",
         0,
         1698240921544
        ],
        [
         "dbfs:/databricks-datasets/README.md",
         "README.md",
         976,
         1532502324000
        ],
        [
         "dbfs:/databricks-datasets/Rdatasets/",
         "Rdatasets/",
         0,
         1698240921544
        ],
        [
         "dbfs:/databricks-datasets/SPARK_README.md",
         "SPARK_README.md",
         3359,
         1455505834000
        ],
        [
         "dbfs:/databricks-datasets/adult/",
         "adult/",
         0,
         1698240921544
        ],
        [
         "dbfs:/databricks-datasets/airlines/",
         "airlines/",
         0,
         1698240921544
        ],
        [
         "dbfs:/databricks-datasets/amazon/",
         "amazon/",
         0,
         1698240921544
        ],
        [
         "dbfs:/databricks-datasets/asa/",
         "asa/",
         0,
         1698240921544
        ],
        [
         "dbfs:/databricks-datasets/atlas_higgs/",
         "atlas_higgs/",
         0,
         1698240921544
        ],
        [
         "dbfs:/databricks-datasets/bikeSharing/",
         "bikeSharing/",
         0,
         1698240921544
        ],
        [
         "dbfs:/databricks-datasets/cctvVideos/",
         "cctvVideos/",
         0,
         1698240921544
        ],
        [
         "dbfs:/databricks-datasets/credit-card-fraud/",
         "credit-card-fraud/",
         0,
         1698240921544
        ],
        [
         "dbfs:/databricks-datasets/cs100/",
         "cs100/",
         0,
         1698240921544
        ],
        [
         "dbfs:/databricks-datasets/cs110x/",
         "cs110x/",
         0,
         1698240921544
        ],
        [
         "dbfs:/databricks-datasets/cs190/",
         "cs190/",
         0,
         1698240921544
        ],
        [
         "dbfs:/databricks-datasets/data.gov/",
         "data.gov/",
         0,
         1698240921544
        ],
        [
         "dbfs:/databricks-datasets/definitive-guide/",
         "definitive-guide/",
         0,
         1698240921544
        ],
        [
         "dbfs:/databricks-datasets/delta-sharing/",
         "delta-sharing/",
         0,
         1698240921544
        ],
        [
         "dbfs:/databricks-datasets/flights/",
         "flights/",
         0,
         1698240921544
        ],
        [
         "dbfs:/databricks-datasets/flower_photos/",
         "flower_photos/",
         0,
         1698240921544
        ],
        [
         "dbfs:/databricks-datasets/flowers/",
         "flowers/",
         0,
         1698240921544
        ],
        [
         "dbfs:/databricks-datasets/genomics/",
         "genomics/",
         0,
         1698240921544
        ],
        [
         "dbfs:/databricks-datasets/hail/",
         "hail/",
         0,
         1698240921544
        ],
        [
         "dbfs:/databricks-datasets/identifying-campaign-effectiveness/",
         "identifying-campaign-effectiveness/",
         0,
         1698240921544
        ],
        [
         "dbfs:/databricks-datasets/iot/",
         "iot/",
         0,
         1698240921544
        ],
        [
         "dbfs:/databricks-datasets/iot-stream/",
         "iot-stream/",
         0,
         1698240921544
        ],
        [
         "dbfs:/databricks-datasets/learning-spark/",
         "learning-spark/",
         0,
         1698240921544
        ],
        [
         "dbfs:/databricks-datasets/learning-spark-v2/",
         "learning-spark-v2/",
         0,
         1698240921544
        ],
        [
         "dbfs:/databricks-datasets/lending-club-loan-stats/",
         "lending-club-loan-stats/",
         0,
         1698240921544
        ],
        [
         "dbfs:/databricks-datasets/med-images/",
         "med-images/",
         0,
         1698240921544
        ],
        [
         "dbfs:/databricks-datasets/media/",
         "media/",
         0,
         1698240921544
        ],
        [
         "dbfs:/databricks-datasets/mnist-digits/",
         "mnist-digits/",
         0,
         1698240921544
        ],
        [
         "dbfs:/databricks-datasets/news20.binary/",
         "news20.binary/",
         0,
         1698240921544
        ],
        [
         "dbfs:/databricks-datasets/nyctaxi/",
         "nyctaxi/",
         0,
         1698240921544
        ],
        [
         "dbfs:/databricks-datasets/nyctaxi-with-zipcodes/",
         "nyctaxi-with-zipcodes/",
         0,
         1698240921544
        ],
        [
         "dbfs:/databricks-datasets/online_retail/",
         "online_retail/",
         0,
         1698240921544
        ],
        [
         "dbfs:/databricks-datasets/overlap-join/",
         "overlap-join/",
         0,
         1698240921544
        ],
        [
         "dbfs:/databricks-datasets/power-plant/",
         "power-plant/",
         0,
         1698240921544
        ],
        [
         "dbfs:/databricks-datasets/retail-org/",
         "retail-org/",
         0,
         1698240921544
        ],
        [
         "dbfs:/databricks-datasets/rwe/",
         "rwe/",
         0,
         1698240921544
        ],
        [
         "dbfs:/databricks-datasets/sai-summit-2019-sf/",
         "sai-summit-2019-sf/",
         0,
         1698240921544
        ],
        [
         "dbfs:/databricks-datasets/sample_logs/",
         "sample_logs/",
         0,
         1698240921544
        ],
        [
         "dbfs:/databricks-datasets/samples/",
         "samples/",
         0,
         1698240921544
        ],
        [
         "dbfs:/databricks-datasets/sfo_customer_survey/",
         "sfo_customer_survey/",
         0,
         1698240921544
        ],
        [
         "dbfs:/databricks-datasets/sms_spam_collection/",
         "sms_spam_collection/",
         0,
         1698240921544
        ],
        [
         "dbfs:/databricks-datasets/songs/",
         "songs/",
         0,
         1698240921544
        ],
        [
         "dbfs:/databricks-datasets/structured-streaming/",
         "structured-streaming/",
         0,
         1698240921544
        ],
        [
         "dbfs:/databricks-datasets/timeseries/",
         "timeseries/",
         0,
         1698240921544
        ],
        [
         "dbfs:/databricks-datasets/tpch/",
         "tpch/",
         0,
         1698240921544
        ],
        [
         "dbfs:/databricks-datasets/travel_recommendations_realtime/",
         "travel_recommendations_realtime/",
         0,
         1698240921544
        ],
        [
         "dbfs:/databricks-datasets/warmup/",
         "warmup/",
         0,
         1698240921544
        ],
        [
         "dbfs:/databricks-datasets/weather/",
         "weather/",
         0,
         1698240921544
        ],
        [
         "dbfs:/databricks-datasets/wiki/",
         "wiki/",
         0,
         1698240921544
        ],
        [
         "dbfs:/databricks-datasets/wikipedia-datasets/",
         "wikipedia-datasets/",
         0,
         1698240921544
        ],
        [
         "dbfs:/databricks-datasets/wine-quality/",
         "wine-quality/",
         0,
         1698240921544
        ]
       ],
       "datasetInfos": [],
       "dbfsResultPath": null,
       "isJsonSchema": true,
       "metadata": {
        "isDbfsCommandResult": false
       },
       "overflow": false,
       "plotOptions": {
        "customPlotOptions": {},
        "displayType": "table",
        "pivotAggregation": null,
        "pivotColumns": null,
        "xColumns": null,
        "yColumns": null
       },
       "removedWidgets": [],
       "schema": [
        {
         "metadata": "{}",
         "name": "path",
         "type": "\"string\""
        },
        {
         "metadata": "{}",
         "name": "name",
         "type": "\"string\""
        },
        {
         "metadata": "{}",
         "name": "size",
         "type": "\"long\""
        },
        {
         "metadata": "{}",
         "name": "modificationTime",
         "type": "\"long\""
        }
       ],
       "type": "table"
      }
     },
     "output_type": "display_data"
    }
   ],
   "source": [
    "%fs ls dbfs:/databricks-datasets"
   ]
  },
  {
   "cell_type": "code",
   "execution_count": 0,
   "metadata": {
    "application/vnd.databricks.v1+cell": {
     "cellMetadata": {
      "byteLimit": 2048000,
      "rowLimit": 10000
     },
     "inputWidgets": {},
     "nuid": "5696676e-74c2-4990-a0cc-4d7c6d887da9",
     "showTitle": false,
     "title": ""
    }
   },
   "outputs": [
    {
     "output_type": "display_data",
     "data": {
      "text/html": [
       "<style scoped>\n",
       "  .table-result-container {\n",
       "    max-height: 300px;\n",
       "    overflow: auto;\n",
       "  }\n",
       "  table, th, td {\n",
       "    border: 1px solid black;\n",
       "    border-collapse: collapse;\n",
       "  }\n",
       "  th, td {\n",
       "    padding: 5px;\n",
       "  }\n",
       "  th {\n",
       "    text-align: left;\n",
       "  }\n",
       "</style><div class='table-result-container'><table class='table-result'><thead style='background-color: white'><tr><th>path</th><th>name</th><th>size</th><th>modificationTime</th></tr></thead><tbody><tr><td>dbfs:/databricks-datasets/asa/airlines/1987.csv</td><td>1987.csv</td><td>127162942</td><td>1459744248000</td></tr><tr><td>dbfs:/databricks-datasets/asa/airlines/1988.csv</td><td>1988.csv</td><td>501039472</td><td>1459744260000</td></tr><tr><td>dbfs:/databricks-datasets/asa/airlines/1989.csv</td><td>1989.csv</td><td>486518821</td><td>1459744335000</td></tr><tr><td>dbfs:/databricks-datasets/asa/airlines/1990.csv</td><td>1990.csv</td><td>509194687</td><td>1459744384000</td></tr><tr><td>dbfs:/databricks-datasets/asa/airlines/1991.csv</td><td>1991.csv</td><td>491210093</td><td>1459744438000</td></tr><tr><td>dbfs:/databricks-datasets/asa/airlines/1992.csv</td><td>1992.csv</td><td>492313731</td><td>1459744493000</td></tr><tr><td>dbfs:/databricks-datasets/asa/airlines/1993.csv</td><td>1993.csv</td><td>490753652</td><td>1459744545000</td></tr><tr><td>dbfs:/databricks-datasets/asa/airlines/1994.csv</td><td>1994.csv</td><td>501558665</td><td>1459744608000</td></tr><tr><td>dbfs:/databricks-datasets/asa/airlines/1995.csv</td><td>1995.csv</td><td>530751568</td><td>1459744663000</td></tr><tr><td>dbfs:/databricks-datasets/asa/airlines/1996.csv</td><td>1996.csv</td><td>533922363</td><td>1459744718000</td></tr><tr><td>dbfs:/databricks-datasets/asa/airlines/1997.csv</td><td>1997.csv</td><td>540347861</td><td>1459744776000</td></tr><tr><td>dbfs:/databricks-datasets/asa/airlines/1998.csv</td><td>1998.csv</td><td>538432875</td><td>1459744834000</td></tr><tr><td>dbfs:/databricks-datasets/asa/airlines/1999.csv</td><td>1999.csv</td><td>552926022</td><td>1459744896000</td></tr><tr><td>dbfs:/databricks-datasets/asa/airlines/2000.csv</td><td>2000.csv</td><td>570151613</td><td>1459744954000</td></tr><tr><td>dbfs:/databricks-datasets/asa/airlines/2001.csv</td><td>2001.csv</td><td>600411462</td><td>1459745016000</td></tr><tr><td>dbfs:/databricks-datasets/asa/airlines/2002.csv</td><td>2002.csv</td><td>530507013</td><td>1459745079000</td></tr><tr><td>dbfs:/databricks-datasets/asa/airlines/2003.csv</td><td>2003.csv</td><td>626745242</td><td>1459745141000</td></tr><tr><td>dbfs:/databricks-datasets/asa/airlines/2004.csv</td><td>2004.csv</td><td>669879113</td><td>1459745218000</td></tr><tr><td>dbfs:/databricks-datasets/asa/airlines/2005.csv</td><td>2005.csv</td><td>671027265</td><td>1459745287000</td></tr><tr><td>dbfs:/databricks-datasets/asa/airlines/2006.csv</td><td>2006.csv</td><td>672068096</td><td>1459745364000</td></tr><tr><td>dbfs:/databricks-datasets/asa/airlines/2007.csv</td><td>2007.csv</td><td>702878193</td><td>1459745438000</td></tr><tr><td>dbfs:/databricks-datasets/asa/airlines/2008.csv</td><td>2008.csv</td><td>689413344</td><td>1459745523000</td></tr></tbody></table></div>"
      ]
     },
     "metadata": {
      "application/vnd.databricks.v1+output": {
       "addedWidgets": {},
       "aggData": [],
       "aggError": "",
       "aggOverflow": false,
       "aggSchema": [],
       "aggSeriesLimitReached": false,
       "aggType": "",
       "arguments": {},
       "columnCustomDisplayInfos": {},
       "data": [
        [
         "dbfs:/databricks-datasets/asa/airlines/1987.csv",
         "1987.csv",
         127162942,
         1459744248000
        ],
        [
         "dbfs:/databricks-datasets/asa/airlines/1988.csv",
         "1988.csv",
         501039472,
         1459744260000
        ],
        [
         "dbfs:/databricks-datasets/asa/airlines/1989.csv",
         "1989.csv",
         486518821,
         1459744335000
        ],
        [
         "dbfs:/databricks-datasets/asa/airlines/1990.csv",
         "1990.csv",
         509194687,
         1459744384000
        ],
        [
         "dbfs:/databricks-datasets/asa/airlines/1991.csv",
         "1991.csv",
         491210093,
         1459744438000
        ],
        [
         "dbfs:/databricks-datasets/asa/airlines/1992.csv",
         "1992.csv",
         492313731,
         1459744493000
        ],
        [
         "dbfs:/databricks-datasets/asa/airlines/1993.csv",
         "1993.csv",
         490753652,
         1459744545000
        ],
        [
         "dbfs:/databricks-datasets/asa/airlines/1994.csv",
         "1994.csv",
         501558665,
         1459744608000
        ],
        [
         "dbfs:/databricks-datasets/asa/airlines/1995.csv",
         "1995.csv",
         530751568,
         1459744663000
        ],
        [
         "dbfs:/databricks-datasets/asa/airlines/1996.csv",
         "1996.csv",
         533922363,
         1459744718000
        ],
        [
         "dbfs:/databricks-datasets/asa/airlines/1997.csv",
         "1997.csv",
         540347861,
         1459744776000
        ],
        [
         "dbfs:/databricks-datasets/asa/airlines/1998.csv",
         "1998.csv",
         538432875,
         1459744834000
        ],
        [
         "dbfs:/databricks-datasets/asa/airlines/1999.csv",
         "1999.csv",
         552926022,
         1459744896000
        ],
        [
         "dbfs:/databricks-datasets/asa/airlines/2000.csv",
         "2000.csv",
         570151613,
         1459744954000
        ],
        [
         "dbfs:/databricks-datasets/asa/airlines/2001.csv",
         "2001.csv",
         600411462,
         1459745016000
        ],
        [
         "dbfs:/databricks-datasets/asa/airlines/2002.csv",
         "2002.csv",
         530507013,
         1459745079000
        ],
        [
         "dbfs:/databricks-datasets/asa/airlines/2003.csv",
         "2003.csv",
         626745242,
         1459745141000
        ],
        [
         "dbfs:/databricks-datasets/asa/airlines/2004.csv",
         "2004.csv",
         669879113,
         1459745218000
        ],
        [
         "dbfs:/databricks-datasets/asa/airlines/2005.csv",
         "2005.csv",
         671027265,
         1459745287000
        ],
        [
         "dbfs:/databricks-datasets/asa/airlines/2006.csv",
         "2006.csv",
         672068096,
         1459745364000
        ],
        [
         "dbfs:/databricks-datasets/asa/airlines/2007.csv",
         "2007.csv",
         702878193,
         1459745438000
        ],
        [
         "dbfs:/databricks-datasets/asa/airlines/2008.csv",
         "2008.csv",
         689413344,
         1459745523000
        ]
       ],
       "datasetInfos": [],
       "dbfsResultPath": null,
       "isJsonSchema": true,
       "metadata": {
        "isDbfsCommandResult": false
       },
       "overflow": false,
       "plotOptions": {
        "customPlotOptions": {},
        "displayType": "table",
        "pivotAggregation": null,
        "pivotColumns": null,
        "xColumns": null,
        "yColumns": null
       },
       "removedWidgets": [],
       "schema": [
        {
         "metadata": "{}",
         "name": "path",
         "type": "\"string\""
        },
        {
         "metadata": "{}",
         "name": "name",
         "type": "\"string\""
        },
        {
         "metadata": "{}",
         "name": "size",
         "type": "\"long\""
        },
        {
         "metadata": "{}",
         "name": "modificationTime",
         "type": "\"long\""
        }
       ],
       "type": "table"
      }
     },
     "output_type": "display_data"
    }
   ],
   "source": [
    "%fs ls dbfs:/databricks-datasets/asa/airlines"
   ]
  },
  {
   "cell_type": "code",
   "execution_count": 0,
   "metadata": {
    "application/vnd.databricks.v1+cell": {
     "cellMetadata": {
      "byteLimit": 2048000,
      "rowLimit": 10000
     },
     "inputWidgets": {},
     "nuid": "16f54d91-4e87-47ae-8681-6a9683ddcecb",
     "showTitle": false,
     "title": ""
    }
   },
   "outputs": [],
   "source": [
    "import getpass\n",
    "username = getpass.getuser()"
   ]
  },
  {
   "cell_type": "code",
   "execution_count": 0,
   "metadata": {
    "application/vnd.databricks.v1+cell": {
     "cellMetadata": {
      "byteLimit": 2048000,
      "rowLimit": 10000
     },
     "inputWidgets": {},
     "nuid": "a4936c63-febd-4ef5-9923-98445079c825",
     "showTitle": false,
     "title": ""
    }
   },
   "outputs": [
    {
     "output_type": "execute_result",
     "data": {
      "text/plain": [
       "False"
      ]
     },
     "execution_count": 2,
     "metadata": {},
     "output_type": "execute_result"
    }
   ],
   "source": [
    "dbutils.fs.rm(f'/user/{username}/asa/airlines', recurse=True)"
   ]
  },
  {
   "cell_type": "code",
   "execution_count": 0,
   "metadata": {
    "application/vnd.databricks.v1+cell": {
     "cellMetadata": {
      "byteLimit": 2048000,
      "rowLimit": 10000
     },
     "inputWidgets": {},
     "nuid": "3c4d0fb0-57d5-42d2-aec8-0c4987f7f8df",
     "showTitle": false,
     "title": ""
    }
   },
   "outputs": [],
   "source": [
    "spark.read.csv('dbfs:/databricks-datasets/asa/airlines', header = True).\\\n",
    "    write.\\\n",
    "    partitionBy('Year').\\\n",
    "    csv(f'/user/{username}/asa/airlines', header=True, mode='overwrite')"
   ]
  },
  {
   "cell_type": "code",
   "execution_count": 0,
   "metadata": {
    "application/vnd.databricks.v1+cell": {
     "cellMetadata": {
      "byteLimit": 2048000,
      "rowLimit": 10000
     },
     "inputWidgets": {},
     "nuid": "a3e64da2-2c06-45bd-93e8-554a0e5de2a3",
     "showTitle": false,
     "title": ""
    }
   },
   "outputs": [
    {
     "output_type": "execute_result",
     "data": {
      "text/plain": [
       "[FileInfo(path='dbfs:/user/root/asa/airlines/Year=1987/', name='Year=1987/', size=0, modificationTime=1698241745000),\n",
       " FileInfo(path='dbfs:/user/root/asa/airlines/Year=1988/', name='Year=1988/', size=0, modificationTime=1698241209000),\n",
       " FileInfo(path='dbfs:/user/root/asa/airlines/Year=1989/', name='Year=1989/', size=0, modificationTime=1698241210000),\n",
       " FileInfo(path='dbfs:/user/root/asa/airlines/Year=1990/', name='Year=1990/', size=0, modificationTime=1698241236000),\n",
       " FileInfo(path='dbfs:/user/root/asa/airlines/Year=1991/', name='Year=1991/', size=0, modificationTime=1698241262000),\n",
       " FileInfo(path='dbfs:/user/root/asa/airlines/Year=1992/', name='Year=1992/', size=0, modificationTime=1698241290000),\n",
       " FileInfo(path='dbfs:/user/root/asa/airlines/Year=1993/', name='Year=1993/', size=0, modificationTime=1698241290000),\n",
       " FileInfo(path='dbfs:/user/root/asa/airlines/Year=1994/', name='Year=1994/', size=0, modificationTime=1698241316000),\n",
       " FileInfo(path='dbfs:/user/root/asa/airlines/Year=1995/', name='Year=1995/', size=0, modificationTime=1698241339000),\n",
       " FileInfo(path='dbfs:/user/root/asa/airlines/Year=1996/', name='Year=1996/', size=0, modificationTime=1698241364000),\n",
       " FileInfo(path='dbfs:/user/root/asa/airlines/Year=1997/', name='Year=1997/', size=0, modificationTime=1698241366000),\n",
       " FileInfo(path='dbfs:/user/root/asa/airlines/Year=1998/', name='Year=1998/', size=0, modificationTime=1698241393000),\n",
       " FileInfo(path='dbfs:/user/root/asa/airlines/Year=1999/', name='Year=1999/', size=0, modificationTime=1698241419000),\n",
       " FileInfo(path='dbfs:/user/root/asa/airlines/Year=2000/', name='Year=2000/', size=0, modificationTime=1698241446000),\n",
       " FileInfo(path='dbfs:/user/root/asa/airlines/Year=2001/', name='Year=2001/', size=0, modificationTime=1698241472000),\n",
       " FileInfo(path='dbfs:/user/root/asa/airlines/Year=2002/', name='Year=2002/', size=0, modificationTime=1698241499000),\n",
       " FileInfo(path='dbfs:/user/root/asa/airlines/Year=2003/', name='Year=2003/', size=0, modificationTime=1698241524000),\n",
       " FileInfo(path='dbfs:/user/root/asa/airlines/Year=2004/', name='Year=2004/', size=0, modificationTime=1698241552000),\n",
       " FileInfo(path='dbfs:/user/root/asa/airlines/Year=2005/', name='Year=2005/', size=0, modificationTime=1698241579000),\n",
       " FileInfo(path='dbfs:/user/root/asa/airlines/Year=2006/', name='Year=2006/', size=0, modificationTime=1698241606000),\n",
       " FileInfo(path='dbfs:/user/root/asa/airlines/Year=2007/', name='Year=2007/', size=0, modificationTime=1698241638000),\n",
       " FileInfo(path='dbfs:/user/root/asa/airlines/Year=2008/', name='Year=2008/', size=0, modificationTime=1698241686000),\n",
       " FileInfo(path='dbfs:/user/root/asa/airlines/_SUCCESS', name='_SUCCESS', size=0, modificationTime=1698241803000)]"
      ]
     },
     "execution_count": 4,
     "metadata": {},
     "output_type": "execute_result"
    }
   ],
   "source": [
    "dbutils.fs.ls(f'/user/{username}/asa/airlines')"
   ]
  },
  {
   "cell_type": "code",
   "execution_count": 0,
   "metadata": {
    "application/vnd.databricks.v1+cell": {
     "cellMetadata": {
      "byteLimit": 2048000,
      "rowLimit": 10000
     },
     "inputWidgets": {},
     "nuid": "4be15120-34e4-422a-a8a3-85afb4561a7e",
     "showTitle": false,
     "title": ""
    }
   },
   "outputs": [
    {
     "output_type": "execute_result",
     "data": {
      "text/plain": [
       "123534969"
      ]
     },
     "execution_count": 5,
     "metadata": {},
     "output_type": "execute_result"
    }
   ],
   "source": [
    "spark.read.csv(f'/user/{username}/asa/airlines', header = True).count()"
   ]
  },
  {
   "cell_type": "code",
   "execution_count": 0,
   "metadata": {
    "application/vnd.databricks.v1+cell": {
     "cellMetadata": {},
     "inputWidgets": {},
     "nuid": "f08d204f-e694-4163-8e73-65cf23e4c1cc",
     "showTitle": false,
     "title": ""
    }
   },
   "outputs": [],
   "source": []
  }
 ],
 "metadata": {
  "application/vnd.databricks.v1+notebook": {
   "dashboards": [],
   "language": "python",
   "notebookMetadata": {
    "mostRecentlyExecutedCommandWithImplicitDF": {
     "commandId": 1133431119868764,
     "dataframes": [
      "_sqldf"
     ]
    },
    "pythonIndentUnit": 4
   },
   "notebookName": "05 - Setup Dataset for Partition Pruning",
   "widgets": {}
  }
 },
 "nbformat": 4,
 "nbformat_minor": 0
}
