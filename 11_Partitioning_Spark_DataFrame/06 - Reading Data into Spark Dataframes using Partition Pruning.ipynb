{
 "cells": [
  {
   "cell_type": "code",
   "execution_count": 0,
   "metadata": {
    "application/vnd.databricks.v1+cell": {
     "cellMetadata": {
      "byteLimit": 2048000,
      "rowLimit": 10000
     },
     "inputWidgets": {},
     "nuid": "e5bb29a9-e812-4121-a645-5c96ff4ed903",
     "showTitle": false,
     "title": ""
    }
   },
   "outputs": [],
   "source": [
    "import getpass\n",
    "username = getpass.getuser()"
   ]
  },
  {
   "cell_type": "code",
   "execution_count": 0,
   "metadata": {
    "application/vnd.databricks.v1+cell": {
     "cellMetadata": {
      "byteLimit": 2048000,
      "rowLimit": 10000
     },
     "inputWidgets": {},
     "nuid": "77c41410-f9d4-4d13-bdad-c9b449d0baa1",
     "showTitle": false,
     "title": ""
    }
   },
   "outputs": [],
   "source": [
    "# Data should be partitioned before partition pruning"
   ]
  },
  {
   "cell_type": "code",
   "execution_count": 0,
   "metadata": {
    "application/vnd.databricks.v1+cell": {
     "cellMetadata": {
      "byteLimit": 2048000,
      "rowLimit": 10000
     },
     "inputWidgets": {},
     "nuid": "887a78e0-ecf5-4132-9743-c860f1563103",
     "showTitle": false,
     "title": ""
    }
   },
   "outputs": [
    {
     "output_type": "execute_result",
     "data": {
      "text/plain": [
       "7129270"
      ]
     },
     "execution_count": 4,
     "metadata": {},
     "output_type": "execute_result"
    }
   ],
   "source": [
    "spark.read.csv('dbfs:/databricks-datasets/asa/airlines', header=True).\\\n",
    "    filter('Year = 2004').\\\n",
    "    count()"
   ]
  },
  {
   "cell_type": "code",
   "execution_count": 0,
   "metadata": {
    "application/vnd.databricks.v1+cell": {
     "cellMetadata": {
      "byteLimit": 2048000,
      "rowLimit": 10000
     },
     "inputWidgets": {},
     "nuid": "24823028-3498-4c1a-8426-64e58b4771db",
     "showTitle": false,
     "title": ""
    }
   },
   "outputs": [
    {
     "output_type": "execute_result",
     "data": {
      "text/plain": [
       "7129270"
      ]
     },
     "execution_count": 5,
     "metadata": {},
     "output_type": "execute_result"
    }
   ],
   "source": [
    "spark.read.csv(f'/user/{username}/asa/airlines/Year=2004', header=True).count()"
   ]
  },
  {
   "cell_type": "code",
   "execution_count": 0,
   "metadata": {
    "application/vnd.databricks.v1+cell": {
     "cellMetadata": {
      "byteLimit": 2048000,
      "rowLimit": 10000
     },
     "inputWidgets": {},
     "nuid": "3e5e95ce-ea27-405b-ae14-4e88feb6a995",
     "showTitle": false,
     "title": ""
    }
   },
   "outputs": [
    {
     "output_type": "execute_result",
     "data": {
      "text/plain": [
       "[FileInfo(path='dbfs:/user/root/asa/airlines/Year=1987/', name='Year=1987/', size=0, modificationTime=1698241745000),\n",
       " FileInfo(path='dbfs:/user/root/asa/airlines/Year=1988/', name='Year=1988/', size=0, modificationTime=1698241209000),\n",
       " FileInfo(path='dbfs:/user/root/asa/airlines/Year=1989/', name='Year=1989/', size=0, modificationTime=1698241210000),\n",
       " FileInfo(path='dbfs:/user/root/asa/airlines/Year=1990/', name='Year=1990/', size=0, modificationTime=1698241236000),\n",
       " FileInfo(path='dbfs:/user/root/asa/airlines/Year=1991/', name='Year=1991/', size=0, modificationTime=1698241262000),\n",
       " FileInfo(path='dbfs:/user/root/asa/airlines/Year=1992/', name='Year=1992/', size=0, modificationTime=1698241290000),\n",
       " FileInfo(path='dbfs:/user/root/asa/airlines/Year=1993/', name='Year=1993/', size=0, modificationTime=1698241290000),\n",
       " FileInfo(path='dbfs:/user/root/asa/airlines/Year=1994/', name='Year=1994/', size=0, modificationTime=1698241316000),\n",
       " FileInfo(path='dbfs:/user/root/asa/airlines/Year=1995/', name='Year=1995/', size=0, modificationTime=1698241339000),\n",
       " FileInfo(path='dbfs:/user/root/asa/airlines/Year=1996/', name='Year=1996/', size=0, modificationTime=1698241364000),\n",
       " FileInfo(path='dbfs:/user/root/asa/airlines/Year=1997/', name='Year=1997/', size=0, modificationTime=1698241366000),\n",
       " FileInfo(path='dbfs:/user/root/asa/airlines/Year=1998/', name='Year=1998/', size=0, modificationTime=1698241393000),\n",
       " FileInfo(path='dbfs:/user/root/asa/airlines/Year=1999/', name='Year=1999/', size=0, modificationTime=1698241419000),\n",
       " FileInfo(path='dbfs:/user/root/asa/airlines/Year=2000/', name='Year=2000/', size=0, modificationTime=1698241446000),\n",
       " FileInfo(path='dbfs:/user/root/asa/airlines/Year=2001/', name='Year=2001/', size=0, modificationTime=1698241472000),\n",
       " FileInfo(path='dbfs:/user/root/asa/airlines/Year=2002/', name='Year=2002/', size=0, modificationTime=1698241499000),\n",
       " FileInfo(path='dbfs:/user/root/asa/airlines/Year=2003/', name='Year=2003/', size=0, modificationTime=1698241524000),\n",
       " FileInfo(path='dbfs:/user/root/asa/airlines/Year=2004/', name='Year=2004/', size=0, modificationTime=1698241552000),\n",
       " FileInfo(path='dbfs:/user/root/asa/airlines/Year=2005/', name='Year=2005/', size=0, modificationTime=1698241579000),\n",
       " FileInfo(path='dbfs:/user/root/asa/airlines/Year=2006/', name='Year=2006/', size=0, modificationTime=1698241606000),\n",
       " FileInfo(path='dbfs:/user/root/asa/airlines/Year=2007/', name='Year=2007/', size=0, modificationTime=1698241638000),\n",
       " FileInfo(path='dbfs:/user/root/asa/airlines/Year=2008/', name='Year=2008/', size=0, modificationTime=1698241686000),\n",
       " FileInfo(path='dbfs:/user/root/asa/airlines/_SUCCESS', name='_SUCCESS', size=0, modificationTime=1698241803000)]"
      ]
     },
     "execution_count": 6,
     "metadata": {},
     "output_type": "execute_result"
    }
   ],
   "source": [
    "dbutils.fs.ls(f'/user/{username}/asa/airlines')"
   ]
  },
  {
   "cell_type": "code",
   "execution_count": 0,
   "metadata": {
    "application/vnd.databricks.v1+cell": {
     "cellMetadata": {
      "byteLimit": 2048000,
      "rowLimit": 10000
     },
     "inputWidgets": {},
     "nuid": "9a1c4d77-7aa0-4cd4-b240-4af4307792ee",
     "showTitle": false,
     "title": ""
    }
   },
   "outputs": [
    {
     "output_type": "execute_result",
     "data": {
      "text/plain": [
       "7129270"
      ]
     },
     "execution_count": 7,
     "metadata": {},
     "output_type": "execute_result"
    }
   ],
   "source": [
    "spark.read.csv(f'/user/{username}/asa/airlines/Year=2004', header=True).count()"
   ]
  },
  {
   "cell_type": "code",
   "execution_count": 0,
   "metadata": {
    "application/vnd.databricks.v1+cell": {
     "cellMetadata": {
      "byteLimit": 2048000,
      "rowLimit": 10000
     },
     "inputWidgets": {},
     "nuid": "f0b76b5c-b997-4b9b-94d3-77ac6e1691f6",
     "showTitle": false,
     "title": ""
    }
   },
   "outputs": [
    {
     "output_type": "execute_result",
     "data": {
      "text/plain": [
       "7129270"
      ]
     },
     "execution_count": 8,
     "metadata": {},
     "output_type": "execute_result"
    }
   ],
   "source": [
    "#Partition pruning => predicate push\n",
    "spark.read.csv('dbfs:/databricks-datasets/asa/airlines', header=True).\\\n",
    "    filter('Year = 2004').\\\n",
    "    count()"
   ]
  },
  {
   "cell_type": "code",
   "execution_count": 0,
   "metadata": {
    "application/vnd.databricks.v1+cell": {
     "cellMetadata": {
      "byteLimit": 2048000,
      "rowLimit": 10000
     },
     "inputWidgets": {},
     "nuid": "e474efea-9059-47dd-8d3b-0ad3e3bb03ba",
     "showTitle": false,
     "title": ""
    }
   },
   "outputs": [],
   "source": [
    "airlines_df = spark.read.csv(f'/user/{username}/asa/airlines', header=True)"
   ]
  },
  {
   "cell_type": "code",
   "execution_count": 0,
   "metadata": {
    "application/vnd.databricks.v1+cell": {
     "cellMetadata": {
      "byteLimit": 2048000,
      "rowLimit": 10000
     },
     "inputWidgets": {},
     "nuid": "536ba5a1-07e7-4064-a6c0-01242deaf940",
     "showTitle": false,
     "title": ""
    }
   },
   "outputs": [],
   "source": [
    "airlines_df.\\\n",
    "    createOrReplaceTempView('airlines')"
   ]
  },
  {
   "cell_type": "code",
   "execution_count": 0,
   "metadata": {
    "application/vnd.databricks.v1+cell": {
     "cellMetadata": {
      "byteLimit": 2048000,
      "rowLimit": 10000
     },
     "inputWidgets": {},
     "nuid": "96f38a6e-f2d8-4f4d-9d8b-7d2ad73112b2",
     "showTitle": false,
     "title": ""
    }
   },
   "outputs": [
    {
     "output_type": "stream",
     "name": "stdout",
     "output_type": "stream",
     "text": [
      "+--------+---------+-----------+\n|database|tableName|isTemporary|\n+--------+---------+-----------+\n|        | airlines|       true|\n+--------+---------+-----------+\n\n"
     ]
    }
   ],
   "source": [
    "spark.sql('SHOW tables').show()"
   ]
  },
  {
   "cell_type": "code",
   "execution_count": 0,
   "metadata": {
    "application/vnd.databricks.v1+cell": {
     "cellMetadata": {
      "byteLimit": 2048000,
      "rowLimit": 10000
     },
     "inputWidgets": {},
     "nuid": "8aefe577-0d28-4fa6-b7c2-132d66c0ed3d",
     "showTitle": false,
     "title": ""
    }
   },
   "outputs": [
    {
     "output_type": "stream",
     "name": "stdout",
     "output_type": "stream",
     "text": [
      "+--------+\n|count(1)|\n+--------+\n| 7129270|\n+--------+\n\n"
     ]
    }
   ],
   "source": [
    "spark.sql('''\n",
    "    SELECT count(*)\n",
    "    FROM airlines\n",
    "    WHERE year = 2004          \n",
    " ''').show()"
   ]
  },
  {
   "cell_type": "code",
   "execution_count": 0,
   "metadata": {
    "application/vnd.databricks.v1+cell": {
     "cellMetadata": {},
     "inputWidgets": {},
     "nuid": "d6e58892-2321-4178-895a-59d63f20d63b",
     "showTitle": false,
     "title": ""
    }
   },
   "outputs": [],
   "source": []
  }
 ],
 "metadata": {
  "application/vnd.databricks.v1+notebook": {
   "dashboards": [],
   "language": "python",
   "notebookMetadata": {
    "pythonIndentUnit": 4
   },
   "notebookName": "06 - Reading Data into Spark Dataframes using Partition Pruning",
   "widgets": {}
  }
 },
 "nbformat": 4,
 "nbformat_minor": 0
}
