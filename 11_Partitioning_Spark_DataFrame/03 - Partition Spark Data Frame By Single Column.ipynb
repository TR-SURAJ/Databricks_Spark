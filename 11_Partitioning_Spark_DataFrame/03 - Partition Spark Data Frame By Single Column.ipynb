{
 "cells": [
  {
   "cell_type": "code",
   "execution_count": 0,
   "metadata": {
    "application/vnd.databricks.v1+cell": {
     "cellMetadata": {
      "byteLimit": 2048000,
      "rowLimit": 10000
     },
     "inputWidgets": {},
     "nuid": "d97487a8-9b21-4812-a617-33399428487c",
     "showTitle": false,
     "title": ""
    }
   },
   "outputs": [],
   "source": [
    "orders = spark.read.json('/public/retail_db_json/orders')"
   ]
  },
  {
   "cell_type": "code",
   "execution_count": 0,
   "metadata": {
    "application/vnd.databricks.v1+cell": {
     "cellMetadata": {
      "byteLimit": 2048000,
      "rowLimit": 10000
     },
     "inputWidgets": {},
     "nuid": "8ea3d8ae-f5fa-4aef-87aa-644a64727b7a",
     "showTitle": false,
     "title": ""
    }
   },
   "outputs": [
    {
     "output_type": "stream",
     "name": "stdout",
     "output_type": "stream",
     "text": [
      "+-----------------+---------------------+--------+---------------+\n|order_customer_id|order_date           |order_id|order_status   |\n+-----------------+---------------------+--------+---------------+\n|11599            |2013-07-25 00:00:00.0|1       |CLOSED         |\n|256              |2013-07-25 00:00:00.0|2       |PENDING_PAYMENT|\n|12111            |2013-07-25 00:00:00.0|3       |COMPLETE       |\n|8827             |2013-07-25 00:00:00.0|4       |CLOSED         |\n|11318            |2013-07-25 00:00:00.0|5       |COMPLETE       |\n|7130             |2013-07-25 00:00:00.0|6       |COMPLETE       |\n|4530             |2013-07-25 00:00:00.0|7       |COMPLETE       |\n|2911             |2013-07-25 00:00:00.0|8       |PROCESSING     |\n|5657             |2013-07-25 00:00:00.0|9       |PENDING_PAYMENT|\n|5648             |2013-07-25 00:00:00.0|10      |PENDING_PAYMENT|\n|918              |2013-07-25 00:00:00.0|11      |PAYMENT_REVIEW |\n|1837             |2013-07-25 00:00:00.0|12      |CLOSED         |\n|9149             |2013-07-25 00:00:00.0|13      |PENDING_PAYMENT|\n|9842             |2013-07-25 00:00:00.0|14      |PROCESSING     |\n|2568             |2013-07-25 00:00:00.0|15      |COMPLETE       |\n|7276             |2013-07-25 00:00:00.0|16      |PENDING_PAYMENT|\n|2667             |2013-07-25 00:00:00.0|17      |COMPLETE       |\n|1205             |2013-07-25 00:00:00.0|18      |CLOSED         |\n|9488             |2013-07-25 00:00:00.0|19      |PENDING_PAYMENT|\n|9198             |2013-07-25 00:00:00.0|20      |PROCESSING     |\n+-----------------+---------------------+--------+---------------+\nonly showing top 20 rows\n\n"
     ]
    }
   ],
   "source": [
    "orders.show(truncate=False)"
   ]
  },
  {
   "cell_type": "code",
   "execution_count": 0,
   "metadata": {
    "application/vnd.databricks.v1+cell": {
     "cellMetadata": {
      "byteLimit": 2048000,
      "rowLimit": 10000
     },
     "inputWidgets": {},
     "nuid": "ab55e5b5-b604-4d4c-be89-8f7573df023a",
     "showTitle": false,
     "title": ""
    }
   },
   "outputs": [],
   "source": [
    "import getpass\n",
    "username = getpass.getuser()"
   ]
  },
  {
   "cell_type": "markdown",
   "metadata": {
    "application/vnd.databricks.v1+cell": {
     "cellMetadata": {},
     "inputWidgets": {},
     "nuid": "5e708f51-26b9-4958-8c63-893dbfd12cf8",
     "showTitle": false,
     "title": ""
    }
   },
   "source": [
    "- Partition data by date"
   ]
  },
  {
   "cell_type": "code",
   "execution_count": 0,
   "metadata": {
    "application/vnd.databricks.v1+cell": {
     "cellMetadata": {
      "byteLimit": 2048000,
      "rowLimit": 10000
     },
     "inputWidgets": {},
     "nuid": "ebf8a839-a7fd-4ac2-a80e-2cbc3b52d54d",
     "showTitle": false,
     "title": ""
    }
   },
   "outputs": [],
   "source": [
    "from pyspark.sql.functions import *"
   ]
  },
  {
   "cell_type": "code",
   "execution_count": 0,
   "metadata": {
    "application/vnd.databricks.v1+cell": {
     "cellMetadata": {
      "byteLimit": 2048000,
      "rowLimit": 10000
     },
     "inputWidgets": {},
     "nuid": "09bc0db7-6593-4368-8b8f-d77b1221a969",
     "showTitle": false,
     "title": ""
    }
   },
   "outputs": [
    {
     "output_type": "stream",
     "name": "stdout",
     "output_type": "stream",
     "text": [
      "+-----------------+----------+--------+---------------+\n|order_customer_id|order_date|order_id|   order_status|\n+-----------------+----------+--------+---------------+\n|            11599|  20130725|       1|         CLOSED|\n|              256|  20130725|       2|PENDING_PAYMENT|\n|            12111|  20130725|       3|       COMPLETE|\n|             8827|  20130725|       4|         CLOSED|\n|            11318|  20130725|       5|       COMPLETE|\n|             7130|  20130725|       6|       COMPLETE|\n|             4530|  20130725|       7|       COMPLETE|\n|             2911|  20130725|       8|     PROCESSING|\n|             5657|  20130725|       9|PENDING_PAYMENT|\n|             5648|  20130725|      10|PENDING_PAYMENT|\n|              918|  20130725|      11| PAYMENT_REVIEW|\n|             1837|  20130725|      12|         CLOSED|\n|             9149|  20130725|      13|PENDING_PAYMENT|\n|             9842|  20130725|      14|     PROCESSING|\n|             2568|  20130725|      15|       COMPLETE|\n|             7276|  20130725|      16|PENDING_PAYMENT|\n|             2667|  20130725|      17|       COMPLETE|\n|             1205|  20130725|      18|         CLOSED|\n|             9488|  20130725|      19|PENDING_PAYMENT|\n|             9198|  20130725|      20|     PROCESSING|\n+-----------------+----------+--------+---------------+\nonly showing top 20 rows\n\n"
     ]
    }
   ],
   "source": [
    "orders.\\\n",
    "    withColumn('order_date', date_format('order_date', 'yyyyMMdd')).\\\n",
    "    show()"
   ]
  },
  {
   "cell_type": "code",
   "execution_count": 0,
   "metadata": {
    "application/vnd.databricks.v1+cell": {
     "cellMetadata": {
      "byteLimit": 2048000,
      "rowLimit": 10000
     },
     "inputWidgets": {},
     "nuid": "ffb4dc53-4dc1-4202-bab4-4eaa25c24cd6",
     "showTitle": false,
     "title": ""
    }
   },
   "outputs": [
    {
     "output_type": "execute_result",
     "data": {
      "text/plain": [
       "False"
      ]
     },
     "execution_count": 9,
     "metadata": {},
     "output_type": "execute_result"
    }
   ],
   "source": [
    "dbutils.fs.rm(f'/user/{username}/retail_db/orders_partitioned_by_date', recurse=True)"
   ]
  },
  {
   "cell_type": "code",
   "execution_count": 0,
   "metadata": {
    "application/vnd.databricks.v1+cell": {
     "cellMetadata": {
      "byteLimit": 2048000,
      "rowLimit": 10000
     },
     "inputWidgets": {},
     "nuid": "d2cc528c-8818-44f3-bb6e-81622b07eff2",
     "showTitle": false,
     "title": ""
    }
   },
   "outputs": [],
   "source": [
    "orders.\\\n",
    "    withColumn('order_date', date_format('order_date', 'yyyyMMdd')).\\\n",
    "    coalesce(1).\\\n",
    "    write.\\\n",
    "    partitionBy('order_date').\\\n",
    "    parquet(f'/user/{username}/retail_db/orders_partitioned_by_date')\n"
   ]
  },
  {
   "cell_type": "code",
   "execution_count": 0,
   "metadata": {
    "application/vnd.databricks.v1+cell": {
     "cellMetadata": {
      "byteLimit": 2048000,
      "rowLimit": 10000
     },
     "inputWidgets": {},
     "nuid": "3c017fda-ff1b-408a-8a1f-a371ac907002",
     "showTitle": false,
     "title": ""
    }
   },
   "outputs": [
    {
     "output_type": "execute_result",
     "data": {
      "text/plain": [
       "[FileInfo(path='dbfs:/user/root/retail_db/orders_partitioned_by_date/_SUCCESS', name='_SUCCESS', size=0, modificationTime=1698239146000),\n",
       " FileInfo(path='dbfs:/user/root/retail_db/orders_partitioned_by_date/order_date=20130725/', name='order_date=20130725/', size=0, modificationTime=1698239066000),\n",
       " FileInfo(path='dbfs:/user/root/retail_db/orders_partitioned_by_date/order_date=20130726/', name='order_date=20130726/', size=0, modificationTime=1698239103000),\n",
       " FileInfo(path='dbfs:/user/root/retail_db/orders_partitioned_by_date/order_date=20130727/', name='order_date=20130727/', size=0, modificationTime=1698239133000),\n",
       " FileInfo(path='dbfs:/user/root/retail_db/orders_partitioned_by_date/order_date=20130728/', name='order_date=20130728/', size=0, modificationTime=1698239113000),\n",
       " FileInfo(path='dbfs:/user/root/retail_db/orders_partitioned_by_date/order_date=20130729/', name='order_date=20130729/', size=0, modificationTime=1698239122000),\n",
       " FileInfo(path='dbfs:/user/root/retail_db/orders_partitioned_by_date/order_date=20130730/', name='order_date=20130730/', size=0, modificationTime=1698239133000),\n",
       " FileInfo(path='dbfs:/user/root/retail_db/orders_partitioned_by_date/order_date=20130731/', name='order_date=20130731/', size=0, modificationTime=1698239122000),\n",
       " FileInfo(path='dbfs:/user/root/retail_db/orders_partitioned_by_date/order_date=20130801/', name='order_date=20130801/', size=0, modificationTime=1698239133000),\n",
       " FileInfo(path='dbfs:/user/root/retail_db/orders_partitioned_by_date/order_date=20130802/', name='order_date=20130802/', size=0, modificationTime=1698239122000),\n",
       " FileInfo(path='dbfs:/user/root/retail_db/orders_partitioned_by_date/order_date=20130803/', name='order_date=20130803/', size=0, modificationTime=1698239066000),\n",
       " FileInfo(path='dbfs:/user/root/retail_db/orders_partitioned_by_date/order_date=20130804/', name='order_date=20130804/', size=0, modificationTime=1698239113000),\n",
       " FileInfo(path='dbfs:/user/root/retail_db/orders_partitioned_by_date/order_date=20130805/', name='order_date=20130805/', size=0, modificationTime=1698239066000),\n",
       " FileInfo(path='dbfs:/user/root/retail_db/orders_partitioned_by_date/order_date=20130806/', name='order_date=20130806/', size=0, modificationTime=1698239066000),\n",
       " FileInfo(path='dbfs:/user/root/retail_db/orders_partitioned_by_date/order_date=20130807/', name='order_date=20130807/', size=0, modificationTime=1698239113000),\n",
       " FileInfo(path='dbfs:/user/root/retail_db/orders_partitioned_by_date/order_date=20130808/', name='order_date=20130808/', size=0, modificationTime=1698239133000),\n",
       " FileInfo(path='dbfs:/user/root/retail_db/orders_partitioned_by_date/order_date=20130809/', name='order_date=20130809/', size=0, modificationTime=1698239085000),\n",
       " FileInfo(path='dbfs:/user/root/retail_db/orders_partitioned_by_date/order_date=20130810/', name='order_date=20130810/', size=0, modificationTime=1698239094000),\n",
       " FileInfo(path='dbfs:/user/root/retail_db/orders_partitioned_by_date/order_date=20130811/', name='order_date=20130811/', size=0, modificationTime=1698239067000),\n",
       " FileInfo(path='dbfs:/user/root/retail_db/orders_partitioned_by_date/order_date=20130812/', name='order_date=20130812/', size=0, modificationTime=1698239133000),\n",
       " FileInfo(path='dbfs:/user/root/retail_db/orders_partitioned_by_date/order_date=20130813/', name='order_date=20130813/', size=0, modificationTime=1698239114000),\n",
       " FileInfo(path='dbfs:/user/root/retail_db/orders_partitioned_by_date/order_date=20130814/', name='order_date=20130814/', size=0, modificationTime=1698239076000),\n",
       " FileInfo(path='dbfs:/user/root/retail_db/orders_partitioned_by_date/order_date=20130815/', name='order_date=20130815/', size=0, modificationTime=1698239095000),\n",
       " FileInfo(path='dbfs:/user/root/retail_db/orders_partitioned_by_date/order_date=20130816/', name='order_date=20130816/', size=0, modificationTime=1698239103000),\n",
       " FileInfo(path='dbfs:/user/root/retail_db/orders_partitioned_by_date/order_date=20130817/', name='order_date=20130817/', size=0, modificationTime=1698239114000),\n",
       " FileInfo(path='dbfs:/user/root/retail_db/orders_partitioned_by_date/order_date=20130818/', name='order_date=20130818/', size=0, modificationTime=1698239103000),\n",
       " FileInfo(path='dbfs:/user/root/retail_db/orders_partitioned_by_date/order_date=20130819/', name='order_date=20130819/', size=0, modificationTime=1698239095000),\n",
       " FileInfo(path='dbfs:/user/root/retail_db/orders_partitioned_by_date/order_date=20130820/', name='order_date=20130820/', size=0, modificationTime=1698239114000),\n",
       " FileInfo(path='dbfs:/user/root/retail_db/orders_partitioned_by_date/order_date=20130821/', name='order_date=20130821/', size=0, modificationTime=1698239114000),\n",
       " FileInfo(path='dbfs:/user/root/retail_db/orders_partitioned_by_date/order_date=20130822/', name='order_date=20130822/', size=0, modificationTime=1698239103000),\n",
       " FileInfo(path='dbfs:/user/root/retail_db/orders_partitioned_by_date/order_date=20130823/', name='order_date=20130823/', size=0, modificationTime=1698239114000),\n",
       " FileInfo(path='dbfs:/user/root/retail_db/orders_partitioned_by_date/order_date=20130824/', name='order_date=20130824/', size=0, modificationTime=1698239067000),\n",
       " FileInfo(path='dbfs:/user/root/retail_db/orders_partitioned_by_date/order_date=20130825/', name='order_date=20130825/', size=0, modificationTime=1698239122000),\n",
       " FileInfo(path='dbfs:/user/root/retail_db/orders_partitioned_by_date/order_date=20130826/', name='order_date=20130826/', size=0, modificationTime=1698239085000),\n",
       " FileInfo(path='dbfs:/user/root/retail_db/orders_partitioned_by_date/order_date=20130827/', name='order_date=20130827/', size=0, modificationTime=1698239077000),\n",
       " FileInfo(path='dbfs:/user/root/retail_db/orders_partitioned_by_date/order_date=20130828/', name='order_date=20130828/', size=0, modificationTime=1698239115000),\n",
       " FileInfo(path='dbfs:/user/root/retail_db/orders_partitioned_by_date/order_date=20130829/', name='order_date=20130829/', size=0, modificationTime=1698239085000),\n",
       " FileInfo(path='dbfs:/user/root/retail_db/orders_partitioned_by_date/order_date=20130830/', name='order_date=20130830/', size=0, modificationTime=1698239123000),\n",
       " FileInfo(path='dbfs:/user/root/retail_db/orders_partitioned_by_date/order_date=20130831/', name='order_date=20130831/', size=0, modificationTime=1698239086000),\n",
       " FileInfo(path='dbfs:/user/root/retail_db/orders_partitioned_by_date/order_date=20130901/', name='order_date=20130901/', size=0, modificationTime=1698239086000),\n",
       " FileInfo(path='dbfs:/user/root/retail_db/orders_partitioned_by_date/order_date=20130902/', name='order_date=20130902/', size=0, modificationTime=1698239067000),\n",
       " FileInfo(path='dbfs:/user/root/retail_db/orders_partitioned_by_date/order_date=20130903/', name='order_date=20130903/', size=0, modificationTime=1698239115000),\n",
       " FileInfo(path='dbfs:/user/root/retail_db/orders_partitioned_by_date/order_date=20130904/', name='order_date=20130904/', size=0, modificationTime=1698239133000),\n",
       " FileInfo(path='dbfs:/user/root/retail_db/orders_partitioned_by_date/order_date=20130905/', name='order_date=20130905/', size=0, modificationTime=1698239134000),\n",
       " FileInfo(path='dbfs:/user/root/retail_db/orders_partitioned_by_date/order_date=20130906/', name='order_date=20130906/', size=0, modificationTime=1698239134000),\n",
       " FileInfo(path='dbfs:/user/root/retail_db/orders_partitioned_by_date/order_date=20130907/', name='order_date=20130907/', size=0, modificationTime=1698239077000),\n",
       " FileInfo(path='dbfs:/user/root/retail_db/orders_partitioned_by_date/order_date=20130908/', name='order_date=20130908/', size=0, modificationTime=1698239103000),\n",
       " FileInfo(path='dbfs:/user/root/retail_db/orders_partitioned_by_date/order_date=20130909/', name='order_date=20130909/', size=0, modificationTime=1698239077000),\n",
       " FileInfo(path='dbfs:/user/root/retail_db/orders_partitioned_by_date/order_date=20130910/', name='order_date=20130910/', size=0, modificationTime=1698239115000),\n",
       " FileInfo(path='dbfs:/user/root/retail_db/orders_partitioned_by_date/order_date=20130911/', name='order_date=20130911/', size=0, modificationTime=1698239123000),\n",
       " FileInfo(path='dbfs:/user/root/retail_db/orders_partitioned_by_date/order_date=20130912/', name='order_date=20130912/', size=0, modificationTime=1698239123000),\n",
       " FileInfo(path='dbfs:/user/root/retail_db/orders_partitioned_by_date/order_date=20130913/', name='order_date=20130913/', size=0, modificationTime=1698239095000),\n",
       " FileInfo(path='dbfs:/user/root/retail_db/orders_partitioned_by_date/order_date=20130914/', name='order_date=20130914/', size=0, modificationTime=1698239123000),\n",
       " FileInfo(path='dbfs:/user/root/retail_db/orders_partitioned_by_date/order_date=20130915/', name='order_date=20130915/', size=0, modificationTime=1698239124000),\n",
       " FileInfo(path='dbfs:/user/root/retail_db/orders_partitioned_by_date/order_date=20130916/', name='order_date=20130916/', size=0, modificationTime=1698239095000),\n",
       " FileInfo(path='dbfs:/user/root/retail_db/orders_partitioned_by_date/order_date=20130917/', name='order_date=20130917/', size=0, modificationTime=1698239124000),\n",
       " FileInfo(path='dbfs:/user/root/retail_db/orders_partitioned_by_date/order_date=20130918/', name='order_date=20130918/', size=0, modificationTime=1698239067000),\n",
       " FileInfo(path='dbfs:/user/root/retail_db/orders_partitioned_by_date/order_date=20130919/', name='order_date=20130919/', size=0, modificationTime=1698239067000),\n",
       " FileInfo(path='dbfs:/user/root/retail_db/orders_partitioned_by_date/order_date=20130920/', name='order_date=20130920/', size=0, modificationTime=1698239104000),\n",
       " FileInfo(path='dbfs:/user/root/retail_db/orders_partitioned_by_date/order_date=20130921/', name='order_date=20130921/', size=0, modificationTime=1698239077000),\n",
       " FileInfo(path='dbfs:/user/root/retail_db/orders_partitioned_by_date/order_date=20130922/', name='order_date=20130922/', size=0, modificationTime=1698239115000),\n",
       " FileInfo(path='dbfs:/user/root/retail_db/orders_partitioned_by_date/order_date=20130923/', name='order_date=20130923/', size=0, modificationTime=1698239086000),\n",
       " FileInfo(path='dbfs:/user/root/retail_db/orders_partitioned_by_date/order_date=20130924/', name='order_date=20130924/', size=0, modificationTime=1698239134000),\n",
       " FileInfo(path='dbfs:/user/root/retail_db/orders_partitioned_by_date/order_date=20130925/', name='order_date=20130925/', size=0, modificationTime=1698239068000),\n",
       " FileInfo(path='dbfs:/user/root/retail_db/orders_partitioned_by_date/order_date=20130926/', name='order_date=20130926/', size=0, modificationTime=1698239115000),\n",
       " FileInfo(path='dbfs:/user/root/retail_db/orders_partitioned_by_date/order_date=20130927/', name='order_date=20130927/', size=0, modificationTime=1698239096000),\n",
       " FileInfo(path='dbfs:/user/root/retail_db/orders_partitioned_by_date/order_date=20130928/', name='order_date=20130928/', size=0, modificationTime=1698239124000),\n",
       " FileInfo(path='dbfs:/user/root/retail_db/orders_partitioned_by_date/order_date=20130929/', name='order_date=20130929/', size=0, modificationTime=1698239134000),\n",
       " FileInfo(path='dbfs:/user/root/retail_db/orders_partitioned_by_date/order_date=20130930/', name='order_date=20130930/', size=0, modificationTime=1698239078000),\n",
       " FileInfo(path='dbfs:/user/root/retail_db/orders_partitioned_by_date/order_date=20131001/', name='order_date=20131001/', size=0, modificationTime=1698239134000),\n",
       " FileInfo(path='dbfs:/user/root/retail_db/orders_partitioned_by_date/order_date=20131002/', name='order_date=20131002/', size=0, modificationTime=1698239078000),\n",
       " FileInfo(path='dbfs:/user/root/retail_db/orders_partitioned_by_date/order_date=20131003/', name='order_date=20131003/', size=0, modificationTime=1698239124000),\n",
       " FileInfo(path='dbfs:/user/root/retail_db/orders_partitioned_by_date/order_date=20131004/', name='order_date=20131004/', size=0, modificationTime=1698239096000),\n",
       " FileInfo(path='dbfs:/user/root/retail_db/orders_partitioned_by_date/order_date=20131005/', name='order_date=20131005/', size=0, modificationTime=1698239116000),\n",
       " FileInfo(path='dbfs:/user/root/retail_db/orders_partitioned_by_date/order_date=20131006/', name='order_date=20131006/', size=0, modificationTime=1698239135000),\n",
       " FileInfo(path='dbfs:/user/root/retail_db/orders_partitioned_by_date/order_date=20131007/', name='order_date=20131007/', size=0, modificationTime=1698239068000),\n",
       " FileInfo(path='dbfs:/user/root/retail_db/orders_partitioned_by_date/order_date=20131008/', name='order_date=20131008/', size=0, modificationTime=1698239096000),\n",
       " FileInfo(path='dbfs:/user/root/retail_db/orders_partitioned_by_date/order_date=20131009/', name='order_date=20131009/', size=0, modificationTime=1698239068000),\n",
       " FileInfo(path='dbfs:/user/root/retail_db/orders_partitioned_by_date/order_date=20131010/', name='order_date=20131010/', size=0, modificationTime=1698239124000),\n",
       " FileInfo(path='dbfs:/user/root/retail_db/orders_partitioned_by_date/order_date=20131011/', name='order_date=20131011/', size=0, modificationTime=1698239096000),\n",
       " FileInfo(path='dbfs:/user/root/retail_db/orders_partitioned_by_date/order_date=20131012/', name='order_date=20131012/', size=0, modificationTime=1698239086000),\n",
       " FileInfo(path='dbfs:/user/root/retail_db/orders_partitioned_by_date/order_date=20131013/', name='order_date=20131013/', size=0, modificationTime=1698239068000),\n",
       " FileInfo(path='dbfs:/user/root/retail_db/orders_partitioned_by_date/order_date=20131014/', name='order_date=20131014/', size=0, modificationTime=1698239068000),\n",
       " FileInfo(path='dbfs:/user/root/retail_db/orders_partitioned_by_date/order_date=20131015/', name='order_date=20131015/', size=0, modificationTime=1698239116000),\n",
       " FileInfo(path='dbfs:/user/root/retail_db/orders_partitioned_by_date/order_date=20131016/', name='order_date=20131016/', size=0, modificationTime=1698239104000),\n",
       " FileInfo(path='dbfs:/user/root/retail_db/orders_partitioned_by_date/order_date=20131017/', name='order_date=20131017/', size=0, modificationTime=1698239078000),\n",
       " FileInfo(path='dbfs:/user/root/retail_db/orders_partitioned_by_date/order_date=20131018/', name='order_date=20131018/', size=0, modificationTime=1698239069000),\n",
       " FileInfo(path='dbfs:/user/root/retail_db/orders_partitioned_by_date/order_date=20131019/', name='order_date=20131019/', size=0, modificationTime=1698239096000),\n",
       " FileInfo(path='dbfs:/user/root/retail_db/orders_partitioned_by_date/order_date=20131020/', name='order_date=20131020/', size=0, modificationTime=1698239096000),\n",
       " FileInfo(path='dbfs:/user/root/retail_db/orders_partitioned_by_date/order_date=20131021/', name='order_date=20131021/', size=0, modificationTime=1698239104000),\n",
       " FileInfo(path='dbfs:/user/root/retail_db/orders_partitioned_by_date/order_date=20131022/', name='order_date=20131022/', size=0, modificationTime=1698239069000),\n",
       " FileInfo(path='dbfs:/user/root/retail_db/orders_partitioned_by_date/order_date=20131023/', name='order_date=20131023/', size=0, modificationTime=1698239104000),\n",
       " FileInfo(path='dbfs:/user/root/retail_db/orders_partitioned_by_date/order_date=20131024/', name='order_date=20131024/', size=0, modificationTime=1698239105000),\n",
       " FileInfo(path='dbfs:/user/root/retail_db/orders_partitioned_by_date/order_date=20131025/', name='order_date=20131025/', size=0, modificationTime=1698239086000),\n",
       " FileInfo(path='dbfs:/user/root/retail_db/orders_partitioned_by_date/order_date=20131026/', name='order_date=20131026/', size=0, modificationTime=1698239125000),\n",
       " FileInfo(path='dbfs:/user/root/retail_db/orders_partitioned_by_date/order_date=20131027/', name='order_date=20131027/', size=0, modificationTime=1698239116000),\n",
       " FileInfo(path='dbfs:/user/root/retail_db/orders_partitioned_by_date/order_date=20131028/', name='order_date=20131028/', size=0, modificationTime=1698239125000),\n",
       " FileInfo(path='dbfs:/user/root/retail_db/orders_partitioned_by_date/order_date=20131029/', name='order_date=20131029/', size=0, modificationTime=1698239125000),\n",
       " FileInfo(path='dbfs:/user/root/retail_db/orders_partitioned_by_date/order_date=20131030/', name='order_date=20131030/', size=0, modificationTime=1698239097000),\n",
       " FileInfo(path='dbfs:/user/root/retail_db/orders_partitioned_by_date/order_date=20131031/', name='order_date=20131031/', size=0, modificationTime=1698239069000),\n",
       " FileInfo(path='dbfs:/user/root/retail_db/orders_partitioned_by_date/order_date=20131101/', name='order_date=20131101/', size=0, modificationTime=1698239105000),\n",
       " FileInfo(path='dbfs:/user/root/retail_db/orders_partitioned_by_date/order_date=20131102/', name='order_date=20131102/', size=0, modificationTime=1698239105000),\n",
       " FileInfo(path='dbfs:/user/root/retail_db/orders_partitioned_by_date/order_date=20131103/', name='order_date=20131103/', size=0, modificationTime=1698239135000),\n",
       " FileInfo(path='dbfs:/user/root/retail_db/orders_partitioned_by_date/order_date=20131104/', name='order_date=20131104/', size=0, modificationTime=1698239097000),\n",
       " FileInfo(path='dbfs:/user/root/retail_db/orders_partitioned_by_date/order_date=20131105/', name='order_date=20131105/', size=0, modificationTime=1698239135000),\n",
       " FileInfo(path='dbfs:/user/root/retail_db/orders_partitioned_by_date/order_date=20131106/', name='order_date=20131106/', size=0, modificationTime=1698239125000),\n",
       " FileInfo(path='dbfs:/user/root/retail_db/orders_partitioned_by_date/order_date=20131107/', name='order_date=20131107/', size=0, modificationTime=1698239070000),\n",
       " FileInfo(path='dbfs:/user/root/retail_db/orders_partitioned_by_date/order_date=20131108/', name='order_date=20131108/', size=0, modificationTime=1698239135000),\n",
       " FileInfo(path='dbfs:/user/root/retail_db/orders_partitioned_by_date/order_date=20131109/', name='order_date=20131109/', size=0, modificationTime=1698239126000),\n",
       " FileInfo(path='dbfs:/user/root/retail_db/orders_partitioned_by_date/order_date=20131110/', name='order_date=20131110/', size=0, modificationTime=1698239078000),\n",
       " FileInfo(path='dbfs:/user/root/retail_db/orders_partitioned_by_date/order_date=20131111/', name='order_date=20131111/', size=0, modificationTime=1698239136000),\n",
       " FileInfo(path='dbfs:/user/root/retail_db/orders_partitioned_by_date/order_date=20131112/', name='order_date=20131112/', size=0, modificationTime=1698239087000),\n",
       " FileInfo(path='dbfs:/user/root/retail_db/orders_partitioned_by_date/order_date=20131113/', name='order_date=20131113/', size=0, modificationTime=1698239136000),\n",
       " FileInfo(path='dbfs:/user/root/retail_db/orders_partitioned_by_date/order_date=20131114/', name='order_date=20131114/', size=0, modificationTime=1698239105000),\n",
       " FileInfo(path='dbfs:/user/root/retail_db/orders_partitioned_by_date/order_date=20131115/', name='order_date=20131115/', size=0, modificationTime=1698239136000),\n",
       " FileInfo(path='dbfs:/user/root/retail_db/orders_partitioned_by_date/order_date=20131116/', name='order_date=20131116/', size=0, modificationTime=1698239087000),\n",
       " FileInfo(path='dbfs:/user/root/retail_db/orders_partitioned_by_date/order_date=20131117/', name='order_date=20131117/', size=0, modificationTime=1698239097000),\n",
       " FileInfo(path='dbfs:/user/root/retail_db/orders_partitioned_by_date/order_date=20131118/', name='order_date=20131118/', size=0, modificationTime=1698239070000),\n",
       " FileInfo(path='dbfs:/user/root/retail_db/orders_partitioned_by_date/order_date=20131119/', name='order_date=20131119/', size=0, modificationTime=1698239126000),\n",
       " FileInfo(path='dbfs:/user/root/retail_db/orders_partitioned_by_date/order_date=20131120/', name='order_date=20131120/', size=0, modificationTime=1698239097000),\n",
       " FileInfo(path='dbfs:/user/root/retail_db/orders_partitioned_by_date/order_date=20131121/', name='order_date=20131121/', size=0, modificationTime=1698239097000),\n",
       " FileInfo(path='dbfs:/user/root/retail_db/orders_partitioned_by_date/order_date=20131122/', name='order_date=20131122/', size=0, modificationTime=1698239079000),\n",
       " FileInfo(path='dbfs:/user/root/retail_db/orders_partitioned_by_date/order_date=20131123/', name='order_date=20131123/', size=0, modificationTime=1698239098000),\n",
       " FileInfo(path='dbfs:/user/root/retail_db/orders_partitioned_by_date/order_date=20131124/', name='order_date=20131124/', size=0, modificationTime=1698239087000),\n",
       " FileInfo(path='dbfs:/user/root/retail_db/orders_partitioned_by_date/order_date=20131125/', name='order_date=20131125/', size=0, modificationTime=1698239116000),\n",
       " FileInfo(path='dbfs:/user/root/retail_db/orders_partitioned_by_date/order_date=20131126/', name='order_date=20131126/', size=0, modificationTime=1698239126000),\n",
       " FileInfo(path='dbfs:/user/root/retail_db/orders_partitioned_by_date/order_date=20131127/', name='order_date=20131127/', size=0, modificationTime=1698239087000),\n",
       " FileInfo(path='dbfs:/user/root/retail_db/orders_partitioned_by_date/order_date=20131128/', name='order_date=20131128/', size=0, modificationTime=1698239070000),\n",
       " FileInfo(path='dbfs:/user/root/retail_db/orders_partitioned_by_date/order_date=20131129/', name='order_date=20131129/', size=0, modificationTime=1698239079000),\n",
       " FileInfo(path='dbfs:/user/root/retail_db/orders_partitioned_by_date/order_date=20131130/', name='order_date=20131130/', size=0, modificationTime=1698239088000),\n",
       " FileInfo(path='dbfs:/user/root/retail_db/orders_partitioned_by_date/order_date=20131201/', name='order_date=20131201/', size=0, modificationTime=1698239098000),\n",
       " FileInfo(path='dbfs:/user/root/retail_db/orders_partitioned_by_date/order_date=20131202/', name='order_date=20131202/', size=0, modificationTime=1698239126000),\n",
       " FileInfo(path='dbfs:/user/root/retail_db/orders_partitioned_by_date/order_date=20131203/', name='order_date=20131203/', size=0, modificationTime=1698239070000),\n",
       " FileInfo(path='dbfs:/user/root/retail_db/orders_partitioned_by_date/order_date=20131204/', name='order_date=20131204/', size=0, modificationTime=1698239079000),\n",
       " FileInfo(path='dbfs:/user/root/retail_db/orders_partitioned_by_date/order_date=20131205/', name='order_date=20131205/', size=0, modificationTime=1698239126000),\n",
       " FileInfo(path='dbfs:/user/root/retail_db/orders_partitioned_by_date/order_date=20131206/', name='order_date=20131206/', size=0, modificationTime=1698239126000),\n",
       " FileInfo(path='dbfs:/user/root/retail_db/orders_partitioned_by_date/order_date=20131207/', name='order_date=20131207/', size=0, modificationTime=1698239136000),\n",
       " FileInfo(path='dbfs:/user/root/retail_db/orders_partitioned_by_date/order_date=20131208/', name='order_date=20131208/', size=0, modificationTime=1698239071000),\n",
       " FileInfo(path='dbfs:/user/root/retail_db/orders_partitioned_by_date/order_date=20131209/', name='order_date=20131209/', size=0, modificationTime=1698239079000),\n",
       " FileInfo(path='dbfs:/user/root/retail_db/orders_partitioned_by_date/order_date=20131210/', name='order_date=20131210/', size=0, modificationTime=1698239116000),\n",
       " FileInfo(path='dbfs:/user/root/retail_db/orders_partitioned_by_date/order_date=20131211/', name='order_date=20131211/', size=0, modificationTime=1698239105000),\n",
       " FileInfo(path='dbfs:/user/root/retail_db/orders_partitioned_by_date/order_date=20131212/', name='order_date=20131212/', size=0, modificationTime=1698239136000),\n",
       " FileInfo(path='dbfs:/user/root/retail_db/orders_partitioned_by_date/order_date=20131213/', name='order_date=20131213/', size=0, modificationTime=1698239088000),\n",
       " FileInfo(path='dbfs:/user/root/retail_db/orders_partitioned_by_date/order_date=20131214/', name='order_date=20131214/', size=0, modificationTime=1698239071000),\n",
       " FileInfo(path='dbfs:/user/root/retail_db/orders_partitioned_by_date/order_date=20131215/', name='order_date=20131215/', size=0, modificationTime=1698239137000),\n",
       " FileInfo(path='dbfs:/user/root/retail_db/orders_partitioned_by_date/order_date=20131216/', name='order_date=20131216/', size=0, modificationTime=1698239098000),\n",
       " FileInfo(path='dbfs:/user/root/retail_db/orders_partitioned_by_date/order_date=20131217/', name='order_date=20131217/', size=0, modificationTime=1698239137000),\n",
       " FileInfo(path='dbfs:/user/root/retail_db/orders_partitioned_by_date/order_date=20131218/', name='order_date=20131218/', size=0, modificationTime=1698239088000),\n",
       " FileInfo(path='dbfs:/user/root/retail_db/orders_partitioned_by_date/order_date=20131219/', name='order_date=20131219/', size=0, modificationTime=1698239117000),\n",
       " FileInfo(path='dbfs:/user/root/retail_db/orders_partitioned_by_date/order_date=20131220/', name='order_date=20131220/', size=0, modificationTime=1698239106000),\n",
       " FileInfo(path='dbfs:/user/root/retail_db/orders_partitioned_by_date/order_date=20131221/', name='order_date=20131221/', size=0, modificationTime=1698239137000),\n",
       " FileInfo(path='dbfs:/user/root/retail_db/orders_partitioned_by_date/order_date=20131222/', name='order_date=20131222/', size=0, modificationTime=1698239071000),\n",
       " FileInfo(path='dbfs:/user/root/retail_db/orders_partitioned_by_date/order_date=20131223/', name='order_date=20131223/', size=0, modificationTime=1698239127000),\n",
       " FileInfo(path='dbfs:/user/root/retail_db/orders_partitioned_by_date/order_date=20131224/', name='order_date=20131224/', size=0, modificationTime=1698239137000),\n",
       " FileInfo(path='dbfs:/user/root/retail_db/orders_partitioned_by_date/order_date=20131225/', name='order_date=20131225/', size=0, modificationTime=1698239098000),\n",
       " FileInfo(path='dbfs:/user/root/retail_db/orders_partitioned_by_date/order_date=20131226/', name='order_date=20131226/', size=0, modificationTime=1698239117000),\n",
       " FileInfo(path='dbfs:/user/root/retail_db/orders_partitioned_by_date/order_date=20131227/', name='order_date=20131227/', size=0, modificationTime=1698239137000),\n",
       " FileInfo(path='dbfs:/user/root/retail_db/orders_partitioned_by_date/order_date=20131228/', name='order_date=20131228/', size=0, modificationTime=1698239106000),\n",
       " FileInfo(path='dbfs:/user/root/retail_db/orders_partitioned_by_date/order_date=20131229/', name='order_date=20131229/', size=0, modificationTime=1698239088000),\n",
       " FileInfo(path='dbfs:/user/root/retail_db/orders_partitioned_by_date/order_date=20131230/', name='order_date=20131230/', size=0, modificationTime=1698239099000),\n",
       " FileInfo(path='dbfs:/user/root/retail_db/orders_partitioned_by_date/order_date=20131231/', name='order_date=20131231/', size=0, modificationTime=1698239106000),\n",
       " FileInfo(path='dbfs:/user/root/retail_db/orders_partitioned_by_date/order_date=20140101/', name='order_date=20140101/', size=0, modificationTime=1698239079000),\n",
       " FileInfo(path='dbfs:/user/root/retail_db/orders_partitioned_by_date/order_date=20140102/', name='order_date=20140102/', size=0, modificationTime=1698239137000),\n",
       " FileInfo(path='dbfs:/user/root/retail_db/orders_partitioned_by_date/order_date=20140103/', name='order_date=20140103/', size=0, modificationTime=1698239127000),\n",
       " FileInfo(path='dbfs:/user/root/retail_db/orders_partitioned_by_date/order_date=20140104/', name='order_date=20140104/', size=0, modificationTime=1698239106000),\n",
       " FileInfo(path='dbfs:/user/root/retail_db/orders_partitioned_by_date/order_date=20140105/', name='order_date=20140105/', size=0, modificationTime=1698239088000),\n",
       " FileInfo(path='dbfs:/user/root/retail_db/orders_partitioned_by_date/order_date=20140106/', name='order_date=20140106/', size=0, modificationTime=1698239106000),\n",
       " FileInfo(path='dbfs:/user/root/retail_db/orders_partitioned_by_date/order_date=20140107/', name='order_date=20140107/', size=0, modificationTime=1698239127000),\n",
       " FileInfo(path='dbfs:/user/root/retail_db/orders_partitioned_by_date/order_date=20140108/', name='order_date=20140108/', size=0, modificationTime=1698239080000),\n",
       " FileInfo(path='dbfs:/user/root/retail_db/orders_partitioned_by_date/order_date=20140109/', name='order_date=20140109/', size=0, modificationTime=1698239117000),\n",
       " FileInfo(path='dbfs:/user/root/retail_db/orders_partitioned_by_date/order_date=20140110/', name='order_date=20140110/', size=0, modificationTime=1698239099000),\n",
       " FileInfo(path='dbfs:/user/root/retail_db/orders_partitioned_by_date/order_date=20140111/', name='order_date=20140111/', size=0, modificationTime=1698239107000),\n",
       " FileInfo(path='dbfs:/user/root/retail_db/orders_partitioned_by_date/order_date=20140112/', name='order_date=20140112/', size=0, modificationTime=1698239071000),\n",
       " FileInfo(path='dbfs:/user/root/retail_db/orders_partitioned_by_date/order_date=20140113/', name='order_date=20140113/', size=0, modificationTime=1698239127000),\n",
       " FileInfo(path='dbfs:/user/root/retail_db/orders_partitioned_by_date/order_date=20140114/', name='order_date=20140114/', size=0, modificationTime=1698239071000),\n",
       " FileInfo(path='dbfs:/user/root/retail_db/orders_partitioned_by_date/order_date=20140115/', name='order_date=20140115/', size=0, modificationTime=1698239088000),\n",
       " FileInfo(path='dbfs:/user/root/retail_db/orders_partitioned_by_date/order_date=20140116/', name='order_date=20140116/', size=0, modificationTime=1698239127000),\n",
       " FileInfo(path='dbfs:/user/root/retail_db/orders_partitioned_by_date/order_date=20140117/', name='order_date=20140117/', size=0, modificationTime=1698239080000),\n",
       " FileInfo(path='dbfs:/user/root/retail_db/orders_partitioned_by_date/order_date=20140118/', name='order_date=20140118/', size=0, modificationTime=1698239117000),\n",
       " FileInfo(path='dbfs:/user/root/retail_db/orders_partitioned_by_date/order_date=20140119/', name='order_date=20140119/', size=0, modificationTime=1698239107000),\n",
       " FileInfo(path='dbfs:/user/root/retail_db/orders_partitioned_by_date/order_date=20140120/', name='order_date=20140120/', size=0, modificationTime=1698239089000),\n",
       " FileInfo(path='dbfs:/user/root/retail_db/orders_partitioned_by_date/order_date=20140121/', name='order_date=20140121/', size=0, modificationTime=1698239080000),\n",
       " FileInfo(path='dbfs:/user/root/retail_db/orders_partitioned_by_date/order_date=20140122/', name='order_date=20140122/', size=0, modificationTime=1698239138000),\n",
       " FileInfo(path='dbfs:/user/root/retail_db/orders_partitioned_by_date/order_date=20140123/', name='order_date=20140123/', size=0, modificationTime=1698239117000),\n",
       " FileInfo(path='dbfs:/user/root/retail_db/orders_partitioned_by_date/order_date=20140124/', name='order_date=20140124/', size=0, modificationTime=1698239089000),\n",
       " FileInfo(path='dbfs:/user/root/retail_db/orders_partitioned_by_date/order_date=20140125/', name='order_date=20140125/', size=0, modificationTime=1698239089000),\n",
       " FileInfo(path='dbfs:/user/root/retail_db/orders_partitioned_by_date/order_date=20140126/', name='order_date=20140126/', size=0, modificationTime=1698239099000),\n",
       " FileInfo(path='dbfs:/user/root/retail_db/orders_partitioned_by_date/order_date=20140127/', name='order_date=20140127/', size=0, modificationTime=1698239089000),\n",
       " FileInfo(path='dbfs:/user/root/retail_db/orders_partitioned_by_date/order_date=20140128/', name='order_date=20140128/', size=0, modificationTime=1698239118000),\n",
       " FileInfo(path='dbfs:/user/root/retail_db/orders_partitioned_by_date/order_date=20140129/', name='order_date=20140129/', size=0, modificationTime=1698239128000),\n",
       " FileInfo(path='dbfs:/user/root/retail_db/orders_partitioned_by_date/order_date=20140130/', name='order_date=20140130/', size=0, modificationTime=1698239080000),\n",
       " FileInfo(path='dbfs:/user/root/retail_db/orders_partitioned_by_date/order_date=20140131/', name='order_date=20140131/', size=0, modificationTime=1698239118000),\n",
       " FileInfo(path='dbfs:/user/root/retail_db/orders_partitioned_by_date/order_date=20140201/', name='order_date=20140201/', size=0, modificationTime=1698239081000),\n",
       " FileInfo(path='dbfs:/user/root/retail_db/orders_partitioned_by_date/order_date=20140202/', name='order_date=20140202/', size=0, modificationTime=1698239107000),\n",
       " FileInfo(path='dbfs:/user/root/retail_db/orders_partitioned_by_date/order_date=20140203/', name='order_date=20140203/', size=0, modificationTime=1698239072000),\n",
       " FileInfo(path='dbfs:/user/root/retail_db/orders_partitioned_by_date/order_date=20140204/', name='order_date=20140204/', size=0, modificationTime=1698239107000),\n",
       " FileInfo(path='dbfs:/user/root/retail_db/orders_partitioned_by_date/order_date=20140205/', name='order_date=20140205/', size=0, modificationTime=1698239128000),\n",
       " FileInfo(path='dbfs:/user/root/retail_db/orders_partitioned_by_date/order_date=20140206/', name='order_date=20140206/', size=0, modificationTime=1698239099000),\n",
       " FileInfo(path='dbfs:/user/root/retail_db/orders_partitioned_by_date/order_date=20140207/', name='order_date=20140207/', size=0, modificationTime=1698239089000),\n",
       " FileInfo(path='dbfs:/user/root/retail_db/orders_partitioned_by_date/order_date=20140208/', name='order_date=20140208/', size=0, modificationTime=1698239128000),\n",
       " FileInfo(path='dbfs:/user/root/retail_db/orders_partitioned_by_date/order_date=20140209/', name='order_date=20140209/', size=0, modificationTime=1698239138000),\n",
       " FileInfo(path='dbfs:/user/root/retail_db/orders_partitioned_by_date/order_date=20140210/', name='order_date=20140210/', size=0, modificationTime=1698239138000),\n",
       " FileInfo(path='dbfs:/user/root/retail_db/orders_partitioned_by_date/order_date=20140211/', name='order_date=20140211/', size=0, modificationTime=1698239108000),\n",
       " FileInfo(path='dbfs:/user/root/retail_db/orders_partitioned_by_date/order_date=20140212/', name='order_date=20140212/', size=0, modificationTime=1698239138000),\n",
       " FileInfo(path='dbfs:/user/root/retail_db/orders_partitioned_by_date/order_date=20140213/', name='order_date=20140213/', size=0, modificationTime=1698239081000),\n",
       " FileInfo(path='dbfs:/user/root/retail_db/orders_partitioned_by_date/order_date=20140214/', name='order_date=20140214/', size=0, modificationTime=1698239099000),\n",
       " FileInfo(path='dbfs:/user/root/retail_db/orders_partitioned_by_date/order_date=20140215/', name='order_date=20140215/', size=0, modificationTime=1698239081000),\n",
       " FileInfo(path='dbfs:/user/root/retail_db/orders_partitioned_by_date/order_date=20140216/', name='order_date=20140216/', size=0, modificationTime=1698239108000),\n",
       " FileInfo(path='dbfs:/user/root/retail_db/orders_partitioned_by_date/order_date=20140217/', name='order_date=20140217/', size=0, modificationTime=1698239090000),\n",
       " FileInfo(path='dbfs:/user/root/retail_db/orders_partitioned_by_date/order_date=20140218/', name='order_date=20140218/', size=0, modificationTime=1698239072000),\n",
       " FileInfo(path='dbfs:/user/root/retail_db/orders_partitioned_by_date/order_date=20140219/', name='order_date=20140219/', size=0, modificationTime=1698239128000),\n",
       " FileInfo(path='dbfs:/user/root/retail_db/orders_partitioned_by_date/order_date=20140220/', name='order_date=20140220/', size=0, modificationTime=1698239100000),\n",
       " FileInfo(path='dbfs:/user/root/retail_db/orders_partitioned_by_date/order_date=20140221/', name='order_date=20140221/', size=0, modificationTime=1698239072000),\n",
       " FileInfo(path='dbfs:/user/root/retail_db/orders_partitioned_by_date/order_date=20140222/', name='order_date=20140222/', size=0, modificationTime=1698239081000),\n",
       " FileInfo(path='dbfs:/user/root/retail_db/orders_partitioned_by_date/order_date=20140223/', name='order_date=20140223/', size=0, modificationTime=1698239090000),\n",
       " FileInfo(path='dbfs:/user/root/retail_db/orders_partitioned_by_date/order_date=20140224/', name='order_date=20140224/', size=0, modificationTime=1698239090000),\n",
       " FileInfo(path='dbfs:/user/root/retail_db/orders_partitioned_by_date/order_date=20140225/', name='order_date=20140225/', size=0, modificationTime=1698239128000),\n",
       " FileInfo(path='dbfs:/user/root/retail_db/orders_partitioned_by_date/order_date=20140226/', name='order_date=20140226/', size=0, modificationTime=1698239129000),\n",
       " FileInfo(path='dbfs:/user/root/retail_db/orders_partitioned_by_date/order_date=20140227/', name='order_date=20140227/', size=0, modificationTime=1698239072000),\n",
       " FileInfo(path='dbfs:/user/root/retail_db/orders_partitioned_by_date/order_date=20140228/', name='order_date=20140228/', size=0, modificationTime=1698239118000),\n",
       " FileInfo(path='dbfs:/user/root/retail_db/orders_partitioned_by_date/order_date=20140301/', name='order_date=20140301/', size=0, modificationTime=1698239118000),\n",
       " FileInfo(path='dbfs:/user/root/retail_db/orders_partitioned_by_date/order_date=20140302/', name='order_date=20140302/', size=0, modificationTime=1698239118000),\n",
       " FileInfo(path='dbfs:/user/root/retail_db/orders_partitioned_by_date/order_date=20140303/', name='order_date=20140303/', size=0, modificationTime=1698239129000),\n",
       " FileInfo(path='dbfs:/user/root/retail_db/orders_partitioned_by_date/order_date=20140304/', name='order_date=20140304/', size=0, modificationTime=1698239108000),\n",
       " FileInfo(path='dbfs:/user/root/retail_db/orders_partitioned_by_date/order_date=20140305/', name='order_date=20140305/', size=0, modificationTime=1698239119000),\n",
       " FileInfo(path='dbfs:/user/root/retail_db/orders_partitioned_by_date/order_date=20140306/', name='order_date=20140306/', size=0, modificationTime=1698239072000),\n",
       " FileInfo(path='dbfs:/user/root/retail_db/orders_partitioned_by_date/order_date=20140307/', name='order_date=20140307/', size=0, modificationTime=1698239100000),\n",
       " FileInfo(path='dbfs:/user/root/retail_db/orders_partitioned_by_date/order_date=20140308/', name='order_date=20140308/', size=0, modificationTime=1698239073000),\n",
       " FileInfo(path='dbfs:/user/root/retail_db/orders_partitioned_by_date/order_date=20140310/', name='order_date=20140310/', size=0, modificationTime=1698239108000),\n",
       " FileInfo(path='dbfs:/user/root/retail_db/orders_partitioned_by_date/order_date=20140311/', name='order_date=20140311/', size=0, modificationTime=1698239119000),\n",
       " FileInfo(path='dbfs:/user/root/retail_db/orders_partitioned_by_date/order_date=20140312/', name='order_date=20140312/', size=0, modificationTime=1698239090000),\n",
       " FileInfo(path='dbfs:/user/root/retail_db/orders_partitioned_by_date/order_date=20140313/', name='order_date=20140313/', size=0, modificationTime=1698239100000),\n",
       " FileInfo(path='dbfs:/user/root/retail_db/orders_partitioned_by_date/order_date=20140314/', name='order_date=20140314/', size=0, modificationTime=1698239073000),\n",
       " FileInfo(path='dbfs:/user/root/retail_db/orders_partitioned_by_date/order_date=20140315/', name='order_date=20140315/', size=0, modificationTime=1698239129000),\n",
       " FileInfo(path='dbfs:/user/root/retail_db/orders_partitioned_by_date/order_date=20140316/', name='order_date=20140316/', size=0, modificationTime=1698239119000),\n",
       " FileInfo(path='dbfs:/user/root/retail_db/orders_partitioned_by_date/order_date=20140317/', name='order_date=20140317/', size=0, modificationTime=1698239073000),\n",
       " FileInfo(path='dbfs:/user/root/retail_db/orders_partitioned_by_date/order_date=20140318/', name='order_date=20140318/', size=0, modificationTime=1698239129000),\n",
       " FileInfo(path='dbfs:/user/root/retail_db/orders_partitioned_by_date/order_date=20140319/', name='order_date=20140319/', size=0, modificationTime=1698239108000),\n",
       " FileInfo(path='dbfs:/user/root/retail_db/orders_partitioned_by_date/order_date=20140320/', name='order_date=20140320/', size=0, modificationTime=1698239073000),\n",
       " FileInfo(path='dbfs:/user/root/retail_db/orders_partitioned_by_date/order_date=20140321/', name='order_date=20140321/', size=0, modificationTime=1698239090000),\n",
       " FileInfo(path='dbfs:/user/root/retail_db/orders_partitioned_by_date/order_date=20140322/', name='order_date=20140322/', size=0, modificationTime=1698239108000),\n",
       " FileInfo(path='dbfs:/user/root/retail_db/orders_partitioned_by_date/order_date=20140323/', name='order_date=20140323/', size=0, modificationTime=1698239130000),\n",
       " FileInfo(path='dbfs:/user/root/retail_db/orders_partitioned_by_date/order_date=20140324/', name='order_date=20140324/', size=0, modificationTime=1698239081000),\n",
       " FileInfo(path='dbfs:/user/root/retail_db/orders_partitioned_by_date/order_date=20140325/', name='order_date=20140325/', size=0, modificationTime=1698239082000),\n",
       " FileInfo(path='dbfs:/user/root/retail_db/orders_partitioned_by_date/order_date=20140326/', name='order_date=20140326/', size=0, modificationTime=1698239138000),\n",
       " FileInfo(path='dbfs:/user/root/retail_db/orders_partitioned_by_date/order_date=20140327/', name='order_date=20140327/', size=0, modificationTime=1698239100000),\n",
       " FileInfo(path='dbfs:/user/root/retail_db/orders_partitioned_by_date/order_date=20140328/', name='order_date=20140328/', size=0, modificationTime=1698239100000),\n",
       " FileInfo(path='dbfs:/user/root/retail_db/orders_partitioned_by_date/order_date=20140329/', name='order_date=20140329/', size=0, modificationTime=1698239138000),\n",
       " FileInfo(path='dbfs:/user/root/retail_db/orders_partitioned_by_date/order_date=20140330/', name='order_date=20140330/', size=0, modificationTime=1698239119000),\n",
       " FileInfo(path='dbfs:/user/root/retail_db/orders_partitioned_by_date/order_date=20140331/', name='order_date=20140331/', size=0, modificationTime=1698239100000),\n",
       " FileInfo(path='dbfs:/user/root/retail_db/orders_partitioned_by_date/order_date=20140401/', name='order_date=20140401/', size=0, modificationTime=1698239073000),\n",
       " FileInfo(path='dbfs:/user/root/retail_db/orders_partitioned_by_date/order_date=20140402/', name='order_date=20140402/', size=0, modificationTime=1698239109000),\n",
       " FileInfo(path='dbfs:/user/root/retail_db/orders_partitioned_by_date/order_date=20140403/', name='order_date=20140403/', size=0, modificationTime=1698239109000),\n",
       " FileInfo(path='dbfs:/user/root/retail_db/orders_partitioned_by_date/order_date=20140404/', name='order_date=20140404/', size=0, modificationTime=1698239139000),\n",
       " FileInfo(path='dbfs:/user/root/retail_db/orders_partitioned_by_date/order_date=20140405/', name='order_date=20140405/', size=0, modificationTime=1698239109000),\n",
       " FileInfo(path='dbfs:/user/root/retail_db/orders_partitioned_by_date/order_date=20140406/', name='order_date=20140406/', size=0, modificationTime=1698239139000),\n",
       " FileInfo(path='dbfs:/user/root/retail_db/orders_partitioned_by_date/order_date=20140407/', name='order_date=20140407/', size=0, modificationTime=1698239119000),\n",
       " FileInfo(path='dbfs:/user/root/retail_db/orders_partitioned_by_date/order_date=20140408/', name='order_date=20140408/', size=0, modificationTime=1698239091000),\n",
       " FileInfo(path='dbfs:/user/root/retail_db/orders_partitioned_by_date/order_date=20140409/', name='order_date=20140409/', size=0, modificationTime=1698239139000),\n",
       " FileInfo(path='dbfs:/user/root/retail_db/orders_partitioned_by_date/order_date=20140410/', name='order_date=20140410/', size=0, modificationTime=1698239130000),\n",
       " FileInfo(path='dbfs:/user/root/retail_db/orders_partitioned_by_date/order_date=20140411/', name='order_date=20140411/', size=0, modificationTime=1698239120000),\n",
       " FileInfo(path='dbfs:/user/root/retail_db/orders_partitioned_by_date/order_date=20140412/', name='order_date=20140412/', size=0, modificationTime=1698239130000),\n",
       " FileInfo(path='dbfs:/user/root/retail_db/orders_partitioned_by_date/order_date=20140413/', name='order_date=20140413/', size=0, modificationTime=1698239101000),\n",
       " FileInfo(path='dbfs:/user/root/retail_db/orders_partitioned_by_date/order_date=20140414/', name='order_date=20140414/', size=0, modificationTime=1698239091000),\n",
       " FileInfo(path='dbfs:/user/root/retail_db/orders_partitioned_by_date/order_date=20140415/', name='order_date=20140415/', size=0, modificationTime=1698239139000),\n",
       " FileInfo(path='dbfs:/user/root/retail_db/orders_partitioned_by_date/order_date=20140416/', name='order_date=20140416/', size=0, modificationTime=1698239130000),\n",
       " FileInfo(path='dbfs:/user/root/retail_db/orders_partitioned_by_date/order_date=20140417/', name='order_date=20140417/', size=0, modificationTime=1698239109000),\n",
       " FileInfo(path='dbfs:/user/root/retail_db/orders_partitioned_by_date/order_date=20140418/', name='order_date=20140418/', size=0, modificationTime=1698239091000),\n",
       " FileInfo(path='dbfs:/user/root/retail_db/orders_partitioned_by_date/order_date=20140419/', name='order_date=20140419/', size=0, modificationTime=1698239131000),\n",
       " FileInfo(path='dbfs:/user/root/retail_db/orders_partitioned_by_date/order_date=20140420/', name='order_date=20140420/', size=0, modificationTime=1698239139000),\n",
       " FileInfo(path='dbfs:/user/root/retail_db/orders_partitioned_by_date/order_date=20140421/', name='order_date=20140421/', size=0, modificationTime=1698239110000),\n",
       " FileInfo(path='dbfs:/user/root/retail_db/orders_partitioned_by_date/order_date=20140422/', name='order_date=20140422/', size=0, modificationTime=1698239140000),\n",
       " FileInfo(path='dbfs:/user/root/retail_db/orders_partitioned_by_date/order_date=20140423/', name='order_date=20140423/', size=0, modificationTime=1698239074000),\n",
       " FileInfo(path='dbfs:/user/root/retail_db/orders_partitioned_by_date/order_date=20140424/', name='order_date=20140424/', size=0, modificationTime=1698239120000),\n",
       " FileInfo(path='dbfs:/user/root/retail_db/orders_partitioned_by_date/order_date=20140425/', name='order_date=20140425/', size=0, modificationTime=1698239074000),\n",
       " FileInfo(path='dbfs:/user/root/retail_db/orders_partitioned_by_date/order_date=20140426/', name='order_date=20140426/', size=0, modificationTime=1698239120000),\n",
       " FileInfo(path='dbfs:/user/root/retail_db/orders_partitioned_by_date/order_date=20140427/', name='order_date=20140427/', size=0, modificationTime=1698239110000),\n",
       " FileInfo(path='dbfs:/user/root/retail_db/orders_partitioned_by_date/order_date=20140428/', name='order_date=20140428/', size=0, modificationTime=1698239140000),\n",
       " FileInfo(path='dbfs:/user/root/retail_db/orders_partitioned_by_date/order_date=20140429/', name='order_date=20140429/', size=0, modificationTime=1698239101000),\n",
       " FileInfo(path='dbfs:/user/root/retail_db/orders_partitioned_by_date/order_date=20140430/', name='order_date=20140430/', size=0, modificationTime=1698239131000),\n",
       " FileInfo(path='dbfs:/user/root/retail_db/orders_partitioned_by_date/order_date=20140501/', name='order_date=20140501/', size=0, modificationTime=1698239092000),\n",
       " FileInfo(path='dbfs:/user/root/retail_db/orders_partitioned_by_date/order_date=20140502/', name='order_date=20140502/', size=0, modificationTime=1698239082000),\n",
       " FileInfo(path='dbfs:/user/root/retail_db/orders_partitioned_by_date/order_date=20140503/', name='order_date=20140503/', size=0, modificationTime=1698239101000),\n",
       " FileInfo(path='dbfs:/user/root/retail_db/orders_partitioned_by_date/order_date=20140504/', name='order_date=20140504/', size=0, modificationTime=1698239131000),\n",
       " FileInfo(path='dbfs:/user/root/retail_db/orders_partitioned_by_date/order_date=20140505/', name='order_date=20140505/', size=0, modificationTime=1698239082000),\n",
       " FileInfo(path='dbfs:/user/root/retail_db/orders_partitioned_by_date/order_date=20140506/', name='order_date=20140506/', size=0, modificationTime=1698239110000),\n",
       " FileInfo(path='dbfs:/user/root/retail_db/orders_partitioned_by_date/order_date=20140507/', name='order_date=20140507/', size=0, modificationTime=1698239131000),\n",
       " FileInfo(path='dbfs:/user/root/retail_db/orders_partitioned_by_date/order_date=20140508/', name='order_date=20140508/', size=0, modificationTime=1698239110000),\n",
       " FileInfo(path='dbfs:/user/root/retail_db/orders_partitioned_by_date/order_date=20140509/', name='order_date=20140509/', size=0, modificationTime=1698239074000),\n",
       " FileInfo(path='dbfs:/user/root/retail_db/orders_partitioned_by_date/order_date=20140510/', name='order_date=20140510/', size=0, modificationTime=1698239140000),\n",
       " FileInfo(path='dbfs:/user/root/retail_db/orders_partitioned_by_date/order_date=20140511/', name='order_date=20140511/', size=0, modificationTime=1698239140000),\n",
       " FileInfo(path='dbfs:/user/root/retail_db/orders_partitioned_by_date/order_date=20140512/', name='order_date=20140512/', size=0, modificationTime=1698239074000),\n",
       " FileInfo(path='dbfs:/user/root/retail_db/orders_partitioned_by_date/order_date=20140513/', name='order_date=20140513/', size=0, modificationTime=1698239092000),\n",
       " FileInfo(path='dbfs:/user/root/retail_db/orders_partitioned_by_date/order_date=20140514/', name='order_date=20140514/', size=0, modificationTime=1698239131000),\n",
       " FileInfo(path='dbfs:/user/root/retail_db/orders_partitioned_by_date/order_date=20140515/', name='order_date=20140515/', size=0, modificationTime=1698239101000),\n",
       " FileInfo(path='dbfs:/user/root/retail_db/orders_partitioned_by_date/order_date=20140516/', name='order_date=20140516/', size=0, modificationTime=1698239075000),\n",
       " FileInfo(path='dbfs:/user/root/retail_db/orders_partitioned_by_date/order_date=20140517/', name='order_date=20140517/', size=0, modificationTime=1698239082000),\n",
       " FileInfo(path='dbfs:/user/root/retail_db/orders_partitioned_by_date/order_date=20140518/', name='order_date=20140518/', size=0, modificationTime=1698239110000),\n",
       " FileInfo(path='dbfs:/user/root/retail_db/orders_partitioned_by_date/order_date=20140519/', name='order_date=20140519/', size=0, modificationTime=1698239110000),\n",
       " FileInfo(path='dbfs:/user/root/retail_db/orders_partitioned_by_date/order_date=20140520/', name='order_date=20140520/', size=0, modificationTime=1698239140000),\n",
       " FileInfo(path='dbfs:/user/root/retail_db/orders_partitioned_by_date/order_date=20140521/', name='order_date=20140521/', size=0, modificationTime=1698239082000),\n",
       " FileInfo(path='dbfs:/user/root/retail_db/orders_partitioned_by_date/order_date=20140522/', name='order_date=20140522/', size=0, modificationTime=1698239101000),\n",
       " FileInfo(path='dbfs:/user/root/retail_db/orders_partitioned_by_date/order_date=20140523/', name='order_date=20140523/', size=0, modificationTime=1698239075000),\n",
       " FileInfo(path='dbfs:/user/root/retail_db/orders_partitioned_by_date/order_date=20140524/', name='order_date=20140524/', size=0, modificationTime=1698239075000),\n",
       " FileInfo(path='dbfs:/user/root/retail_db/orders_partitioned_by_date/order_date=20140525/', name='order_date=20140525/', size=0, modificationTime=1698239120000),\n",
       " FileInfo(path='dbfs:/user/root/retail_db/orders_partitioned_by_date/order_date=20140526/', name='order_date=20140526/', size=0, modificationTime=1698239083000),\n",
       " FileInfo(path='dbfs:/user/root/retail_db/orders_partitioned_by_date/order_date=20140527/', name='order_date=20140527/', size=0, modificationTime=1698239111000),\n",
       " FileInfo(path='dbfs:/user/root/retail_db/orders_partitioned_by_date/order_date=20140528/', name='order_date=20140528/', size=0, modificationTime=1698239102000),\n",
       " FileInfo(path='dbfs:/user/root/retail_db/orders_partitioned_by_date/order_date=20140529/', name='order_date=20140529/', size=0, modificationTime=1698239111000),\n",
       " FileInfo(path='dbfs:/user/root/retail_db/orders_partitioned_by_date/order_date=20140530/', name='order_date=20140530/', size=0, modificationTime=1698239092000),\n",
       " FileInfo(path='dbfs:/user/root/retail_db/orders_partitioned_by_date/order_date=20140531/', name='order_date=20140531/', size=0, modificationTime=1698239083000),\n",
       " FileInfo(path='dbfs:/user/root/retail_db/orders_partitioned_by_date/order_date=20140601/', name='order_date=20140601/', size=0, modificationTime=1698239092000),\n",
       " FileInfo(path='dbfs:/user/root/retail_db/orders_partitioned_by_date/order_date=20140602/', name='order_date=20140602/', size=0, modificationTime=1698239132000),\n",
       " FileInfo(path='dbfs:/user/root/retail_db/orders_partitioned_by_date/order_date=20140603/', name='order_date=20140603/', size=0, modificationTime=1698239075000),\n",
       " FileInfo(path='dbfs:/user/root/retail_db/orders_partitioned_by_date/order_date=20140604/', name='order_date=20140604/', size=0, modificationTime=1698239083000),\n",
       " FileInfo(path='dbfs:/user/root/retail_db/orders_partitioned_by_date/order_date=20140605/', name='order_date=20140605/', size=0, modificationTime=1698239083000),\n",
       " FileInfo(path='dbfs:/user/root/retail_db/orders_partitioned_by_date/order_date=20140606/', name='order_date=20140606/', size=0, modificationTime=1698239075000),\n",
       " FileInfo(path='dbfs:/user/root/retail_db/orders_partitioned_by_date/order_date=20140607/', name='order_date=20140607/', size=0, modificationTime=1698239121000),\n",
       " FileInfo(path='dbfs:/user/root/retail_db/orders_partitioned_by_date/order_date=20140608/', name='order_date=20140608/', size=0, modificationTime=1698239121000),\n",
       " FileInfo(path='dbfs:/user/root/retail_db/orders_partitioned_by_date/order_date=20140609/', name='order_date=20140609/', size=0, modificationTime=1698239111000),\n",
       " FileInfo(path='dbfs:/user/root/retail_db/orders_partitioned_by_date/order_date=20140610/', name='order_date=20140610/', size=0, modificationTime=1698239092000),\n",
       " FileInfo(path='dbfs:/user/root/retail_db/orders_partitioned_by_date/order_date=20140611/', name='order_date=20140611/', size=0, modificationTime=1698239075000),\n",
       " FileInfo(path='dbfs:/user/root/retail_db/orders_partitioned_by_date/order_date=20140612/', name='order_date=20140612/', size=0, modificationTime=1698239076000),\n",
       " FileInfo(path='dbfs:/user/root/retail_db/orders_partitioned_by_date/order_date=20140613/', name='order_date=20140613/', size=0, modificationTime=1698239076000),\n",
       " FileInfo(path='dbfs:/user/root/retail_db/orders_partitioned_by_date/order_date=20140614/', name='order_date=20140614/', size=0, modificationTime=1698239112000),\n",
       " FileInfo(path='dbfs:/user/root/retail_db/orders_partitioned_by_date/order_date=20140615/', name='order_date=20140615/', size=0, modificationTime=1698239092000),\n",
       " FileInfo(path='dbfs:/user/root/retail_db/orders_partitioned_by_date/order_date=20140616/', name='order_date=20140616/', size=0, modificationTime=1698239112000),\n",
       " FileInfo(path='dbfs:/user/root/retail_db/orders_partitioned_by_date/order_date=20140617/', name='order_date=20140617/', size=0, modificationTime=1698239102000),\n",
       " FileInfo(path='dbfs:/user/root/retail_db/orders_partitioned_by_date/order_date=20140618/', name='order_date=20140618/', size=0, modificationTime=1698239121000),\n",
       " FileInfo(path='dbfs:/user/root/retail_db/orders_partitioned_by_date/order_date=20140619/', name='order_date=20140619/', size=0, modificationTime=1698239093000),\n",
       " FileInfo(path='dbfs:/user/root/retail_db/orders_partitioned_by_date/order_date=20140620/', name='order_date=20140620/', size=0, modificationTime=1698239140000),\n",
       " FileInfo(path='dbfs:/user/root/retail_db/orders_partitioned_by_date/order_date=20140621/', name='order_date=20140621/', size=0, modificationTime=1698239093000),\n",
       " FileInfo(path='dbfs:/user/root/retail_db/orders_partitioned_by_date/order_date=20140622/', name='order_date=20140622/', size=0, modificationTime=1698239084000),\n",
       " FileInfo(path='dbfs:/user/root/retail_db/orders_partitioned_by_date/order_date=20140623/', name='order_date=20140623/', size=0, modificationTime=1698239084000),\n",
       " FileInfo(path='dbfs:/user/root/retail_db/orders_partitioned_by_date/order_date=20140624/', name='order_date=20140624/', size=0, modificationTime=1698239132000),\n",
       " FileInfo(path='dbfs:/user/root/retail_db/orders_partitioned_by_date/order_date=20140625/', name='order_date=20140625/', size=0, modificationTime=1698239121000),\n",
       " FileInfo(path='dbfs:/user/root/retail_db/orders_partitioned_by_date/order_date=20140626/', name='order_date=20140626/', size=0, modificationTime=1698239132000),\n",
       " FileInfo(path='dbfs:/user/root/retail_db/orders_partitioned_by_date/order_date=20140627/', name='order_date=20140627/', size=0, modificationTime=1698239102000),\n",
       " FileInfo(path='dbfs:/user/root/retail_db/orders_partitioned_by_date/order_date=20140628/', name='order_date=20140628/', size=0, modificationTime=1698239121000),\n",
       " FileInfo(path='dbfs:/user/root/retail_db/orders_partitioned_by_date/order_date=20140629/', name='order_date=20140629/', size=0, modificationTime=1698239121000),\n",
       " FileInfo(path='dbfs:/user/root/retail_db/orders_partitioned_by_date/order_date=20140630/', name='order_date=20140630/', size=0, modificationTime=1698239102000),\n",
       " FileInfo(path='dbfs:/user/root/retail_db/orders_partitioned_by_date/order_date=20140701/', name='order_date=20140701/', size=0, modificationTime=1698239093000),\n",
       " FileInfo(path='dbfs:/user/root/retail_db/orders_partitioned_by_date/order_date=20140702/', name='order_date=20140702/', size=0, modificationTime=1698239112000),\n",
       " FileInfo(path='dbfs:/user/root/retail_db/orders_partitioned_by_date/order_date=20140703/', name='order_date=20140703/', size=0, modificationTime=1698239102000),\n",
       " FileInfo(path='dbfs:/user/root/retail_db/orders_partitioned_by_date/order_date=20140704/', name='order_date=20140704/', size=0, modificationTime=1698239084000),\n",
       " FileInfo(path='dbfs:/user/root/retail_db/orders_partitioned_by_date/order_date=20140705/', name='order_date=20140705/', size=0, modificationTime=1698239093000),\n",
       " FileInfo(path='dbfs:/user/root/retail_db/orders_partitioned_by_date/order_date=20140706/', name='order_date=20140706/', size=0, modificationTime=1698239084000),\n",
       " FileInfo(path='dbfs:/user/root/retail_db/orders_partitioned_by_date/order_date=20140707/', name='order_date=20140707/', size=0, modificationTime=1698239085000),\n",
       " FileInfo(path='dbfs:/user/root/retail_db/orders_partitioned_by_date/order_date=20140708/', name='order_date=20140708/', size=0, modificationTime=1698239132000),\n",
       " FileInfo(path='dbfs:/user/root/retail_db/orders_partitioned_by_date/order_date=20140709/', name='order_date=20140709/', size=0, modificationTime=1698239141000),\n",
       " FileInfo(path='dbfs:/user/root/retail_db/orders_partitioned_by_date/order_date=20140710/', name='order_date=20140710/', size=0, modificationTime=1698239103000),\n",
       " FileInfo(path='dbfs:/user/root/retail_db/orders_partitioned_by_date/order_date=20140711/', name='order_date=20140711/', size=0, modificationTime=1698239141000),\n",
       " FileInfo(path='dbfs:/user/root/retail_db/orders_partitioned_by_date/order_date=20140712/', name='order_date=20140712/', size=0, modificationTime=1698239112000),\n",
       " FileInfo(path='dbfs:/user/root/retail_db/orders_partitioned_by_date/order_date=20140713/', name='order_date=20140713/', size=0, modificationTime=1698239094000),\n",
       " FileInfo(path='dbfs:/user/root/retail_db/orders_partitioned_by_date/order_date=20140714/', name='order_date=20140714/', size=0, modificationTime=1698239076000),\n",
       " FileInfo(path='dbfs:/user/root/retail_db/orders_partitioned_by_date/order_date=20140715/', name='order_date=20140715/', size=0, modificationTime=1698239122000),\n",
       " FileInfo(path='dbfs:/user/root/retail_db/orders_partitioned_by_date/order_date=20140716/', name='order_date=20140716/', size=0, modificationTime=1698239141000),\n",
       " FileInfo(path='dbfs:/user/root/retail_db/orders_partitioned_by_date/order_date=20140717/', name='order_date=20140717/', size=0, modificationTime=1698239094000),\n",
       " FileInfo(path='dbfs:/user/root/retail_db/orders_partitioned_by_date/order_date=20140718/', name='order_date=20140718/', size=0, modificationTime=1698239085000),\n",
       " FileInfo(path='dbfs:/user/root/retail_db/orders_partitioned_by_date/order_date=20140719/', name='order_date=20140719/', size=0, modificationTime=1698239132000),\n",
       " FileInfo(path='dbfs:/user/root/retail_db/orders_partitioned_by_date/order_date=20140720/', name='order_date=20140720/', size=0, modificationTime=1698239141000),\n",
       " FileInfo(path='dbfs:/user/root/retail_db/orders_partitioned_by_date/order_date=20140721/', name='order_date=20140721/', size=0, modificationTime=1698239113000),\n",
       " FileInfo(path='dbfs:/user/root/retail_db/orders_partitioned_by_date/order_date=20140722/', name='order_date=20140722/', size=0, modificationTime=1698239094000),\n",
       " FileInfo(path='dbfs:/user/root/retail_db/orders_partitioned_by_date/order_date=20140723/', name='order_date=20140723/', size=0, modificationTime=1698239113000),\n",
       " FileInfo(path='dbfs:/user/root/retail_db/orders_partitioned_by_date/order_date=20140724/', name='order_date=20140724/', size=0, modificationTime=1698239085000)]"
      ]
     },
     "execution_count": 11,
     "metadata": {},
     "output_type": "execute_result"
    }
   ],
   "source": [
    "dbutils.fs.ls(f'/user/{username}/retail_db/orders_partitioned_by_date')"
   ]
  },
  {
   "cell_type": "code",
   "execution_count": 0,
   "metadata": {
    "application/vnd.databricks.v1+cell": {
     "cellMetadata": {
      "byteLimit": 2048000,
      "rowLimit": 10000
     },
     "inputWidgets": {},
     "nuid": "e2b996b4-ff87-49ca-90ab-c319c78c7471",
     "showTitle": false,
     "title": ""
    }
   },
   "outputs": [
    {
     "output_type": "execute_result",
     "data": {
      "text/plain": [
       "68883"
      ]
     },
     "execution_count": 12,
     "metadata": {},
     "output_type": "execute_result"
    }
   ],
   "source": [
    "orders.count()"
   ]
  },
  {
   "cell_type": "code",
   "execution_count": 0,
   "metadata": {
    "application/vnd.databricks.v1+cell": {
     "cellMetadata": {
      "byteLimit": 2048000,
      "rowLimit": 10000
     },
     "inputWidgets": {},
     "nuid": "d31f1a6b-715d-425d-bbf9-f682c40b51df",
     "showTitle": false,
     "title": ""
    }
   },
   "outputs": [
    {
     "output_type": "execute_result",
     "data": {
      "text/plain": [
       "[('order_customer_id', 'bigint'),\n",
       " ('order_id', 'bigint'),\n",
       " ('order_status', 'string'),\n",
       " ('order_date', 'int')]"
      ]
     },
     "execution_count": 13,
     "metadata": {},
     "output_type": "execute_result"
    }
   ],
   "source": [
    "spark.read.parquet(f'/user/{username}/retail_db/orders_partitioned_by_date').dtypes"
   ]
  },
  {
   "cell_type": "code",
   "execution_count": 0,
   "metadata": {
    "application/vnd.databricks.v1+cell": {
     "cellMetadata": {
      "byteLimit": 2048000,
      "rowLimit": 10000
     },
     "inputWidgets": {},
     "nuid": "b1873235-480f-4499-81e1-8f1e94d07f59",
     "showTitle": false,
     "title": ""
    }
   },
   "outputs": [
    {
     "output_type": "execute_result",
     "data": {
      "text/plain": [
       "68883"
      ]
     },
     "execution_count": 14,
     "metadata": {},
     "output_type": "execute_result"
    }
   ],
   "source": [
    "spark.read.parquet(f'/user/{username}/retail_db/orders_partitioned_by_date').count()"
   ]
  },
  {
   "cell_type": "markdown",
   "metadata": {
    "application/vnd.databricks.v1+cell": {
     "cellMetadata": {},
     "inputWidgets": {},
     "nuid": "7817d0ab-fc48-4714-b0fc-4930612c63ff",
     "showTitle": false,
     "title": ""
    }
   },
   "source": [
    "- Partition data by month"
   ]
  },
  {
   "cell_type": "code",
   "execution_count": 0,
   "metadata": {
    "application/vnd.databricks.v1+cell": {
     "cellMetadata": {
      "byteLimit": 2048000,
      "rowLimit": 10000
     },
     "inputWidgets": {},
     "nuid": "24bcb323-5faa-49cb-b9c6-d0654096fef2",
     "showTitle": false,
     "title": ""
    }
   },
   "outputs": [
    {
     "output_type": "stream",
     "name": "stdout",
     "output_type": "stream",
     "text": [
      "+-----------------+--------------------+--------+---------------+-----------+\n|order_customer_id|          order_date|order_id|   order_status|order_month|\n+-----------------+--------------------+--------+---------------+-----------+\n|            11599|2013-07-25 00:00:...|       1|         CLOSED|     201307|\n|              256|2013-07-25 00:00:...|       2|PENDING_PAYMENT|     201307|\n|            12111|2013-07-25 00:00:...|       3|       COMPLETE|     201307|\n|             8827|2013-07-25 00:00:...|       4|         CLOSED|     201307|\n|            11318|2013-07-25 00:00:...|       5|       COMPLETE|     201307|\n|             7130|2013-07-25 00:00:...|       6|       COMPLETE|     201307|\n|             4530|2013-07-25 00:00:...|       7|       COMPLETE|     201307|\n|             2911|2013-07-25 00:00:...|       8|     PROCESSING|     201307|\n|             5657|2013-07-25 00:00:...|       9|PENDING_PAYMENT|     201307|\n|             5648|2013-07-25 00:00:...|      10|PENDING_PAYMENT|     201307|\n|              918|2013-07-25 00:00:...|      11| PAYMENT_REVIEW|     201307|\n|             1837|2013-07-25 00:00:...|      12|         CLOSED|     201307|\n|             9149|2013-07-25 00:00:...|      13|PENDING_PAYMENT|     201307|\n|             9842|2013-07-25 00:00:...|      14|     PROCESSING|     201307|\n|             2568|2013-07-25 00:00:...|      15|       COMPLETE|     201307|\n|             7276|2013-07-25 00:00:...|      16|PENDING_PAYMENT|     201307|\n|             2667|2013-07-25 00:00:...|      17|       COMPLETE|     201307|\n|             1205|2013-07-25 00:00:...|      18|         CLOSED|     201307|\n|             9488|2013-07-25 00:00:...|      19|PENDING_PAYMENT|     201307|\n|             9198|2013-07-25 00:00:...|      20|     PROCESSING|     201307|\n+-----------------+--------------------+--------+---------------+-----------+\nonly showing top 20 rows\n\n"
     ]
    }
   ],
   "source": [
    "orders.\\\n",
    "    withColumn('order_month', date_format('order_date', 'yyyyMM')).\\\n",
    "    show()"
   ]
  },
  {
   "cell_type": "code",
   "execution_count": 0,
   "metadata": {
    "application/vnd.databricks.v1+cell": {
     "cellMetadata": {
      "byteLimit": 2048000,
      "rowLimit": 10000
     },
     "inputWidgets": {},
     "nuid": "1f863b1d-4d8d-446f-96b9-5e0c52dc4c17",
     "showTitle": false,
     "title": ""
    }
   },
   "outputs": [
    {
     "output_type": "execute_result",
     "data": {
      "text/plain": [
       "False"
      ]
     },
     "execution_count": 16,
     "metadata": {},
     "output_type": "execute_result"
    }
   ],
   "source": [
    "dbutils.fs.rm(f'/user/{username}/retail_db/orders_partitioned_by_month', recurse=True)"
   ]
  },
  {
   "cell_type": "code",
   "execution_count": 0,
   "metadata": {
    "application/vnd.databricks.v1+cell": {
     "cellMetadata": {
      "byteLimit": 2048000,
      "rowLimit": 10000
     },
     "inputWidgets": {},
     "nuid": "704d7942-e459-41e3-953c-a02f48b4765e",
     "showTitle": false,
     "title": ""
    }
   },
   "outputs": [],
   "source": [
    "orders.\\\n",
    "    withColumn('order_month', date_format('order_date','yyyyMM')).\\\n",
    "    coalesce(1).\\\n",
    "    write.\\\n",
    "    partitionBy('order_month').\\\n",
    "    parquet(f'/user/{username}/retail_db/orders_partitioned_by_month')"
   ]
  },
  {
   "cell_type": "code",
   "execution_count": 0,
   "metadata": {
    "application/vnd.databricks.v1+cell": {
     "cellMetadata": {
      "byteLimit": 2048000,
      "rowLimit": 10000
     },
     "inputWidgets": {},
     "nuid": "1fa28e46-1d06-4501-8592-f5d078fa5b3b",
     "showTitle": false,
     "title": ""
    }
   },
   "outputs": [
    {
     "output_type": "execute_result",
     "data": {
      "text/plain": [
       "[FileInfo(path='dbfs:/user/root/retail_db/orders_partitioned_by_month/_SUCCESS', name='_SUCCESS', size=0, modificationTime=1698239850000),\n",
       " FileInfo(path='dbfs:/user/root/retail_db/orders_partitioned_by_month/order_month=201307/', name='order_month=201307/', size=0, modificationTime=1698239848000),\n",
       " FileInfo(path='dbfs:/user/root/retail_db/orders_partitioned_by_month/order_month=201308/', name='order_month=201308/', size=0, modificationTime=1698239848000),\n",
       " FileInfo(path='dbfs:/user/root/retail_db/orders_partitioned_by_month/order_month=201309/', name='order_month=201309/', size=0, modificationTime=1698239849000),\n",
       " FileInfo(path='dbfs:/user/root/retail_db/orders_partitioned_by_month/order_month=201310/', name='order_month=201310/', size=0, modificationTime=1698239847000),\n",
       " FileInfo(path='dbfs:/user/root/retail_db/orders_partitioned_by_month/order_month=201311/', name='order_month=201311/', size=0, modificationTime=1698239848000),\n",
       " FileInfo(path='dbfs:/user/root/retail_db/orders_partitioned_by_month/order_month=201312/', name='order_month=201312/', size=0, modificationTime=1698239848000),\n",
       " FileInfo(path='dbfs:/user/root/retail_db/orders_partitioned_by_month/order_month=201401/', name='order_month=201401/', size=0, modificationTime=1698239848000),\n",
       " FileInfo(path='dbfs:/user/root/retail_db/orders_partitioned_by_month/order_month=201402/', name='order_month=201402/', size=0, modificationTime=1698239850000),\n",
       " FileInfo(path='dbfs:/user/root/retail_db/orders_partitioned_by_month/order_month=201403/', name='order_month=201403/', size=0, modificationTime=1698239849000),\n",
       " FileInfo(path='dbfs:/user/root/retail_db/orders_partitioned_by_month/order_month=201404/', name='order_month=201404/', size=0, modificationTime=1698239849000),\n",
       " FileInfo(path='dbfs:/user/root/retail_db/orders_partitioned_by_month/order_month=201405/', name='order_month=201405/', size=0, modificationTime=1698239848000),\n",
       " FileInfo(path='dbfs:/user/root/retail_db/orders_partitioned_by_month/order_month=201406/', name='order_month=201406/', size=0, modificationTime=1698239849000),\n",
       " FileInfo(path='dbfs:/user/root/retail_db/orders_partitioned_by_month/order_month=201407/', name='order_month=201407/', size=0, modificationTime=1698239849000)]"
      ]
     },
     "execution_count": 18,
     "metadata": {},
     "output_type": "execute_result"
    }
   ],
   "source": [
    "dbutils.fs.ls(f'/user/{username}/retail_db/orders_partitioned_by_month')"
   ]
  },
  {
   "cell_type": "code",
   "execution_count": 0,
   "metadata": {
    "application/vnd.databricks.v1+cell": {
     "cellMetadata": {
      "byteLimit": 2048000,
      "rowLimit": 10000
     },
     "inputWidgets": {},
     "nuid": "3b9d5f30-5ff8-4949-95f8-1207b86fac68",
     "showTitle": false,
     "title": ""
    }
   },
   "outputs": [
    {
     "output_type": "execute_result",
     "data": {
      "text/plain": [
       "True"
      ]
     },
     "execution_count": 19,
     "metadata": {},
     "output_type": "execute_result"
    }
   ],
   "source": [
    "dbutils.fs.rm(f'/user/{username}/retail_db/orders_partitioned_by_month', recurse=True)"
   ]
  },
  {
   "cell_type": "code",
   "execution_count": 0,
   "metadata": {
    "application/vnd.databricks.v1+cell": {
     "cellMetadata": {
      "byteLimit": 2048000,
      "rowLimit": 10000
     },
     "inputWidgets": {},
     "nuid": "1a61c7ba-6a55-425d-a2e0-fddd22730171",
     "showTitle": false,
     "title": ""
    }
   },
   "outputs": [],
   "source": [
    "orders.\\\n",
    "    withColumn('order_month', date_format('order_date','yyyyMM')).\\\n",
    "    coalesce(1).\\\n",
    "    write.\\\n",
    "    parquet(f'/user/{username}/retail_db/orders_partitioned_by_month', partitionBy = 'order_month')"
   ]
  },
  {
   "cell_type": "code",
   "execution_count": 0,
   "metadata": {
    "application/vnd.databricks.v1+cell": {
     "cellMetadata": {
      "byteLimit": 2048000,
      "rowLimit": 10000
     },
     "inputWidgets": {},
     "nuid": "780b217c-dc95-4f8a-8aae-d0d9417a6210",
     "showTitle": false,
     "title": ""
    }
   },
   "outputs": [
    {
     "output_type": "execute_result",
     "data": {
      "text/plain": [
       "[FileInfo(path='dbfs:/user/root/retail_db/orders_partitioned_by_month/_SUCCESS', name='_SUCCESS', size=0, modificationTime=1698239978000),\n",
       " FileInfo(path='dbfs:/user/root/retail_db/orders_partitioned_by_month/order_month=201307/', name='order_month=201307/', size=0, modificationTime=1698239976000),\n",
       " FileInfo(path='dbfs:/user/root/retail_db/orders_partitioned_by_month/order_month=201308/', name='order_month=201308/', size=0, modificationTime=1698239976000),\n",
       " FileInfo(path='dbfs:/user/root/retail_db/orders_partitioned_by_month/order_month=201309/', name='order_month=201309/', size=0, modificationTime=1698239977000),\n",
       " FileInfo(path='dbfs:/user/root/retail_db/orders_partitioned_by_month/order_month=201310/', name='order_month=201310/', size=0, modificationTime=1698239976000),\n",
       " FileInfo(path='dbfs:/user/root/retail_db/orders_partitioned_by_month/order_month=201311/', name='order_month=201311/', size=0, modificationTime=1698239976000),\n",
       " FileInfo(path='dbfs:/user/root/retail_db/orders_partitioned_by_month/order_month=201312/', name='order_month=201312/', size=0, modificationTime=1698239976000),\n",
       " FileInfo(path='dbfs:/user/root/retail_db/orders_partitioned_by_month/order_month=201401/', name='order_month=201401/', size=0, modificationTime=1698239977000),\n",
       " FileInfo(path='dbfs:/user/root/retail_db/orders_partitioned_by_month/order_month=201402/', name='order_month=201402/', size=0, modificationTime=1698239978000),\n",
       " FileInfo(path='dbfs:/user/root/retail_db/orders_partitioned_by_month/order_month=201403/', name='order_month=201403/', size=0, modificationTime=1698239977000),\n",
       " FileInfo(path='dbfs:/user/root/retail_db/orders_partitioned_by_month/order_month=201404/', name='order_month=201404/', size=0, modificationTime=1698239977000),\n",
       " FileInfo(path='dbfs:/user/root/retail_db/orders_partitioned_by_month/order_month=201405/', name='order_month=201405/', size=0, modificationTime=1698239976000),\n",
       " FileInfo(path='dbfs:/user/root/retail_db/orders_partitioned_by_month/order_month=201406/', name='order_month=201406/', size=0, modificationTime=1698239977000),\n",
       " FileInfo(path='dbfs:/user/root/retail_db/orders_partitioned_by_month/order_month=201407/', name='order_month=201407/', size=0, modificationTime=1698239977000)]"
      ]
     },
     "execution_count": 21,
     "metadata": {},
     "output_type": "execute_result"
    }
   ],
   "source": [
    "dbutils.fs.ls(f'/user/{username}/retail_db/orders_partitioned_by_month')"
   ]
  },
  {
   "cell_type": "code",
   "execution_count": 0,
   "metadata": {
    "application/vnd.databricks.v1+cell": {
     "cellMetadata": {},
     "inputWidgets": {},
     "nuid": "00287001-50eb-4ac2-9453-c638e00a4ef2",
     "showTitle": false,
     "title": ""
    }
   },
   "outputs": [],
   "source": []
  }
 ],
 "metadata": {
  "application/vnd.databricks.v1+notebook": {
   "dashboards": [],
   "language": "python",
   "notebookMetadata": {
    "pythonIndentUnit": 4
   },
   "notebookName": "03 - Partition Spark Data Frame By Single Column",
   "widgets": {}
  }
 },
 "nbformat": 4,
 "nbformat_minor": 0
}
