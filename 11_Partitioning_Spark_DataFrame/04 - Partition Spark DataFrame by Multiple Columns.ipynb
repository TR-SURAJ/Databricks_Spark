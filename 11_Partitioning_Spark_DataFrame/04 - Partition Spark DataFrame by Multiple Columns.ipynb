{
 "cells": [
  {
   "cell_type": "code",
   "execution_count": 0,
   "metadata": {
    "application/vnd.databricks.v1+cell": {
     "cellMetadata": {
      "byteLimit": 2048000,
      "rowLimit": 10000
     },
     "inputWidgets": {},
     "nuid": "edd0576b-f0bd-48c2-afe5-36814b73b489",
     "showTitle": false,
     "title": ""
    }
   },
   "outputs": [],
   "source": [
    "orders = spark.read.json('/public/retail_db_json/orders')"
   ]
  },
  {
   "cell_type": "code",
   "execution_count": 0,
   "metadata": {
    "application/vnd.databricks.v1+cell": {
     "cellMetadata": {
      "byteLimit": 2048000,
      "rowLimit": 10000
     },
     "inputWidgets": {},
     "nuid": "ddeef946-4596-4301-9be8-8540351a4f6c",
     "showTitle": false,
     "title": ""
    }
   },
   "outputs": [],
   "source": [
    "import getpass\n",
    "username = getpass.getuser()"
   ]
  },
  {
   "cell_type": "markdown",
   "metadata": {
    "application/vnd.databricks.v1+cell": {
     "cellMetadata": {},
     "inputWidgets": {},
     "nuid": "b156e814-da13-4a2f-b1b8-dc482399e6ea",
     "showTitle": false,
     "title": ""
    }
   },
   "source": [
    "- Partition data by year, month and then day_of_month"
   ]
  },
  {
   "cell_type": "code",
   "execution_count": 0,
   "metadata": {
    "application/vnd.databricks.v1+cell": {
     "cellMetadata": {
      "byteLimit": 2048000,
      "rowLimit": 10000
     },
     "inputWidgets": {},
     "nuid": "1a15cb25-ac38-4ca0-8574-842ba2b4ce11",
     "showTitle": false,
     "title": ""
    }
   },
   "outputs": [],
   "source": [
    "from pyspark.sql.functions import *"
   ]
  },
  {
   "cell_type": "code",
   "execution_count": 0,
   "metadata": {
    "application/vnd.databricks.v1+cell": {
     "cellMetadata": {
      "byteLimit": 2048000,
      "rowLimit": 10000
     },
     "inputWidgets": {},
     "nuid": "ed5b16c8-3b4a-44e6-ad08-27ec66403f9a",
     "showTitle": false,
     "title": ""
    }
   },
   "outputs": [
    {
     "output_type": "stream",
     "name": "stdout",
     "output_type": "stream",
     "text": [
      "+-----------------+--------------------+--------+---------------+----+-----+------------+\n|order_customer_id|          order_date|order_id|   order_status|year|month|day_of_month|\n+-----------------+--------------------+--------+---------------+----+-----+------------+\n|            11599|2013-07-25 00:00:...|       1|         CLOSED|2013|   07|          25|\n|              256|2013-07-25 00:00:...|       2|PENDING_PAYMENT|2013|   07|          25|\n|            12111|2013-07-25 00:00:...|       3|       COMPLETE|2013|   07|          25|\n|             8827|2013-07-25 00:00:...|       4|         CLOSED|2013|   07|          25|\n|            11318|2013-07-25 00:00:...|       5|       COMPLETE|2013|   07|          25|\n|             7130|2013-07-25 00:00:...|       6|       COMPLETE|2013|   07|          25|\n|             4530|2013-07-25 00:00:...|       7|       COMPLETE|2013|   07|          25|\n|             2911|2013-07-25 00:00:...|       8|     PROCESSING|2013|   07|          25|\n|             5657|2013-07-25 00:00:...|       9|PENDING_PAYMENT|2013|   07|          25|\n|             5648|2013-07-25 00:00:...|      10|PENDING_PAYMENT|2013|   07|          25|\n|              918|2013-07-25 00:00:...|      11| PAYMENT_REVIEW|2013|   07|          25|\n|             1837|2013-07-25 00:00:...|      12|         CLOSED|2013|   07|          25|\n|             9149|2013-07-25 00:00:...|      13|PENDING_PAYMENT|2013|   07|          25|\n|             9842|2013-07-25 00:00:...|      14|     PROCESSING|2013|   07|          25|\n|             2568|2013-07-25 00:00:...|      15|       COMPLETE|2013|   07|          25|\n|             7276|2013-07-25 00:00:...|      16|PENDING_PAYMENT|2013|   07|          25|\n|             2667|2013-07-25 00:00:...|      17|       COMPLETE|2013|   07|          25|\n|             1205|2013-07-25 00:00:...|      18|         CLOSED|2013|   07|          25|\n|             9488|2013-07-25 00:00:...|      19|PENDING_PAYMENT|2013|   07|          25|\n|             9198|2013-07-25 00:00:...|      20|     PROCESSING|2013|   07|          25|\n+-----------------+--------------------+--------+---------------+----+-----+------------+\nonly showing top 20 rows\n\n"
     ]
    }
   ],
   "source": [
    "orders.\\\n",
    "    withColumn('year', date_format('order_date', 'yyyy')).\\\n",
    "    withColumn('month', date_format('order_date','MM')).\\\n",
    "    withColumn('day_of_month', date_format('order_date','dd')).\\\n",
    "    show()"
   ]
  },
  {
   "cell_type": "code",
   "execution_count": 0,
   "metadata": {
    "application/vnd.databricks.v1+cell": {
     "cellMetadata": {
      "byteLimit": 2048000,
      "rowLimit": 10000
     },
     "inputWidgets": {},
     "nuid": "79a41890-9da8-48ae-b602-186571b60333",
     "showTitle": false,
     "title": ""
    }
   },
   "outputs": [
    {
     "output_type": "execute_result",
     "data": {
      "text/plain": [
       "False"
      ]
     },
     "execution_count": 6,
     "metadata": {},
     "output_type": "execute_result"
    }
   ],
   "source": [
    "dbutils.fs.rm(f'/user/{username}/retail_db/orders_partitioned', recurse=True)"
   ]
  },
  {
   "cell_type": "code",
   "execution_count": 0,
   "metadata": {
    "application/vnd.databricks.v1+cell": {
     "cellMetadata": {
      "byteLimit": 2048000,
      "rowLimit": 10000
     },
     "inputWidgets": {},
     "nuid": "cd5355ff-3707-4b32-988d-3ac1790510da",
     "showTitle": false,
     "title": ""
    }
   },
   "outputs": [],
   "source": [
    "orders.\\\n",
    "    withColumn('year', date_format('order_date', 'yyyy')).\\\n",
    "    withColumn('month', date_format('order_date','MM')).\\\n",
    "    withColumn('day_of_month', date_format('order_date','dd')).\\\n",
    "    coalesce(1).\\\n",
    "    write.\\\n",
    "    partitionBy('year','month','day_of_month').\\\n",
    "    parquet(f'/user/{username}/retail_db/orders_partitioned')"
   ]
  },
  {
   "cell_type": "code",
   "execution_count": 0,
   "metadata": {
    "application/vnd.databricks.v1+cell": {
     "cellMetadata": {
      "byteLimit": 2048000,
      "rowLimit": 10000
     },
     "inputWidgets": {},
     "nuid": "3fd091dd-4331-4291-9ed1-795f02eea8da",
     "showTitle": false,
     "title": ""
    }
   },
   "outputs": [
    {
     "output_type": "execute_result",
     "data": {
      "text/plain": [
       "[FileInfo(path='dbfs:/user/root/retail_db/orders_partitioned/_SUCCESS', name='_SUCCESS', size=0, modificationTime=1698240639000),\n",
       " FileInfo(path='dbfs:/user/root/retail_db/orders_partitioned/year=2013/', name='year=2013/', size=0, modificationTime=1698240570000),\n",
       " FileInfo(path='dbfs:/user/root/retail_db/orders_partitioned/year=2014/', name='year=2014/', size=0, modificationTime=1698240574000)]"
      ]
     },
     "execution_count": 8,
     "metadata": {},
     "output_type": "execute_result"
    }
   ],
   "source": [
    "dbutils.fs.ls(f'/user/{username}/retail_db/orders_partitioned')"
   ]
  },
  {
   "cell_type": "code",
   "execution_count": 0,
   "metadata": {
    "application/vnd.databricks.v1+cell": {
     "cellMetadata": {
      "byteLimit": 2048000,
      "rowLimit": 10000
     },
     "inputWidgets": {},
     "nuid": "eb8fc9fb-6140-46e4-9340-a92a9fc6d02d",
     "showTitle": false,
     "title": ""
    }
   },
   "outputs": [
    {
     "output_type": "execute_result",
     "data": {
      "text/plain": [
       "[FileInfo(path='dbfs:/user/root/retail_db/orders_partitioned/year=2013/month=07/', name='month=07/', size=0, modificationTime=1698240570000),\n",
       " FileInfo(path='dbfs:/user/root/retail_db/orders_partitioned/year=2013/month=08/', name='month=08/', size=0, modificationTime=1698240570000),\n",
       " FileInfo(path='dbfs:/user/root/retail_db/orders_partitioned/year=2013/month=09/', name='month=09/', size=0, modificationTime=1698240571000),\n",
       " FileInfo(path='dbfs:/user/root/retail_db/orders_partitioned/year=2013/month=10/', name='month=10/', size=0, modificationTime=1698240572000),\n",
       " FileInfo(path='dbfs:/user/root/retail_db/orders_partitioned/year=2013/month=11/', name='month=11/', size=0, modificationTime=1698240573000),\n",
       " FileInfo(path='dbfs:/user/root/retail_db/orders_partitioned/year=2013/month=12/', name='month=12/', size=0, modificationTime=1698240574000)]"
      ]
     },
     "execution_count": 10,
     "metadata": {},
     "output_type": "execute_result"
    }
   ],
   "source": [
    "dbutils.fs.ls(f'/user/{username}/retail_db/orders_partitioned/year=2013')"
   ]
  },
  {
   "cell_type": "code",
   "execution_count": 0,
   "metadata": {
    "application/vnd.databricks.v1+cell": {
     "cellMetadata": {
      "byteLimit": 2048000,
      "rowLimit": 10000
     },
     "inputWidgets": {},
     "nuid": "eb5ca870-8ea9-4950-a23c-93cd060fd4c1",
     "showTitle": false,
     "title": ""
    }
   },
   "outputs": [
    {
     "output_type": "execute_result",
     "data": {
      "text/plain": [
       "[FileInfo(path='dbfs:/user/root/retail_db/orders_partitioned/year=2014/month=01/day_of_month=09/_SUCCESS', name='_SUCCESS', size=0, modificationTime=1698240638000),\n",
       " FileInfo(path='dbfs:/user/root/retail_db/orders_partitioned/year=2014/month=01/day_of_month=09/_committed_165562728816696533', name='_committed_165562728816696533', size=125, modificationTime=1698240637000),\n",
       " FileInfo(path='dbfs:/user/root/retail_db/orders_partitioned/year=2014/month=01/day_of_month=09/_started_165562728816696533', name='_started_165562728816696533', size=0, modificationTime=1698240598000),\n",
       " FileInfo(path='dbfs:/user/root/retail_db/orders_partitioned/year=2014/month=01/day_of_month=09/part-00000-tid-165562728816696533-92724667-03ad-4c11-ae61-4a4e045f0519-431-163.c000.snappy.parquet', name='part-00000-tid-165562728816696533-92724667-03ad-4c11-ae61-4a4e045f0519-431-163.c000.snappy.parquet', size=3333, modificationTime=1698240598000)]"
      ]
     },
     "execution_count": 12,
     "metadata": {},
     "output_type": "execute_result"
    }
   ],
   "source": [
    "dbutils.fs.ls(f'/user/{username}/retail_db/orders_partitioned/year=2014/month=01/day_of_month=09')"
   ]
  },
  {
   "cell_type": "code",
   "execution_count": 0,
   "metadata": {
    "application/vnd.databricks.v1+cell": {
     "cellMetadata": {
      "byteLimit": 2048000,
      "rowLimit": 10000
     },
     "inputWidgets": {},
     "nuid": "9c49eea0-5ce1-4fa2-88ff-fa11542a69b1",
     "showTitle": false,
     "title": ""
    }
   },
   "outputs": [
    {
     "output_type": "execute_result",
     "data": {
      "text/plain": [
       "68883"
      ]
     },
     "execution_count": 14,
     "metadata": {},
     "output_type": "execute_result"
    }
   ],
   "source": [
    "spark.read.parquet(f'/user/{username}/retail_db/orders_partitioned').count()"
   ]
  },
  {
   "cell_type": "code",
   "execution_count": 0,
   "metadata": {
    "application/vnd.databricks.v1+cell": {
     "cellMetadata": {},
     "inputWidgets": {},
     "nuid": "3c3fad61-772e-4a71-8e81-dfd037c6e440",
     "showTitle": false,
     "title": ""
    }
   },
   "outputs": [],
   "source": []
  }
 ],
 "metadata": {
  "application/vnd.databricks.v1+notebook": {
   "dashboards": [],
   "language": "python",
   "notebookMetadata": {
    "pythonIndentUnit": 4
   },
   "notebookName": "04 - Partition Spark DataFrame by Multiple Columns",
   "widgets": {}
  }
 },
 "nbformat": 4,
 "nbformat_minor": 0
}
