{
 "cells": [
  {
   "cell_type": "code",
   "execution_count": 0,
   "metadata": {
    "application/vnd.databricks.v1+cell": {
     "cellMetadata": {
      "byteLimit": 2048000,
      "rowLimit": 10000
     },
     "inputWidgets": {},
     "nuid": "b148ae7e-d226-4ad0-97d6-fba93c15017e",
     "showTitle": false,
     "title": ""
    }
   },
   "outputs": [
    {
     "output_type": "stream",
     "name": "stdout",
     "output_type": "stream",
     "text": [
      "+-----------+-------+-------------+--------------------+----------+---+-----------+------------+-------------------+--------------------------------+\n|amount_paid|courses|customer_from|email               |first_name|id |is_customer|last_name   |last_updated_ts    |phone_numbers                   |\n+-----------+-------+-------------+--------------------+----------+---+-----------+------------+-------------------+--------------------------------+\n|1000.55    |[1, 2] |2021-01-15   |cvandenoor@etsy.com |Corrie    |1  |true       |Van den Oord|2021-02-10 01:15:00|{+91 8645879087, +91 9878673289}|\n|900.0      |[3]    |2022-05-15   |john@cena.com       |John      |2  |true       |Cena        |2024-03-15 01:16:00|{+91 9886879087, +91 9134673289}|\n|750.6      |[2, 3] |2023-01-12   |james@bond.com      |James     |3  |false      |Bond        |2018-05-05 05:17:02|{+91 3245879087, +91 9854673289}|\n|NULL       |[]     |NULL         |robert@dowrey.com   |Robert    |4  |false      |Dowrey      |2019-04-03 08:14:08|NULL                            |\n|NULL       |[]     |NULL         |chris@hemmsworth.com|Chris     |5  |false      |Hemmsworth  |2019-04-03 08:14:08|{+91 9085879087, }              |\n+-----------+-------+-------------+--------------------+----------+---+-----------+------------+-------------------+--------------------------------+\n\n"
     ]
    }
   ],
   "source": [
    "%run \"/Users/surajthallapalli@outlook.com/05 Dropping Columns from Spark Data Frames/02 - Creating Spark Data Frame for Dropping Columns\""
   ]
  },
  {
   "cell_type": "code",
   "execution_count": 0,
   "metadata": {
    "application/vnd.databricks.v1+cell": {
     "cellMetadata": {
      "byteLimit": 2048000,
      "rowLimit": 10000
     },
     "inputWidgets": {},
     "nuid": "0072bdfd-8236-4faa-85b9-53727ff99ecb",
     "showTitle": false,
     "title": ""
    }
   },
   "outputs": [
    {
     "output_type": "stream",
     "name": "stdout",
     "output_type": "stream",
     "text": [
      "root\n |-- amount_paid: double (nullable = true)\n |-- courses: array (nullable = true)\n |    |-- element: long (containsNull = true)\n |-- customer_from: date (nullable = true)\n |-- email: string (nullable = true)\n |-- first_name: string (nullable = true)\n |-- id: long (nullable = true)\n |-- is_customer: boolean (nullable = true)\n |-- last_name: string (nullable = true)\n |-- last_updated_ts: timestamp (nullable = true)\n |-- phone_numbers: struct (nullable = true)\n |    |-- mobile: string (nullable = true)\n |    |-- home: string (nullable = true)\n\n"
     ]
    }
   ],
   "source": [
    "userdf.printSchema()"
   ]
  },
  {
   "cell_type": "code",
   "execution_count": 0,
   "metadata": {
    "application/vnd.databricks.v1+cell": {
     "cellMetadata": {
      "byteLimit": 2048000,
      "rowLimit": 10000
     },
     "inputWidgets": {},
     "nuid": "15bd8f04-0f7d-4ea1-8221-7a7d1e266d2d",
     "showTitle": false,
     "title": ""
    }
   },
   "outputs": [
    {
     "output_type": "stream",
     "name": "stdout",
     "output_type": "stream",
     "text": [
      "root\n |-- amount_paid: double (nullable = true)\n |-- courses: array (nullable = true)\n |    |-- element: long (containsNull = true)\n |-- customer_from: date (nullable = true)\n |-- email: string (nullable = true)\n |-- first_name: string (nullable = true)\n |-- id: long (nullable = true)\n |-- is_customer: boolean (nullable = true)\n |-- last_name: string (nullable = true)\n |-- phone_numbers: struct (nullable = true)\n |    |-- mobile: string (nullable = true)\n |    |-- home: string (nullable = true)\n\n"
     ]
    }
   ],
   "source": [
    "userdf.drop('last_updated_ts').printSchema()"
   ]
  },
  {
   "cell_type": "code",
   "execution_count": 0,
   "metadata": {
    "application/vnd.databricks.v1+cell": {
     "cellMetadata": {
      "byteLimit": 2048000,
      "rowLimit": 10000
     },
     "inputWidgets": {},
     "nuid": "ce5874e9-94f8-4128-80a3-9c32cd6f6544",
     "showTitle": false,
     "title": ""
    }
   },
   "outputs": [
    {
     "output_type": "stream",
     "name": "stdout",
     "output_type": "stream",
     "text": [
      "root\n |-- amount_paid: double (nullable = true)\n |-- courses: array (nullable = true)\n |    |-- element: long (containsNull = true)\n |-- customer_from: date (nullable = true)\n |-- email: string (nullable = true)\n |-- first_name: string (nullable = true)\n |-- id: long (nullable = true)\n |-- is_customer: boolean (nullable = true)\n |-- last_name: string (nullable = true)\n |-- phone_numbers: struct (nullable = true)\n |    |-- mobile: string (nullable = true)\n |    |-- home: string (nullable = true)\n\n"
     ]
    }
   ],
   "source": [
    "userdf.drop(userdf['last_updated_ts']).printSchema()"
   ]
  },
  {
   "cell_type": "code",
   "execution_count": 0,
   "metadata": {
    "application/vnd.databricks.v1+cell": {
     "cellMetadata": {
      "byteLimit": 2048000,
      "rowLimit": 10000
     },
     "inputWidgets": {},
     "nuid": "a1d159ff-3d0f-416f-a6de-0fffcdd1da9f",
     "showTitle": false,
     "title": ""
    }
   },
   "outputs": [],
   "source": [
    "from pyspark.sql.functions import *"
   ]
  },
  {
   "cell_type": "code",
   "execution_count": 0,
   "metadata": {
    "application/vnd.databricks.v1+cell": {
     "cellMetadata": {
      "byteLimit": 2048000,
      "rowLimit": 10000
     },
     "inputWidgets": {},
     "nuid": "28c1f9a0-8ab7-419b-a71d-0d0d14e2cfa8",
     "showTitle": false,
     "title": ""
    }
   },
   "outputs": [
    {
     "output_type": "stream",
     "name": "stdout",
     "output_type": "stream",
     "text": [
      "root\n |-- amount_paid: double (nullable = true)\n |-- courses: array (nullable = true)\n |    |-- element: long (containsNull = true)\n |-- customer_from: date (nullable = true)\n |-- email: string (nullable = true)\n |-- first_name: string (nullable = true)\n |-- id: long (nullable = true)\n |-- is_customer: boolean (nullable = true)\n |-- last_name: string (nullable = true)\n |-- phone_numbers: struct (nullable = true)\n |    |-- mobile: string (nullable = true)\n |    |-- home: string (nullable = true)\n\n"
     ]
    }
   ],
   "source": [
    "userdf.drop(col('last_updated_ts')).printSchema()"
   ]
  },
  {
   "cell_type": "code",
   "execution_count": 0,
   "metadata": {
    "application/vnd.databricks.v1+cell": {
     "cellMetadata": {
      "byteLimit": 2048000,
      "rowLimit": 10000
     },
     "inputWidgets": {},
     "nuid": "c7d97458-8237-4205-942b-c59529952f1d",
     "showTitle": false,
     "title": ""
    }
   },
   "outputs": [
    {
     "output_type": "stream",
     "name": "stdout",
     "output_type": "stream",
     "text": [
      "root\n |-- amount_paid: double (nullable = true)\n |-- courses: array (nullable = true)\n |    |-- element: long (containsNull = true)\n |-- customer_from: date (nullable = true)\n |-- email: string (nullable = true)\n |-- first_name: string (nullable = true)\n |-- id: long (nullable = true)\n |-- is_customer: boolean (nullable = true)\n |-- last_name: string (nullable = true)\n |-- last_updated_ts: timestamp (nullable = true)\n |-- phone_numbers: struct (nullable = true)\n |    |-- mobile: string (nullable = true)\n |    |-- home: string (nullable = true)\n\n"
     ]
    }
   ],
   "source": [
    "# If we have column name which does not exist, the column will be ignored\n",
    "userdf.drop(col('abc')).printSchema()"
   ]
  },
  {
   "cell_type": "code",
   "execution_count": 0,
   "metadata": {
    "application/vnd.databricks.v1+cell": {
     "cellMetadata": {},
     "inputWidgets": {},
     "nuid": "69fe4b2e-56bc-4351-8d9a-22ccbc612f3e",
     "showTitle": false,
     "title": ""
    }
   },
   "outputs": [],
   "source": []
  }
 ],
 "metadata": {
  "application/vnd.databricks.v1+notebook": {
   "dashboards": [],
   "language": "python",
   "notebookMetadata": {
    "pythonIndentUnit": 4
   },
   "notebookName": "04 - Dropping a single column from Spark Data Frame",
   "widgets": {}
  }
 },
 "nbformat": 4,
 "nbformat_minor": 0
}
