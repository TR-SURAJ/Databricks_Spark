{
 "cells": [
  {
   "cell_type": "code",
   "execution_count": 0,
   "metadata": {
    "application/vnd.databricks.v1+cell": {
     "cellMetadata": {
      "byteLimit": 2048000,
      "rowLimit": 10000
     },
     "inputWidgets": {},
     "nuid": "9c98ee3e-beb8-4298-9eee-4c0e94a83d14",
     "showTitle": false,
     "title": ""
    }
   },
   "outputs": [],
   "source": [
    "from pyspark.sql import Row\n",
    "from pyspark.sql.functions import *"
   ]
  },
  {
   "cell_type": "code",
   "execution_count": 0,
   "metadata": {
    "application/vnd.databricks.v1+cell": {
     "cellMetadata": {
      "byteLimit": 2048000,
      "rowLimit": 10000
     },
     "inputWidgets": {},
     "nuid": "37d1e5c5-0098-4abc-96a9-e0a53f93740f",
     "showTitle": false,
     "title": ""
    }
   },
   "outputs": [],
   "source": [
    "import datetime\n",
    "\n",
    "users = [\n",
    "    {\n",
    "        \"id\": 1,\n",
    "        \"first_name\": \"Corrie\",\n",
    "        \"last_name\": \"Van den Oord\",        \n",
    "        \"email\": \"cvandenoor@etsy.com\",\n",
    "        \"phone_numbers\": Row(mobile=\"+91 8645879087\", home = \"+91 9878673289\"),\n",
    "        \"courses\": [1,2],\n",
    "        \"is_customer\": True,\n",
    "        \"amount_paid\": 1000.55,\n",
    "        \"customer_from\": datetime.date(2021,1,15),\n",
    "        \"last_updated_ts\": datetime.datetime(2021,2,10,1,15,0)\n",
    "    },\n",
    "    {\n",
    "        \"id\": 2,\n",
    "        \"first_name\": \"John\",\n",
    "        \"last_name\": \"Cena\",        \n",
    "        \"email\": \"john@cena.com\",\n",
    "        \"phone_numbers\": Row(mobile = \"+91 9886879087\", home = \"+91 9134673289\"),\n",
    "        \"courses\": [3],\n",
    "        \"is_customer\": True,\n",
    "        \"amount_paid\": 900.0,\n",
    "        \"customer_from\": datetime.date(2022,5,15),\n",
    "        \"last_updated_ts\": datetime.datetime(2024,3,15,1,16,0)\n",
    "    },\n",
    "    {\n",
    "        \"id\": 3,\n",
    "        \"first_name\": \"James\",\n",
    "        \"last_name\": \"Bond\",        \n",
    "        \"email\": \"james@bond.com\",\n",
    "        \"phone_numbers\": Row(mobile = \"+91 3245879087\", home = \"+91 9854673289\"),\n",
    "        \"courses\": [2,3],\n",
    "        \"is_customer\": False,\n",
    "        \"amount_paid\": 750.60,\n",
    "        \"customer_from\": datetime.date(2023,1,12),\n",
    "        \"last_updated_ts\": datetime.datetime(2018,5,5,5,17,2)\n",
    "    },\n",
    "    {\n",
    "        \"id\": 4,\n",
    "        \"first_name\": \"Robert\",\n",
    "        \"last_name\": \"Dowrey\",        \n",
    "        \"email\": \"robert@dowrey.com\",\n",
    "        \"phone_numbers\": None,\n",
    "        \"courses\": [],\n",
    "        \"is_customer\": False,\n",
    "        \"amount_paid\": None,\n",
    "        \"customer_from\": None,\n",
    "        \"last_updated_ts\": datetime.datetime(2019,4,3,8,14,8)\n",
    "    },\n",
    "    {\n",
    "        \"id\": 5,\n",
    "        \"first_name\": \"Chris\",\n",
    "        \"last_name\": \"Hemmsworth\",        \n",
    "        \"email\": \"chris@hemmsworth.com\",\n",
    "        \"phone_numbers\": Row(mobile = \"+91 9085879087\", home = \"\"),\n",
    "        \"courses\": [],\n",
    "        \"is_customer\": False,\n",
    "        \"amount_paid\": None,\n",
    "        \"customer_from\": None,\n",
    "        \"last_updated_ts\": datetime.datetime(2019,4,3,8,14,8)\n",
    "    },\n",
    "]"
   ]
  },
  {
   "cell_type": "code",
   "execution_count": 0,
   "metadata": {
    "application/vnd.databricks.v1+cell": {
     "cellMetadata": {
      "byteLimit": 2048000,
      "rowLimit": 10000
     },
     "inputWidgets": {},
     "nuid": "bedacd5f-f802-4296-8a1b-106f78f9c6df",
     "showTitle": false,
     "title": ""
    }
   },
   "outputs": [],
   "source": [
    "import pandas as pd\n",
    "spark.conf.set('spark.sql.execution.arrow.pyspark.enabled', False)"
   ]
  },
  {
   "cell_type": "code",
   "execution_count": 0,
   "metadata": {
    "application/vnd.databricks.v1+cell": {
     "cellMetadata": {
      "byteLimit": 2048000,
      "rowLimit": 10000
     },
     "inputWidgets": {},
     "nuid": "8fee5ed2-b5fe-48df-bfe1-1571b814f47b",
     "showTitle": false,
     "title": ""
    }
   },
   "outputs": [],
   "source": [
    "userdf = spark.createDataFrame(users)"
   ]
  },
  {
   "cell_type": "code",
   "execution_count": 0,
   "metadata": {
    "application/vnd.databricks.v1+cell": {
     "cellMetadata": {
      "byteLimit": 2048000,
      "rowLimit": 10000
     },
     "inputWidgets": {},
     "nuid": "3e00b49d-5259-48bb-8d40-43c833cfc964",
     "showTitle": false,
     "title": ""
    }
   },
   "outputs": [
    {
     "output_type": "stream",
     "name": "stdout",
     "output_type": "stream",
     "text": [
      "+-----------+-------+-------------+--------------------+----------+---+-----------+------------+-------------------+--------------------------------+\n|amount_paid|courses|customer_from|email               |first_name|id |is_customer|last_name   |last_updated_ts    |phone_numbers                   |\n+-----------+-------+-------------+--------------------+----------+---+-----------+------------+-------------------+--------------------------------+\n|1000.55    |[1, 2] |2021-01-15   |cvandenoor@etsy.com |Corrie    |1  |true       |Van den Oord|2021-02-10 01:15:00|{+91 8645879087, +91 9878673289}|\n|900.0      |[3]    |2022-05-15   |john@cena.com       |John      |2  |true       |Cena        |2024-03-15 01:16:00|{+91 9886879087, +91 9134673289}|\n|750.6      |[2, 3] |2023-01-12   |james@bond.com      |James     |3  |false      |Bond        |2018-05-05 05:17:02|{+91 3245879087, +91 9854673289}|\n|NULL       |[]     |NULL         |robert@dowrey.com   |Robert    |4  |false      |Dowrey      |2019-04-03 08:14:08|NULL                            |\n|NULL       |[]     |NULL         |chris@hemmsworth.com|Chris     |5  |false      |Hemmsworth  |2019-04-03 08:14:08|{+91 9085879087, }              |\n+-----------+-------+-------------+--------------------+----------+---+-----------+------------+-------------------+--------------------------------+\n\n"
     ]
    }
   ],
   "source": [
    "userdf.show(truncate=False)"
   ]
  },
  {
   "cell_type": "code",
   "execution_count": 0,
   "metadata": {
    "application/vnd.databricks.v1+cell": {
     "cellMetadata": {},
     "inputWidgets": {},
     "nuid": "a6614cff-8420-40a2-8ab3-51552a4a2426",
     "showTitle": false,
     "title": ""
    }
   },
   "outputs": [],
   "source": []
  }
 ],
 "metadata": {
  "application/vnd.databricks.v1+notebook": {
   "dashboards": [],
   "language": "python",
   "notebookMetadata": {
    "pythonIndentUnit": 4
   },
   "notebookName": "02 - Creating Spark Data Frame for Dropping Columns",
   "widgets": {}
  }
 },
 "nbformat": 4,
 "nbformat_minor": 0
}
