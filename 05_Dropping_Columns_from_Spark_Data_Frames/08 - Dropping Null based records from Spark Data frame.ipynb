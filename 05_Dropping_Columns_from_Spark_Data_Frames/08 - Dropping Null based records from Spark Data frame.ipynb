{
 "cells": [
  {
   "cell_type": "code",
   "execution_count": 0,
   "metadata": {
    "application/vnd.databricks.v1+cell": {
     "cellMetadata": {
      "byteLimit": 2048000,
      "rowLimit": 10000
     },
     "inputWidgets": {},
     "nuid": "4d5826d5-8403-47a8-b628-1ca1a3f43886",
     "showTitle": false,
     "title": ""
    }
   },
   "outputs": [],
   "source": [
    "from pyspark.sql import Row\n",
    "from pyspark.sql.functions import *"
   ]
  },
  {
   "cell_type": "code",
   "execution_count": 0,
   "metadata": {
    "application/vnd.databricks.v1+cell": {
     "cellMetadata": {
      "byteLimit": 2048000,
      "rowLimit": 10000
     },
     "inputWidgets": {},
     "nuid": "f8d30602-72c0-4061-8b25-1e61dce60f0d",
     "showTitle": false,
     "title": ""
    }
   },
   "outputs": [],
   "source": [
    "import pandas as pd\n",
    "spark.conf.set('spark.sql.execution.arrow.pyspark.enabled', False)"
   ]
  },
  {
   "cell_type": "code",
   "execution_count": 0,
   "metadata": {
    "application/vnd.databricks.v1+cell": {
     "cellMetadata": {
      "byteLimit": 2048000,
      "rowLimit": 10000
     },
     "inputWidgets": {},
     "nuid": "d7254cfd-88e0-4a52-a1a8-0b7724f0cccf",
     "showTitle": false,
     "title": ""
    }
   },
   "outputs": [],
   "source": [
    "import datetime\n",
    "\n",
    "users = [\n",
    "    {\n",
    "        \"id\": \"1\",\n",
    "        \"first_name\": \"Corrie\",\n",
    "        \"last_name\": \"Van den Oord\",        \n",
    "        \"email\": \"cvandenoor@etsy.com\",\n",
    "        \"is_customer\": True,\n",
    "        \"amount_paid\": \"1000.55\",\n",
    "        \"customer_from\": datetime.date(2021,1,15),\n",
    "        \"last_updated_ts\": datetime.datetime(2021,2,10,1,15,0)\n",
    "    },\n",
    "    {\n",
    "        \"id\": None,\n",
    "        \"first_name\": \"John\",\n",
    "        \"last_name\": \"Cena\",        \n",
    "        \"email\": \"john@cena.com\",        \n",
    "        \"is_customer\": True,\n",
    "        \"amount_paid\": \"900.0\",\n",
    "        \"customer_from\": datetime.date(2022,5,15),\n",
    "        \"last_updated_ts\": datetime.datetime(2024,3,15,1,16,0)\n",
    "    },\n",
    "    {\n",
    "        \"id\": \"3\",\n",
    "        \"first_name\": \"James\",\n",
    "        \"last_name\": \"Bond\",        \n",
    "        \"email\": \"james@bond.com\",        \n",
    "        \"is_customer\": False,\n",
    "        \"amount_paid\": \"750.60\",\n",
    "        \"customer_from\": datetime.date(2023,1,12),\n",
    "        \"last_updated_ts\": datetime.datetime(2018,5,5,5,17,2)\n",
    "    },\n",
    "    {\n",
    "        \"id\": \"3\",\n",
    "        \"first_name\": \"James\",\n",
    "        \"last_name\": \"Bond\",        \n",
    "        \"email\": \"james@bond.com\",        \n",
    "        \"is_customer\": False,\n",
    "        \"amount_paid\": \"750.60\",\n",
    "        \"customer_from\": datetime.date(2023,1,12),\n",
    "        \"last_updated_ts\": datetime.datetime(2018,5,5,5,17,2)\n",
    "    },\n",
    "    {\n",
    "        \"id\": \"4\",\n",
    "        \"first_name\": \"Robert\",\n",
    "        \"last_name\": \"Dowrey\",        \n",
    "        \"email\": \"robert@dowrey.com\",        \n",
    "        \"is_customer\": True,\n",
    "        \"amount_paid\": None,\n",
    "        \"customer_from\": None,\n",
    "        \"last_updated_ts\": datetime.datetime(2019,4,3,8,14,8)\n",
    "    },    \n",
    "    {\n",
    "        \"id\": \"5\",\n",
    "        \"first_name\": \"Chris\",\n",
    "        \"last_name\": \"Hemmsworth\",        \n",
    "        \"email\": \"chris@hemmsworth.com\",        \n",
    "        \"is_customer\": False,\n",
    "        \"amount_paid\": None,\n",
    "        \"customer_from\": None,\n",
    "        \"last_updated_ts\": datetime.datetime(2019,4,3,8,14,8)\n",
    "    },\n",
    "    {\n",
    "        \"id\": None,\n",
    "        \"first_name\": None,\n",
    "        \"last_name\": None,        \n",
    "        \"email\": None,        \n",
    "        \"is_customer\": None,\n",
    "        \"amount_paid\": None,\n",
    "        \"customer_from\": None,\n",
    "        \"last_updated_ts\": None\n",
    "    },\n",
    "    {\n",
    "        \"id\": None,\n",
    "        \"first_name\": None,\n",
    "        \"last_name\": None,        \n",
    "        \"email\": None,        \n",
    "        \"is_customer\": None,\n",
    "        \"amount_paid\": None,\n",
    "        \"customer_from\": None,\n",
    "        \"last_updated_ts\": None\n",
    "    },\n",
    "    {\n",
    "        \"id\": \"6\",\n",
    "        \"first_name\": \"ashby\",\n",
    "        \"last_name\": \"maddock\",        \n",
    "        \"email\": \"ashby@maddock.com\",        \n",
    "        \"is_customer\": False,\n",
    "        \"amount_paid\": None,\n",
    "        \"customer_from\": None,\n",
    "        \"last_updated_ts\": datetime.datetime(2023,1,1,3,12,7)\n",
    "    },\n",
    "    {\n",
    "        \"id\": \"7\",\n",
    "        \"first_name\": None,\n",
    "        \"last_name\": \"maddock\",        \n",
    "        \"email\": None,        \n",
    "        \"is_customer\": False,\n",
    "        \"amount_paid\": None,\n",
    "        \"customer_from\": None,\n",
    "        \"last_updated_ts\": datetime.datetime(2022,4,9,1,11,9)\n",
    "    },\n",
    "    {\n",
    "        \"id\": \"8\",\n",
    "        \"first_name\": None,\n",
    "        \"last_name\": None,        \n",
    "        \"email\": None,        \n",
    "        \"is_customer\": None,\n",
    "        \"amount_paid\": None,\n",
    "        \"customer_from\": None,\n",
    "        \"last_updated_ts\": None\n",
    "    },\n",
    "]"
   ]
  },
  {
   "cell_type": "code",
   "execution_count": 0,
   "metadata": {
    "application/vnd.databricks.v1+cell": {
     "cellMetadata": {
      "byteLimit": 2048000,
      "rowLimit": 10000
     },
     "inputWidgets": {},
     "nuid": "1152e94e-fb02-4d43-9867-ceaa7a206f8f",
     "showTitle": false,
     "title": ""
    }
   },
   "outputs": [],
   "source": [
    "userdf = spark.createDataFrame(pd.DataFrame(users))"
   ]
  },
  {
   "cell_type": "code",
   "execution_count": 0,
   "metadata": {
    "application/vnd.databricks.v1+cell": {
     "cellMetadata": {
      "byteLimit": 2048000,
      "rowLimit": 10000
     },
     "inputWidgets": {},
     "nuid": "e8d5acd3-3d48-42e4-96c3-019516cb79cd",
     "showTitle": false,
     "title": ""
    }
   },
   "outputs": [
    {
     "output_type": "stream",
     "name": "stdout",
     "output_type": "stream",
     "text": [
      "+----+----------+------------+--------------------+-----------+-----------+-------------+-------------------+\n|id  |first_name|last_name   |email               |is_customer|amount_paid|customer_from|last_updated_ts    |\n+----+----------+------------+--------------------+-----------+-----------+-------------+-------------------+\n|1   |Corrie    |Van den Oord|cvandenoor@etsy.com |true       |1000.55    |2021-01-15   |2021-02-10 01:15:00|\n|NULL|John      |Cena        |john@cena.com       |true       |900.0      |2022-05-15   |2024-03-15 01:16:00|\n|3   |James     |Bond        |james@bond.com      |false      |750.60     |2023-01-12   |2018-05-05 05:17:02|\n|3   |James     |Bond        |james@bond.com      |false      |750.60     |2023-01-12   |2018-05-05 05:17:02|\n|4   |Robert    |Dowrey      |robert@dowrey.com   |true       |NULL       |NULL         |2019-04-03 08:14:08|\n|5   |Chris     |Hemmsworth  |chris@hemmsworth.com|false      |NULL       |NULL         |2019-04-03 08:14:08|\n|NULL|NULL      |NULL        |NULL                |NULL       |NULL       |NULL         |NULL               |\n|NULL|NULL      |NULL        |NULL                |NULL       |NULL       |NULL         |NULL               |\n|6   |ashby     |maddock     |ashby@maddock.com   |false      |NULL       |NULL         |2023-01-01 03:12:07|\n|7   |NULL      |maddock     |NULL                |false      |NULL       |NULL         |2022-04-09 01:11:09|\n|8   |NULL      |NULL        |NULL                |NULL       |NULL       |NULL         |NULL               |\n+----+----------+------------+--------------------+-----------+-----------+-------------+-------------------+\n\n"
     ]
    }
   ],
   "source": [
    "userdf.show(truncate=False)\n"
   ]
  },
  {
   "cell_type": "code",
   "execution_count": 0,
   "metadata": {
    "application/vnd.databricks.v1+cell": {
     "cellMetadata": {
      "byteLimit": 2048000,
      "rowLimit": 10000
     },
     "inputWidgets": {},
     "nuid": "285503c1-d6c7-475e-b12d-daf86446e4de",
     "showTitle": false,
     "title": ""
    }
   },
   "outputs": [
    {
     "output_type": "execute_result",
     "data": {
      "text/plain": [
       "10"
      ]
     },
     "execution_count": 13,
     "metadata": {},
     "output_type": "execute_result"
    }
   ],
   "source": [
    "userdf.count()"
   ]
  },
  {
   "cell_type": "code",
   "execution_count": 0,
   "metadata": {
    "application/vnd.databricks.v1+cell": {
     "cellMetadata": {
      "byteLimit": 2048000,
      "rowLimit": 10000
     },
     "inputWidgets": {},
     "nuid": "834fe047-8c9c-41d8-8f85-cc99c1906c40",
     "showTitle": false,
     "title": ""
    }
   },
   "outputs": [
    {
     "output_type": "stream",
     "name": "stdout",
     "output_type": "stream",
     "text": [
      "Help on method dropna in module pyspark.sql.dataframe:\n\ndropna(how: str = 'any', thresh: Optional[int] = None, subset: Union[str, Tuple[str, ...], List[str], NoneType] = None) -> 'DataFrame' method of pyspark.sql.dataframe.DataFrame instance\n    Returns a new :class:`DataFrame` omitting rows with null values.\n    :func:`DataFrame.dropna` and :func:`DataFrameNaFunctions.drop` are aliases of each other.\n    \n    .. versionadded:: 1.3.1\n    \n    .. versionchanged:: 3.4.0\n        Supports Spark Connect.\n    \n    Parameters\n    ----------\n    how : str, optional\n        'any' or 'all'.\n        If 'any', drop a row if it contains any nulls.\n        If 'all', drop a row only if all its values are null.\n    thresh: int, optional\n        default None\n        If specified, drop rows that have less than `thresh` non-null values.\n        This overwrites the `how` parameter.\n    subset : str, tuple or list, optional\n        optional list of column names to consider.\n    \n    Returns\n    -------\n    :class:`DataFrame`\n        DataFrame with null only rows excluded.\n    \n    Examples\n    --------\n    >>> from pyspark.sql import Row\n    >>> df = spark.createDataFrame([\n    ...     Row(age=10, height=80, name=\"Alice\"),\n    ...     Row(age=5, height=None, name=\"Bob\"),\n    ...     Row(age=None, height=None, name=\"Tom\"),\n    ...     Row(age=None, height=None, name=None),\n    ... ])\n    >>> df.na.drop().show()\n    +---+------+-----+\n    |age|height| name|\n    +---+------+-----+\n    | 10|    80|Alice|\n    +---+------+-----+\n\n"
     ]
    }
   ],
   "source": [
    "help(userdf.dropna)"
   ]
  },
  {
   "cell_type": "code",
   "execution_count": 0,
   "metadata": {
    "application/vnd.databricks.v1+cell": {
     "cellMetadata": {
      "byteLimit": 2048000,
      "rowLimit": 10000
     },
     "inputWidgets": {},
     "nuid": "11a49eea-be93-48dd-9a6d-3388f1cd4c10",
     "showTitle": false,
     "title": ""
    }
   },
   "outputs": [
    {
     "output_type": "stream",
     "name": "stdout",
     "output_type": "stream",
     "text": [
      "+----+----------+------------+--------------------+-----------+-----------+-------------+-------------------+\n|  id|first_name|   last_name|               email|is_customer|amount_paid|customer_from|    last_updated_ts|\n+----+----------+------------+--------------------+-----------+-----------+-------------+-------------------+\n|   1|    Corrie|Van den Oord| cvandenoor@etsy.com|       true|    1000.55|   2021-01-15|2021-02-10 01:15:00|\n|NULL|      John|        Cena|       john@cena.com|       true|      900.0|   2022-05-15|2024-03-15 01:16:00|\n|   3|     James|        Bond|      james@bond.com|      false|     750.60|   2023-01-12|2018-05-05 05:17:02|\n|   3|     James|        Bond|      james@bond.com|      false|     750.60|   2023-01-12|2018-05-05 05:17:02|\n|   4|    Robert|      Dowrey|   robert@dowrey.com|       true|       NULL|         NULL|2019-04-03 08:14:08|\n|   5|     Chris|  Hemmsworth|chris@hemmsworth.com|      false|       NULL|         NULL|2019-04-03 08:14:08|\n|   6|     ashby|     maddock|   ashby@maddock.com|      false|       NULL|         NULL|2023-01-01 03:12:07|\n|   7|      NULL|     maddock|                NULL|      false|       NULL|         NULL|2022-04-09 01:11:09|\n|   8|      NULL|        NULL|                NULL|       NULL|       NULL|         NULL|               NULL|\n+----+----------+------------+--------------------+-----------+-----------+-------------+-------------------+\n\n"
     ]
    }
   ],
   "source": [
    "#drops rows which have all columns as null\n",
    "userdf.dropna('all').show()"
   ]
  },
  {
   "cell_type": "code",
   "execution_count": 0,
   "metadata": {
    "application/vnd.databricks.v1+cell": {
     "cellMetadata": {
      "byteLimit": 2048000,
      "rowLimit": 10000
     },
     "inputWidgets": {},
     "nuid": "9a11f2aa-732e-4175-8164-6d29546dbc54",
     "showTitle": false,
     "title": ""
    }
   },
   "outputs": [
    {
     "output_type": "stream",
     "name": "stdout",
     "output_type": "stream",
     "text": [
      "+---+----------+------------+-------------------+-----------+-----------+-------------+-------------------+\n| id|first_name|   last_name|              email|is_customer|amount_paid|customer_from|    last_updated_ts|\n+---+----------+------------+-------------------+-----------+-----------+-------------+-------------------+\n|  1|    Corrie|Van den Oord|cvandenoor@etsy.com|       true|    1000.55|   2021-01-15|2021-02-10 01:15:00|\n|  3|     James|        Bond|     james@bond.com|      false|     750.60|   2023-01-12|2018-05-05 05:17:02|\n|  3|     James|        Bond|     james@bond.com|      false|     750.60|   2023-01-12|2018-05-05 05:17:02|\n+---+----------+------------+-------------------+-----------+-----------+-------------+-------------------+\n\n"
     ]
    }
   ],
   "source": [
    "# drop if any column value is null\n",
    "userdf.dropna('any').show()"
   ]
  },
  {
   "cell_type": "code",
   "execution_count": 0,
   "metadata": {
    "application/vnd.databricks.v1+cell": {
     "cellMetadata": {
      "byteLimit": 2048000,
      "rowLimit": 10000
     },
     "inputWidgets": {},
     "nuid": "3d5993e4-6015-4848-bec0-9758c6307632",
     "showTitle": false,
     "title": ""
    }
   },
   "outputs": [
    {
     "output_type": "stream",
     "name": "stdout",
     "output_type": "stream",
     "text": [
      "+----+----------+------------+--------------------+-----------+-----------+-------------+-------------------+\n|  id|first_name|   last_name|               email|is_customer|amount_paid|customer_from|    last_updated_ts|\n+----+----------+------------+--------------------+-----------+-----------+-------------+-------------------+\n|   1|    Corrie|Van den Oord| cvandenoor@etsy.com|       true|    1000.55|   2021-01-15|2021-02-10 01:15:00|\n|NULL|      John|        Cena|       john@cena.com|       true|      900.0|   2022-05-15|2024-03-15 01:16:00|\n|   3|     James|        Bond|      james@bond.com|      false|     750.60|   2023-01-12|2018-05-05 05:17:02|\n|   3|     James|        Bond|      james@bond.com|      false|     750.60|   2023-01-12|2018-05-05 05:17:02|\n|   4|    Robert|      Dowrey|   robert@dowrey.com|       true|       NULL|         NULL|2019-04-03 08:14:08|\n|   5|     Chris|  Hemmsworth|chris@hemmsworth.com|      false|       NULL|         NULL|2019-04-03 08:14:08|\n|   6|     ashby|     maddock|   ashby@maddock.com|      false|       NULL|         NULL|2023-01-01 03:12:07|\n|   7|      NULL|     maddock|                NULL|      false|       NULL|         NULL|2022-04-09 01:11:09|\n+----+----------+------------+--------------------+-----------+-----------+-------------+-------------------+\n\n"
     ]
    }
   ],
   "source": [
    "userdf.dropna(thresh=4).show() # <= thresh"
   ]
  },
  {
   "cell_type": "code",
   "execution_count": 0,
   "metadata": {
    "application/vnd.databricks.v1+cell": {
     "cellMetadata": {
      "byteLimit": 2048000,
      "rowLimit": 10000
     },
     "inputWidgets": {},
     "nuid": "683b51c6-d6ff-41aa-87d6-037adc10511f",
     "showTitle": false,
     "title": ""
    }
   },
   "outputs": [
    {
     "output_type": "stream",
     "name": "stdout",
     "output_type": "stream",
     "text": [
      "+----+----------+------------+--------------------+-----------+-----------+-------------+-------------------+\n|  id|first_name|   last_name|               email|is_customer|amount_paid|customer_from|    last_updated_ts|\n+----+----------+------------+--------------------+-----------+-----------+-------------+-------------------+\n|   1|    Corrie|Van den Oord| cvandenoor@etsy.com|       true|    1000.55|   2021-01-15|2021-02-10 01:15:00|\n|NULL|      John|        Cena|       john@cena.com|       true|      900.0|   2022-05-15|2024-03-15 01:16:00|\n|   3|     James|        Bond|      james@bond.com|      false|     750.60|   2023-01-12|2018-05-05 05:17:02|\n|   3|     James|        Bond|      james@bond.com|      false|     750.60|   2023-01-12|2018-05-05 05:17:02|\n|   4|    Robert|      Dowrey|   robert@dowrey.com|       true|       NULL|         NULL|2019-04-03 08:14:08|\n|   5|     Chris|  Hemmsworth|chris@hemmsworth.com|      false|       NULL|         NULL|2019-04-03 08:14:08|\n|   6|     ashby|     maddock|   ashby@maddock.com|      false|       NULL|         NULL|2023-01-01 03:12:07|\n|   7|      NULL|     maddock|                NULL|      false|       NULL|         NULL|2022-04-09 01:11:09|\n|   8|      NULL|        NULL|                NULL|       NULL|       NULL|         NULL|               NULL|\n+----+----------+------------+--------------------+-----------+-----------+-------------+-------------------+\n\n"
     ]
    }
   ],
   "source": [
    "userdf.dropna(how = 'all', subset = ['id', 'email']).show() # if only the subset columns have null values the rows will be dropped (AND)"
   ]
  },
  {
   "cell_type": "code",
   "execution_count": 0,
   "metadata": {
    "application/vnd.databricks.v1+cell": {
     "cellMetadata": {
      "byteLimit": 2048000,
      "rowLimit": 10000
     },
     "inputWidgets": {},
     "nuid": "60107a33-ae6d-4eb7-ba38-0dfb03ff0163",
     "showTitle": false,
     "title": ""
    }
   },
   "outputs": [
    {
     "output_type": "stream",
     "name": "stdout",
     "output_type": "stream",
     "text": [
      "+---+----------+------------+--------------------+-----------+-----------+-------------+-------------------+\n| id|first_name|   last_name|               email|is_customer|amount_paid|customer_from|    last_updated_ts|\n+---+----------+------------+--------------------+-----------+-----------+-------------+-------------------+\n|  1|    Corrie|Van den Oord| cvandenoor@etsy.com|       true|    1000.55|   2021-01-15|2021-02-10 01:15:00|\n|  3|     James|        Bond|      james@bond.com|      false|     750.60|   2023-01-12|2018-05-05 05:17:02|\n|  3|     James|        Bond|      james@bond.com|      false|     750.60|   2023-01-12|2018-05-05 05:17:02|\n|  4|    Robert|      Dowrey|   robert@dowrey.com|       true|       NULL|         NULL|2019-04-03 08:14:08|\n|  5|     Chris|  Hemmsworth|chris@hemmsworth.com|      false|       NULL|         NULL|2019-04-03 08:14:08|\n|  6|     ashby|     maddock|   ashby@maddock.com|      false|       NULL|         NULL|2023-01-01 03:12:07|\n+---+----------+------------+--------------------+-----------+-----------+-------------+-------------------+\n\n"
     ]
    }
   ],
   "source": [
    "userdf.dropna(how = 'any', subset = ['id', 'email']).show() # drops record if any of the two subset columns have null (OR)"
   ]
  },
  {
   "cell_type": "code",
   "execution_count": 0,
   "metadata": {
    "application/vnd.databricks.v1+cell": {
     "cellMetadata": {},
     "inputWidgets": {},
     "nuid": "376a0a8a-09b7-4a54-9020-4f292b586b7e",
     "showTitle": false,
     "title": ""
    }
   },
   "outputs": [],
   "source": []
  }
 ],
 "metadata": {
  "application/vnd.databricks.v1+notebook": {
   "dashboards": [],
   "language": "python",
   "notebookMetadata": {
    "pythonIndentUnit": 4
   },
   "notebookName": "08 - Dropping Null based records from Spark Data frame",
   "widgets": {}
  }
 },
 "nbformat": 4,
 "nbformat_minor": 0
}
