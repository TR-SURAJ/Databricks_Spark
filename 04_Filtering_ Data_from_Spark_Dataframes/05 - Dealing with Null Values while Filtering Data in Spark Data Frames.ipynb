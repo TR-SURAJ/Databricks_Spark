{
 "cells": [
  {
   "cell_type": "code",
   "execution_count": 0,
   "metadata": {
    "application/vnd.databricks.v1+cell": {
     "cellMetadata": {
      "byteLimit": 2048000,
      "rowLimit": 10000
     },
     "inputWidgets": {},
     "nuid": "fa6aa0ae-d95a-4f2d-95f8-69fdcbafcbea",
     "showTitle": false,
     "title": ""
    }
   },
   "outputs": [
    {
     "output_type": "stream",
     "name": "stdout",
     "output_type": "stream",
     "text": [
      "+---+----------+------------+------+------------+--------------------+--------------------------------+-------+-----------+-----------+-------------+-------------------+\n|id |first_name|last_name   |gender|current_city|email               |phone_numbers                   |courses|is_customer|amount_paid|customer_from|last_updated_ts    |\n+---+----------+------------+------+------------+--------------------+--------------------------------+-------+-----------+-----------+-------------+-------------------+\n|1  |Corrie    |Van den Oord|male  |Dallas      |cvandenoor@etsy.com |{+91 8645879087, +91 9878673289}|[1, 2] |true       |1000.55    |2021-01-15   |2021-02-10 01:15:00|\n|2  |John      |Cena        |male  |Texas       |john@cena.com       |{+91 9886879087, +91 9134673289}|[1]    |true       |900.0      |2022-05-15   |2024-03-15 01:16:00|\n|3  |James     |Bond        |female|New York    |james@bond.com      |{+91 3245879087, +91 9854673289}|[2, 3] |false      |750.6      |2023-01-12   |2018-05-05 05:17:02|\n|4  |Robert    |Dowrey      |male  |Illions     |robert@dowrey.com   |NULL                            |[2]    |true       |500.5      |NULL         |2019-04-03 08:14:08|\n|5  |Chris     |Hemmsworth  |female|New Orleans |chris@hemmsworth.com|{+91 9085879087, }              |[3, 4] |false      |NaN        |NULL         |2019-04-03 08:14:08|\n+---+----------+------------+------+------------+--------------------+--------------------------------+-------+-----------+-----------+-------------+-------------------+\n\n"
     ]
    }
   ],
   "source": [
    "%run \"/Users/surajthallapalli@outlook.com/04 Filtering Data from Spark Dataframes/02 - Creating Spark Data Frame for filtering\""
   ]
  },
  {
   "cell_type": "code",
   "execution_count": 0,
   "metadata": {
    "application/vnd.databricks.v1+cell": {
     "cellMetadata": {
      "byteLimit": 2048000,
      "rowLimit": 10000
     },
     "inputWidgets": {},
     "nuid": "14a8ad26-7bb1-47ef-9ecb-2d3e2dd9f3ca",
     "showTitle": false,
     "title": ""
    }
   },
   "outputs": [],
   "source": [
    "from pyspark.sql.functions import *"
   ]
  },
  {
   "cell_type": "code",
   "execution_count": 0,
   "metadata": {
    "application/vnd.databricks.v1+cell": {
     "cellMetadata": {
      "byteLimit": 2048000,
      "rowLimit": 10000
     },
     "inputWidgets": {},
     "nuid": "964870ab-9b66-4779-a634-633c85cfa6c0",
     "showTitle": false,
     "title": ""
    }
   },
   "outputs": [
    {
     "output_type": "stream",
     "name": "stdout",
     "output_type": "stream",
     "text": [
      "+---+-------------+\n| id|customer_from|\n+---+-------------+\n|  1|   2021-01-15|\n|  2|   2022-05-15|\n|  3|   2023-01-12|\n|  4|         NULL|\n|  5|         NULL|\n+---+-------------+\n\n"
     ]
    }
   ],
   "source": [
    "userdf. \\\n",
    "    select('id', 'customer_from'). \\\n",
    "    show()"
   ]
  },
  {
   "cell_type": "code",
   "execution_count": 0,
   "metadata": {
    "application/vnd.databricks.v1+cell": {
     "cellMetadata": {
      "byteLimit": 2048000,
      "rowLimit": 10000
     },
     "inputWidgets": {},
     "nuid": "18d2e9c8-5bbb-4a28-ab9f-6ca375431ff9",
     "showTitle": false,
     "title": ""
    }
   },
   "outputs": [
    {
     "output_type": "stream",
     "name": "stdout",
     "output_type": "stream",
     "text": [
      "+---+-------------+\n| id|customer_from|\n+---+-------------+\n+---+-------------+\n\n"
     ]
    }
   ],
   "source": [
    "userdf. \\\n",
    "    select('id', 'customer_from'). \\\n",
    "    filter( col('customer_from') != None) .\\\n",
    "    show()"
   ]
  },
  {
   "cell_type": "code",
   "execution_count": 0,
   "metadata": {
    "application/vnd.databricks.v1+cell": {
     "cellMetadata": {
      "byteLimit": 2048000,
      "rowLimit": 10000
     },
     "inputWidgets": {},
     "nuid": "a5dff314-fe45-4121-b167-a5ce60dd2c05",
     "showTitle": false,
     "title": ""
    }
   },
   "outputs": [
    {
     "output_type": "stream",
     "name": "stdout",
     "output_type": "stream",
     "text": [
      "+---+-------------+\n| id|customer_from|\n+---+-------------+\n|  1|   2021-01-15|\n|  2|   2022-05-15|\n|  3|   2023-01-12|\n+---+-------------+\n\n"
     ]
    }
   ],
   "source": [
    "userdf. \\\n",
    "    select('id', 'customer_from'). \\\n",
    "    filter( col('customer_from').isNotNull() ) .\\\n",
    "    show()"
   ]
  },
  {
   "cell_type": "code",
   "execution_count": 0,
   "metadata": {
    "application/vnd.databricks.v1+cell": {
     "cellMetadata": {
      "byteLimit": 2048000,
      "rowLimit": 10000
     },
     "inputWidgets": {},
     "nuid": "2df0dc9e-8cc2-420f-bf66-08d573eed978",
     "showTitle": false,
     "title": ""
    }
   },
   "outputs": [
    {
     "output_type": "stream",
     "name": "stdout",
     "output_type": "stream",
     "text": [
      "+---+-------------+\n| id|customer_from|\n+---+-------------+\n|  1|   2021-01-15|\n|  2|   2022-05-15|\n|  3|   2023-01-12|\n+---+-------------+\n\n"
     ]
    }
   ],
   "source": [
    "userdf. \\\n",
    "    select('id', 'customer_from'). \\\n",
    "    filter('customer_from IS NOT NULL'). \\\n",
    "    show()"
   ]
  },
  {
   "cell_type": "code",
   "execution_count": 0,
   "metadata": {
    "application/vnd.databricks.v1+cell": {
     "cellMetadata": {
      "byteLimit": 2048000,
      "rowLimit": 10000
     },
     "inputWidgets": {},
     "nuid": "ba569985-2a99-4ff6-95b6-84a1ac7d9c37",
     "showTitle": false,
     "title": ""
    }
   },
   "outputs": [
    {
     "output_type": "stream",
     "name": "stdout",
     "output_type": "stream",
     "text": [
      "+---+-------------+\n| id|customer_from|\n+---+-------------+\n|  4|         NULL|\n|  5|         NULL|\n+---+-------------+\n\n"
     ]
    }
   ],
   "source": [
    "userdf. \\\n",
    "    select('id', 'customer_from'). \\\n",
    "    filter( col('customer_from').isNull() ) .\\\n",
    "    show()"
   ]
  },
  {
   "cell_type": "code",
   "execution_count": 0,
   "metadata": {
    "application/vnd.databricks.v1+cell": {
     "cellMetadata": {
      "byteLimit": 2048000,
      "rowLimit": 10000
     },
     "inputWidgets": {},
     "nuid": "3a1b286b-a6e7-4e0c-a70f-49be791595d8",
     "showTitle": false,
     "title": ""
    }
   },
   "outputs": [
    {
     "output_type": "stream",
     "name": "stdout",
     "output_type": "stream",
     "text": [
      "+---+-------------+\n| id|customer_from|\n+---+-------------+\n|  4|         NULL|\n|  5|         NULL|\n+---+-------------+\n\n"
     ]
    }
   ],
   "source": [
    "userdf. \\\n",
    "    select('id', 'customer_from'). \\\n",
    "    filter('customer_from IS NULL'). \\\n",
    "    show()"
   ]
  },
  {
   "cell_type": "code",
   "execution_count": 0,
   "metadata": {
    "application/vnd.databricks.v1+cell": {
     "cellMetadata": {},
     "inputWidgets": {},
     "nuid": "44af9918-94d2-48e2-a4a5-b904ac94671f",
     "showTitle": false,
     "title": ""
    }
   },
   "outputs": [],
   "source": []
  }
 ],
 "metadata": {
  "application/vnd.databricks.v1+notebook": {
   "dashboards": [],
   "language": "python",
   "notebookMetadata": {
    "pythonIndentUnit": 4
   },
   "notebookName": "05 - Dealing with Null Values while Filtering Data in Spark Data Frames",
   "widgets": {}
  }
 },
 "nbformat": 4,
 "nbformat_minor": 0
}
