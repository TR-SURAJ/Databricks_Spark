{
 "cells": [
  {
   "cell_type": "code",
   "execution_count": 0,
   "metadata": {
    "application/vnd.databricks.v1+cell": {
     "cellMetadata": {
      "byteLimit": 2048000,
      "rowLimit": 10000
     },
     "inputWidgets": {},
     "nuid": "c2610883-afe1-4a6f-9c42-c77eefe3baa3",
     "showTitle": false,
     "title": ""
    }
   },
   "outputs": [],
   "source": [
    "from pyspark.sql import Row\n",
    "from pyspark.sql.functions import *"
   ]
  },
  {
   "cell_type": "code",
   "execution_count": 0,
   "metadata": {
    "application/vnd.databricks.v1+cell": {
     "cellMetadata": {
      "byteLimit": 2048000,
      "rowLimit": 10000
     },
     "inputWidgets": {},
     "nuid": "cc769f6a-0be6-43f7-b2c9-e77a541457c1",
     "showTitle": false,
     "title": ""
    }
   },
   "outputs": [],
   "source": [
    "import pandas as pd\n",
    "spark.conf.set('spark.sql.execution.arrow.pyspark.enabled', False)"
   ]
  },
  {
   "cell_type": "code",
   "execution_count": 0,
   "metadata": {
    "application/vnd.databricks.v1+cell": {
     "cellMetadata": {
      "byteLimit": 2048000,
      "rowLimit": 10000
     },
     "inputWidgets": {},
     "nuid": "97ba2292-4879-4309-a1b1-36433af50a1b",
     "showTitle": false,
     "title": ""
    }
   },
   "outputs": [],
   "source": [
    "import datetime\n",
    "\n",
    "users = [\n",
    "    {\n",
    "        \"id\": 1,\n",
    "        \"first_name\": \"Corrie\",\n",
    "        \"last_name\": \"Van den Oord\",\n",
    "        \"gender\": \"male\",\n",
    "        \"current_city\": \"Dallas\",\n",
    "        \"email\": \"cvandenoor@etsy.com\",\n",
    "        \"phone_numbers\": Row(mobile=\"+91 8645879087\", home = \"+91 9878673289\"),\n",
    "        \"courses\": [1,2],\n",
    "        \"is_customer\": True,\n",
    "        \"amount_paid\": 1000.55,\n",
    "        \"customer_from\": datetime.date(2021,1,15),\n",
    "        \"last_updated_ts\": datetime.datetime(2021,2,10,1,15,0)\n",
    "    },\n",
    "    {\n",
    "        \"id\": 2,\n",
    "        \"first_name\": \"John\",\n",
    "        \"last_name\": \"Cena\",\n",
    "        \"gender\": \"male\",\n",
    "        \"current_city\": \"Texas\",\n",
    "        \"email\": \"john@cena.com\",\n",
    "        \"phone_numbers\": Row(mobile = \"+91 9886879087\", home = \"+91 9134673289\"),\n",
    "        \"courses\": [1],\n",
    "        \"is_customer\": True,\n",
    "        \"amount_paid\": 900.0,\n",
    "        \"customer_from\": datetime.date(2022,5,15),\n",
    "        \"last_updated_ts\": datetime.datetime(2024,3,15,1,16,0)\n",
    "    },\n",
    "    {\n",
    "        \"id\": 3,\n",
    "        \"first_name\": \"James\",\n",
    "        \"last_name\": \"Bond\",\n",
    "        \"gender\": \"female\",\n",
    "        \"current_city\": \"New York\",\n",
    "        \"email\": \"james@bond.com\",\n",
    "        \"phone_numbers\": Row(mobile = \"+91 3245879087\", home = \"+91 9854673289\"),\n",
    "        \"courses\": [2,3],\n",
    "        \"is_customer\": False,\n",
    "        \"amount_paid\": 750.60,\n",
    "        \"customer_from\": datetime.date(2023,1,12),\n",
    "        \"last_updated_ts\": datetime.datetime(2018,5,5,5,17,2)\n",
    "    },\n",
    "    {\n",
    "        \"id\": 4,\n",
    "        \"first_name\": \"Robert\",\n",
    "        \"last_name\": \"Dowrey\",\n",
    "        \"gender\": \"male\",\n",
    "        \"current_city\": \"Illions\",\n",
    "        \"email\": \"robert@dowrey.com\",\n",
    "        \"phone_numbers\": None,\n",
    "        \"courses\": [2],\n",
    "        \"is_customer\": True,\n",
    "        \"amount_paid\": 500.50,\n",
    "        \"customer_from\": None,\n",
    "        \"last_updated_ts\": datetime.datetime(2019,4,3,8,14,8)\n",
    "    },\n",
    "    {\n",
    "        \"id\": 5,\n",
    "        \"first_name\": \"Chris\",\n",
    "        \"last_name\": \"Hemmsworth\",\n",
    "        \"gender\": \"female\",\n",
    "        \"current_city\": \"New Orleans\",\n",
    "        \"email\": \"chris@hemmsworth.com\",\n",
    "        \"phone_numbers\": Row(mobile = \"+91 9085879087\", home = \"\"),\n",
    "        \"courses\": [3,4],\n",
    "        \"is_customer\": False,\n",
    "        \"amount_paid\": None,\n",
    "        \"customer_from\": None,\n",
    "        \"last_updated_ts\": datetime.datetime(2019,4,3,8,14,8)\n",
    "    },\n",
    "]"
   ]
  },
  {
   "cell_type": "code",
   "execution_count": 0,
   "metadata": {
    "application/vnd.databricks.v1+cell": {
     "cellMetadata": {
      "byteLimit": 2048000,
      "rowLimit": 10000
     },
     "inputWidgets": {},
     "nuid": "a8c90efe-ba87-4bb3-84a7-05ac6c2dd213",
     "showTitle": false,
     "title": ""
    }
   },
   "outputs": [],
   "source": [
    "userdf = spark.createDataFrame(pd.DataFrame(users))"
   ]
  },
  {
   "cell_type": "code",
   "execution_count": 0,
   "metadata": {
    "application/vnd.databricks.v1+cell": {
     "cellMetadata": {
      "byteLimit": 2048000,
      "rowLimit": 10000
     },
     "inputWidgets": {},
     "nuid": "b8f3d252-52b2-44a9-abc2-618263fb5c5b",
     "showTitle": false,
     "title": ""
    }
   },
   "outputs": [
    {
     "output_type": "stream",
     "name": "stdout",
     "output_type": "stream",
     "text": [
      "+---+----------+------------+------+------------+--------------------+--------------------------------+-------+-----------+-----------+-------------+-------------------+\n|id |first_name|last_name   |gender|current_city|email               |phone_numbers                   |courses|is_customer|amount_paid|customer_from|last_updated_ts    |\n+---+----------+------------+------+------------+--------------------+--------------------------------+-------+-----------+-----------+-------------+-------------------+\n|1  |Corrie    |Van den Oord|male  |Dallas      |cvandenoor@etsy.com |{+91 8645879087, +91 9878673289}|[1, 2] |true       |1000.55    |2021-01-15   |2021-02-10 01:15:00|\n|2  |John      |Cena        |male  |Texas       |john@cena.com       |{+91 9886879087, +91 9134673289}|[1]    |true       |900.0      |2022-05-15   |2024-03-15 01:16:00|\n|3  |James     |Bond        |female|New York    |james@bond.com      |{+91 3245879087, +91 9854673289}|[2, 3] |false      |750.6      |2023-01-12   |2018-05-05 05:17:02|\n|4  |Robert    |Dowrey      |male  |Illions     |robert@dowrey.com   |NULL                            |[2]    |true       |500.5      |NULL         |2019-04-03 08:14:08|\n|5  |Chris     |Hemmsworth  |female|New Orleans |chris@hemmsworth.com|{+91 9085879087, }              |[3, 4] |false      |NaN        |NULL         |2019-04-03 08:14:08|\n+---+----------+------------+------+------------+--------------------+--------------------------------+-------+-----------+-----------+-------------+-------------------+\n\n"
     ]
    }
   ],
   "source": [
    "userdf.show(truncate=False)"
   ]
  },
  {
   "cell_type": "code",
   "execution_count": 0,
   "metadata": {
    "application/vnd.databricks.v1+cell": {
     "cellMetadata": {},
     "inputWidgets": {},
     "nuid": "0df5b875-f058-425b-9155-35564f56ce36",
     "showTitle": false,
     "title": ""
    }
   },
   "outputs": [],
   "source": []
  }
 ],
 "metadata": {
  "application/vnd.databricks.v1+notebook": {
   "dashboards": [],
   "language": "python",
   "notebookMetadata": {
    "pythonIndentUnit": 4
   },
   "notebookName": "02 - Creating Spark Data Frame for filtering",
   "widgets": {}
  }
 },
 "nbformat": 4,
 "nbformat_minor": 0
}
