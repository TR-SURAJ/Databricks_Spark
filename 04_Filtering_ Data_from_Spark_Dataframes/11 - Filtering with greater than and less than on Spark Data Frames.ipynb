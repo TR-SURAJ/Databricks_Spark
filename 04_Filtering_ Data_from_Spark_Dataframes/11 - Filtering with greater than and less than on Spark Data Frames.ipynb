{
 "cells": [
  {
   "cell_type": "code",
   "execution_count": 0,
   "metadata": {
    "application/vnd.databricks.v1+cell": {
     "cellMetadata": {
      "byteLimit": 2048000,
      "rowLimit": 10000
     },
     "inputWidgets": {},
     "nuid": "93927cd0-7e66-4de6-bc94-0506cfd3e638",
     "showTitle": false,
     "title": ""
    }
   },
   "outputs": [
    {
     "output_type": "stream",
     "name": "stdout",
     "output_type": "stream",
     "text": [
      "+---+----------+------------+------+------------+--------------------+--------------------------------+-------+-----------+-----------+-------------+-------------------+\n|id |first_name|last_name   |gender|current_city|email               |phone_numbers                   |courses|is_customer|amount_paid|customer_from|last_updated_ts    |\n+---+----------+------------+------+------------+--------------------+--------------------------------+-------+-----------+-----------+-------------+-------------------+\n|1  |Corrie    |Van den Oord|male  |Dallas      |cvandenoor@etsy.com |{+91 8645879087, +91 9878673289}|[1, 2] |true       |1000.55    |2021-01-15   |2021-02-10 01:15:00|\n|2  |John      |Cena        |male  |Texas       |john@cena.com       |{+91 9886879087, +91 9134673289}|[1]    |true       |900.0      |2022-05-15   |2024-03-15 01:16:00|\n|3  |James     |Bond        |female|New York    |james@bond.com      |{+91 3245879087, +91 9854673289}|[2, 3] |false      |750.6      |2023-01-12   |2018-05-05 05:17:02|\n|4  |Robert    |Dowrey      |male  |Illions     |robert@dowrey.com   |NULL                            |[2]    |true       |500.5      |NULL         |2019-04-03 08:14:08|\n|5  |Chris     |Hemmsworth  |female|New Orleans |chris@hemmsworth.com|{+91 9085879087, }              |[3, 4] |false      |NaN        |NULL         |2019-04-03 08:14:08|\n+---+----------+------------+------+------------+--------------------+--------------------------------+-------+-----------+-----------+-------------+-------------------+\n\n"
     ]
    }
   ],
   "source": [
    "%run \"/Users/surajthallapalli@outlook.com/04 Filtering Data from Spark Dataframes/02 - Creating Spark Data Frame for filtering\""
   ]
  },
  {
   "cell_type": "code",
   "execution_count": 0,
   "metadata": {
    "application/vnd.databricks.v1+cell": {
     "cellMetadata": {
      "byteLimit": 2048000,
      "rowLimit": 10000
     },
     "inputWidgets": {},
     "nuid": "0e95b087-9d8e-45f7-8c7d-37e790042b6e",
     "showTitle": false,
     "title": ""
    }
   },
   "outputs": [],
   "source": [
    "from pyspark.sql.functions import *"
   ]
  },
  {
   "cell_type": "code",
   "execution_count": 0,
   "metadata": {
    "application/vnd.databricks.v1+cell": {
     "cellMetadata": {
      "byteLimit": 2048000,
      "rowLimit": 10000
     },
     "inputWidgets": {},
     "nuid": "22f0a8f7-f0e2-4d37-964b-efae452a79c2",
     "showTitle": false,
     "title": ""
    }
   },
   "outputs": [
    {
     "output_type": "stream",
     "name": "stdout",
     "output_type": "stream",
     "text": [
      "+---+-----------+\n| id|amount_paid|\n+---+-----------+\n|  1|    1000.55|\n|  2|      900.0|\n|  3|      750.6|\n|  4|      500.5|\n|  5|        NaN|\n+---+-----------+\n\n"
     ]
    }
   ],
   "source": [
    "userdf. \\\n",
    "    select('id', 'amount_paid'). \\\n",
    "    show()"
   ]
  },
  {
   "cell_type": "code",
   "execution_count": 0,
   "metadata": {
    "application/vnd.databricks.v1+cell": {
     "cellMetadata": {
      "byteLimit": 2048000,
      "rowLimit": 10000
     },
     "inputWidgets": {},
     "nuid": "ff36a371-0055-4c4a-8434-caff486eb15a",
     "showTitle": false,
     "title": ""
    }
   },
   "outputs": [
    {
     "output_type": "stream",
     "name": "stdout",
     "output_type": "stream",
     "text": [
      "+---+-----------+\n| id|amount_paid|\n+---+-----------+\n|  1|    1000.55|\n|  2|      900.0|\n|  3|      750.6|\n|  5|        NaN|\n+---+-----------+\n\n"
     ]
    }
   ],
   "source": [
    "userdf. \\\n",
    "    select('id', 'amount_paid'). \\\n",
    "    filter( col('amount_paid') > 600 ). \\\n",
    "    show()"
   ]
  },
  {
   "cell_type": "code",
   "execution_count": 0,
   "metadata": {
    "application/vnd.databricks.v1+cell": {
     "cellMetadata": {
      "byteLimit": 2048000,
      "rowLimit": 10000
     },
     "inputWidgets": {},
     "nuid": "fdd66f71-ab70-4eef-a408-c8cd74a433eb",
     "showTitle": false,
     "title": ""
    }
   },
   "outputs": [
    {
     "output_type": "stream",
     "name": "stdout",
     "output_type": "stream",
     "text": [
      "+---+-----------+\n| id|amount_paid|\n+---+-----------+\n|  1|    1000.55|\n|  2|      900.0|\n|  3|      750.6|\n+---+-----------+\n\n"
     ]
    }
   ],
   "source": [
    "userdf. \\\n",
    "    select('id', 'amount_paid'). \\\n",
    "    filter( (col('amount_paid') > 600) & (isnan(col('amount_paid')) == False)). \\\n",
    "    show()"
   ]
  },
  {
   "cell_type": "code",
   "execution_count": 0,
   "metadata": {
    "application/vnd.databricks.v1+cell": {
     "cellMetadata": {
      "byteLimit": 2048000,
      "rowLimit": 10000
     },
     "inputWidgets": {},
     "nuid": "9f31858d-cc78-4263-b287-51c4595125d1",
     "showTitle": false,
     "title": ""
    }
   },
   "outputs": [
    {
     "output_type": "stream",
     "name": "stdout",
     "output_type": "stream",
     "text": [
      "+---+-----------+\n| id|amount_paid|\n+---+-----------+\n|  1|    1000.55|\n|  2|      900.0|\n|  3|      750.6|\n+---+-----------+\n\n"
     ]
    }
   ],
   "source": [
    "userdf. \\\n",
    "    select('id', 'amount_paid'). \\\n",
    "    filter(' amount_paid > 600 AND isnan(amount_paid) = false'). \\\n",
    "    show()"
   ]
  },
  {
   "cell_type": "code",
   "execution_count": 0,
   "metadata": {
    "application/vnd.databricks.v1+cell": {
     "cellMetadata": {
      "byteLimit": 2048000,
      "rowLimit": 10000
     },
     "inputWidgets": {},
     "nuid": "d80ab224-3e9e-4556-be00-bf05928b3f6c",
     "showTitle": false,
     "title": ""
    }
   },
   "outputs": [
    {
     "output_type": "stream",
     "name": "stdout",
     "output_type": "stream",
     "text": [
      "+---+-----------+\n| id|amount_paid|\n+---+-----------+\n|  5|        NaN|\n+---+-----------+\n\n"
     ]
    }
   ],
   "source": [
    "userdf. \\\n",
    "    select('id', 'amount_paid'). \\\n",
    "    filter( (col('amount_paid') > 600) & (isnan(col('amount_paid')) == True)). \\\n",
    "    show()"
   ]
  },
  {
   "cell_type": "code",
   "execution_count": 0,
   "metadata": {
    "application/vnd.databricks.v1+cell": {
     "cellMetadata": {
      "byteLimit": 2048000,
      "rowLimit": 10000
     },
     "inputWidgets": {},
     "nuid": "3dc935e0-edc0-4a98-8bc0-768345d5a149",
     "showTitle": false,
     "title": ""
    }
   },
   "outputs": [
    {
     "output_type": "stream",
     "name": "stdout",
     "output_type": "stream",
     "text": [
      "+---+-------------+\n| id|customer_from|\n+---+-------------+\n|  1|   2021-01-15|\n|  2|   2022-05-15|\n|  3|   2023-01-12|\n|  4|         NULL|\n|  5|         NULL|\n+---+-------------+\n\n"
     ]
    }
   ],
   "source": [
    "userdf. \\\n",
    "    select('id', 'customer_from'). \\\n",
    "    show()\n"
   ]
  },
  {
   "cell_type": "code",
   "execution_count": 0,
   "metadata": {
    "application/vnd.databricks.v1+cell": {
     "cellMetadata": {
      "byteLimit": 2048000,
      "rowLimit": 10000
     },
     "inputWidgets": {},
     "nuid": "db55faea-afea-4e56-85e7-03c1634ef84a",
     "showTitle": false,
     "title": ""
    }
   },
   "outputs": [
    {
     "output_type": "stream",
     "name": "stdout",
     "output_type": "stream",
     "text": [
      "root\n |-- id: long (nullable = true)\n |-- customer_from: date (nullable = true)\n\n"
     ]
    }
   ],
   "source": [
    "userdf. \\\n",
    "    select('id', 'customer_from'). \\\n",
    "    printSchema()\n"
   ]
  },
  {
   "cell_type": "code",
   "execution_count": 0,
   "metadata": {
    "application/vnd.databricks.v1+cell": {
     "cellMetadata": {
      "byteLimit": 2048000,
      "rowLimit": 10000
     },
     "inputWidgets": {},
     "nuid": "9d778717-f8f4-4fa1-90f0-0a0590357789",
     "showTitle": false,
     "title": ""
    }
   },
   "outputs": [
    {
     "output_type": "stream",
     "name": "stdout",
     "output_type": "stream",
     "text": [
      "+---+-------------+\n| id|customer_from|\n+---+-------------+\n|  2|   2022-05-15|\n|  3|   2023-01-12|\n+---+-------------+\n\n"
     ]
    }
   ],
   "source": [
    "userdf. \\\n",
    "    select('id', 'customer_from'). \\\n",
    "    filter( col('customer_from') > '2021-01-15' ). \\\n",
    "    show()\n"
   ]
  },
  {
   "cell_type": "code",
   "execution_count": 0,
   "metadata": {
    "application/vnd.databricks.v1+cell": {
     "cellMetadata": {
      "byteLimit": 2048000,
      "rowLimit": 10000
     },
     "inputWidgets": {},
     "nuid": "f77a2642-225a-456a-b39c-6767b6cd0f3f",
     "showTitle": false,
     "title": ""
    }
   },
   "outputs": [
    {
     "output_type": "stream",
     "name": "stdout",
     "output_type": "stream",
     "text": [
      "+---+-------------+\n| id|customer_from|\n+---+-------------+\n|  2|   2022-05-15|\n|  3|   2023-01-12|\n+---+-------------+\n\n"
     ]
    }
   ],
   "source": [
    "userdf. \\\n",
    "    select('id', 'customer_from'). \\\n",
    "    filter('customer_from > \"2021-01-15\"'). \\\n",
    "    show()\n"
   ]
  },
  {
   "cell_type": "code",
   "execution_count": 0,
   "metadata": {
    "application/vnd.databricks.v1+cell": {
     "cellMetadata": {},
     "inputWidgets": {},
     "nuid": "4efa10b7-5c00-4d19-8ad6-594fb502febb",
     "showTitle": false,
     "title": ""
    }
   },
   "outputs": [],
   "source": []
  }
 ],
 "metadata": {
  "application/vnd.databricks.v1+notebook": {
   "dashboards": [],
   "language": "python",
   "notebookMetadata": {
    "pythonIndentUnit": 4
   },
   "notebookName": "11 - Filtering with greater than and less than on Spark Data Frames",
   "widgets": {}
  }
 },
 "nbformat": 4,
 "nbformat_minor": 0
}
