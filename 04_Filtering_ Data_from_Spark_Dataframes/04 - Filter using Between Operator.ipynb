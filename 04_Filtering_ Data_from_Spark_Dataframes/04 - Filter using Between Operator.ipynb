{
 "cells": [
  {
   "cell_type": "code",
   "execution_count": 0,
   "metadata": {
    "application/vnd.databricks.v1+cell": {
     "cellMetadata": {
      "byteLimit": 2048000,
      "rowLimit": 10000
     },
     "inputWidgets": {},
     "nuid": "a785a369-fc32-4bfd-8b96-2dba6d729019",
     "showTitle": false,
     "title": ""
    }
   },
   "outputs": [
    {
     "output_type": "stream",
     "name": "stdout",
     "output_type": "stream",
     "text": [
      "+---+----------+------------+------+------------+--------------------+--------------------------------+-------+-----------+-----------+-------------+-------------------+\n|id |first_name|last_name   |gender|current_city|email               |phone_numbers                   |courses|is_customer|amount_paid|customer_from|last_updated_ts    |\n+---+----------+------------+------+------------+--------------------+--------------------------------+-------+-----------+-----------+-------------+-------------------+\n|1  |Corrie    |Van den Oord|male  |Dallas      |cvandenoor@etsy.com |{+91 8645879087, +91 9878673289}|[1, 2] |true       |1000.55    |2021-01-15   |2021-02-10 01:15:00|\n|2  |John      |Cena        |male  |Texas       |john@cena.com       |{+91 9886879087, +91 9134673289}|[1]    |true       |900.0      |2022-05-15   |2024-03-15 01:16:00|\n|3  |James     |Bond        |female|New York    |james@bond.com      |{+91 3245879087, +91 9854673289}|[2, 3] |false      |750.6      |2023-01-12   |2018-05-05 05:17:02|\n|4  |Robert    |Dowrey      |male  |Illions     |robert@dowrey.com   |NULL                            |[2]    |true       |500.5      |NULL         |2019-04-03 08:14:08|\n|5  |Chris     |Hemmsworth  |female|New Orleans |chris@hemmsworth.com|{+91 9085879087, }              |[3, 4] |false      |NaN        |NULL         |2019-04-03 08:14:08|\n+---+----------+------------+------+------------+--------------------+--------------------------------+-------+-----------+-----------+-------------+-------------------+\n\n"
     ]
    }
   ],
   "source": [
    "%run \"/Users/surajthallapalli@outlook.com/04 Filtering Data from Spark Dataframes/02 - Creating Spark Data Frame for filtering\""
   ]
  },
  {
   "cell_type": "code",
   "execution_count": 0,
   "metadata": {
    "application/vnd.databricks.v1+cell": {
     "cellMetadata": {
      "byteLimit": 2048000,
      "rowLimit": 10000
     },
     "inputWidgets": {},
     "nuid": "55696555-4cd5-4d57-906c-836d2166c866",
     "showTitle": false,
     "title": ""
    }
   },
   "outputs": [
    {
     "output_type": "stream",
     "name": "stdout",
     "output_type": "stream",
     "text": [
      "+---+--------------------+-------------------+\n| id|               email|    last_updated_ts|\n+---+--------------------+-------------------+\n|  1| cvandenoor@etsy.com|2021-02-10 01:15:00|\n|  2|       john@cena.com|2024-03-15 01:16:00|\n|  3|      james@bond.com|2018-05-05 05:17:02|\n|  4|   robert@dowrey.com|2019-04-03 08:14:08|\n|  5|chris@hemmsworth.com|2019-04-03 08:14:08|\n+---+--------------------+-------------------+\n\n"
     ]
    }
   ],
   "source": [
    "userdf. \\\n",
    "    select('id', 'email', 'last_updated_ts'). \\\n",
    "    show()"
   ]
  },
  {
   "cell_type": "code",
   "execution_count": 0,
   "metadata": {
    "application/vnd.databricks.v1+cell": {
     "cellMetadata": {
      "byteLimit": 2048000,
      "rowLimit": 10000
     },
     "inputWidgets": {},
     "nuid": "45e7bd59-851a-4795-be8e-2d47e1656625",
     "showTitle": false,
     "title": ""
    }
   },
   "outputs": [],
   "source": [
    "from pyspark.sql.functions import *"
   ]
  },
  {
   "cell_type": "code",
   "execution_count": 0,
   "metadata": {
    "application/vnd.databricks.v1+cell": {
     "cellMetadata": {
      "byteLimit": 2048000,
      "rowLimit": 10000
     },
     "inputWidgets": {},
     "nuid": "7d8ff756-0595-4cb8-9c7c-7ad45cf1a653",
     "showTitle": false,
     "title": ""
    }
   },
   "outputs": [],
   "source": [
    "c = col('last_updated_ts')"
   ]
  },
  {
   "cell_type": "code",
   "execution_count": 0,
   "metadata": {
    "application/vnd.databricks.v1+cell": {
     "cellMetadata": {
      "byteLimit": 2048000,
      "rowLimit": 10000
     },
     "inputWidgets": {},
     "nuid": "ad481164-7ef1-4a91-bdbb-c66e2eca122e",
     "showTitle": false,
     "title": ""
    }
   },
   "outputs": [
    {
     "output_type": "execute_result",
     "data": {
      "text/plain": [
       "<bound method Column.between of Column<'last_updated_ts'>>"
      ]
     },
     "execution_count": 9,
     "metadata": {},
     "output_type": "execute_result"
    }
   ],
   "source": [
    "c.between"
   ]
  },
  {
   "cell_type": "code",
   "execution_count": 0,
   "metadata": {
    "application/vnd.databricks.v1+cell": {
     "cellMetadata": {
      "byteLimit": 2048000,
      "rowLimit": 10000
     },
     "inputWidgets": {},
     "nuid": "80ae4e17-fce9-496d-b33f-3029aca31a56",
     "showTitle": false,
     "title": ""
    }
   },
   "outputs": [
    {
     "output_type": "stream",
     "name": "stdout",
     "output_type": "stream",
     "text": [
      "Help on method between in module pyspark.sql.column:\n\nbetween(lowerBound: Union[ForwardRef('Column'), ForwardRef('LiteralType'), ForwardRef('DateTimeLiteral'), ForwardRef('DecimalLiteral')], upperBound: Union[ForwardRef('Column'), ForwardRef('LiteralType'), ForwardRef('DateTimeLiteral'), ForwardRef('DecimalLiteral')]) -> 'Column' method of pyspark.sql.column.Column instance\n    True if the current column is between the lower bound and upper bound, inclusive.\n    \n    .. versionadded:: 1.3.0\n    \n    .. versionchanged:: 3.4.0\n        Supports Spark Connect.\n    \n    Parameters\n    ----------\n    lowerBound : :class:`Column`, int, float, string, bool, datetime, date or Decimal\n        a boolean expression that boundary start, inclusive.\n    upperBound : :class:`Column`, int, float, string, bool, datetime, date or Decimal\n        a boolean expression that boundary end, inclusive.\n    \n    Returns\n    -------\n    :class:`Column`\n        Column of booleans showing whether each element of Column\n        is between left and right (inclusive).\n    \n    Examples\n    --------\n    >>> df = spark.createDataFrame(\n    ...      [(2, \"Alice\"), (5, \"Bob\")], [\"age\", \"name\"])\n    >>> df.select(df.name, df.age.between(2, 4)).show()\n    +-----+---------------------------+\n    | name|((age >= 2) AND (age <= 4))|\n    +-----+---------------------------+\n    |Alice|                       true|\n    |  Bob|                      false|\n    +-----+---------------------------+\n\n"
     ]
    }
   ],
   "source": [
    "help(c.between)"
   ]
  },
  {
   "cell_type": "code",
   "execution_count": 0,
   "metadata": {
    "application/vnd.databricks.v1+cell": {
     "cellMetadata": {
      "byteLimit": 2048000,
      "rowLimit": 10000
     },
     "inputWidgets": {},
     "nuid": "200ddb25-e1d6-40e7-93c4-e7762cb1e94e",
     "showTitle": false,
     "title": ""
    }
   },
   "outputs": [
    {
     "output_type": "stream",
     "name": "stdout",
     "output_type": "stream",
     "text": [
      "+---+--------------------+-------------------+\n| id|               email|    last_updated_ts|\n+---+--------------------+-------------------+\n|  1| cvandenoor@etsy.com|2021-02-10 01:15:00|\n|  3|      james@bond.com|2018-05-05 05:17:02|\n|  4|   robert@dowrey.com|2019-04-03 08:14:08|\n|  5|chris@hemmsworth.com|2019-04-03 08:14:08|\n+---+--------------------+-------------------+\n\n"
     ]
    }
   ],
   "source": [
    "userdf. \\\n",
    "    select('id', 'email', 'last_updated_ts'). \\\n",
    "    filter( col('last_updated_ts').between('2018-02-15', '2023-02-15') ). \\\n",
    "    show()"
   ]
  },
  {
   "cell_type": "code",
   "execution_count": 0,
   "metadata": {
    "application/vnd.databricks.v1+cell": {
     "cellMetadata": {
      "byteLimit": 2048000,
      "rowLimit": 10000
     },
     "inputWidgets": {},
     "nuid": "d879e818-dc65-43e4-9751-8508c67547c5",
     "showTitle": false,
     "title": ""
    }
   },
   "outputs": [
    {
     "output_type": "stream",
     "name": "stdout",
     "output_type": "stream",
     "text": [
      "+---+--------------------+-------------------+\n| id|               email|    last_updated_ts|\n+---+--------------------+-------------------+\n|  1| cvandenoor@etsy.com|2021-02-10 01:15:00|\n|  3|      james@bond.com|2018-05-05 05:17:02|\n|  4|   robert@dowrey.com|2019-04-03 08:14:08|\n|  5|chris@hemmsworth.com|2019-04-03 08:14:08|\n+---+--------------------+-------------------+\n\n"
     ]
    }
   ],
   "source": [
    "userdf. \\\n",
    "    select('id', 'email', 'last_updated_ts'). \\\n",
    "    filter( col('last_updated_ts').between('2018-02-15 00:00:00', '2023-02-15 23:59:59') ). \\\n",
    "    show()"
   ]
  },
  {
   "cell_type": "code",
   "execution_count": 0,
   "metadata": {
    "application/vnd.databricks.v1+cell": {
     "cellMetadata": {
      "byteLimit": 2048000,
      "rowLimit": 10000
     },
     "inputWidgets": {},
     "nuid": "d8b8f4b1-d700-4aa7-96c0-0497521df6ad",
     "showTitle": false,
     "title": ""
    }
   },
   "outputs": [
    {
     "output_type": "stream",
     "name": "stdout",
     "output_type": "stream",
     "text": [
      "+---+--------------------+-------------------+\n| id|               email|    last_updated_ts|\n+---+--------------------+-------------------+\n|  1| cvandenoor@etsy.com|2021-02-10 01:15:00|\n|  3|      james@bond.com|2018-05-05 05:17:02|\n|  4|   robert@dowrey.com|2019-04-03 08:14:08|\n|  5|chris@hemmsworth.com|2019-04-03 08:14:08|\n+---+--------------------+-------------------+\n\n"
     ]
    }
   ],
   "source": [
    "userdf. \\\n",
    "    select('id', 'email', 'last_updated_ts'). \\\n",
    "    filter(\" last_updated_ts BETWEEN '2018-02-15 00:00:00' AND '2023-02-15 23:59:59' \"). \\\n",
    "    show()"
   ]
  },
  {
   "cell_type": "code",
   "execution_count": 0,
   "metadata": {
    "application/vnd.databricks.v1+cell": {
     "cellMetadata": {
      "byteLimit": 2048000,
      "rowLimit": 10000
     },
     "inputWidgets": {},
     "nuid": "62216626-1a78-46fc-ae20-a9c184a838bc",
     "showTitle": false,
     "title": ""
    }
   },
   "outputs": [
    {
     "output_type": "stream",
     "name": "stdout",
     "output_type": "stream",
     "text": [
      "+---+-----------+\n| id|amount_paid|\n+---+-----------+\n|  1|    1000.55|\n|  2|      900.0|\n|  3|      750.6|\n|  4|      500.5|\n|  5|        NaN|\n+---+-----------+\n\n"
     ]
    }
   ],
   "source": [
    "userdf. \\\n",
    "    select('id', 'amount_paid'). \\\n",
    "    show()"
   ]
  },
  {
   "cell_type": "code",
   "execution_count": 0,
   "metadata": {
    "application/vnd.databricks.v1+cell": {
     "cellMetadata": {
      "byteLimit": 2048000,
      "rowLimit": 10000
     },
     "inputWidgets": {},
     "nuid": "f5ba96a6-43d2-42e8-a2ba-b8724c5536c0",
     "showTitle": false,
     "title": ""
    }
   },
   "outputs": [
    {
     "output_type": "stream",
     "name": "stdout",
     "output_type": "stream",
     "text": [
      "+---+-----------+\n| id|amount_paid|\n+---+-----------+\n|  2|      900.0|\n+---+-----------+\n\n"
     ]
    }
   ],
   "source": [
    "userdf. \\\n",
    "    select('id', 'amount_paid'). \\\n",
    "    filter( col('amount_paid').between(850, 900) ). \\\n",
    "    show()"
   ]
  },
  {
   "cell_type": "code",
   "execution_count": 0,
   "metadata": {
    "application/vnd.databricks.v1+cell": {
     "cellMetadata": {
      "byteLimit": 2048000,
      "rowLimit": 10000
     },
     "inputWidgets": {},
     "nuid": "1e7628e4-c31a-4902-b5d9-974c144cfd03",
     "showTitle": false,
     "title": ""
    }
   },
   "outputs": [
    {
     "output_type": "stream",
     "name": "stdout",
     "output_type": "stream",
     "text": [
      "+---+-----------+\n| id|amount_paid|\n+---+-----------+\n|  2|      900.0|\n|  3|      750.6|\n|  4|      500.5|\n+---+-----------+\n\n"
     ]
    }
   ],
   "source": [
    "userdf. \\\n",
    "    select('id', 'amount_paid'). \\\n",
    "    filter(\" amount_paid BETWEEN 500 AND 1000 \"). \\\n",
    "    show()"
   ]
  },
  {
   "cell_type": "code",
   "execution_count": 0,
   "metadata": {
    "application/vnd.databricks.v1+cell": {
     "cellMetadata": {
      "byteLimit": 2048000,
      "rowLimit": 10000
     },
     "inputWidgets": {},
     "nuid": "f288ff04-dd57-4c1b-8d62-fea09c6b075c",
     "showTitle": false,
     "title": ""
    }
   },
   "outputs": [
    {
     "output_type": "stream",
     "name": "stdout",
     "output_type": "stream",
     "text": [
      "+---+-----------+\n| id|amount_paid|\n+---+-----------+\n|  2|      900.0|\n|  3|      750.6|\n|  4|      500.5|\n+---+-----------+\n\n"
     ]
    }
   ],
   "source": [
    "userdf. \\\n",
    "    select('id', 'amount_paid'). \\\n",
    "    filter('amount_paid BETWEEN \"500\" AND \"1000\"'). \\\n",
    "    show()"
   ]
  },
  {
   "cell_type": "code",
   "execution_count": 0,
   "metadata": {
    "application/vnd.databricks.v1+cell": {
     "cellMetadata": {},
     "inputWidgets": {},
     "nuid": "88ed0790-6a0d-4a56-a48b-85d13e6c3a3a",
     "showTitle": false,
     "title": ""
    }
   },
   "outputs": [],
   "source": []
  }
 ],
 "metadata": {
  "application/vnd.databricks.v1+notebook": {
   "dashboards": [],
   "language": "python",
   "notebookMetadata": {
    "pythonIndentUnit": 4
   },
   "notebookName": "04 - Filter using Between Operator",
   "widgets": {}
  }
 },
 "nbformat": 4,
 "nbformat_minor": 0
}
