{
 "cells": [
  {
   "cell_type": "code",
   "execution_count": 0,
   "metadata": {
    "application/vnd.databricks.v1+cell": {
     "cellMetadata": {
      "byteLimit": 2048000,
      "rowLimit": 10000
     },
     "inputWidgets": {},
     "nuid": "be444fad-7c11-45d6-8f2a-a541f25982bb",
     "showTitle": false,
     "title": ""
    }
   },
   "outputs": [
    {
     "output_type": "stream",
     "name": "stdout",
     "output_type": "stream",
     "text": [
      "+---+----------+------------+------+------------+--------------------+--------------------------------+-------+-----------+-----------+-------------+-------------------+\n|id |first_name|last_name   |gender|current_city|email               |phone_numbers                   |courses|is_customer|amount_paid|customer_from|last_updated_ts    |\n+---+----------+------------+------+------------+--------------------+--------------------------------+-------+-----------+-----------+-------------+-------------------+\n|1  |Corrie    |Van den Oord|male  |Dallas      |cvandenoor@etsy.com |{+91 8645879087, +91 9878673289}|[1, 2] |true       |1000.55    |2021-01-15   |2021-02-10 01:15:00|\n|2  |John      |Cena        |male  |Texas       |john@cena.com       |{+91 9886879087, +91 9134673289}|[1]    |true       |900.0      |2022-05-15   |2024-03-15 01:16:00|\n|3  |James     |Bond        |female|New York    |james@bond.com      |{+91 3245879087, +91 9854673289}|[2, 3] |false      |750.6      |2023-01-12   |2018-05-05 05:17:02|\n|4  |Robert    |Dowrey      |male  |Illions     |robert@dowrey.com   |NULL                            |[2]    |true       |500.5      |NULL         |2019-04-03 08:14:08|\n|5  |Chris     |Hemmsworth  |female|New Orleans |chris@hemmsworth.com|{+91 9085879087, }              |[3, 4] |false      |NaN        |NULL         |2019-04-03 08:14:08|\n+---+----------+------------+------+------------+--------------------+--------------------------------+-------+-----------+-----------+-------------+-------------------+\n\n"
     ]
    }
   ],
   "source": [
    "%run \"/Users/surajthallapalli@outlook.com/04 Filtering Data from Spark Dataframes/02 - Creating Spark Data Frame for filtering\""
   ]
  },
  {
   "cell_type": "code",
   "execution_count": 0,
   "metadata": {
    "application/vnd.databricks.v1+cell": {
     "cellMetadata": {
      "byteLimit": 2048000,
      "rowLimit": 10000
     },
     "inputWidgets": {},
     "nuid": "f9a5e5dc-455f-4fd8-9105-5a8bbdc16aa5",
     "showTitle": false,
     "title": ""
    }
   },
   "outputs": [
    {
     "output_type": "stream",
     "name": "stdout",
     "output_type": "stream",
     "text": [
      "+---+----------+------------+------+------------+-------------------+--------------------+-------+-----------+-----------+-------------+-------------------+\n| id|first_name|   last_name|gender|current_city|              email|       phone_numbers|courses|is_customer|amount_paid|customer_from|    last_updated_ts|\n+---+----------+------------+------+------------+-------------------+--------------------+-------+-----------+-----------+-------------+-------------------+\n|  1|    Corrie|Van den Oord|  male|      Dallas|cvandenoor@etsy.com|{+91 8645879087, ...| [1, 2]|       true|    1000.55|   2021-01-15|2021-02-10 01:15:00|\n|  2|      John|        Cena|  male|       Texas|      john@cena.com|{+91 9886879087, ...|    [1]|       true|      900.0|   2022-05-15|2024-03-15 01:16:00|\n|  4|    Robert|      Dowrey|  male|     Illions|  robert@dowrey.com|                NULL|    [2]|       true|      500.5|         NULL|2019-04-03 08:14:08|\n+---+----------+------------+------+------------+-------------------+--------------------+-------+-----------+-----------+-------------+-------------------+\n\n"
     ]
    }
   ],
   "source": [
    "userdf.filter(col('is_customer') == \"true\").show()"
   ]
  },
  {
   "cell_type": "code",
   "execution_count": 0,
   "metadata": {
    "application/vnd.databricks.v1+cell": {
     "cellMetadata": {
      "byteLimit": 2048000,
      "rowLimit": 10000
     },
     "inputWidgets": {},
     "nuid": "1c59171c-4ec9-4344-95ac-ca68a9224988",
     "showTitle": false,
     "title": ""
    }
   },
   "outputs": [
    {
     "output_type": "stream",
     "name": "stdout",
     "output_type": "stream",
     "text": [
      "+---+----------+------------+------+------------+-------------------+--------------------+-------+-----------+-----------+-------------+-------------------+\n| id|first_name|   last_name|gender|current_city|              email|       phone_numbers|courses|is_customer|amount_paid|customer_from|    last_updated_ts|\n+---+----------+------------+------+------------+-------------------+--------------------+-------+-----------+-----------+-------------+-------------------+\n|  1|    Corrie|Van den Oord|  male|      Dallas|cvandenoor@etsy.com|{+91 8645879087, ...| [1, 2]|       true|    1000.55|   2021-01-15|2021-02-10 01:15:00|\n|  2|      John|        Cena|  male|       Texas|      john@cena.com|{+91 9886879087, ...|    [1]|       true|      900.0|   2022-05-15|2024-03-15 01:16:00|\n|  4|    Robert|      Dowrey|  male|     Illions|  robert@dowrey.com|                NULL|    [2]|       true|      500.5|         NULL|2019-04-03 08:14:08|\n+---+----------+------------+------+------------+-------------------+--------------------+-------+-----------+-----------+-------------+-------------------+\n\n"
     ]
    }
   ],
   "source": [
    "userdf.filter(col('is_customer') == True).show()"
   ]
  },
  {
   "cell_type": "code",
   "execution_count": 0,
   "metadata": {
    "application/vnd.databricks.v1+cell": {
     "cellMetadata": {
      "byteLimit": 2048000,
      "rowLimit": 10000
     },
     "inputWidgets": {},
     "nuid": "813d00fc-d454-4d99-924a-093a47789d8d",
     "showTitle": false,
     "title": ""
    }
   },
   "outputs": [
    {
     "output_type": "stream",
     "name": "stdout",
     "output_type": "stream",
     "text": [
      "+---+----------+----------+------+------------+--------------------+--------------------+-------+-----------+-----------+-------------+-------------------+\n| id|first_name| last_name|gender|current_city|               email|       phone_numbers|courses|is_customer|amount_paid|customer_from|    last_updated_ts|\n+---+----------+----------+------+------------+--------------------+--------------------+-------+-----------+-----------+-------------+-------------------+\n|  3|     James|      Bond|female|    New York|      james@bond.com|{+91 3245879087, ...| [2, 3]|      false|      750.6|   2023-01-12|2018-05-05 05:17:02|\n|  5|     Chris|Hemmsworth|female| New Orleans|chris@hemmsworth.com|  {+91 9085879087, }| [3, 4]|      false|        NaN|         NULL|2019-04-03 08:14:08|\n+---+----------+----------+------+------------+--------------------+--------------------+-------+-----------+-----------+-------------+-------------------+\n\n"
     ]
    }
   ],
   "source": [
    "userdf.filter(col('is_customer') == False).show()"
   ]
  },
  {
   "cell_type": "code",
   "execution_count": 0,
   "metadata": {
    "application/vnd.databricks.v1+cell": {
     "cellMetadata": {
      "byteLimit": 2048000,
      "rowLimit": 10000
     },
     "inputWidgets": {},
     "nuid": "b9d873c7-69c2-4ade-b233-171534aae440",
     "showTitle": false,
     "title": ""
    }
   },
   "outputs": [
    {
     "output_type": "stream",
     "name": "stdout",
     "output_type": "stream",
     "text": [
      "+---+----------+------------+------+------------+-------------------+--------------------+-------+-----------+-----------+-------------+-------------------+\n| id|first_name|   last_name|gender|current_city|              email|       phone_numbers|courses|is_customer|amount_paid|customer_from|    last_updated_ts|\n+---+----------+------------+------+------------+-------------------+--------------------+-------+-----------+-----------+-------------+-------------------+\n|  1|    Corrie|Van den Oord|  male|      Dallas|cvandenoor@etsy.com|{+91 8645879087, ...| [1, 2]|       true|    1000.55|   2021-01-15|2021-02-10 01:15:00|\n|  2|      John|        Cena|  male|       Texas|      john@cena.com|{+91 9886879087, ...|    [1]|       true|      900.0|   2022-05-15|2024-03-15 01:16:00|\n|  4|    Robert|      Dowrey|  male|     Illions|  robert@dowrey.com|                NULL|    [2]|       true|      500.5|         NULL|2019-04-03 08:14:08|\n+---+----------+------------+------+------------+-------------------+--------------------+-------+-----------+-----------+-------------+-------------------+\n\n"
     ]
    }
   ],
   "source": [
    "userdf.filter('is_customer == true').show()"
   ]
  },
  {
   "cell_type": "code",
   "execution_count": 0,
   "metadata": {
    "application/vnd.databricks.v1+cell": {
     "cellMetadata": {
      "byteLimit": 2048000,
      "rowLimit": 10000
     },
     "inputWidgets": {},
     "nuid": "29c24ba3-4e4c-4b3b-bf0e-f26a2ea20b4f",
     "showTitle": false,
     "title": ""
    }
   },
   "outputs": [
    {
     "output_type": "stream",
     "name": "stdout",
     "output_type": "stream",
     "text": [
      "+---+----------+------------+------+------------+-------------------+--------------------+-------+-----------+-----------+-------------+-------------------+\n| id|first_name|   last_name|gender|current_city|              email|       phone_numbers|courses|is_customer|amount_paid|customer_from|    last_updated_ts|\n+---+----------+------------+------+------------+-------------------+--------------------+-------+-----------+-----------+-------------+-------------------+\n|  1|    Corrie|Van den Oord|  male|      Dallas|cvandenoor@etsy.com|{+91 8645879087, ...| [1, 2]|       true|    1000.55|   2021-01-15|2021-02-10 01:15:00|\n|  2|      John|        Cena|  male|       Texas|      john@cena.com|{+91 9886879087, ...|    [1]|       true|      900.0|   2022-05-15|2024-03-15 01:16:00|\n|  4|    Robert|      Dowrey|  male|     Illions|  robert@dowrey.com|                NULL|    [2]|       true|      500.5|         NULL|2019-04-03 08:14:08|\n+---+----------+------------+------+------------+-------------------+--------------------+-------+-----------+-----------+-------------+-------------------+\n\n"
     ]
    }
   ],
   "source": [
    "userdf.filter('is_customer = true').show()"
   ]
  },
  {
   "cell_type": "code",
   "execution_count": 0,
   "metadata": {
    "application/vnd.databricks.v1+cell": {
     "cellMetadata": {
      "byteLimit": 2048000,
      "rowLimit": 10000
     },
     "inputWidgets": {},
     "nuid": "2773dc32-838e-4e94-b235-e3de88ebb3c9",
     "showTitle": false,
     "title": ""
    }
   },
   "outputs": [],
   "source": [
    "userdf.createOrReplaceTempView('users')"
   ]
  },
  {
   "cell_type": "code",
   "execution_count": 0,
   "metadata": {
    "application/vnd.databricks.v1+cell": {
     "cellMetadata": {
      "byteLimit": 2048000,
      "rowLimit": 10000
     },
     "inputWidgets": {},
     "nuid": "8e0862cb-210e-46a1-924f-7fba3bcae997",
     "showTitle": false,
     "title": ""
    }
   },
   "outputs": [
    {
     "output_type": "stream",
     "name": "stdout",
     "output_type": "stream",
     "text": [
      "+---+----------+------------+------+------------+-------------------+--------------------+-------+-----------+-----------+-------------+-------------------+\n| id|first_name|   last_name|gender|current_city|              email|       phone_numbers|courses|is_customer|amount_paid|customer_from|    last_updated_ts|\n+---+----------+------------+------+------------+-------------------+--------------------+-------+-----------+-----------+-------------+-------------------+\n|  1|    Corrie|Van den Oord|  male|      Dallas|cvandenoor@etsy.com|{+91 8645879087, ...| [1, 2]|       true|    1000.55|   2021-01-15|2021-02-10 01:15:00|\n|  2|      John|        Cena|  male|       Texas|      john@cena.com|{+91 9886879087, ...|    [1]|       true|      900.0|   2022-05-15|2024-03-15 01:16:00|\n|  4|    Robert|      Dowrey|  male|     Illions|  robert@dowrey.com|                NULL|    [2]|       true|      500.5|         NULL|2019-04-03 08:14:08|\n+---+----------+------------+------+------------+-------------------+--------------------+-------+-----------+-----------+-------------+-------------------+\n\n"
     ]
    }
   ],
   "source": [
    "spark.sql(\"\"\"\n",
    "        SELECT *\n",
    "        FROM users\n",
    "        WHERE is_customer = \"true\"\n",
    " \"\"\"). \\\n",
    "     show()"
   ]
  },
  {
   "cell_type": "code",
   "execution_count": 0,
   "metadata": {
    "application/vnd.databricks.v1+cell": {
     "cellMetadata": {
      "byteLimit": 2048000,
      "implicitDf": true,
      "rowLimit": 10000
     },
     "inputWidgets": {},
     "nuid": "8fa17047-5e03-41b9-b726-133a60ed2815",
     "showTitle": false,
     "title": ""
    }
   },
   "outputs": [
    {
     "output_type": "display_data",
     "data": {
      "text/html": [
       "<style scoped>\n",
       "  .table-result-container {\n",
       "    max-height: 300px;\n",
       "    overflow: auto;\n",
       "  }\n",
       "  table, th, td {\n",
       "    border: 1px solid black;\n",
       "    border-collapse: collapse;\n",
       "  }\n",
       "  th, td {\n",
       "    padding: 5px;\n",
       "  }\n",
       "  th {\n",
       "    text-align: left;\n",
       "  }\n",
       "</style><div class='table-result-container'><table class='table-result'><thead style='background-color: white'><tr><th>id</th><th>first_name</th><th>last_name</th><th>gender</th><th>current_city</th><th>email</th><th>phone_numbers</th><th>courses</th><th>is_customer</th><th>amount_paid</th><th>customer_from</th><th>last_updated_ts</th></tr></thead><tbody><tr><td>1</td><td>Corrie</td><td>Van den Oord</td><td>male</td><td>Dallas</td><td>cvandenoor@etsy.com</td><td>List(+91 8645879087, +91 9878673289)</td><td>List(1, 2)</td><td>true</td><td>1000.55</td><td>2021-01-15</td><td>2021-02-10T01:15:00.000+0000</td></tr><tr><td>2</td><td>John</td><td>Cena</td><td>male</td><td>Texas</td><td>john@cena.com</td><td>List(+91 9886879087, +91 9134673289)</td><td>List(1)</td><td>true</td><td>900.0</td><td>2022-05-15</td><td>2024-03-15T01:16:00.000+0000</td></tr><tr><td>4</td><td>Robert</td><td>Dowrey</td><td>male</td><td>Illions</td><td>robert@dowrey.com</td><td>null</td><td>List(2)</td><td>true</td><td>500.5</td><td>null</td><td>2019-04-03T08:14:08.000+0000</td></tr></tbody></table></div>"
      ]
     },
     "metadata": {
      "application/vnd.databricks.v1+output": {
       "addedWidgets": {},
       "aggData": [],
       "aggError": "",
       "aggOverflow": false,
       "aggSchema": [],
       "aggSeriesLimitReached": false,
       "aggType": "",
       "arguments": {},
       "columnCustomDisplayInfos": {},
       "data": [
        [
         1,
         "Corrie",
         "Van den Oord",
         "male",
         "Dallas",
         "cvandenoor@etsy.com",
         [
          "+91 8645879087",
          "+91 9878673289"
         ],
         [
          1,
          2
         ],
         true,
         1000.55,
         "2021-01-15",
         "2021-02-10T01:15:00.000+0000"
        ],
        [
         2,
         "John",
         "Cena",
         "male",
         "Texas",
         "john@cena.com",
         [
          "+91 9886879087",
          "+91 9134673289"
         ],
         [
          1
         ],
         true,
         900.0,
         "2022-05-15",
         "2024-03-15T01:16:00.000+0000"
        ],
        [
         4,
         "Robert",
         "Dowrey",
         "male",
         "Illions",
         "robert@dowrey.com",
         null,
         [
          2
         ],
         true,
         500.5,
         null,
         "2019-04-03T08:14:08.000+0000"
        ]
       ],
       "datasetInfos": [],
       "dbfsResultPath": null,
       "isJsonSchema": true,
       "metadata": {
        "dataframeName": "_sqldf",
        "executionCount": 14
       },
       "overflow": false,
       "plotOptions": {
        "customPlotOptions": {},
        "displayType": "table",
        "pivotAggregation": null,
        "pivotColumns": null,
        "xColumns": null,
        "yColumns": null
       },
       "removedWidgets": [],
       "schema": [
        {
         "metadata": "{}",
         "name": "id",
         "type": "\"long\""
        },
        {
         "metadata": "{}",
         "name": "first_name",
         "type": "\"string\""
        },
        {
         "metadata": "{}",
         "name": "last_name",
         "type": "\"string\""
        },
        {
         "metadata": "{}",
         "name": "gender",
         "type": "\"string\""
        },
        {
         "metadata": "{}",
         "name": "current_city",
         "type": "\"string\""
        },
        {
         "metadata": "{}",
         "name": "email",
         "type": "\"string\""
        },
        {
         "metadata": "{}",
         "name": "phone_numbers",
         "type": "{\"type\":\"struct\",\"fields\":[{\"name\":\"mobile\",\"type\":\"string\",\"nullable\":true,\"metadata\":{}},{\"name\":\"home\",\"type\":\"string\",\"nullable\":true,\"metadata\":{}}]}"
        },
        {
         "metadata": "{}",
         "name": "courses",
         "type": "{\"type\":\"array\",\"elementType\":\"long\",\"containsNull\":true}"
        },
        {
         "metadata": "{}",
         "name": "is_customer",
         "type": "\"boolean\""
        },
        {
         "metadata": "{}",
         "name": "amount_paid",
         "type": "\"double\""
        },
        {
         "metadata": "{}",
         "name": "customer_from",
         "type": "\"date\""
        },
        {
         "metadata": "{}",
         "name": "last_updated_ts",
         "type": "\"timestamp\""
        }
       ],
       "type": "table"
      }
     },
     "output_type": "display_data"
    }
   ],
   "source": [
    "%sql\n",
    "SELECT * FROM users WHERE is_customer = \"true\""
   ]
  },
  {
   "cell_type": "code",
   "execution_count": 0,
   "metadata": {
    "application/vnd.databricks.v1+cell": {
     "cellMetadata": {
      "byteLimit": 2048000,
      "rowLimit": 10000
     },
     "inputWidgets": {},
     "nuid": "c8d45dad-0a00-42f6-846f-564b7e1f1d72",
     "showTitle": false,
     "title": ""
    }
   },
   "outputs": [
    {
     "output_type": "stream",
     "name": "stdout",
     "output_type": "stream",
     "text": [
      "+---+----------+------------+------+------------+-------------------+--------------------+-------+-----------+-----------+-------------+-------------------+\n| id|first_name|   last_name|gender|current_city|              email|       phone_numbers|courses|is_customer|amount_paid|customer_from|    last_updated_ts|\n+---+----------+------------+------+------------+-------------------+--------------------+-------+-----------+-----------+-------------+-------------------+\n|  1|    Corrie|Van den Oord|  male|      Dallas|cvandenoor@etsy.com|{+91 8645879087, ...| [1, 2]|       true|    1000.55|   2021-01-15|2021-02-10 01:15:00|\n+---+----------+------------+------+------------+-------------------+--------------------+-------+-----------+-----------+-------------+-------------------+\n\n"
     ]
    }
   ],
   "source": [
    "userdf.filter(col('current_city') == 'Dallas' ).show()"
   ]
  },
  {
   "cell_type": "code",
   "execution_count": 0,
   "metadata": {
    "application/vnd.databricks.v1+cell": {
     "cellMetadata": {
      "byteLimit": 2048000,
      "rowLimit": 10000
     },
     "inputWidgets": {},
     "nuid": "fe265a16-c655-483c-8f24-91a4f58a90b5",
     "showTitle": false,
     "title": ""
    }
   },
   "outputs": [
    {
     "output_type": "stream",
     "name": "stdout",
     "output_type": "stream",
     "text": [
      "+---+----------+------------+------+------------+-------------------+--------------------+-------+-----------+-----------+-------------+-------------------+\n| id|first_name|   last_name|gender|current_city|              email|       phone_numbers|courses|is_customer|amount_paid|customer_from|    last_updated_ts|\n+---+----------+------------+------+------------+-------------------+--------------------+-------+-----------+-----------+-------------+-------------------+\n|  1|    Corrie|Van den Oord|  male|      Dallas|cvandenoor@etsy.com|{+91 8645879087, ...| [1, 2]|       true|    1000.55|   2021-01-15|2021-02-10 01:15:00|\n+---+----------+------------+------+------------+-------------------+--------------------+-------+-----------+-----------+-------------+-------------------+\n\n"
     ]
    }
   ],
   "source": [
    "userdf.filter(\"current_city == 'Dallas'\").show()"
   ]
  },
  {
   "cell_type": "code",
   "execution_count": 0,
   "metadata": {
    "application/vnd.databricks.v1+cell": {
     "cellMetadata": {
      "byteLimit": 2048000,
      "rowLimit": 10000
     },
     "inputWidgets": {},
     "nuid": "e2420006-efef-42d0-8e9f-e19054bb6ccc",
     "showTitle": false,
     "title": ""
    }
   },
   "outputs": [
    {
     "output_type": "stream",
     "name": "stdout",
     "output_type": "stream",
     "text": [
      "+---+----------+------------+------+------------+-------------------+--------------------+-------+-----------+-----------+-------------+-------------------+\n| id|first_name|   last_name|gender|current_city|              email|       phone_numbers|courses|is_customer|amount_paid|customer_from|    last_updated_ts|\n+---+----------+------------+------+------------+-------------------+--------------------+-------+-----------+-----------+-------------+-------------------+\n|  1|    Corrie|Van den Oord|  male|      Dallas|cvandenoor@etsy.com|{+91 8645879087, ...| [1, 2]|       true|    1000.55|   2021-01-15|2021-02-10 01:15:00|\n+---+----------+------------+------+------------+-------------------+--------------------+-------+-----------+-----------+-------------+-------------------+\n\n"
     ]
    }
   ],
   "source": [
    "userdf.filter(\"amount_paid == 1000.55\").show()"
   ]
  },
  {
   "cell_type": "code",
   "execution_count": 0,
   "metadata": {
    "application/vnd.databricks.v1+cell": {
     "cellMetadata": {
      "byteLimit": 2048000,
      "rowLimit": 10000
     },
     "inputWidgets": {},
     "nuid": "6fd4f3d4-1b62-4d74-983e-b9d0af52f7d7",
     "showTitle": false,
     "title": ""
    }
   },
   "outputs": [
    {
     "output_type": "stream",
     "name": "stdout",
     "output_type": "stream",
     "text": [
      "+---+----------+------------+------+------------+-------------------+--------------------+-------+-----------+-----------+-------------+-------------------+\n| id|first_name|   last_name|gender|current_city|              email|       phone_numbers|courses|is_customer|amount_paid|customer_from|    last_updated_ts|\n+---+----------+------------+------+------------+-------------------+--------------------+-------+-----------+-----------+-------------+-------------------+\n|  1|    Corrie|Van den Oord|  male|      Dallas|cvandenoor@etsy.com|{+91 8645879087, ...| [1, 2]|       true|    1000.55|   2021-01-15|2021-02-10 01:15:00|\n+---+----------+------------+------+------------+-------------------+--------------------+-------+-----------+-----------+-------------+-------------------+\n\n"
     ]
    }
   ],
   "source": [
    "userdf.filter('amount_paid == 1000.55').show()"
   ]
  },
  {
   "cell_type": "code",
   "execution_count": 0,
   "metadata": {
    "application/vnd.databricks.v1+cell": {
     "cellMetadata": {
      "byteLimit": 2048000,
      "rowLimit": 10000
     },
     "inputWidgets": {},
     "nuid": "a7defb8d-40d7-4191-8aba-93e4d082dddd",
     "showTitle": false,
     "title": ""
    }
   },
   "outputs": [
    {
     "output_type": "stream",
     "name": "stdout",
     "output_type": "stream",
     "text": [
      "+---+----------+------------+------+------------+-------------------+--------------------+-------+-----------+-----------+-------------+-------------------+\n| id|first_name|   last_name|gender|current_city|              email|       phone_numbers|courses|is_customer|amount_paid|customer_from|    last_updated_ts|\n+---+----------+------------+------+------------+-------------------+--------------------+-------+-----------+-----------+-------------+-------------------+\n|  1|    Corrie|Van den Oord|  male|      Dallas|cvandenoor@etsy.com|{+91 8645879087, ...| [1, 2]|       true|    1000.55|   2021-01-15|2021-02-10 01:15:00|\n+---+----------+------------+------+------------+-------------------+--------------------+-------+-----------+-----------+-------------+-------------------+\n\n"
     ]
    }
   ],
   "source": [
    "userdf.filter(col('amount_paid') == 1000.55).show()"
   ]
  },
  {
   "cell_type": "code",
   "execution_count": 0,
   "metadata": {
    "application/vnd.databricks.v1+cell": {
     "cellMetadata": {
      "byteLimit": 2048000,
      "rowLimit": 10000
     },
     "inputWidgets": {},
     "nuid": "3ceb98d9-5b75-4447-8d15-17b17b5c23bf",
     "showTitle": false,
     "title": ""
    }
   },
   "outputs": [
    {
     "output_type": "stream",
     "name": "stdout",
     "output_type": "stream",
     "text": [
      "+---+----------+------------+------+------------+-------------------+--------------------+-------+-----------+-----------+-------------+-------------------+\n| id|first_name|   last_name|gender|current_city|              email|       phone_numbers|courses|is_customer|amount_paid|customer_from|    last_updated_ts|\n+---+----------+------------+------+------------+-------------------+--------------------+-------+-----------+-----------+-------------+-------------------+\n|  1|    Corrie|Van den Oord|  male|      Dallas|cvandenoor@etsy.com|{+91 8645879087, ...| [1, 2]|       true|    1000.55|   2021-01-15|2021-02-10 01:15:00|\n+---+----------+------------+------+------------+-------------------+--------------------+-------+-----------+-----------+-------------+-------------------+\n\n"
     ]
    }
   ],
   "source": [
    "userdf.filter(col('amount_paid') == '1000.55').show()"
   ]
  },
  {
   "cell_type": "code",
   "execution_count": 0,
   "metadata": {
    "application/vnd.databricks.v1+cell": {
     "cellMetadata": {
      "byteLimit": 2048000,
      "rowLimit": 10000
     },
     "inputWidgets": {},
     "nuid": "e8a2cbef-648d-4d00-8725-d1f2419738f7",
     "showTitle": false,
     "title": ""
    }
   },
   "outputs": [
    {
     "output_type": "stream",
     "name": "stdout",
     "output_type": "stream",
     "text": [
      "+---+----------+------------+------+------------+--------------------+--------------------------------+-------+-----------+-----------+-------------+-------------------+\n|id |first_name|last_name   |gender|current_city|email               |phone_numbers                   |courses|is_customer|amount_paid|customer_from|last_updated_ts    |\n+---+----------+------------+------+------------+--------------------+--------------------------------+-------+-----------+-----------+-------------+-------------------+\n|1  |Corrie    |Van den Oord|male  |Dallas      |cvandenoor@etsy.com |{+91 8645879087, +91 9878673289}|[1, 2] |true       |1000.55    |2021-01-15   |2021-02-10 01:15:00|\n|2  |John      |Cena        |male  |Texas       |john@cena.com       |{+91 9886879087, +91 9134673289}|[1]    |true       |900.0      |2022-05-15   |2024-03-15 01:16:00|\n|3  |James     |Bond        |female|New York    |james@bond.com      |{+91 3245879087, +91 9854673289}|[2, 3] |false      |750.6      |2023-01-12   |2018-05-05 05:17:02|\n|4  |Robert    |Dowrey      |male  |Illions     |robert@dowrey.com   |NULL                            |[2]    |true       |500.5      |NULL         |2019-04-03 08:14:08|\n|5  |Chris     |Hemmsworth  |female|New Orleans |chris@hemmsworth.com|{+91 9085879087, }              |[3, 4] |false      |NaN        |NULL         |2019-04-03 08:14:08|\n+---+----------+------------+------+------------+--------------------+--------------------------------+-------+-----------+-----------+-------------+-------------------+\n\n"
     ]
    }
   ],
   "source": [
    "userdf.show(truncate=False)"
   ]
  },
  {
   "cell_type": "code",
   "execution_count": 0,
   "metadata": {
    "application/vnd.databricks.v1+cell": {
     "cellMetadata": {
      "byteLimit": 2048000,
      "rowLimit": 10000
     },
     "inputWidgets": {},
     "nuid": "f8dfecf9-a181-421e-9654-5d8353942a67",
     "showTitle": false,
     "title": ""
    }
   },
   "outputs": [
    {
     "output_type": "stream",
     "name": "stdout",
     "output_type": "stream",
     "text": [
      "+-----------+------------------+\n|amount_paid|isnan(amount_paid)|\n+-----------+------------------+\n|    1000.55|             false|\n|      900.0|             false|\n|      750.6|             false|\n|      500.5|             false|\n|        NaN|              true|\n+-----------+------------------+\n\n"
     ]
    }
   ],
   "source": [
    "userdf.select('amount_paid', isnan('amount_paid')).show()"
   ]
  },
  {
   "cell_type": "code",
   "execution_count": 0,
   "metadata": {
    "application/vnd.databricks.v1+cell": {
     "cellMetadata": {
      "byteLimit": 2048000,
      "rowLimit": 10000
     },
     "inputWidgets": {},
     "nuid": "9f9cacaf-c329-419b-a2f3-602cdae21424",
     "showTitle": false,
     "title": ""
    }
   },
   "outputs": [
    {
     "output_type": "stream",
     "name": "stdout",
     "output_type": "stream",
     "text": [
      "+---+----------+----------+------+------------+--------------------+------------------+-------+-----------+-----------+-------------+-------------------+\n| id|first_name| last_name|gender|current_city|               email|     phone_numbers|courses|is_customer|amount_paid|customer_from|    last_updated_ts|\n+---+----------+----------+------+------------+--------------------+------------------+-------+-----------+-----------+-------------+-------------------+\n|  5|     Chris|Hemmsworth|female| New Orleans|chris@hemmsworth.com|{+91 9085879087, }| [3, 4]|      false|        NaN|         NULL|2019-04-03 08:14:08|\n+---+----------+----------+------+------------+--------------------+------------------+-------+-----------+-----------+-------------+-------------------+\n\n"
     ]
    }
   ],
   "source": [
    "userdf.filter(isnan('amount_paid') == True).show()"
   ]
  },
  {
   "cell_type": "code",
   "execution_count": 0,
   "metadata": {
    "application/vnd.databricks.v1+cell": {
     "cellMetadata": {
      "byteLimit": 2048000,
      "rowLimit": 10000
     },
     "inputWidgets": {},
     "nuid": "7e7bd704-a2b0-43e8-aa57-f81a60be8c39",
     "showTitle": false,
     "title": ""
    }
   },
   "outputs": [
    {
     "output_type": "display_data",
     "data": {
      "text/plain": [
       "\u001B[0;36m  File \u001B[0;32m<command-3888672783470522>, line 1\u001B[0;36m\u001B[0m\n",
       "\u001B[0;31m    userdf.filter(isnan('amount_paid') = True).show()\u001B[0m\n",
       "\u001B[0m                  ^\u001B[0m\n",
       "\u001B[0;31mSyntaxError\u001B[0m\u001B[0;31m:\u001B[0m expression cannot contain assignment, perhaps you meant \"==\"?\n"
      ]
     },
     "metadata": {
      "application/vnd.databricks.v1+output": {
       "arguments": {},
       "data": "\u001B[0;36m  File \u001B[0;32m<command-3888672783470522>, line 1\u001B[0;36m\u001B[0m\n\u001B[0;31m    userdf.filter(isnan('amount_paid') = True).show()\u001B[0m\n\u001B[0m                  ^\u001B[0m\n\u001B[0;31mSyntaxError\u001B[0m\u001B[0;31m:\u001B[0m expression cannot contain assignment, perhaps you meant \"==\"?\n",
       "errorSummary": "<span class='ansi-red-fg'>SyntaxError</span>: expression cannot contain assignment, perhaps you meant \"==\"? (command-3888672783470522-380880594, line 1)",
       "errorTraceType": "ansi",
       "metadata": {},
       "type": "ipynbError"
      }
     },
     "output_type": "display_data"
    }
   ],
   "source": [
    "userdf.filter(isnan('amount_paid') = True).show()"
   ]
  },
  {
   "cell_type": "code",
   "execution_count": 0,
   "metadata": {
    "application/vnd.databricks.v1+cell": {
     "cellMetadata": {
      "byteLimit": 2048000,
      "rowLimit": 10000
     },
     "inputWidgets": {},
     "nuid": "211e4159-047b-425a-a3c2-b947bba80255",
     "showTitle": false,
     "title": ""
    }
   },
   "outputs": [
    {
     "output_type": "stream",
     "name": "stdout",
     "output_type": "stream",
     "text": [
      "+---+----------+----------+------+------------+--------------------+------------------+-------+-----------+-----------+-------------+-------------------+\n| id|first_name| last_name|gender|current_city|               email|     phone_numbers|courses|is_customer|amount_paid|customer_from|    last_updated_ts|\n+---+----------+----------+------+------------+--------------------+------------------+-------+-----------+-----------+-------------+-------------------+\n|  5|     Chris|Hemmsworth|female| New Orleans|chris@hemmsworth.com|{+91 9085879087, }| [3, 4]|      false|        NaN|         NULL|2019-04-03 08:14:08|\n+---+----------+----------+------+------------+--------------------+------------------+-------+-----------+-----------+-------------+-------------------+\n\n"
     ]
    }
   ],
   "source": [
    "userdf.filter('isnan(amount_paid) = True').show()"
   ]
  },
  {
   "cell_type": "code",
   "execution_count": 0,
   "metadata": {
    "application/vnd.databricks.v1+cell": {
     "cellMetadata": {
      "byteLimit": 2048000,
      "rowLimit": 10000
     },
     "inputWidgets": {},
     "nuid": "88fe4034-4b9d-4c83-a010-8ce71ef368aa",
     "showTitle": false,
     "title": ""
    }
   },
   "outputs": [
    {
     "output_type": "stream",
     "name": "stdout",
     "output_type": "stream",
     "text": [
      "+---+----------+----------+------+------------+--------------------+------------------+-------+-----------+-----------+-------------+-------------------+\n| id|first_name| last_name|gender|current_city|               email|     phone_numbers|courses|is_customer|amount_paid|customer_from|    last_updated_ts|\n+---+----------+----------+------+------------+--------------------+------------------+-------+-----------+-----------+-------------+-------------------+\n|  5|     Chris|Hemmsworth|female| New Orleans|chris@hemmsworth.com|{+91 9085879087, }| [3, 4]|      false|        NaN|         NULL|2019-04-03 08:14:08|\n+---+----------+----------+------+------------+--------------------+------------------+-------+-----------+-----------+-------------+-------------------+\n\n"
     ]
    }
   ],
   "source": [
    "userdf.filter('isnan(amount_paid) == True').show()"
   ]
  },
  {
   "cell_type": "code",
   "execution_count": 0,
   "metadata": {
    "application/vnd.databricks.v1+cell": {
     "cellMetadata": {},
     "inputWidgets": {},
     "nuid": "f98619de-25a8-4844-aa83-43c0b01841fc",
     "showTitle": false,
     "title": ""
    }
   },
   "outputs": [],
   "source": []
  }
 ],
 "metadata": {
  "application/vnd.databricks.v1+notebook": {
   "dashboards": [],
   "language": "python",
   "notebookMetadata": {
    "mostRecentlyExecutedCommandWithImplicitDF": {
     "commandId": 3888672783470511,
     "dataframes": [
      "_sqldf"
     ]
    },
    "pythonIndentUnit": 4
   },
   "notebookName": "04 - Overview of Conditions and Operators",
   "widgets": {}
  }
 },
 "nbformat": 4,
 "nbformat_minor": 0
}
