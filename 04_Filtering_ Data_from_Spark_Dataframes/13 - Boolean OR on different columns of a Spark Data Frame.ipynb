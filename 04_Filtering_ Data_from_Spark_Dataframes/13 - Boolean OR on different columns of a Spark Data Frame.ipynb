{
 "cells": [
  {
   "cell_type": "code",
   "execution_count": 0,
   "metadata": {
    "application/vnd.databricks.v1+cell": {
     "cellMetadata": {
      "byteLimit": 2048000,
      "rowLimit": 10000
     },
     "inputWidgets": {},
     "nuid": "555357a7-b836-49fa-9d6d-9b2000e93e58",
     "showTitle": false,
     "title": ""
    }
   },
   "outputs": [
    {
     "output_type": "stream",
     "name": "stdout",
     "output_type": "stream",
     "text": [
      "+---+----------+------------+------+------------+--------------------+--------------------------------+-------+-----------+-----------+-------------+-------------------+\n|id |first_name|last_name   |gender|current_city|email               |phone_numbers                   |courses|is_customer|amount_paid|customer_from|last_updated_ts    |\n+---+----------+------------+------+------------+--------------------+--------------------------------+-------+-----------+-----------+-------------+-------------------+\n|1  |Corrie    |Van den Oord|male  |Dallas      |cvandenoor@etsy.com |{+91 8645879087, +91 9878673289}|[1, 2] |true       |1000.55    |2021-01-15   |2021-02-10 01:15:00|\n|2  |John      |Cena        |male  |Texas       |john@cena.com       |{+91 9886879087, +91 9134673289}|[1]    |true       |900.0      |2022-05-15   |2024-03-15 01:16:00|\n|3  |James     |Bond        |female|New York    |james@bond.com      |{+91 3245879087, +91 9854673289}|[2, 3] |false      |750.6      |2023-01-12   |2018-05-05 05:17:02|\n|4  |Robert    |Dowrey      |male  |Illions     |robert@dowrey.com   |NULL                            |[2]    |true       |500.5      |NULL         |2019-04-03 08:14:08|\n|5  |Chris     |Hemmsworth  |female|New Orleans |chris@hemmsworth.com|{+91 9085879087, }              |[3, 4] |false      |NaN        |NULL         |2019-04-03 08:14:08|\n+---+----------+------------+------+------------+--------------------+--------------------------------+-------+-----------+-----------+-------------+-------------------+\n\n"
     ]
    }
   ],
   "source": [
    "%run \"/Users/surajthallapalli@outlook.com/04 Filtering Data from Spark Dataframes/02 - Creating Spark Data Frame for filtering\""
   ]
  },
  {
   "cell_type": "code",
   "execution_count": 0,
   "metadata": {
    "application/vnd.databricks.v1+cell": {
     "cellMetadata": {
      "byteLimit": 2048000,
      "rowLimit": 10000
     },
     "inputWidgets": {},
     "nuid": "555400f3-58ed-45b0-845b-4aea03ca6000",
     "showTitle": false,
     "title": ""
    }
   },
   "outputs": [],
   "source": [
    "from pyspark.sql.functions import *"
   ]
  },
  {
   "cell_type": "code",
   "execution_count": 0,
   "metadata": {
    "application/vnd.databricks.v1+cell": {
     "cellMetadata": {
      "byteLimit": 2048000,
      "rowLimit": 10000
     },
     "inputWidgets": {},
     "nuid": "a8efa209-5677-4e94-a992-be16d4292658",
     "showTitle": false,
     "title": ""
    }
   },
   "outputs": [
    {
     "output_type": "stream",
     "name": "stdout",
     "output_type": "stream",
     "text": [
      "+---+------+-----------+\n| id|gender|amount_paid|\n+---+------+-----------+\n|  1|  male|    1000.55|\n|  2|  male|      900.0|\n|  4|  male|      500.5|\n|  5|female|        NaN|\n+---+------+-----------+\n\n"
     ]
    }
   ],
   "source": [
    "userdf. \\\n",
    "    select('id', 'gender', 'amount_paid'). \\\n",
    "    filter( (col('is_customer') == True) | (isnan(col('amount_paid')) == True ) ). \\\n",
    "    show()"
   ]
  },
  {
   "cell_type": "code",
   "execution_count": 0,
   "metadata": {
    "application/vnd.databricks.v1+cell": {
     "cellMetadata": {
      "byteLimit": 2048000,
      "rowLimit": 10000
     },
     "inputWidgets": {},
     "nuid": "bbd636f0-5fcf-4d20-aa83-aec81dfd592c",
     "showTitle": false,
     "title": ""
    }
   },
   "outputs": [
    {
     "output_type": "stream",
     "name": "stdout",
     "output_type": "stream",
     "text": [
      "+---+------+-----------+\n| id|gender|amount_paid|\n+---+------+-----------+\n|  1|  male|    1000.55|\n|  2|  male|      900.0|\n|  4|  male|      500.5|\n|  5|female|        NaN|\n+---+------+-----------+\n\n"
     ]
    }
   ],
   "source": [
    "userdf. \\\n",
    "    select('id', 'gender', 'amount_paid'). \\\n",
    "    filter(' is_customer == True OR isnan(amount_paid) == True  '). \\\n",
    "    show()"
   ]
  },
  {
   "cell_type": "code",
   "execution_count": 0,
   "metadata": {
    "application/vnd.databricks.v1+cell": {
     "cellMetadata": {
      "byteLimit": 2048000,
      "rowLimit": 10000
     },
     "inputWidgets": {},
     "nuid": "955e86f8-923e-4343-a1f0-5e8133adb6b5",
     "showTitle": false,
     "title": ""
    }
   },
   "outputs": [
    {
     "output_type": "stream",
     "name": "stdout",
     "output_type": "stream",
     "text": [
      "+---+------+-----------+\n| id|gender|amount_paid|\n+---+------+-----------+\n|  1|  male|    1000.55|\n|  2|  male|      900.0|\n|  4|  male|      500.5|\n|  5|female|        NaN|\n+---+------+-----------+\n\n"
     ]
    }
   ],
   "source": [
    "userdf. \\\n",
    "    select('id', 'gender', 'amount_paid'). \\\n",
    "    filter(' is_customer == true OR isnan(amount_paid) == true  '). \\\n",
    "    show()"
   ]
  },
  {
   "cell_type": "code",
   "execution_count": 0,
   "metadata": {
    "application/vnd.databricks.v1+cell": {
     "cellMetadata": {
      "byteLimit": 2048000,
      "rowLimit": 10000
     },
     "inputWidgets": {},
     "nuid": "cb99a678-56b9-4e09-9c03-09df1a79d750",
     "showTitle": false,
     "title": ""
    }
   },
   "outputs": [
    {
     "output_type": "stream",
     "name": "stdout",
     "output_type": "stream",
     "text": [
      "+---+------+-----------+\n| id|gender|amount_paid|\n+---+------+-----------+\n|  1|  male|    1000.55|\n|  2|  male|      900.0|\n|  4|  male|      500.5|\n|  5|female|        NaN|\n+---+------+-----------+\n\n"
     ]
    }
   ],
   "source": [
    "userdf. \\\n",
    "    select('id', 'gender', 'amount_paid'). \\\n",
    "    filter(' is_customer == \"true\" OR isnan(amount_paid) == \"true\"  '). \\\n",
    "    show()"
   ]
  },
  {
   "cell_type": "code",
   "execution_count": 0,
   "metadata": {
    "application/vnd.databricks.v1+cell": {
     "cellMetadata": {
      "byteLimit": 2048000,
      "rowLimit": 10000
     },
     "inputWidgets": {},
     "nuid": "ec42b796-9d95-4c1b-834d-b0f0b43c2cfb",
     "showTitle": false,
     "title": ""
    }
   },
   "outputs": [
    {
     "output_type": "stream",
     "name": "stdout",
     "output_type": "stream",
     "text": [
      "+---+-----------+-------------------+\n| id|is_customer|    last_updated_ts|\n+---+-----------+-------------------+\n|  1|       true|2021-02-10 01:15:00|\n|  3|      false|2018-05-05 05:17:02|\n|  4|       true|2019-04-03 08:14:08|\n|  5|      false|2019-04-03 08:14:08|\n+---+-----------+-------------------+\n\n"
     ]
    }
   ],
   "source": [
    "userdf. \\\n",
    "    select('id', 'is_customer', 'last_updated_ts'). \\\n",
    "    filter( (col('is_customer') == False) | (col('last_updated_ts') < '2021-03-01' ) ). \\\n",
    "    show()"
   ]
  },
  {
   "cell_type": "code",
   "execution_count": 0,
   "metadata": {
    "application/vnd.databricks.v1+cell": {
     "cellMetadata": {},
     "inputWidgets": {},
     "nuid": "3bcd8bda-f951-4ffb-82c6-3962282f7dbf",
     "showTitle": false,
     "title": ""
    }
   },
   "outputs": [],
   "source": []
  }
 ],
 "metadata": {
  "application/vnd.databricks.v1+notebook": {
   "dashboards": [],
   "language": "python",
   "notebookMetadata": {
    "pythonIndentUnit": 4
   },
   "notebookName": "13 - Boolean OR on different columns of a Spark Data Frame",
   "widgets": {}
  }
 },
 "nbformat": 4,
 "nbformat_minor": 0
}
