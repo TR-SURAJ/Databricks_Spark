{
 "cells": [
  {
   "cell_type": "code",
   "execution_count": 0,
   "metadata": {
    "application/vnd.databricks.v1+cell": {
     "cellMetadata": {
      "byteLimit": 2048000,
      "rowLimit": 10000
     },
     "inputWidgets": {},
     "nuid": "10f7a090-fb68-4ac2-9250-f99b1ad87936",
     "showTitle": false,
     "title": ""
    }
   },
   "outputs": [],
   "source": [
    "df = spark.read.json('/public/retail_db_json/orders')"
   ]
  },
  {
   "cell_type": "code",
   "execution_count": 0,
   "metadata": {
    "application/vnd.databricks.v1+cell": {
     "cellMetadata": {
      "byteLimit": 2048000,
      "rowLimit": 10000
     },
     "inputWidgets": {},
     "nuid": "0cbe53e3-5221-4e04-8da8-6ff6a78c8249",
     "showTitle": false,
     "title": ""
    }
   },
   "outputs": [
    {
     "output_type": "execute_result",
     "data": {
      "text/plain": [
       "[('order_customer_id', 'bigint'),\n",
       " ('order_date', 'string'),\n",
       " ('order_id', 'bigint'),\n",
       " ('order_status', 'string')]"
      ]
     },
     "execution_count": 14,
     "metadata": {},
     "output_type": "execute_result"
    }
   ],
   "source": [
    "df.dtypes"
   ]
  },
  {
   "cell_type": "code",
   "execution_count": 0,
   "metadata": {
    "application/vnd.databricks.v1+cell": {
     "cellMetadata": {
      "byteLimit": 2048000,
      "rowLimit": 10000
     },
     "inputWidgets": {},
     "nuid": "3b09ca22-8806-496c-bbea-ecb194f8ccd7",
     "showTitle": false,
     "title": ""
    }
   },
   "outputs": [],
   "source": [
    "dc = spark.udf.register('date_convert', lambda d:d[:10].replace('-',''))"
   ]
  },
  {
   "cell_type": "code",
   "execution_count": 0,
   "metadata": {
    "application/vnd.databricks.v1+cell": {
     "cellMetadata": {
      "byteLimit": 2048000,
      "rowLimit": 10000
     },
     "inputWidgets": {},
     "nuid": "6f69270e-789e-45b8-b43e-4012723416ed",
     "showTitle": false,
     "title": ""
    }
   },
   "outputs": [
    {
     "output_type": "stream",
     "name": "stdout",
     "output_type": "stream",
     "text": [
      "+----------+\n|order_date|\n+----------+\n|  20130725|\n|  20130725|\n|  20130725|\n|  20130725|\n|  20130725|\n|  20130725|\n|  20130725|\n|  20130725|\n|  20130725|\n|  20130725|\n|  20130725|\n|  20130725|\n|  20130725|\n|  20130725|\n|  20130725|\n|  20130725|\n|  20130725|\n|  20130725|\n|  20130725|\n|  20130725|\n+----------+\nonly showing top 20 rows\n\n"
     ]
    }
   ],
   "source": [
    "df.selectExpr('date_convert(order_date) AS order_date').show()"
   ]
  },
  {
   "cell_type": "code",
   "execution_count": 0,
   "metadata": {
    "application/vnd.databricks.v1+cell": {
     "cellMetadata": {
      "byteLimit": 2048000,
      "rowLimit": 10000
     },
     "inputWidgets": {},
     "nuid": "ef80d8e8-af00-4605-9b00-250c90117200",
     "showTitle": false,
     "title": ""
    }
   },
   "outputs": [],
   "source": [
    "df.createOrReplaceTempView('orders')"
   ]
  },
  {
   "cell_type": "code",
   "execution_count": 0,
   "metadata": {
    "application/vnd.databricks.v1+cell": {
     "cellMetadata": {
      "byteLimit": 2048000,
      "rowLimit": 10000
     },
     "inputWidgets": {},
     "nuid": "c9e00bfd-983e-4dd4-bdfe-31c8719c7c30",
     "showTitle": false,
     "title": ""
    }
   },
   "outputs": [
    {
     "output_type": "stream",
     "name": "stdout",
     "output_type": "stream",
     "text": [
      "+-----------------+--------------------+--------+---------------+-----------------+\n|order_customer_id|          order_date|order_id|   order_status|order_date_as_int|\n+-----------------+--------------------+--------+---------------+-----------------+\n|            11599|2013-07-25 00:00:...|       1|         CLOSED|         20130725|\n|              256|2013-07-25 00:00:...|       2|PENDING_PAYMENT|         20130725|\n|            12111|2013-07-25 00:00:...|       3|       COMPLETE|         20130725|\n|             8827|2013-07-25 00:00:...|       4|         CLOSED|         20130725|\n|            11318|2013-07-25 00:00:...|       5|       COMPLETE|         20130725|\n|             7130|2013-07-25 00:00:...|       6|       COMPLETE|         20130725|\n|             4530|2013-07-25 00:00:...|       7|       COMPLETE|         20130725|\n|             2911|2013-07-25 00:00:...|       8|     PROCESSING|         20130725|\n|             5657|2013-07-25 00:00:...|       9|PENDING_PAYMENT|         20130725|\n|             5648|2013-07-25 00:00:...|      10|PENDING_PAYMENT|         20130725|\n|              918|2013-07-25 00:00:...|      11| PAYMENT_REVIEW|         20130725|\n|             1837|2013-07-25 00:00:...|      12|         CLOSED|         20130725|\n|             9149|2013-07-25 00:00:...|      13|PENDING_PAYMENT|         20130725|\n|             9842|2013-07-25 00:00:...|      14|     PROCESSING|         20130725|\n|             2568|2013-07-25 00:00:...|      15|       COMPLETE|         20130725|\n|             7276|2013-07-25 00:00:...|      16|PENDING_PAYMENT|         20130725|\n|             2667|2013-07-25 00:00:...|      17|       COMPLETE|         20130725|\n|             1205|2013-07-25 00:00:...|      18|         CLOSED|         20130725|\n|             9488|2013-07-25 00:00:...|      19|PENDING_PAYMENT|         20130725|\n|             9198|2013-07-25 00:00:...|      20|     PROCESSING|         20130725|\n+-----------------+--------------------+--------+---------------+-----------------+\nonly showing top 20 rows\n\n"
     ]
    }
   ],
   "source": [
    "spark.sql('''\n",
    "    SELECT o.*, date_convert(order_date) AS order_date_as_int\n",
    "    FROM orders AS o\n",
    " ''').show()"
   ]
  },
  {
   "cell_type": "code",
   "execution_count": 0,
   "metadata": {
    "application/vnd.databricks.v1+cell": {
     "cellMetadata": {
      "byteLimit": 2048000,
      "rowLimit": 10000
     },
     "inputWidgets": {},
     "nuid": "831444c7-3ccf-4c98-ba81-a2b00a4aef59",
     "showTitle": false,
     "title": ""
    }
   },
   "outputs": [
    {
     "output_type": "stream",
     "name": "stdout",
     "output_type": "stream",
     "text": [
      "+-----------------+--------------------+--------+---------------+-----------------+\n|order_customer_id|          order_date|order_id|   order_status|order_date_as_int|\n+-----------------+--------------------+--------+---------------+-----------------+\n|             3414|2014-01-01 00:00:...|   25876|PENDING_PAYMENT|         20140101|\n|             5549|2014-01-01 00:00:...|   25877|PENDING_PAYMENT|         20140101|\n|             9084|2014-01-01 00:00:...|   25878|        PENDING|         20140101|\n|             5118|2014-01-01 00:00:...|   25879|        PENDING|         20140101|\n|            10146|2014-01-01 00:00:...|   25880|       CANCELED|         20140101|\n|             3205|2014-01-01 00:00:...|   25881|PENDING_PAYMENT|         20140101|\n|             4598|2014-01-01 00:00:...|   25882|       COMPLETE|         20140101|\n|            11764|2014-01-01 00:00:...|   25883|        PENDING|         20140101|\n|             7904|2014-01-01 00:00:...|   25884|PENDING_PAYMENT|         20140101|\n|             7253|2014-01-01 00:00:...|   25885|        PENDING|         20140101|\n|             8195|2014-01-01 00:00:...|   25886|     PROCESSING|         20140101|\n|            10062|2014-01-01 00:00:...|   25887|        PENDING|         20140101|\n|             6735|2014-01-01 00:00:...|   25888|       COMPLETE|         20140101|\n|            10045|2014-01-01 00:00:...|   25889|       COMPLETE|         20140101|\n|             2581|2014-01-01 00:00:...|   25890|        PENDING|         20140101|\n|             3037|2014-01-01 00:00:...|   25891|         CLOSED|         20140101|\n|             3853|2014-01-01 00:00:...|   25892|        ON_HOLD|         20140101|\n|             8679|2014-01-01 00:00:...|   25893|PENDING_PAYMENT|         20140101|\n|             7839|2014-01-01 00:00:...|   25894|     PROCESSING|         20140101|\n|             1044|2014-01-01 00:00:...|   25895|       COMPLETE|         20140101|\n+-----------------+--------------------+--------+---------------+-----------------+\nonly showing top 20 rows\n\n"
     ]
    }
   ],
   "source": [
    "spark.sql('''\n",
    "    SELECT o.*, date_convert(order_date) AS order_date_as_int\n",
    "    FROM orders AS o\n",
    "    WHERE date_convert(order_date) = 20140101\n",
    " ''').show()"
   ]
  },
  {
   "cell_type": "code",
   "execution_count": 0,
   "metadata": {
    "application/vnd.databricks.v1+cell": {
     "cellMetadata": {
      "byteLimit": 2048000,
      "rowLimit": 10000
     },
     "inputWidgets": {},
     "nuid": "511ca8c7-9a61-4047-a52e-60fa1cc85db7",
     "showTitle": false,
     "title": ""
    }
   },
   "outputs": [
    {
     "output_type": "stream",
     "name": "stdout",
     "output_type": "stream",
     "text": [
      "+----------+-----------+\n|order_date|order_count|\n+----------+-----------+\n|  20130919|        206|\n|  20140303|        266|\n|  20140202|        192|\n|  20140310|        235|\n|  20130809|        125|\n|  20130817|        253|\n|  20131015|        174|\n|  20140114|        209|\n|  20131029|        128|\n|  20140130|        254|\n|  20130824|        265|\n|  20130913|        103|\n|  20130914|        276|\n|  20130825|        200|\n|  20131031|        208|\n|  20140304|        257|\n|  20130731|        252|\n|  20130730|        227|\n|  20131116|        120|\n|  20131213|        135|\n+----------+-----------+\nonly showing top 20 rows\n\n"
     ]
    }
   ],
   "source": [
    "spark.sql('''\n",
    "    SELECT date_convert(order_date) AS order_date, count(*) AS order_count\n",
    "    FROM orders\n",
    "    GROUP BY 1\n",
    " ''').show()"
   ]
  },
  {
   "cell_type": "code",
   "execution_count": 0,
   "metadata": {
    "application/vnd.databricks.v1+cell": {
     "cellMetadata": {},
     "inputWidgets": {},
     "nuid": "60a03421-49e6-413e-9a47-8e3df507846f",
     "showTitle": false,
     "title": ""
    }
   },
   "outputs": [],
   "source": []
  }
 ],
 "metadata": {
  "application/vnd.databricks.v1+notebook": {
   "dashboards": [],
   "language": "python",
   "notebookMetadata": {
    "pythonIndentUnit": 4
   },
   "notebookName": "04 - Using Spark UDFs as part of Spark SQL",
   "widgets": {}
  }
 },
 "nbformat": 4,
 "nbformat_minor": 0
}
