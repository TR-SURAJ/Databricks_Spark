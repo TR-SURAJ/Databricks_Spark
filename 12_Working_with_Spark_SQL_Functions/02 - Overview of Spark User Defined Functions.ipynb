{
 "cells": [
  {
   "cell_type": "markdown",
   "metadata": {
    "application/vnd.databricks.v1+cell": {
     "cellMetadata": {},
     "inputWidgets": {},
     "nuid": "2cbdb0e6-2dfc-45d4-9108-4c7b08aeb0d9",
     "showTitle": false,
     "title": ""
    }
   },
   "source": [
    "- Spark provides robust set of pre-defined functions as part of `pyspark.sql.functions`\n",
    "- However, they might not fulfill all our requirements\n",
    "- At times, we might have to develop custom UDFs for these scenarios\n",
    "  - No function available for our requirement while applying row level transformations\n",
    "  - Also, we might have to use multiple functions due to which readability of the code is compromised"
   ]
  },
  {
   "cell_type": "code",
   "execution_count": 0,
   "metadata": {
    "application/vnd.databricks.v1+cell": {
     "cellMetadata": {},
     "inputWidgets": {},
     "nuid": "2332e74f-f8c3-4ec8-bdd2-ae193437c45c",
     "showTitle": false,
     "title": ""
    }
   },
   "outputs": [],
   "source": []
  }
 ],
 "metadata": {
  "application/vnd.databricks.v1+notebook": {
   "dashboards": [],
   "language": "python",
   "notebookMetadata": {
    "pythonIndentUnit": 4
   },
   "notebookName": "02 - Overview of Spark User Defined Functions",
   "widgets": {}
  }
 },
 "nbformat": 4,
 "nbformat_minor": 0
}
