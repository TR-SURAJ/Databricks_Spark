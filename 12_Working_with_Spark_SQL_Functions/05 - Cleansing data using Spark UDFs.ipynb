{
 "cells": [
  {
   "cell_type": "code",
   "execution_count": 0,
   "metadata": {
    "application/vnd.databricks.v1+cell": {
     "cellMetadata": {
      "byteLimit": 2048000,
      "rowLimit": 10000
     },
     "inputWidgets": {},
     "nuid": "e6d654bd-b79c-4e06-8aea-04ab67e5c53f",
     "showTitle": false,
     "title": ""
    }
   },
   "outputs": [],
   "source": [
    "import pandas as pd"
   ]
  },
  {
   "cell_type": "code",
   "execution_count": 0,
   "metadata": {
    "application/vnd.databricks.v1+cell": {
     "cellMetadata": {
      "byteLimit": 2048000,
      "rowLimit": 10000
     },
     "inputWidgets": {},
     "nuid": "717a95d7-bbc0-4dac-8285-c08ccfb6cdc0",
     "showTitle": false,
     "title": ""
    }
   },
   "outputs": [],
   "source": [
    "courses = {\n",
    "    'course_id': ['1','2','3','4','5','6','7','8','9','10'],\n",
    "    'course_name': ['Mastering SQL', 'Streaming Pipelines - Python', 'Head First Python', 'Designing Data-Intensive Applications', 'Distributed Systems', 'Database Internals', 'Art of Immutable Architecture', 'Graph Databases', 'Building Microservices', 'Kubernetes Patterns'],\n",
    "    'course_author': ['Mike Jack', 'Bob Davis', 'Elvis Preseley', 'Martin Kleppmann', 'Sukumar Ghosh', 'Alex Petrov', 'Michale L. Perry', 'Ian Robinson', 'Sam Newman', 'Rolan Hub'],\n",
    "    'course_status': [' published   ', '    inactive  ', '\\\\N', 'published ','\\\\N','   inactive', 'published    ','\\\\N', ' inactive ', 'published  '],\n",
    "    'course_published_dt': ['2020-070-08','2023-03-10','\\\\N','2021-02-27','\\\\N','2021-05-14','2021-04-18','\\\\N','2020-12-15','2021-07-11']\n",
    "}"
   ]
  },
  {
   "cell_type": "code",
   "execution_count": 0,
   "metadata": {
    "application/vnd.databricks.v1+cell": {
     "cellMetadata": {
      "byteLimit": 2048000,
      "rowLimit": 10000
     },
     "inputWidgets": {},
     "nuid": "ade599f2-fbfc-4e9b-a9d2-d27b65479c71",
     "showTitle": false,
     "title": ""
    }
   },
   "outputs": [],
   "source": [
    "courses_df = spark.createDataFrame(pd.DataFrame(courses))"
   ]
  },
  {
   "cell_type": "code",
   "execution_count": 0,
   "metadata": {
    "application/vnd.databricks.v1+cell": {
     "cellMetadata": {
      "byteLimit": 2048000,
      "rowLimit": 10000
     },
     "inputWidgets": {},
     "nuid": "44eb0a33-ba1d-4109-82dc-7e4031305efb",
     "showTitle": false,
     "title": ""
    }
   },
   "outputs": [
    {
     "output_type": "stream",
     "name": "stdout",
     "output_type": "stream",
     "text": [
      "+---------+--------------------+----------------+--------------+-------------------+\n|course_id|         course_name|   course_author| course_status|course_published_dt|\n+---------+--------------------+----------------+--------------+-------------------+\n|        1|       Mastering SQL|       Mike Jack|  published   |        2020-070-08|\n|        2|Streaming Pipelin...|       Bob Davis|    inactive  |         2023-03-10|\n|        3|   Head First Python|  Elvis Preseley|            \\N|                 \\N|\n|        4|Designing Data-In...|Martin Kleppmann|    published |         2021-02-27|\n|        5| Distributed Systems|   Sukumar Ghosh|            \\N|                 \\N|\n|        6|  Database Internals|     Alex Petrov|      inactive|         2021-05-14|\n|        7|Art of Immutable ...|Michale L. Perry| published    |         2021-04-18|\n|        8|     Graph Databases|    Ian Robinson|            \\N|                 \\N|\n|        9|Building Microser...|      Sam Newman|     inactive |         2020-12-15|\n|       10| Kubernetes Patterns|       Rolan Hub|   published  |         2021-07-11|\n+---------+--------------------+----------------+--------------+-------------------+\n\n"
     ]
    }
   ],
   "source": [
    "courses_df.show()"
   ]
  },
  {
   "cell_type": "code",
   "execution_count": 0,
   "metadata": {
    "application/vnd.databricks.v1+cell": {
     "cellMetadata": {
      "byteLimit": 2048000,
      "rowLimit": 10000
     },
     "inputWidgets": {},
     "nuid": "5784ee53-5e3f-41fa-8cef-df641d14c158",
     "showTitle": false,
     "title": ""
    }
   },
   "outputs": [],
   "source": [
    "def data_cleanse(c):\n",
    "    return c.strip() if c.strip() != '\\\\N' else None"
   ]
  },
  {
   "cell_type": "code",
   "execution_count": 0,
   "metadata": {
    "application/vnd.databricks.v1+cell": {
     "cellMetadata": {
      "byteLimit": 2048000,
      "rowLimit": 10000
     },
     "inputWidgets": {},
     "nuid": "463f7915-878a-41cc-bc46-624bd4355480",
     "showTitle": false,
     "title": ""
    }
   },
   "outputs": [],
   "source": [
    "data_cleanse = spark.udf.register('data_cleanse', data_cleanse)"
   ]
  },
  {
   "cell_type": "code",
   "execution_count": 0,
   "metadata": {
    "application/vnd.databricks.v1+cell": {
     "cellMetadata": {
      "byteLimit": 2048000,
      "rowLimit": 10000
     },
     "inputWidgets": {},
     "nuid": "5d7f561b-df56-492f-a61e-645417247919",
     "showTitle": false,
     "title": ""
    }
   },
   "outputs": [],
   "source": [
    "from pyspark.sql.functions import *"
   ]
  },
  {
   "cell_type": "code",
   "execution_count": 0,
   "metadata": {
    "application/vnd.databricks.v1+cell": {
     "cellMetadata": {
      "byteLimit": 2048000,
      "rowLimit": 10000
     },
     "inputWidgets": {},
     "nuid": "8d3e8bbd-4e68-487c-aa68-45ff074661ab",
     "showTitle": false,
     "title": ""
    }
   },
   "outputs": [
    {
     "output_type": "stream",
     "name": "stdout",
     "output_type": "stream",
     "text": [
      "+-------------+-------------------+\n|course_status|course_published_dt|\n+-------------+-------------------+\n|    published|        2020-070-08|\n|     inactive|         2023-03-10|\n|         NULL|               NULL|\n|    published|         2021-02-27|\n|         NULL|               NULL|\n|     inactive|         2021-05-14|\n|    published|         2021-04-18|\n|         NULL|               NULL|\n|     inactive|         2020-12-15|\n|    published|         2021-07-11|\n+-------------+-------------------+\n\n"
     ]
    }
   ],
   "source": [
    "courses_df.select(\n",
    "    data_cleanse(col('course_status')).alias('course_status'),\n",
    "    data_cleanse(col('course_published_dt')).alias('course_published_dt')\n",
    ").show()"
   ]
  },
  {
   "cell_type": "code",
   "execution_count": 0,
   "metadata": {
    "application/vnd.databricks.v1+cell": {
     "cellMetadata": {
      "byteLimit": 2048000,
      "rowLimit": 10000
     },
     "inputWidgets": {},
     "nuid": "82aecf26-5d8a-49bd-85ba-5ce80b0458ca",
     "showTitle": false,
     "title": ""
    }
   },
   "outputs": [],
   "source": [
    "courses_df.createOrReplaceTempView('courseess')"
   ]
  },
  {
   "cell_type": "code",
   "execution_count": 0,
   "metadata": {
    "application/vnd.databricks.v1+cell": {
     "cellMetadata": {
      "byteLimit": 2048000,
      "rowLimit": 10000
     },
     "inputWidgets": {},
     "nuid": "613e9e44-f48c-45e0-958a-f05374186677",
     "showTitle": false,
     "title": ""
    }
   },
   "outputs": [
    {
     "output_type": "stream",
     "name": "stdout",
     "output_type": "stream",
     "text": [
      "+---------+-------------+-------------------+\n|course_id|course_status|course_published_dt|\n+---------+-------------+-------------------+\n|        1|    published|        2020-070-08|\n|        2|     inactive|         2023-03-10|\n|        3|         NULL|               NULL|\n|        4|    published|         2021-02-27|\n|        5|         NULL|               NULL|\n|        6|     inactive|         2021-05-14|\n|        7|    published|         2021-04-18|\n|        8|         NULL|               NULL|\n|        9|     inactive|         2020-12-15|\n|       10|    published|         2021-07-11|\n+---------+-------------+-------------------+\n\n"
     ]
    }
   ],
   "source": [
    "spark.sql('''\n",
    "    SELECT course_id, data_cleanse(course_status) as course_status,data_cleanse(course_published_dt) as course_published_dt\n",
    "    FROM courseess     \n",
    "   ''').show()"
   ]
  },
  {
   "cell_type": "code",
   "execution_count": 0,
   "metadata": {
    "application/vnd.databricks.v1+cell": {
     "cellMetadata": {},
     "inputWidgets": {},
     "nuid": "f8d5bdc9-e73c-434d-a192-ac9265d2bed2",
     "showTitle": false,
     "title": ""
    }
   },
   "outputs": [],
   "source": []
  }
 ],
 "metadata": {
  "application/vnd.databricks.v1+notebook": {
   "dashboards": [],
   "language": "python",
   "notebookMetadata": {
    "pythonIndentUnit": 4
   },
   "notebookName": "05 - Cleansing data using Spark UDFs",
   "widgets": {}
  }
 },
 "nbformat": 4,
 "nbformat_minor": 0
}
