{
 "cells": [
  {
   "cell_type": "code",
   "execution_count": 0,
   "metadata": {
    "application/vnd.databricks.v1+cell": {
     "cellMetadata": {
      "byteLimit": 2048000,
      "rowLimit": 10000
     },
     "inputWidgets": {},
     "nuid": "9d7e2a98-084c-4bb6-beab-c6fcbdeaeaea",
     "showTitle": false,
     "title": ""
    }
   },
   "outputs": [],
   "source": [
    "order_items = spark.read.json('/public/retail_db_json/order_items')"
   ]
  },
  {
   "cell_type": "code",
   "execution_count": 0,
   "metadata": {
    "application/vnd.databricks.v1+cell": {
     "cellMetadata": {
      "byteLimit": 2048000,
      "rowLimit": 10000
     },
     "inputWidgets": {},
     "nuid": "559378ec-2867-4c4c-9db1-7fa7c1206e74",
     "showTitle": false,
     "title": ""
    }
   },
   "outputs": [
    {
     "output_type": "stream",
     "name": "stdout",
     "output_type": "stream",
     "text": [
      "Help on method groupBy in module pyspark.sql.dataframe:\n\ngroupBy(*cols: 'ColumnOrName') -> 'GroupedData' method of pyspark.sql.dataframe.DataFrame instance\n    Groups the :class:`DataFrame` using the specified columns,\n    so we can run aggregation on them. See :class:`GroupedData`\n    for all the available aggregate functions.\n    \n    :func:`groupby` is an alias for :func:`groupBy`.\n    \n    .. versionadded:: 1.3.0\n    \n    .. versionchanged:: 3.4.0\n        Supports Spark Connect.\n    \n    Parameters\n    ----------\n    cols : list, str or :class:`Column`\n        columns to group by.\n        Each element should be a column name (string) or an expression (:class:`Column`)\n        or list of them.\n    \n    Returns\n    -------\n    :class:`GroupedData`\n        Grouped data by given columns.\n    \n    Examples\n    --------\n    >>> df = spark.createDataFrame([\n    ...     (2, \"Alice\"), (2, \"Bob\"), (2, \"Bob\"), (5, \"Bob\")], schema=[\"age\", \"name\"])\n    \n    Empty grouping columns triggers a global aggregation.\n    \n    >>> df.groupBy().avg().show()\n    +--------+\n    |avg(age)|\n    +--------+\n    |    2.75|\n    +--------+\n    \n    Group-by 'name', and specify a dictionary to calculate the summation of 'age'.\n    \n    >>> df.groupBy(\"name\").agg({\"age\": \"sum\"}).sort(\"name\").show()\n    +-----+--------+\n    | name|sum(age)|\n    +-----+--------+\n    |Alice|       2|\n    |  Bob|       9|\n    +-----+--------+\n    \n    Group-by 'name', and calculate maximum values.\n    \n    >>> df.groupBy(df.name).max().sort(\"name\").show()\n    +-----+--------+\n    | name|max(age)|\n    +-----+--------+\n    |Alice|       2|\n    |  Bob|       5|\n    +-----+--------+\n    \n    Group-by 'name' and 'age', and calculate the number of rows in each group.\n    \n    >>> df.groupBy([\"name\", df.age]).count().sort(\"name\", \"age\").show()\n    +-----+---+-----+\n    | name|age|count|\n    +-----+---+-----+\n    |Alice|  2|    1|\n    |  Bob|  2|    2|\n    |  Bob|  5|    1|\n    +-----+---+-----+\n\n"
     ]
    }
   ],
   "source": [
    "help(order_items.groupBy)"
   ]
  },
  {
   "cell_type": "code",
   "execution_count": 0,
   "metadata": {
    "application/vnd.databricks.v1+cell": {
     "cellMetadata": {
      "byteLimit": 2048000,
      "rowLimit": 10000
     },
     "inputWidgets": {},
     "nuid": "b78b3845-9075-4943-b9ff-9b6e8ef7d294",
     "showTitle": false,
     "title": ""
    }
   },
   "outputs": [
    {
     "output_type": "execute_result",
     "data": {
      "text/plain": [
       "172198"
      ]
     },
     "execution_count": 3,
     "metadata": {},
     "output_type": "execute_result"
    }
   ],
   "source": [
    "order_items.count()"
   ]
  },
  {
   "cell_type": "code",
   "execution_count": 0,
   "metadata": {
    "application/vnd.databricks.v1+cell": {
     "cellMetadata": {
      "byteLimit": 2048000,
      "rowLimit": 10000
     },
     "inputWidgets": {},
     "nuid": "0423e80c-f269-4080-b193-d61573eaf210",
     "showTitle": false,
     "title": ""
    }
   },
   "outputs": [
    {
     "output_type": "stream",
     "name": "stdout",
     "output_type": "stream",
     "text": [
      "+-------------+-------------------+---------------------+------------------------+-------------------+-------------------+\n|order_item_id|order_item_order_id|order_item_product_id|order_item_product_price|order_item_quantity|order_item_subtotal|\n+-------------+-------------------+---------------------+------------------------+-------------------+-------------------+\n|            1|                  1|                  957|                  299.98|                  1|             299.98|\n|            2|                  2|                 1073|                  199.99|                  1|             199.99|\n|            3|                  2|                  502|                    50.0|                  5|              250.0|\n|            4|                  2|                  403|                  129.99|                  1|             129.99|\n|            5|                  4|                  897|                   24.99|                  2|              49.98|\n|            6|                  4|                  365|                   59.99|                  5|             299.95|\n|            7|                  4|                  502|                    50.0|                  3|              150.0|\n|            8|                  4|                 1014|                   49.98|                  4|             199.92|\n|            9|                  5|                  957|                  299.98|                  1|             299.98|\n|           10|                  5|                  365|                   59.99|                  5|             299.95|\n|           11|                  5|                 1014|                   49.98|                  2|              99.96|\n|           12|                  5|                  957|                  299.98|                  1|             299.98|\n|           13|                  5|                  403|                  129.99|                  1|             129.99|\n|           14|                  7|                 1073|                  199.99|                  1|             199.99|\n|           15|                  7|                  957|                  299.98|                  1|             299.98|\n|           16|                  7|                  926|                   15.99|                  5|              79.95|\n|           17|                  8|                  365|                   59.99|                  3|             179.97|\n|           18|                  8|                  365|                   59.99|                  5|             299.95|\n|           19|                  8|                 1014|                   49.98|                  4|             199.92|\n|           20|                  8|                  502|                    50.0|                  1|               50.0|\n+-------------+-------------------+---------------------+------------------------+-------------------+-------------------+\nonly showing top 20 rows\n\n"
     ]
    }
   ],
   "source": [
    "order_items.show()"
   ]
  },
  {
   "cell_type": "code",
   "execution_count": 0,
   "metadata": {
    "application/vnd.databricks.v1+cell": {
     "cellMetadata": {
      "byteLimit": 2048000,
      "rowLimit": 10000
     },
     "inputWidgets": {},
     "nuid": "9d3d7159-2282-497b-91f7-fe5413711706",
     "showTitle": false,
     "title": ""
    }
   },
   "outputs": [
    {
     "output_type": "stream",
     "name": "stdout",
     "output_type": "stream",
     "text": [
      "+------------------+------------------------+--------------------------+-----------------------------+------------------------+------------------------+\n|min(order_item_id)|min(order_item_order_id)|min(order_item_product_id)|min(order_item_product_price)|min(order_item_quantity)|min(order_item_subtotal)|\n+------------------+------------------------+--------------------------+-----------------------------+------------------------+------------------------+\n|                 1|                       1|                        19|                         9.99|                       1|                    9.99|\n+------------------+------------------------+--------------------------+-----------------------------+------------------------+------------------------+\n\n"
     ]
    }
   ],
   "source": [
    "order_items.groupBy().min().show()"
   ]
  },
  {
   "cell_type": "code",
   "execution_count": 0,
   "metadata": {
    "application/vnd.databricks.v1+cell": {
     "cellMetadata": {
      "byteLimit": 2048000,
      "rowLimit": 10000
     },
     "inputWidgets": {},
     "nuid": "804edc20-fca3-486a-8966-461960a6e7e5",
     "showTitle": false,
     "title": ""
    }
   },
   "outputs": [],
   "source": [
    "orders = spark.read.json('/public/retail_db_json/orders')"
   ]
  },
  {
   "cell_type": "code",
   "execution_count": 0,
   "metadata": {
    "application/vnd.databricks.v1+cell": {
     "cellMetadata": {
      "byteLimit": 2048000,
      "rowLimit": 10000
     },
     "inputWidgets": {},
     "nuid": "d1c89c6a-8443-40b4-93c2-29a76ebead48",
     "showTitle": false,
     "title": ""
    }
   },
   "outputs": [
    {
     "output_type": "execute_result",
     "data": {
      "text/plain": [
       "[('order_customer_id', 'bigint'),\n",
       " ('order_date', 'string'),\n",
       " ('order_id', 'bigint'),\n",
       " ('order_status', 'string')]"
      ]
     },
     "execution_count": 7,
     "metadata": {},
     "output_type": "execute_result"
    }
   ],
   "source": [
    "orders.dtypes"
   ]
  },
  {
   "cell_type": "code",
   "execution_count": 0,
   "metadata": {
    "application/vnd.databricks.v1+cell": {
     "cellMetadata": {
      "byteLimit": 2048000,
      "rowLimit": 10000
     },
     "inputWidgets": {},
     "nuid": "21710e44-be2b-427a-acac-ff7da7c629e0",
     "showTitle": false,
     "title": ""
    }
   },
   "outputs": [
    {
     "output_type": "stream",
     "name": "stdout",
     "output_type": "stream",
     "text": [
      "+----------------------+-------------+\n|min(order_customer_id)|min(order_id)|\n+----------------------+-------------+\n|                     1|            1|\n+----------------------+-------------+\n\n"
     ]
    }
   ],
   "source": [
    "orders.groupBy().min().show()"
   ]
  },
  {
   "cell_type": "code",
   "execution_count": 0,
   "metadata": {
    "application/vnd.databricks.v1+cell": {
     "cellMetadata": {
      "byteLimit": 2048000,
      "rowLimit": 10000
     },
     "inputWidgets": {},
     "nuid": "da29daac-5d0b-489e-9c95-31c7d6a842c9",
     "showTitle": false,
     "title": ""
    }
   },
   "outputs": [],
   "source": [
    "order_items_grouped = order_items.groupBy()"
   ]
  },
  {
   "cell_type": "code",
   "execution_count": 0,
   "metadata": {
    "application/vnd.databricks.v1+cell": {
     "cellMetadata": {
      "byteLimit": 2048000,
      "rowLimit": 10000
     },
     "inputWidgets": {},
     "nuid": "b14437ed-4ab8-4129-ad35-54682645563a",
     "showTitle": false,
     "title": ""
    }
   },
   "outputs": [
    {
     "output_type": "execute_result",
     "data": {
      "text/plain": [
       "pyspark.sql.group.GroupedData"
      ]
     },
     "execution_count": 10,
     "metadata": {},
     "output_type": "execute_result"
    }
   ],
   "source": [
    "type(order_items_grouped)"
   ]
  },
  {
   "cell_type": "code",
   "execution_count": 0,
   "metadata": {
    "application/vnd.databricks.v1+cell": {
     "cellMetadata": {},
     "inputWidgets": {},
     "nuid": "6f5f5b0d-1f85-4ae8-98b0-3e830eb8662e",
     "showTitle": false,
     "title": ""
    }
   },
   "outputs": [],
   "source": []
  },
  {
   "cell_type": "code",
   "execution_count": 0,
   "metadata": {
    "application/vnd.databricks.v1+cell": {
     "cellMetadata": {},
     "inputWidgets": {},
     "nuid": "f2c114f4-7213-4cde-83fb-4eb9ea65d338",
     "showTitle": false,
     "title": ""
    }
   },
   "outputs": [],
   "source": []
  }
 ],
 "metadata": {
  "application/vnd.databricks.v1+notebook": {
   "dashboards": [],
   "language": "python",
   "notebookMetadata": {
    "pythonIndentUnit": 4
   },
   "notebookName": "06 - Overview of groupBy on Spark Data Frame",
   "widgets": {}
  }
 },
 "nbformat": 4,
 "nbformat_minor": 0
}
