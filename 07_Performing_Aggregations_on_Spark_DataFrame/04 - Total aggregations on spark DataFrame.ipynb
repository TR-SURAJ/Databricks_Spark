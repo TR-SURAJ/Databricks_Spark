{
 "cells": [
  {
   "cell_type": "code",
   "execution_count": 0,
   "metadata": {
    "application/vnd.databricks.v1+cell": {
     "cellMetadata": {
      "byteLimit": 2048000,
      "rowLimit": 10000
     },
     "inputWidgets": {},
     "nuid": "c71d6392-629b-4d40-9fa6-35c3499de6ac",
     "showTitle": false,
     "title": ""
    }
   },
   "outputs": [],
   "source": [
    "order_items = spark.read.json('/public/retail_db_json/order_items')"
   ]
  },
  {
   "cell_type": "code",
   "execution_count": 0,
   "metadata": {
    "application/vnd.databricks.v1+cell": {
     "cellMetadata": {
      "byteLimit": 2048000,
      "rowLimit": 10000
     },
     "inputWidgets": {},
     "nuid": "062d6420-5d37-41ee-add6-b8f15fb674a0",
     "showTitle": false,
     "title": ""
    }
   },
   "outputs": [
    {
     "output_type": "execute_result",
     "data": {
      "text/plain": [
       "[('order_item_id', 'bigint'),\n",
       " ('order_item_order_id', 'bigint'),\n",
       " ('order_item_product_id', 'bigint'),\n",
       " ('order_item_product_price', 'double'),\n",
       " ('order_item_quantity', 'bigint'),\n",
       " ('order_item_subtotal', 'double')]"
      ]
     },
     "execution_count": 2,
     "metadata": {},
     "output_type": "execute_result"
    }
   ],
   "source": [
    "order_items.dtypes"
   ]
  },
  {
   "cell_type": "markdown",
   "metadata": {
    "application/vnd.databricks.v1+cell": {
     "cellMetadata": {},
     "inputWidgets": {},
     "nuid": "f11007d6-3f36-49ca-9932-6b2ed9aad3d5",
     "showTitle": false,
     "title": ""
    }
   },
   "source": [
    "- Get revenue using order_item_subtotal for a given order_item_order_id (eg: for order_item_order_id 2)"
   ]
  },
  {
   "cell_type": "code",
   "execution_count": 0,
   "metadata": {
    "application/vnd.databricks.v1+cell": {
     "cellMetadata": {
      "byteLimit": 2048000,
      "rowLimit": 10000
     },
     "inputWidgets": {},
     "nuid": "8bf1d1a8-683a-4942-9d24-30f88450a450",
     "showTitle": false,
     "title": ""
    }
   },
   "outputs": [
    {
     "output_type": "execute_result",
     "data": {
      "text/plain": [
       "DataFrame[order_item_id: bigint, order_item_order_id: bigint, order_item_product_id: bigint, order_item_product_price: double, order_item_quantity: bigint, order_item_subtotal: double]"
      ]
     },
     "execution_count": 3,
     "metadata": {},
     "output_type": "execute_result"
    }
   ],
   "source": [
    "# narrow transformation\n",
    "order_items.filter('order_item_order_id = 2')"
   ]
  },
  {
   "cell_type": "code",
   "execution_count": 0,
   "metadata": {
    "application/vnd.databricks.v1+cell": {
     "cellMetadata": {
      "byteLimit": 2048000,
      "rowLimit": 10000
     },
     "inputWidgets": {},
     "nuid": "8ca3b9a5-2313-4470-918e-d514eac814ad",
     "showTitle": false,
     "title": ""
    }
   },
   "outputs": [
    {
     "output_type": "stream",
     "name": "stdout",
     "output_type": "stream",
     "text": [
      "+-------------+-------------------+---------------------+------------------------+-------------------+-------------------+\n|order_item_id|order_item_order_id|order_item_product_id|order_item_product_price|order_item_quantity|order_item_subtotal|\n+-------------+-------------------+---------------------+------------------------+-------------------+-------------------+\n|            2|                  2|                 1073|                  199.99|                  1|             199.99|\n|            3|                  2|                  502|                    50.0|                  5|              250.0|\n|            4|                  2|                  403|                  129.99|                  1|             129.99|\n+-------------+-------------------+---------------------+------------------------+-------------------+-------------------+\n\n"
     ]
    }
   ],
   "source": [
    "order_items.filter('order_item_order_id = 2').show()"
   ]
  },
  {
   "cell_type": "code",
   "execution_count": 0,
   "metadata": {
    "application/vnd.databricks.v1+cell": {
     "cellMetadata": {
      "byteLimit": 2048000,
      "rowLimit": 10000
     },
     "inputWidgets": {},
     "nuid": "9c6f34c8-0823-40a5-989c-a33228c43095",
     "showTitle": false,
     "title": ""
    }
   },
   "outputs": [],
   "source": [
    "from pyspark.sql.functions import *"
   ]
  },
  {
   "cell_type": "code",
   "execution_count": 0,
   "metadata": {
    "application/vnd.databricks.v1+cell": {
     "cellMetadata": {
      "byteLimit": 2048000,
      "rowLimit": 10000
     },
     "inputWidgets": {},
     "nuid": "98b433dc-778f-47fd-ae2d-c4d4516df458",
     "showTitle": false,
     "title": ""
    }
   },
   "outputs": [
    {
     "output_type": "stream",
     "name": "stdout",
     "output_type": "stream",
     "text": [
      "Help on function sum in module pyspark.sql.functions:\n\nsum(col: 'ColumnOrName') -> pyspark.sql.column.Column\n    Aggregate function: returns the sum of all values in the expression.\n    \n    .. versionadded:: 1.3.0\n    \n    .. versionchanged:: 3.4.0\n        Supports Spark Connect.\n    \n    Parameters\n    ----------\n    col : :class:`~pyspark.sql.Column` or str\n        target column to compute on.\n    \n    Returns\n    -------\n    :class:`~pyspark.sql.Column`\n        the column for computed results.\n    \n    Examples\n    --------\n    >>> df = spark.range(10)\n    >>> df.select(sum(df[\"id\"])).show()\n    +-------+\n    |sum(id)|\n    +-------+\n    |     45|\n    +-------+\n\n"
     ]
    }
   ],
   "source": [
    "\n",
    "help(sum)"
   ]
  },
  {
   "cell_type": "code",
   "execution_count": 0,
   "metadata": {
    "application/vnd.databricks.v1+cell": {
     "cellMetadata": {
      "byteLimit": 2048000,
      "rowLimit": 10000
     },
     "inputWidgets": {},
     "nuid": "665f4cec-018b-4d20-96ea-dd1d4a464071",
     "showTitle": false,
     "title": ""
    }
   },
   "outputs": [
    {
     "output_type": "stream",
     "name": "stdout",
     "output_type": "stream",
     "text": [
      "+------------------------+\n|sum(order_item_subtotal)|\n+------------------------+\n|                  579.98|\n+------------------------+\n\n"
     ]
    }
   ],
   "source": [
    "order_items.filter('order_item_order_id = 2').select(sum('order_item_subtotal')).show()"
   ]
  },
  {
   "cell_type": "code",
   "execution_count": 0,
   "metadata": {
    "application/vnd.databricks.v1+cell": {
     "cellMetadata": {
      "byteLimit": 2048000,
      "rowLimit": 10000
     },
     "inputWidgets": {},
     "nuid": "b63481ff-880e-4839-b8fe-2800ce3dfdaa",
     "showTitle": false,
     "title": ""
    }
   },
   "outputs": [
    {
     "output_type": "stream",
     "name": "stdout",
     "output_type": "stream",
     "text": [
      "+-------------+\n|order_revenue|\n+-------------+\n|       579.98|\n+-------------+\n\n"
     ]
    }
   ],
   "source": [
    "order_items.filter('order_item_order_id = 2').select(sum('order_item_subtotal').alias('order_revenue')).show()"
   ]
  },
  {
   "cell_type": "markdown",
   "metadata": {
    "application/vnd.databricks.v1+cell": {
     "cellMetadata": {},
     "inputWidgets": {},
     "nuid": "838a8cf1-f798-4c2d-a281-9c6d010e5c3b",
     "showTitle": false,
     "title": ""
    }
   },
   "source": [
    "\n",
    "- Get number of items. total quantity as well as revenue for a given order item order id (ex: 2)\n",
    "  - Number of items can be computed using count on order_item_quantity\n",
    "  - Total quantity can be computed using sum on order_item_quantity\n",
    "  - Total revenue can be computed using sum on order_item_subtotal"
   ]
  },
  {
   "cell_type": "code",
   "execution_count": 0,
   "metadata": {
    "application/vnd.databricks.v1+cell": {
     "cellMetadata": {
      "byteLimit": 2048000,
      "rowLimit": 10000
     },
     "inputWidgets": {},
     "nuid": "008b3632-d7a6-4826-acd9-1aad8331c82e",
     "showTitle": false,
     "title": ""
    }
   },
   "outputs": [
    {
     "output_type": "stream",
     "name": "stdout",
     "output_type": "stream",
     "text": [
      "+----------------+--------------+-------------+\n|order_item_count|order_quanityt|order_revenue|\n+----------------+--------------+-------------+\n|               3|             3|            3|\n+----------------+--------------+-------------+\n\n"
     ]
    }
   ],
   "source": [
    "order_items. \\\n",
    "    filter('order_item_order_id = 2'). \\\n",
    "    select(\n",
    "        count('order_item_quantity').alias('order_item_count'),\n",
    "        count('order_item_quantity').alias('order_quanityt'),\n",
    "        count('order_item_subtotal').alias('order_revenue')\n",
    "    ). \\\n",
    "    show()"
   ]
  },
  {
   "cell_type": "code",
   "execution_count": 0,
   "metadata": {
    "application/vnd.databricks.v1+cell": {
     "cellMetadata": {},
     "inputWidgets": {},
     "nuid": "81f79990-b042-4598-a96a-279a1652b4b6",
     "showTitle": false,
     "title": ""
    }
   },
   "outputs": [],
   "source": []
  },
  {
   "cell_type": "code",
   "execution_count": 0,
   "metadata": {
    "application/vnd.databricks.v1+cell": {
     "cellMetadata": {},
     "inputWidgets": {},
     "nuid": "b3d2c433-5152-46ac-b183-8515799c250a",
     "showTitle": false,
     "title": ""
    }
   },
   "outputs": [],
   "source": []
  },
  {
   "cell_type": "code",
   "execution_count": 0,
   "metadata": {
    "application/vnd.databricks.v1+cell": {
     "cellMetadata": {},
     "inputWidgets": {},
     "nuid": "e6682db4-a5c3-413e-80e9-9ba20c414832",
     "showTitle": false,
     "title": ""
    }
   },
   "outputs": [],
   "source": []
  },
  {
   "cell_type": "code",
   "execution_count": 0,
   "metadata": {
    "application/vnd.databricks.v1+cell": {
     "cellMetadata": {},
     "inputWidgets": {},
     "nuid": "40f5e676-0c88-4f3d-82d1-242bb63c0b87",
     "showTitle": false,
     "title": ""
    }
   },
   "outputs": [],
   "source": []
  }
 ],
 "metadata": {
  "application/vnd.databricks.v1+notebook": {
   "dashboards": [],
   "language": "python",
   "notebookMetadata": {
    "pythonIndentUnit": 4
   },
   "notebookName": "04 - Total aggregations on spark DataFrame",
   "widgets": {}
  }
 },
 "nbformat": 4,
 "nbformat_minor": 0
}
