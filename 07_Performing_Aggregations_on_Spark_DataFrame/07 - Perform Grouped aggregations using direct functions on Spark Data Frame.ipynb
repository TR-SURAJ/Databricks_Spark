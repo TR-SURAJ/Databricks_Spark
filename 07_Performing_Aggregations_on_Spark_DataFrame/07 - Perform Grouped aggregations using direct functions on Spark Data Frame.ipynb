{
 "cells": [
  {
   "cell_type": "code",
   "execution_count": 0,
   "metadata": {
    "application/vnd.databricks.v1+cell": {
     "cellMetadata": {
      "byteLimit": 2048000,
      "rowLimit": 10000
     },
     "inputWidgets": {},
     "nuid": "99076534-caa7-431f-926b-133089e2e850",
     "showTitle": false,
     "title": ""
    }
   },
   "outputs": [],
   "source": [
    "order_items = spark.read.json('/public/retail_db_json/order_items')"
   ]
  },
  {
   "cell_type": "code",
   "execution_count": 0,
   "metadata": {
    "application/vnd.databricks.v1+cell": {
     "cellMetadata": {
      "byteLimit": 2048000,
      "rowLimit": 10000
     },
     "inputWidgets": {},
     "nuid": "f27e88bd-af3a-427b-80b4-4109f39651c8",
     "showTitle": false,
     "title": ""
    }
   },
   "outputs": [
    {
     "output_type": "stream",
     "name": "stdout",
     "output_type": "stream",
     "text": [
      "+-------------+-------------------+---------------------+------------------------+-------------------+-------------------+\n|order_item_id|order_item_order_id|order_item_product_id|order_item_product_price|order_item_quantity|order_item_subtotal|\n+-------------+-------------------+---------------------+------------------------+-------------------+-------------------+\n|            1|                  1|                  957|                  299.98|                  1|             299.98|\n|            2|                  2|                 1073|                  199.99|                  1|             199.99|\n|            3|                  2|                  502|                    50.0|                  5|              250.0|\n|            4|                  2|                  403|                  129.99|                  1|             129.99|\n|            5|                  4|                  897|                   24.99|                  2|              49.98|\n|            6|                  4|                  365|                   59.99|                  5|             299.95|\n|            7|                  4|                  502|                    50.0|                  3|              150.0|\n|            8|                  4|                 1014|                   49.98|                  4|             199.92|\n|            9|                  5|                  957|                  299.98|                  1|             299.98|\n|           10|                  5|                  365|                   59.99|                  5|             299.95|\n|           11|                  5|                 1014|                   49.98|                  2|              99.96|\n|           12|                  5|                  957|                  299.98|                  1|             299.98|\n|           13|                  5|                  403|                  129.99|                  1|             129.99|\n|           14|                  7|                 1073|                  199.99|                  1|             199.99|\n|           15|                  7|                  957|                  299.98|                  1|             299.98|\n|           16|                  7|                  926|                   15.99|                  5|              79.95|\n|           17|                  8|                  365|                   59.99|                  3|             179.97|\n|           18|                  8|                  365|                   59.99|                  5|             299.95|\n|           19|                  8|                 1014|                   49.98|                  4|             199.92|\n|           20|                  8|                  502|                    50.0|                  1|               50.0|\n+-------------+-------------------+---------------------+------------------------+-------------------+-------------------+\nonly showing top 20 rows\n\n"
     ]
    }
   ],
   "source": [
    "order_items.show()"
   ]
  },
  {
   "cell_type": "code",
   "execution_count": 0,
   "metadata": {
    "application/vnd.databricks.v1+cell": {
     "cellMetadata": {
      "byteLimit": 2048000,
      "rowLimit": 10000
     },
     "inputWidgets": {},
     "nuid": "e9ee4eaf-2fde-4747-be7e-1b74190e0630",
     "showTitle": false,
     "title": ""
    }
   },
   "outputs": [],
   "source": [
    "order_items_grouped = order_items.groupBy('order_item_order_id')"
   ]
  },
  {
   "cell_type": "code",
   "execution_count": 0,
   "metadata": {
    "application/vnd.databricks.v1+cell": {
     "cellMetadata": {
      "byteLimit": 2048000,
      "rowLimit": 10000
     },
     "inputWidgets": {},
     "nuid": "b0498d8e-fcfc-4c47-b8de-651cc8e2a921",
     "showTitle": false,
     "title": ""
    }
   },
   "outputs": [
    {
     "output_type": "execute_result",
     "data": {
      "text/plain": [
       "pyspark.sql.group.GroupedData"
      ]
     },
     "execution_count": 3,
     "metadata": {},
     "output_type": "execute_result"
    }
   ],
   "source": [
    "type(order_items_grouped)"
   ]
  },
  {
   "cell_type": "code",
   "execution_count": 0,
   "metadata": {
    "application/vnd.databricks.v1+cell": {
     "cellMetadata": {
      "byteLimit": 2048000,
      "rowLimit": 10000
     },
     "inputWidgets": {},
     "nuid": "e4087b55-622a-4f36-a842-65bc7c66547e",
     "showTitle": false,
     "title": ""
    }
   },
   "outputs": [
    {
     "output_type": "stream",
     "name": "stdout",
     "output_type": "stream",
     "text": [
      "+-------------------+-----+\n|order_item_order_id|count|\n+-------------------+-----+\n|                 29|    5|\n|                474|    5|\n|                964|    4|\n|               1677|    5|\n|               1806|    3|\n|               1950|    5|\n|               2214|    2|\n|               2250|    4|\n|               2453|    4|\n|               2509|    4|\n|               2529|    1|\n|               2927|    5|\n|               3091|    3|\n|               3764|    1|\n|               4590|    5|\n|               4894|    4|\n|               5385|    4|\n|               5409|    3|\n|               6721|    2|\n|               7225|    4|\n+-------------------+-----+\nonly showing top 20 rows\n\n"
     ]
    }
   ],
   "source": [
    "order_items_grouped. \\\n",
    "    count(). \\\n",
    "    show()\n"
   ]
  },
  {
   "cell_type": "code",
   "execution_count": 0,
   "metadata": {
    "application/vnd.databricks.v1+cell": {
     "cellMetadata": {
      "byteLimit": 2048000,
      "rowLimit": 10000
     },
     "inputWidgets": {},
     "nuid": "02f14d7a-65f0-48a6-af7b-2c7d56220414",
     "showTitle": false,
     "title": ""
    }
   },
   "outputs": [
    {
     "output_type": "stream",
     "name": "stdout",
     "output_type": "stream",
     "text": [
      "+-------------------+-----------+\n|order_item_order_id|order_count|\n+-------------------+-----------+\n|                 29|          5|\n|                474|          5|\n|                964|          4|\n|               1677|          5|\n|               1806|          3|\n|               1950|          5|\n|               2214|          2|\n|               2250|          4|\n|               2453|          4|\n|               2509|          4|\n|               2529|          1|\n|               2927|          5|\n|               3091|          3|\n|               3764|          1|\n|               4590|          5|\n|               4894|          4|\n|               5385|          4|\n|               5409|          3|\n|               6721|          2|\n|               7225|          4|\n+-------------------+-----------+\nonly showing top 20 rows\n\n"
     ]
    }
   ],
   "source": [
    "order_items_grouped. \\\n",
    "    count(). \\\n",
    "    withColumnRenamed('count','order_count').\\\n",
    "    show()\n"
   ]
  },
  {
   "cell_type": "code",
   "execution_count": 0,
   "metadata": {
    "application/vnd.databricks.v1+cell": {
     "cellMetadata": {
      "byteLimit": 2048000,
      "rowLimit": 10000
     },
     "inputWidgets": {},
     "nuid": "8d65b582-7590-4af9-9d98-ff7e8e7a250d",
     "showTitle": false,
     "title": ""
    }
   },
   "outputs": [
    {
     "output_type": "stream",
     "name": "stdout",
     "output_type": "stream",
     "text": [
      "+-------------------+------------------+------------------------+--------------------------+-----------------------------+------------------------+------------------------+\n|order_item_order_id|sum(order_item_id)|sum(order_item_order_id)|sum(order_item_product_id)|sum(order_item_product_price)|sum(order_item_quantity)|sum(order_item_subtotal)|\n+-------------------+------------------+------------------------+--------------------------+-----------------------------+------------------------+------------------------+\n|                 29|               425|                     145|                      3897|            909.9300000000001|                       9|                 1109.85|\n|                474|              5815|                    2370|                      4508|           374.94000000000005|                      13|       774.8199999999999|\n|                964|              9586|                    3856|                      2964|           499.95000000000005|                      11|       739.8800000000001|\n|               1677|             20860|                    8385|                      2357|                       277.97|                      14|       649.9200000000001|\n|               1806|             13545|                    5418|                      1871|                       509.97|                       8|                  789.94|\n|               1950|             24425|                    9750|                      4180|                       733.94|                      12|      1015.8700000000001|\n|               2214|             11099|                    4428|                       693|                       149.99|                       5|                  449.96|\n|               2250|             22534|                    9000|                      2236|                       569.96|                      10|                  889.94|\n|               2453|             24530|                    9812|                      2607|                       749.95|                       7|       999.9300000000001|\n|               2509|             25090|                   10036|                      2729|                       889.94|                       4|                  889.94|\n|               2529|              6330|                    2529|                       365|                        59.99|                       1|                   59.99|\n|               2927|             36510|                   14635|                      3833|                       819.94|                       8|       999.9100000000001|\n|               3091|             23079|                    9273|                      2598|           389.95000000000005|                       5|      469.93000000000006|\n|               3764|              9358|                    3764|                       822|                        47.99|                       2|                   95.98|\n|               4590|             57515|                   22950|                      3725|            649.9300000000001|                      11|                  949.83|\n|               4894|             49026|                   19576|                      3178|                       899.94|                       4|                  899.94|\n|               5385|             53730|                   21540|                      2347|                       309.96|                      10|                  629.86|\n|               5409|             40482|                   16227|                      1513|           459.96000000000004|                       7|       699.9200000000001|\n|               6721|             33587|                   13442|                      1129|            89.99000000000001|                       3|                  139.99|\n|               7225|             72338|                   28900|                      3221|           434.94000000000005|                      11|                  774.86|\n+-------------------+------------------+------------------------+--------------------------+-----------------------------+------------------------+------------------------+\nonly showing top 20 rows\n\n"
     ]
    }
   ],
   "source": [
    "# Get sum of all numeric fields\n",
    "\n",
    "order_items_grouped. \\\n",
    "    sum(). \\\n",
    "    show()"
   ]
  },
  {
   "cell_type": "code",
   "execution_count": 0,
   "metadata": {
    "application/vnd.databricks.v1+cell": {
     "cellMetadata": {
      "byteLimit": 2048000,
      "rowLimit": 10000
     },
     "inputWidgets": {},
     "nuid": "4fe5d4de-c273-419c-8c3d-c85c4d44b11b",
     "showTitle": false,
     "title": ""
    }
   },
   "outputs": [],
   "source": [
    "orders = spark.read.json('/public/retail_db_json/orders')"
   ]
  },
  {
   "cell_type": "code",
   "execution_count": 0,
   "metadata": {
    "application/vnd.databricks.v1+cell": {
     "cellMetadata": {
      "byteLimit": 2048000,
      "rowLimit": 10000
     },
     "inputWidgets": {},
     "nuid": "497847dd-aa73-40ab-aed1-6fa8b4a215b2",
     "showTitle": false,
     "title": ""
    }
   },
   "outputs": [
    {
     "output_type": "stream",
     "name": "stdout",
     "output_type": "stream",
     "text": [
      "root\n |-- order_customer_id: long (nullable = true)\n |-- order_date: string (nullable = true)\n |-- order_id: long (nullable = true)\n |-- order_status: string (nullable = true)\n\n"
     ]
    }
   ],
   "source": [
    "orders.printSchema()"
   ]
  },
  {
   "cell_type": "code",
   "execution_count": 0,
   "metadata": {
    "application/vnd.databricks.v1+cell": {
     "cellMetadata": {
      "byteLimit": 2048000,
      "rowLimit": 10000
     },
     "inputWidgets": {},
     "nuid": "c570b493-4261-40ad-8e07-01ef07b4264b",
     "showTitle": false,
     "title": ""
    }
   },
   "outputs": [
    {
     "output_type": "stream",
     "name": "stdout",
     "output_type": "stream",
     "text": [
      "+--------------------+----------------------+-------------+\n|          order_date|sum(order_customer_id)|sum(order_id)|\n+--------------------+----------------------+-------------+\n|2013-08-13 00:00:...|                459650|       916059|\n|2013-10-12 00:00:...|               1002372|      3370470|\n|2013-11-15 00:00:...|                820656|      3349122|\n|2013-09-16 00:00:...|                795738|      3418732|\n|2013-09-20 00:00:...|                851705|      2247287|\n|2013-12-31 00:00:...|               1619361|      7838750|\n|2013-09-06 00:00:...|               1692297|      4111583|\n|2013-12-24 00:00:...|               1089616|      4918816|\n|2014-01-07 00:00:...|               1017046|      4765725|\n|2013-10-14 00:00:...|                874047|      3535766|\n|2013-11-11 00:00:...|               1596396|      5423151|\n|2014-01-27 00:00:...|               1040337|      6149370|\n|2014-01-29 00:00:...|                976249|      6369973|\n|2014-02-14 00:00:...|               1095116|      7038749|\n|2013-09-07 00:00:...|               1320314|      3294089|\n|2013-09-11 00:00:...|                713835|      2236844|\n|2013-10-20 00:00:...|                918923|      2944067|\n|2014-01-09 00:00:...|               1323522|      6998168|\n|2014-03-03 00:00:...|               1570664|     10486819|\n|2014-02-04 00:00:...|                879737|      6012623|\n+--------------------+----------------------+-------------+\nonly showing top 20 rows\n\n"
     ]
    }
   ],
   "source": [
    "orders.\\\n",
    "    groupBy('order_date'). \\\n",
    "    sum(). \\\n",
    "    show()"
   ]
  },
  {
   "cell_type": "code",
   "execution_count": 0,
   "metadata": {
    "application/vnd.databricks.v1+cell": {
     "cellMetadata": {
      "byteLimit": 2048000,
      "rowLimit": 10000
     },
     "inputWidgets": {},
     "nuid": "756d5dbd-3078-4916-884b-bcfee281ec37",
     "showTitle": false,
     "title": ""
    }
   },
   "outputs": [],
   "source": [
    "order_items_grouped = order_items. \\\n",
    "    select('order_item_order_id','order_item_quantity','order_item_subtotal'). \\\n",
    "    groupBy('order_item_order_id')"
   ]
  },
  {
   "cell_type": "code",
   "execution_count": 0,
   "metadata": {
    "application/vnd.databricks.v1+cell": {
     "cellMetadata": {
      "byteLimit": 2048000,
      "rowLimit": 10000
     },
     "inputWidgets": {},
     "nuid": "1ecc23c0-9507-4512-85b6-41b0f6224fd9",
     "showTitle": false,
     "title": ""
    }
   },
   "outputs": [
    {
     "output_type": "stream",
     "name": "stdout",
     "output_type": "stream",
     "text": [
      "+-------------------+------------------------+------------------------+------------------------+\n|order_item_order_id|sum(order_item_order_id)|sum(order_item_quantity)|sum(order_item_subtotal)|\n+-------------------+------------------------+------------------------+------------------------+\n|                 29|                     145|                       9|                 1109.85|\n|                474|                    2370|                      13|       774.8199999999999|\n|                964|                    3856|                      11|       739.8800000000001|\n|               1677|                    8385|                      14|       649.9200000000001|\n|               1806|                    5418|                       8|                  789.94|\n|               1950|                    9750|                      12|      1015.8700000000001|\n|               2214|                    4428|                       5|                  449.96|\n|               2250|                    9000|                      10|                  889.94|\n|               2453|                    9812|                       7|       999.9300000000001|\n|               2509|                   10036|                       4|                  889.94|\n|               2529|                    2529|                       1|                   59.99|\n|               2927|                   14635|                       8|       999.9100000000001|\n|               3091|                    9273|                       5|      469.93000000000006|\n|               3764|                    3764|                       2|                   95.98|\n|               4590|                   22950|                      11|                  949.83|\n|               4894|                   19576|                       4|                  899.94|\n|               5385|                   21540|                      10|                  629.86|\n|               5409|                   16227|                       7|       699.9200000000001|\n|               6721|                   13442|                       3|                  139.99|\n|               7225|                   28900|                      11|                  774.86|\n+-------------------+------------------------+------------------------+------------------------+\nonly showing top 20 rows\n\n"
     ]
    }
   ],
   "source": [
    "# Gets sum on order_item_order_id as well. It is not reevant and better to discard aggregation on key fields such as order_item_order_id\n",
    "\n",
    "order_items_grouped. \\\n",
    "    sum(). \\\n",
    "    show()"
   ]
  },
  {
   "cell_type": "code",
   "execution_count": 0,
   "metadata": {
    "application/vnd.databricks.v1+cell": {
     "cellMetadata": {
      "byteLimit": 2048000,
      "rowLimit": 10000
     },
     "inputWidgets": {},
     "nuid": "a556dad3-9859-4e15-a296-3286fa24cf21",
     "showTitle": false,
     "title": ""
    }
   },
   "outputs": [
    {
     "output_type": "stream",
     "name": "stdout",
     "output_type": "stream",
     "text": [
      "+-------------------+------------------------+------------------------+\n|order_item_order_id|sum(order_item_quantity)|sum(order_item_subtotal)|\n+-------------------+------------------------+------------------------+\n|                 29|                       9|                 1109.85|\n|                474|                      13|       774.8199999999999|\n|                964|                      11|       739.8800000000001|\n|               1677|                      14|       649.9200000000001|\n|               1806|                       8|                  789.94|\n|               1950|                      12|      1015.8700000000001|\n|               2214|                       5|                  449.96|\n|               2250|                      10|                  889.94|\n|               2453|                       7|       999.9300000000001|\n|               2509|                       4|                  889.94|\n|               2529|                       1|                   59.99|\n|               2927|                       8|       999.9100000000001|\n|               3091|                       5|      469.93000000000006|\n|               3764|                       2|                   95.98|\n|               4590|                      11|                  949.83|\n|               4894|                       4|                  899.94|\n|               5385|                      10|                  629.86|\n|               5409|                       7|       699.9200000000001|\n|               6721|                       3|                  139.99|\n|               7225|                      11|                  774.86|\n+-------------------+------------------------+------------------------+\nonly showing top 20 rows\n\n"
     ]
    }
   ],
   "source": [
    "# Gets sum on order_item_order_id as well. It is not reevant and better to discard aggregation on key fields such as order_item_order_id\n",
    "\n",
    "order_items_grouped. \\\n",
    "    sum('order_item_quantity','order_item_subtotal'). \\\n",
    "    show()"
   ]
  },
  {
   "cell_type": "code",
   "execution_count": 0,
   "metadata": {
    "application/vnd.databricks.v1+cell": {
     "cellMetadata": {
      "byteLimit": 2048000,
      "rowLimit": 10000
     },
     "inputWidgets": {},
     "nuid": "cecb88ce-7d80-4020-aa51-48b186722934",
     "showTitle": false,
     "title": ""
    }
   },
   "outputs": [
    {
     "output_type": "stream",
     "name": "stdout",
     "output_type": "stream",
     "text": [
      "+-------------------+--------------+------------------+\n|order_item_order_id|order_quantity|     order_revenue|\n+-------------------+--------------+------------------+\n|                 29|             9|           1109.85|\n|                474|            13| 774.8199999999999|\n|                964|            11| 739.8800000000001|\n|               1677|            14| 649.9200000000001|\n|               1806|             8|            789.94|\n|               1950|            12|1015.8700000000001|\n|               2214|             5|            449.96|\n|               2250|            10|            889.94|\n|               2453|             7| 999.9300000000001|\n|               2509|             4|            889.94|\n|               2529|             1|             59.99|\n|               2927|             8| 999.9100000000001|\n|               3091|             5|469.93000000000006|\n|               3764|             2|             95.98|\n|               4590|            11|            949.83|\n|               4894|             4|            899.94|\n|               5385|            10|            629.86|\n|               5409|             7| 699.9200000000001|\n|               6721|             3|            139.99|\n|               7225|            11|            774.86|\n+-------------------+--------------+------------------+\nonly showing top 20 rows\n\n"
     ]
    }
   ],
   "source": [
    "# assign proper col names for aggregated cols\n",
    "order_items_grouped. \\\n",
    "    sum('order_item_quantity','order_item_subtotal'). \\\n",
    "    toDF('order_item_order_id','order_quantity','order_revenue').\\\n",
    "    show()"
   ]
  },
  {
   "cell_type": "code",
   "execution_count": 0,
   "metadata": {
    "application/vnd.databricks.v1+cell": {
     "cellMetadata": {
      "byteLimit": 2048000,
      "rowLimit": 10000
     },
     "inputWidgets": {},
     "nuid": "23e4fa32-8bb7-4320-a076-a45c98284d27",
     "showTitle": false,
     "title": ""
    }
   },
   "outputs": [],
   "source": [
    "from pyspark.sql.functions import *"
   ]
  },
  {
   "cell_type": "code",
   "execution_count": 0,
   "metadata": {
    "application/vnd.databricks.v1+cell": {
     "cellMetadata": {
      "byteLimit": 2048000,
      "rowLimit": 10000
     },
     "inputWidgets": {},
     "nuid": "5bce7f1e-09f5-422d-950e-e9ce808e675d",
     "showTitle": false,
     "title": ""
    }
   },
   "outputs": [
    {
     "output_type": "stream",
     "name": "stdout",
     "output_type": "stream",
     "text": [
      "+-------------------+--------------+-------------+\n|order_item_order_id|order_quantity|order_revenue|\n+-------------------+--------------+-------------+\n|                 29|             9|      1109.85|\n|                474|            13|       774.82|\n|                964|            11|       739.88|\n|               1677|            14|       649.92|\n|               1806|             8|       789.94|\n|               1950|            12|      1015.87|\n|               2214|             5|       449.96|\n|               2250|            10|       889.94|\n|               2453|             7|       999.93|\n|               2509|             4|       889.94|\n|               2529|             1|        59.99|\n|               2927|             8|       999.91|\n|               3091|             5|       469.93|\n|               3764|             2|        95.98|\n|               4590|            11|       949.83|\n|               4894|             4|       899.94|\n|               5385|            10|       629.86|\n|               5409|             7|       699.92|\n|               6721|             3|       139.99|\n|               7225|            11|       774.86|\n+-------------------+--------------+-------------+\nonly showing top 20 rows\n\n"
     ]
    }
   ],
   "source": [
    "# We can specify custom names to derived fields using toDF. withColumn can be used to apply functions such as round on aggregated results\n",
    "\n",
    "# assign proper col names for aggregated cols\n",
    "order_items_grouped. \\\n",
    "    sum('order_item_quantity','order_item_subtotal'). \\\n",
    "    toDF('order_item_order_id','order_quantity','order_revenue'). \\\n",
    "    withColumn('order_revenue', round('order_revenue', 2)).\\\n",
    "    show()"
   ]
  },
  {
   "cell_type": "code",
   "execution_count": 0,
   "metadata": {
    "application/vnd.databricks.v1+cell": {
     "cellMetadata": {},
     "inputWidgets": {},
     "nuid": "10e2e874-41df-454f-8a6c-11ce8498ea89",
     "showTitle": false,
     "title": ""
    }
   },
   "outputs": [],
   "source": []
  }
 ],
 "metadata": {
  "application/vnd.databricks.v1+notebook": {
   "dashboards": [],
   "language": "python",
   "notebookMetadata": {
    "pythonIndentUnit": 4
   },
   "notebookName": "07 - Perform Grouped aggregations using direct functions on Spark Data Frame",
   "widgets": {}
  }
 },
 "nbformat": 4,
 "nbformat_minor": 0
}
