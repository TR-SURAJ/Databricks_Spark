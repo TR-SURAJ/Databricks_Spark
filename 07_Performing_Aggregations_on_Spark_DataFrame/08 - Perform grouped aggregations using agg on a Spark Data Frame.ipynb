{
 "cells": [
  {
   "cell_type": "code",
   "execution_count": 0,
   "metadata": {
    "application/vnd.databricks.v1+cell": {
     "cellMetadata": {
      "byteLimit": 2048000,
      "rowLimit": 10000
     },
     "inputWidgets": {},
     "nuid": "6a221599-e225-49a6-a05c-d9695a85cc2b",
     "showTitle": false,
     "title": ""
    }
   },
   "outputs": [],
   "source": [
    "order_items = spark.read.json('/public/retail_db_json/order_items')"
   ]
  },
  {
   "cell_type": "code",
   "execution_count": 0,
   "metadata": {
    "application/vnd.databricks.v1+cell": {
     "cellMetadata": {
      "byteLimit": 2048000,
      "rowLimit": 10000
     },
     "inputWidgets": {},
     "nuid": "149c8e2e-510b-434a-a708-66da3d72de37",
     "showTitle": false,
     "title": ""
    }
   },
   "outputs": [],
   "source": [
    "order_items_grouped = order_items.groupBy('order_item_order_id')"
   ]
  },
  {
   "cell_type": "code",
   "execution_count": 0,
   "metadata": {
    "application/vnd.databricks.v1+cell": {
     "cellMetadata": {
      "byteLimit": 2048000,
      "rowLimit": 10000
     },
     "inputWidgets": {},
     "nuid": "69ff0f93-a343-4e4d-aa4c-e9c293549105",
     "showTitle": false,
     "title": ""
    }
   },
   "outputs": [
    {
     "output_type": "stream",
     "name": "stdout",
     "output_type": "stream",
     "text": [
      "+-------------------+------------------------+------------------------+\n|order_item_order_id|sum(order_item_quantity)|sum(order_item_subtotal)|\n+-------------------+------------------------+------------------------+\n|                 29|                       9|                 1109.85|\n|                474|                      13|       774.8199999999999|\n|                964|                      11|       739.8800000000001|\n|               1677|                      14|       649.9200000000001|\n|               1806|                       8|                  789.94|\n|               1950|                      12|      1015.8700000000001|\n|               2214|                       5|                  449.96|\n|               2250|                      10|                  889.94|\n|               2453|                       7|       999.9300000000001|\n|               2509|                       4|                  889.94|\n|               2529|                       1|                   59.99|\n|               2927|                       8|       999.9100000000001|\n|               3091|                       5|      469.93000000000006|\n|               3764|                       2|                   95.98|\n|               4590|                      11|                  949.83|\n|               4894|                       4|                  899.94|\n|               5385|                      10|                  629.86|\n|               5409|                       7|       699.9200000000001|\n|               6721|                       3|                  139.99|\n|               7225|                      11|                  774.86|\n+-------------------+------------------------+------------------------+\nonly showing top 20 rows\n\n"
     ]
    }
   ],
   "source": [
    "order_items_grouped. \\\n",
    "    sum('order_item_quantity','order_item_subtotal'). \\\n",
    "    show()"
   ]
  },
  {
   "cell_type": "code",
   "execution_count": 0,
   "metadata": {
    "application/vnd.databricks.v1+cell": {
     "cellMetadata": {
      "byteLimit": 2048000,
      "rowLimit": 10000
     },
     "inputWidgets": {},
     "nuid": "4fef138a-0785-49ba-8578-b3a750e9fecb",
     "showTitle": false,
     "title": ""
    }
   },
   "outputs": [
    {
     "output_type": "execute_result",
     "data": {
      "text/plain": [
       "pyspark.sql.group.GroupedData"
      ]
     },
     "execution_count": 5,
     "metadata": {},
     "output_type": "execute_result"
    }
   ],
   "source": [
    "type(order_items_grouped)"
   ]
  },
  {
   "cell_type": "code",
   "execution_count": 0,
   "metadata": {
    "application/vnd.databricks.v1+cell": {
     "cellMetadata": {
      "byteLimit": 2048000,
      "rowLimit": 10000
     },
     "inputWidgets": {},
     "nuid": "b294d404-6603-4180-b781-dc695e96fb97",
     "showTitle": false,
     "title": ""
    }
   },
   "outputs": [
    {
     "output_type": "stream",
     "name": "stdout",
     "output_type": "stream",
     "text": [
      "Help on method agg in module pyspark.sql.group:\n\nagg(*exprs: Union[pyspark.sql.column.Column, Dict[str, str]]) -> pyspark.sql.dataframe.DataFrame method of pyspark.sql.group.GroupedData instance\n    Compute aggregates and returns the result as a :class:`DataFrame`.\n    \n    The available aggregate functions can be:\n    \n    1. built-in aggregation functions, such as `avg`, `max`, `min`, `sum`, `count`\n    \n    2. group aggregate pandas UDFs, created with :func:`pyspark.sql.functions.pandas_udf`\n    \n       .. note:: There is no partial aggregation with group aggregate UDFs, i.e.,\n           a full shuffle is required. Also, all the data of a group will be loaded into\n           memory, so the user should be aware of the potential OOM risk if data is skewed\n           and certain groups are too large to fit in memory.\n    \n       .. seealso:: :func:`pyspark.sql.functions.pandas_udf`\n    \n    If ``exprs`` is a single :class:`dict` mapping from string to string, then the key\n    is the column to perform aggregation on, and the value is the aggregate function.\n    \n    Alternatively, ``exprs`` can also be a list of aggregate :class:`Column` expressions.\n    \n    .. versionadded:: 1.3.0\n    \n    .. versionchanged:: 3.4.0\n        Supports Spark Connect.\n    \n    Parameters\n    ----------\n    exprs : dict\n        a dict mapping from column name (string) to aggregate functions (string),\n        or a list of :class:`Column`.\n    \n    Notes\n    -----\n    Built-in aggregation functions and group aggregate pandas UDFs cannot be mixed\n    in a single call to this function.\n    \n    Examples\n    --------\n    >>> from pyspark.sql import functions as F\n    >>> from pyspark.sql.functions import pandas_udf, PandasUDFType\n    >>> df = spark.createDataFrame(\n    ...      [(2, \"Alice\"), (3, \"Alice\"), (5, \"Bob\"), (10, \"Bob\")], [\"age\", \"name\"])\n    >>> df.show()\n    +---+-----+\n    |age| name|\n    +---+-----+\n    |  2|Alice|\n    |  3|Alice|\n    |  5|  Bob|\n    | 10|  Bob|\n    +---+-----+\n    \n    Group-by name, and count each group.\n    \n    >>> df.groupBy(df.name)\n    GroupedData[grouping...: [name...], value: [age: bigint, name: string], type: GroupBy]\n    \n    >>> df.groupBy(df.name).agg({\"*\": \"count\"}).sort(\"name\").show()  # doctest: +SKIP\n    +-----+--------+\n    | name|count(1)|\n    +-----+--------+\n    |Alice|       2|\n    |  Bob|       2|\n    +-----+--------+\n    \n    Group-by name, and calculate the minimum age.\n    \n    >>> df.groupBy(df.name).agg(F.min(df.age)).sort(\"name\").show()\n    +-----+--------+\n    | name|min(age)|\n    +-----+--------+\n    |Alice|       2|\n    |  Bob|       5|\n    +-----+--------+\n    \n    Same as above but uses pandas UDF.\n    \n    >>> @pandas_udf('int', PandasUDFType.GROUPED_AGG)  # doctest: +SKIP\n    ... def min_udf(v):\n    ...     return v.min()\n    ...\n    >>> df.groupBy(df.name).agg(min_udf(df.age)).sort(\"name\").show()  # doctest: +SKIP\n    +-----+------------+\n    | name|min_udf(age)|\n    +-----+------------+\n    |Alice|           2|\n    |  Bob|           5|\n    +-----+------------+\n\n"
     ]
    }
   ],
   "source": [
    "help(order_items_grouped.agg)"
   ]
  },
  {
   "cell_type": "code",
   "execution_count": 0,
   "metadata": {
    "application/vnd.databricks.v1+cell": {
     "cellMetadata": {
      "byteLimit": 2048000,
      "rowLimit": 10000
     },
     "inputWidgets": {},
     "nuid": "7d10413f-906d-41c2-bbda-46396823ad0e",
     "showTitle": false,
     "title": ""
    }
   },
   "outputs": [],
   "source": [
    "from pyspark.sql.functions import *"
   ]
  },
  {
   "cell_type": "code",
   "execution_count": 0,
   "metadata": {
    "application/vnd.databricks.v1+cell": {
     "cellMetadata": {
      "byteLimit": 2048000,
      "rowLimit": 10000
     },
     "inputWidgets": {},
     "nuid": "e488c37e-475d-4cd9-81d5-63444365bd7b",
     "showTitle": false,
     "title": ""
    }
   },
   "outputs": [
    {
     "output_type": "stream",
     "name": "stdout",
     "output_type": "stream",
     "text": [
      "root\n |-- order_item_order_id: long (nullable = true)\n |-- sum(order_item_quantity): long (nullable = true)\n |-- sum(order_item_subtotal): double (nullable = true)\n\n"
     ]
    }
   ],
   "source": [
    "order_items_grouped. \\\n",
    "    agg(sum('order_item_quantity'), sum('order_item_subtotal')). \\\n",
    "    printSchema()"
   ]
  },
  {
   "cell_type": "code",
   "execution_count": 0,
   "metadata": {
    "application/vnd.databricks.v1+cell": {
     "cellMetadata": {
      "byteLimit": 2048000,
      "rowLimit": 10000
     },
     "inputWidgets": {},
     "nuid": "7784a69c-ec0d-4df5-9982-1aefff92060a",
     "showTitle": false,
     "title": ""
    }
   },
   "outputs": [
    {
     "output_type": "stream",
     "name": "stdout",
     "output_type": "stream",
     "text": [
      "+-------------------+------------------------+------------------------+\n|order_item_order_id|sum(order_item_quantity)|sum(order_item_subtotal)|\n+-------------------+------------------------+------------------------+\n|                 29|                       9|                 1109.85|\n|                474|                      13|       774.8199999999999|\n|                964|                      11|       739.8800000000001|\n|               1677|                      14|       649.9200000000001|\n|               1806|                       8|                  789.94|\n|               1950|                      12|      1015.8700000000001|\n|               2214|                       5|                  449.96|\n|               2250|                      10|                  889.94|\n|               2453|                       7|       999.9300000000001|\n|               2509|                       4|                  889.94|\n|               2529|                       1|                   59.99|\n|               2927|                       8|       999.9100000000001|\n|               3091|                       5|      469.93000000000006|\n|               3764|                       2|                   95.98|\n|               4590|                      11|                  949.83|\n|               4894|                       4|                  899.94|\n|               5385|                      10|                  629.86|\n|               5409|                       7|       699.9200000000001|\n|               6721|                       3|                  139.99|\n|               7225|                      11|                  774.86|\n+-------------------+------------------------+------------------------+\nonly showing top 20 rows\n\n"
     ]
    }
   ],
   "source": [
    "order_items_grouped. \\\n",
    "    agg(sum('order_item_quantity'), sum('order_item_subtotal')). \\\n",
    "    show()"
   ]
  },
  {
   "cell_type": "code",
   "execution_count": 0,
   "metadata": {
    "application/vnd.databricks.v1+cell": {
     "cellMetadata": {
      "byteLimit": 2048000,
      "rowLimit": 10000
     },
     "inputWidgets": {},
     "nuid": "eac0345d-ebeb-4d8e-824b-5691794f06fc",
     "showTitle": false,
     "title": ""
    }
   },
   "outputs": [
    {
     "output_type": "stream",
     "name": "stdout",
     "output_type": "stream",
     "text": [
      "+-------------------+--------------+-------------+\n|order_item_order_id|order_quantity|order_revenue|\n+-------------------+--------------+-------------+\n|                 29|             9|      1109.85|\n|                474|            13|       774.82|\n|                964|            11|       739.88|\n|               1677|            14|       649.92|\n|               1806|             8|       789.94|\n|               1950|            12|      1015.87|\n|               2214|             5|       449.96|\n|               2250|            10|       889.94|\n|               2453|             7|       999.93|\n|               2509|             4|       889.94|\n|               2529|             1|        59.99|\n|               2927|             8|       999.91|\n|               3091|             5|       469.93|\n|               3764|             2|        95.98|\n|               4590|            11|       949.83|\n|               4894|             4|       899.94|\n|               5385|            10|       629.86|\n|               5409|             7|       699.92|\n|               6721|             3|       139.99|\n|               7225|            11|       774.86|\n+-------------------+--------------+-------------+\nonly showing top 20 rows\n\n"
     ]
    }
   ],
   "source": [
    "order_items_grouped. \\\n",
    "    agg(sum('order_item_quantity').alias('order_quantity'), round(sum('order_item_subtotal'),2).alias('order_revenue')). \\\n",
    "    show()"
   ]
  },
  {
   "cell_type": "code",
   "execution_count": 0,
   "metadata": {
    "application/vnd.databricks.v1+cell": {
     "cellMetadata": {
      "byteLimit": 2048000,
      "rowLimit": 10000
     },
     "inputWidgets": {},
     "nuid": "aad6d6e7-1c19-412d-ac2d-334529f43de5",
     "showTitle": false,
     "title": ""
    }
   },
   "outputs": [
    {
     "output_type": "stream",
     "name": "stdout",
     "output_type": "stream",
     "text": [
      "root\n |-- order_item_order_id: long (nullable = true)\n |-- sum(order_item_subtotal): double (nullable = true)\n |-- sum(order_item_quantity): long (nullable = true)\n\n"
     ]
    }
   ],
   "source": [
    "order_items_grouped. \\\n",
    "    agg({'order_item_quantity': 'sum', 'order_item_subtotal': 'sum' }). \\\n",
    "    printSchema()"
   ]
  },
  {
   "cell_type": "code",
   "execution_count": 0,
   "metadata": {
    "application/vnd.databricks.v1+cell": {
     "cellMetadata": {
      "byteLimit": 2048000,
      "rowLimit": 10000
     },
     "inputWidgets": {},
     "nuid": "71516ef7-3c54-4359-8283-2694fa404224",
     "showTitle": false,
     "title": ""
    }
   },
   "outputs": [
    {
     "output_type": "stream",
     "name": "stdout",
     "output_type": "stream",
     "text": [
      "root\n |-- order_item_order_id: long (nullable = true)\n |-- order_quantity: double (nullable = true)\n |-- order_revenue: long (nullable = true)\n\n"
     ]
    }
   ],
   "source": [
    "order_items_grouped. \\\n",
    "    agg({'order_item_quantity': 'sum', 'order_item_subtotal': 'sum' }). \\\n",
    "    toDF('order_item_order_id','order_quantity','order_revenue'). \\\n",
    "    withColumn('order_revenue', round('order_revenue',2)). \\\n",
    "    printSchema()"
   ]
  },
  {
   "cell_type": "code",
   "execution_count": 0,
   "metadata": {
    "application/vnd.databricks.v1+cell": {
     "cellMetadata": {
      "byteLimit": 2048000,
      "rowLimit": 10000
     },
     "inputWidgets": {},
     "nuid": "735223cd-a80a-4542-b13f-43e4dbed4c3c",
     "showTitle": false,
     "title": ""
    }
   },
   "outputs": [
    {
     "output_type": "stream",
     "name": "stdout",
     "output_type": "stream",
     "text": [
      "+-------------------+------------------+-------------+\n|order_item_order_id|    order_quantity|order_revenue|\n+-------------------+------------------+-------------+\n|                 29|           1109.85|            9|\n|                474| 774.8199999999999|           13|\n|                964| 739.8800000000001|           11|\n|               1677| 649.9200000000001|           14|\n|               1806|            789.94|            8|\n|               1950|1015.8700000000001|           12|\n|               2214|            449.96|            5|\n|               2250|            889.94|           10|\n|               2453| 999.9300000000001|            7|\n|               2509|            889.94|            4|\n|               2529|             59.99|            1|\n|               2927| 999.9100000000001|            8|\n|               3091|469.93000000000006|            5|\n|               3764|             95.98|            2|\n|               4590|            949.83|           11|\n|               4894|            899.94|            4|\n|               5385|            629.86|           10|\n|               5409| 699.9200000000001|            7|\n|               6721|            139.99|            3|\n|               7225|            774.86|           11|\n+-------------------+------------------+-------------+\nonly showing top 20 rows\n\n"
     ]
    }
   ],
   "source": [
    "order_items_grouped. \\\n",
    "    agg({'order_item_quantity': 'sum', 'order_item_subtotal': 'sum' }). \\\n",
    "    toDF('order_item_order_id','order_quantity','order_revenue'). \\\n",
    "    withColumn('order_revenue', round('order_revenue',2)). \\\n",
    "    show()"
   ]
  },
  {
   "cell_type": "code",
   "execution_count": 0,
   "metadata": {
    "application/vnd.databricks.v1+cell": {
     "cellMetadata": {
      "byteLimit": 2048000,
      "rowLimit": 10000
     },
     "inputWidgets": {},
     "nuid": "8334c75a-4ff1-434d-9681-749de3000da1",
     "showTitle": false,
     "title": ""
    }
   },
   "outputs": [
    {
     "output_type": "stream",
     "name": "stdout",
     "output_type": "stream",
     "text": [
      "+-------------------+------------------------+\n|order_item_order_id|min(order_item_quantity)|\n+-------------------+------------------------+\n|                 29|                       1|\n|                474|                       1|\n|                964|                       1|\n|               1677|                       1|\n|               1806|                       1|\n|               1950|                       1|\n|               2214|                       1|\n|               2250|                       1|\n|               2453|                       1|\n|               2509|                       1|\n|               2529|                       1|\n|               2927|                       1|\n|               3091|                       1|\n|               3764|                       2|\n|               4590|                       1|\n|               4894|                       1|\n|               5385|                       1|\n|               5409|                       1|\n|               6721|                       1|\n|               7225|                       1|\n+-------------------+------------------------+\nonly showing top 20 rows\n\n"
     ]
    }
   ],
   "source": [
    "# using dict has limitation. cannot specify same key twice for different aggregations. Even if we specify it will pick only one of them\n",
    "order_items_grouped. \\\n",
    "    agg({'order_item_quantity': 'sum', 'order_item_quantity': 'min' }). \\\n",
    "    show()"
   ]
  },
  {
   "cell_type": "code",
   "execution_count": 0,
   "metadata": {
    "application/vnd.databricks.v1+cell": {
     "cellMetadata": {
      "byteLimit": 2048000,
      "rowLimit": 10000
     },
     "inputWidgets": {},
     "nuid": "08fe5611-25d7-4c33-b7c3-9a53fcfaa0db",
     "showTitle": false,
     "title": ""
    }
   },
   "outputs": [
    {
     "output_type": "stream",
     "name": "stdout",
     "output_type": "stream",
     "text": [
      "+-------------------+--------------+------------------+-------------+-----------------------+\n|order_item_order_id|order_quantity|min_order_quantity|order_revenue|min_order_item_subtotal|\n+-------------------+--------------+------------------+-------------+-----------------------+\n|                 29|             9|                 1|      1109.85|                 129.99|\n|                474|            13|                 1|       774.82|                  24.99|\n|                964|            11|                 1|       739.88|                 129.99|\n|               1677|            14|                 1|       649.92|                   50.0|\n|               1806|             8|                 1|       789.94|                  150.0|\n|               1950|            12|                 1|      1015.87|                  87.96|\n|               2214|             5|                 1|       449.96|                   50.0|\n|               2250|            10|                 1|       889.94|                  59.99|\n|               2453|             7|                 1|       999.93|                  100.0|\n|               2509|             4|                 1|       889.94|                  59.99|\n|               2529|             1|                 1|        59.99|                  59.99|\n|               2927|             8|                 1|       999.91|                 119.98|\n|               3091|             5|                 1|       469.93|                  49.98|\n|               3764|             2|                 2|        95.98|                  95.98|\n|               4590|            11|                 1|       949.83|                  99.99|\n|               4894|             4|                 1|       899.94|                  99.99|\n|               5385|            10|                 1|       629.86|                   70.0|\n|               5409|             7|                 1|       699.92|                  99.99|\n|               6721|             3|                 1|       139.99|                  39.99|\n|               7225|            11|                 1|       774.86|                  74.97|\n+-------------------+--------------+------------------+-------------+-----------------------+\nonly showing top 20 rows\n\n"
     ]
    }
   ],
   "source": [
    "order_items_grouped. \\\n",
    "    agg(sum('order_item_quantity').alias('order_quantity'), \n",
    "        min('order_item_quantity').alias('min_order_quantity'),\n",
    "        round(sum('order_item_subtotal'),2).alias('order_revenue'),\n",
    "        min('order_item_subtotal').alias('min_order_item_subtotal')\n",
    "        ). \\\n",
    "    show()"
   ]
  },
  {
   "cell_type": "code",
   "execution_count": 0,
   "metadata": {
    "application/vnd.databricks.v1+cell": {
     "cellMetadata": {},
     "inputWidgets": {},
     "nuid": "3f520524-fd03-4ae9-b767-32e95cdcbd73",
     "showTitle": false,
     "title": ""
    }
   },
   "outputs": [],
   "source": []
  },
  {
   "cell_type": "code",
   "execution_count": 0,
   "metadata": {
    "application/vnd.databricks.v1+cell": {
     "cellMetadata": {},
     "inputWidgets": {},
     "nuid": "8431fdb4-218f-4677-9711-f5deb391bfcc",
     "showTitle": false,
     "title": ""
    }
   },
   "outputs": [],
   "source": []
  }
 ],
 "metadata": {
  "application/vnd.databricks.v1+notebook": {
   "dashboards": [],
   "language": "python",
   "notebookMetadata": {
    "pythonIndentUnit": 4
   },
   "notebookName": "08 - Perform grouped aggregations using agg on a Spark Data Frame",
   "widgets": {}
  }
 },
 "nbformat": 4,
 "nbformat_minor": 0
}
