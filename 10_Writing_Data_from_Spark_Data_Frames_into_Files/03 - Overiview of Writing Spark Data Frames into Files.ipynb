{
 "cells": [
  {
   "cell_type": "code",
   "execution_count": 0,
   "metadata": {
    "application/vnd.databricks.v1+cell": {
     "cellMetadata": {
      "byteLimit": 2048000,
      "rowLimit": 10000
     },
     "inputWidgets": {},
     "nuid": "7004ab4a-0084-4a90-befa-8c776f098f47",
     "showTitle": false,
     "title": ""
    }
   },
   "outputs": [],
   "source": [
    "courses = [\n",
    "    {   \n",
    "        'course_id': 1,\n",
    "        'course_name': \"Python Bootcamp\",\n",
    "        'suitable_for': 'Beginner',\n",
    "        'enrollment': 1100093,\n",
    "        'stars': 4.6,\n",
    "        'number_of_ratings': 218066\n",
    "    },\n",
    "    {   \n",
    "        'course_id': 2,\n",
    "        'course_name': \"angular - the complete guide\",\n",
    "        'suitable_for': 'Intermediate',\n",
    "        'enrollment': 34567,\n",
    "        'stars': 4.5,\n",
    "        'number_of_ratings': 347912\n",
    "    },\n",
    "    {\n",
    "        'course_id': 3,\n",
    "        'course_name': \"Java In-Depth\",\n",
    "        'suitable_for': 'Adavanced',\n",
    "        'enrollment': 2345321,\n",
    "        'stars': 4.8,\n",
    "        'number_of_ratings': 23789\n",
    "    },\n",
    "    {\n",
    "        'course_id': 4,\n",
    "        'course_name': \"C++ Beginner guide\",\n",
    "        'suitable_for': 'Beginner',\n",
    "        'enrollment': 32145,\n",
    "        'stars': 4.2,\n",
    "        'number_of_ratings': 5678\n",
    "    },\n",
    "    {\n",
    "        'course_id': 5,\n",
    "        'course_name': \"Data Science Practical approach\",\n",
    "        'suitable_for': 'Intermediate',\n",
    "        'enrollment': 67897,\n",
    "        'stars': 4.6,\n",
    "        'number_of_ratings': 267576\n",
    "    }\n",
    "]"
   ]
  },
  {
   "cell_type": "code",
   "execution_count": 0,
   "metadata": {
    "application/vnd.databricks.v1+cell": {
     "cellMetadata": {
      "byteLimit": 2048000,
      "rowLimit": 10000
     },
     "inputWidgets": {},
     "nuid": "de564786-0d01-4ba0-ad72-c66bbf752902",
     "showTitle": false,
     "title": ""
    }
   },
   "outputs": [],
   "source": [
    "from pyspark.sql.functions import *\n",
    "from pyspark.sql import Row"
   ]
  },
  {
   "cell_type": "code",
   "execution_count": 0,
   "metadata": {
    "application/vnd.databricks.v1+cell": {
     "cellMetadata": {
      "byteLimit": 2048000,
      "rowLimit": 10000
     },
     "inputWidgets": {},
     "nuid": "d1c962d5-f6b0-4dd5-84de-84664ebcf165",
     "showTitle": false,
     "title": ""
    }
   },
   "outputs": [],
   "source": [
    "course_df = spark.createDataFrame([Row(**course) for course in courses])"
   ]
  },
  {
   "cell_type": "code",
   "execution_count": 0,
   "metadata": {
    "application/vnd.databricks.v1+cell": {
     "cellMetadata": {
      "byteLimit": 2048000,
      "rowLimit": 10000
     },
     "inputWidgets": {},
     "nuid": "e242268a-8a03-475a-b6ba-fb13fa0d7f12",
     "showTitle": false,
     "title": ""
    }
   },
   "outputs": [
    {
     "output_type": "stream",
     "name": "stdout",
     "output_type": "stream",
     "text": [
      "+---------+--------------------+------------+----------+-----+-----------------+\n|course_id|         course_name|suitable_for|enrollment|stars|number_of_ratings|\n+---------+--------------------+------------+----------+-----+-----------------+\n|        1|     Python Bootcamp|    Beginner|   1100093|  4.6|           218066|\n|        2|angular - the com...|Intermediate|     34567|  4.5|           347912|\n|        3|       Java In-Depth|   Adavanced|   2345321|  4.8|            23789|\n|        4|  C++ Beginner guide|    Beginner|     32145|  4.2|             5678|\n|        5|Data Science Prac...|Intermediate|     67897|  4.6|           267576|\n+---------+--------------------+------------+----------+-----+-----------------+\n\n"
     ]
    }
   ],
   "source": [
    "course_df.show()"
   ]
  },
  {
   "cell_type": "code",
   "execution_count": 0,
   "metadata": {
    "application/vnd.databricks.v1+cell": {
     "cellMetadata": {
      "byteLimit": 2048000,
      "rowLimit": 10000
     },
     "inputWidgets": {},
     "nuid": "cee77e81-cad2-4c8b-9d0f-6dc43a2741b3",
     "showTitle": false,
     "title": ""
    }
   },
   "outputs": [
    {
     "output_type": "execute_result",
     "data": {
      "text/plain": [
       "pyspark.sql.readwriter.DataFrameWriter"
      ]
     },
     "execution_count": 9,
     "metadata": {},
     "output_type": "execute_result"
    }
   ],
   "source": [
    "type(course_df.write)"
   ]
  },
  {
   "cell_type": "code",
   "execution_count": 0,
   "metadata": {
    "application/vnd.databricks.v1+cell": {
     "cellMetadata": {
      "byteLimit": 2048000,
      "rowLimit": 10000
     },
     "inputWidgets": {},
     "nuid": "1ab2acf9-3f71-4b97-8bbb-714e9239183b",
     "showTitle": false,
     "title": ""
    }
   },
   "outputs": [],
   "source": [
    "import getpass\n",
    "username = getpass.getuser()"
   ]
  },
  {
   "cell_type": "code",
   "execution_count": 0,
   "metadata": {
    "application/vnd.databricks.v1+cell": {
     "cellMetadata": {
      "byteLimit": 2048000,
      "rowLimit": 10000
     },
     "inputWidgets": {},
     "nuid": "e337773f-8b94-4bcf-8852-f8782f07e8cf",
     "showTitle": false,
     "title": ""
    }
   },
   "outputs": [],
   "source": [
    "course_df.write.json(f'/user/{username}/course',mode = 'overwrite')"
   ]
  },
  {
   "cell_type": "code",
   "execution_count": 0,
   "metadata": {
    "application/vnd.databricks.v1+cell": {
     "cellMetadata": {
      "byteLimit": 2048000,
      "rowLimit": 10000
     },
     "inputWidgets": {},
     "nuid": "a1f8a32e-cefa-4b9d-88b9-25c06e39d7f0",
     "showTitle": false,
     "title": ""
    }
   },
   "outputs": [
    {
     "output_type": "execute_result",
     "data": {
      "text/plain": [
       "[FileInfo(path='dbfs:/user/root/course/_SUCCESS', name='_SUCCESS', size=0, modificationTime=1698049135000),\n",
       " FileInfo(path='dbfs:/user/root/course/_committed_644016347177183303', name='_committed_644016347177183303', size=376, modificationTime=1698049135000),\n",
       " FileInfo(path='dbfs:/user/root/course/_started_644016347177183303', name='_started_644016347177183303', size=0, modificationTime=1698049134000),\n",
       " FileInfo(path='dbfs:/user/root/course/part-00000-tid-644016347177183303-9e61e71d-28e6-4e8b-9e11-8d22a662bd14-15-1-c000.json', name='part-00000-tid-644016347177183303-9e61e71d-28e6-4e8b-9e11-8d22a662bd14-15-1-c000.json', size=134, modificationTime=1698049134000),\n",
       " FileInfo(path='dbfs:/user/root/course/part-00001-tid-644016347177183303-9e61e71d-28e6-4e8b-9e11-8d22a662bd14-16-1-c000.json', name='part-00001-tid-644016347177183303-9e61e71d-28e6-4e8b-9e11-8d22a662bd14-16-1-c000.json', size=149, modificationTime=1698049134000),\n",
       " FileInfo(path='dbfs:/user/root/course/part-00002-tid-644016347177183303-9e61e71d-28e6-4e8b-9e11-8d22a662bd14-17-1-c000.json', name='part-00002-tid-644016347177183303-9e61e71d-28e6-4e8b-9e11-8d22a662bd14-17-1-c000.json', size=132, modificationTime=1698049134000),\n",
       " FileInfo(path='dbfs:/user/root/course/part-00003-tid-644016347177183303-9e61e71d-28e6-4e8b-9e11-8d22a662bd14-18-1-c000.json', name='part-00003-tid-644016347177183303-9e61e71d-28e6-4e8b-9e11-8d22a662bd14-18-1-c000.json', size=285, modificationTime=1698049134000)]"
      ]
     },
     "execution_count": 12,
     "metadata": {},
     "output_type": "execute_result"
    }
   ],
   "source": [
    "dbutils.fs.ls(f'/user/{username}/course')"
   ]
  },
  {
   "cell_type": "code",
   "execution_count": 0,
   "metadata": {
    "application/vnd.databricks.v1+cell": {
     "cellMetadata": {
      "byteLimit": 2048000,
      "rowLimit": 10000
     },
     "inputWidgets": {},
     "nuid": "cb1b29ce-7d5e-4884-9c02-20ec1e5b8b0a",
     "showTitle": false,
     "title": ""
    }
   },
   "outputs": [],
   "source": [
    "course_df.write.format('json').save(f'/user/{username}/course',mode = 'overwrite')"
   ]
  },
  {
   "cell_type": "code",
   "execution_count": 0,
   "metadata": {
    "application/vnd.databricks.v1+cell": {
     "cellMetadata": {},
     "inputWidgets": {},
     "nuid": "e2ed0da8-5725-422e-84cd-73210aa923b8",
     "showTitle": false,
     "title": ""
    }
   },
   "outputs": [],
   "source": []
  }
 ],
 "metadata": {
  "application/vnd.databricks.v1+notebook": {
   "dashboards": [],
   "language": "python",
   "notebookMetadata": {
    "pythonIndentUnit": 4
   },
   "notebookName": "03 - Overiview of Writing Spark Data Frames into Files",
   "widgets": {}
  }
 },
 "nbformat": 4,
 "nbformat_minor": 0
}
