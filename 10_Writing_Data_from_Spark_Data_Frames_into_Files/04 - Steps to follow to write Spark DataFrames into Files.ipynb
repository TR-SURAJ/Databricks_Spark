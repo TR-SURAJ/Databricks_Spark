{
 "cells": [
  {
   "cell_type": "markdown",
   "metadata": {
    "application/vnd.databricks.v1+cell": {
     "cellMetadata": {},
     "inputWidgets": {},
     "nuid": "fafea3b3-52b5-451f-91a1-52b93b80f2f2",
     "showTitle": false,
     "title": ""
    }
   },
   "source": [
    "- Make sure to analyze the schema of the Data Frame\n",
    "- Make sure you have write permissions on the target location\n",
    "- Understand whether you want to overwrite or append or ignore or throw exception in case target folder already exists\n",
    "- Decide wheteher you would like to compress the data or not\n",
    "- Make sure you understand whether the files will be compressed or not by default\n"
   ]
  },
  {
   "cell_type": "code",
   "execution_count": 0,
   "metadata": {
    "application/vnd.databricks.v1+cell": {
     "cellMetadata": {},
     "inputWidgets": {},
     "nuid": "483686eb-53c0-4f61-8c74-19aa6f482a56",
     "showTitle": false,
     "title": ""
    }
   },
   "outputs": [],
   "source": []
  }
 ],
 "metadata": {
  "application/vnd.databricks.v1+notebook": {
   "dashboards": [],
   "language": "python",
   "notebookMetadata": {
    "pythonIndentUnit": 4
   },
   "notebookName": "04 - Steps to follow to write Spark DataFrames into Files",
   "widgets": {}
  }
 },
 "nbformat": 4,
 "nbformat_minor": 0
}
