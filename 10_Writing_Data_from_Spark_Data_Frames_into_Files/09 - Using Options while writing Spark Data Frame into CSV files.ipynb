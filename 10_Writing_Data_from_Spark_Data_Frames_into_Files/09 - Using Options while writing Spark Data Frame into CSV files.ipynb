{
 "cells": [
  {
   "cell_type": "code",
   "execution_count": 0,
   "metadata": {
    "application/vnd.databricks.v1+cell": {
     "cellMetadata": {
      "byteLimit": 2048000,
      "rowLimit": 10000
     },
     "inputWidgets": {},
     "nuid": "93934d9e-b264-4da8-b167-22d7883fe9a8",
     "showTitle": false,
     "title": ""
    }
   },
   "outputs": [
    {
     "output_type": "execute_result",
     "data": {
      "text/plain": [
       "[FileInfo(path='dbfs:/public/retail_db/README.md', name='README.md', size=826, modificationTime=1688522119000),\n",
       " FileInfo(path='dbfs:/public/retail_db/categories/', name='categories/', size=0, modificationTime=1688522106000),\n",
       " FileInfo(path='dbfs:/public/retail_db/create_db.sql', name='create_db.sql', size=10303495, modificationTime=1688522111000),\n",
       " FileInfo(path='dbfs:/public/retail_db/create_db_tables_pg.sql', name='create_db_tables_pg.sql', size=1830, modificationTime=1688522112000),\n",
       " FileInfo(path='dbfs:/public/retail_db/customers/', name='customers/', size=0, modificationTime=1688522112000),\n",
       " FileInfo(path='dbfs:/public/retail_db/departments/', name='departments/', size=0, modificationTime=1688522113000),\n",
       " FileInfo(path='dbfs:/public/retail_db/load_db_tables_pg.sql', name='load_db_tables_pg.sql', size=10297392, modificationTime=1688522116000),\n",
       " FileInfo(path='dbfs:/public/retail_db/order_items/', name='order_items/', size=0, modificationTime=1688522117000),\n",
       " FileInfo(path='dbfs:/public/retail_db/orders/', name='orders/', size=0, modificationTime=1688522116000),\n",
       " FileInfo(path='dbfs:/public/retail_db/products/', name='products/', size=0, modificationTime=1688522119000)]"
      ]
     },
     "execution_count": 1,
     "metadata": {},
     "output_type": "execute_result"
    }
   ],
   "source": [
    "dbutils.fs.ls('/public/retail_db')"
   ]
  },
  {
   "cell_type": "code",
   "execution_count": 0,
   "metadata": {
    "application/vnd.databricks.v1+cell": {
     "cellMetadata": {
      "byteLimit": 2048000,
      "rowLimit": 10000
     },
     "inputWidgets": {},
     "nuid": "f4bb58ac-bfbb-4c58-a3b4-2776df824d58",
     "showTitle": false,
     "title": ""
    }
   },
   "outputs": [],
   "source": [
    "schema = \"\"\"\n",
    "    order_id INT,\n",
    "    order_date TIMESTAMP,\n",
    "    order_customer_id INT,\n",
    "    order_status STRING\n",
    "   \"\"\""
   ]
  },
  {
   "cell_type": "code",
   "execution_count": 0,
   "metadata": {
    "application/vnd.databricks.v1+cell": {
     "cellMetadata": {
      "byteLimit": 2048000,
      "rowLimit": 10000
     },
     "inputWidgets": {},
     "nuid": "8283a227-7266-44e3-8ec7-c0d4fad9d6ad",
     "showTitle": false,
     "title": ""
    }
   },
   "outputs": [],
   "source": [
    "orders = spark.read.csv('/public/retail_db/orders', schema=schema)"
   ]
  },
  {
   "cell_type": "code",
   "execution_count": 0,
   "metadata": {
    "application/vnd.databricks.v1+cell": {
     "cellMetadata": {
      "byteLimit": 2048000,
      "rowLimit": 10000
     },
     "inputWidgets": {},
     "nuid": "031f12ea-1956-4972-8795-e737b47ce592",
     "showTitle": false,
     "title": ""
    }
   },
   "outputs": [
    {
     "output_type": "stream",
     "name": "stdout",
     "output_type": "stream",
     "text": [
      "+--------+-------------------+-----------------+---------------+\n|order_id|         order_date|order_customer_id|   order_status|\n+--------+-------------------+-----------------+---------------+\n|       1|2013-07-25 00:00:00|            11599|         CLOSED|\n|       2|2013-07-25 00:00:00|              256|PENDING_PAYMENT|\n|       3|2013-07-25 00:00:00|            12111|       COMPLETE|\n|       4|2013-07-25 00:00:00|             8827|         CLOSED|\n|       5|2013-07-25 00:00:00|            11318|       COMPLETE|\n|       6|2013-07-25 00:00:00|             7130|       COMPLETE|\n|       7|2013-07-25 00:00:00|             4530|       COMPLETE|\n|       8|2013-07-25 00:00:00|             2911|     PROCESSING|\n|       9|2013-07-25 00:00:00|             5657|PENDING_PAYMENT|\n|      10|2013-07-25 00:00:00|             5648|PENDING_PAYMENT|\n|      11|2013-07-25 00:00:00|              918| PAYMENT_REVIEW|\n|      12|2013-07-25 00:00:00|             1837|         CLOSED|\n|      13|2013-07-25 00:00:00|             9149|PENDING_PAYMENT|\n|      14|2013-07-25 00:00:00|             9842|     PROCESSING|\n|      15|2013-07-25 00:00:00|             2568|       COMPLETE|\n|      16|2013-07-25 00:00:00|             7276|PENDING_PAYMENT|\n|      17|2013-07-25 00:00:00|             2667|       COMPLETE|\n|      18|2013-07-25 00:00:00|             1205|         CLOSED|\n|      19|2013-07-25 00:00:00|             9488|PENDING_PAYMENT|\n|      20|2013-07-25 00:00:00|             9198|     PROCESSING|\n+--------+-------------------+-----------------+---------------+\nonly showing top 20 rows\n\n"
     ]
    }
   ],
   "source": [
    "orders.show()"
   ]
  },
  {
   "cell_type": "code",
   "execution_count": 0,
   "metadata": {
    "application/vnd.databricks.v1+cell": {
     "cellMetadata": {
      "byteLimit": 2048000,
      "rowLimit": 10000
     },
     "inputWidgets": {},
     "nuid": "ddf10704-7719-4876-af96-a58c85821931",
     "showTitle": false,
     "title": ""
    }
   },
   "outputs": [
    {
     "output_type": "stream",
     "name": "stdout",
     "output_type": "stream",
     "text": [
      "Help on method csv in module pyspark.sql.readwriter:\n\ncsv(path: str, mode: Optional[str] = None, compression: Optional[str] = None, sep: Optional[str] = None, quote: Optional[str] = None, escape: Optional[str] = None, header: Union[bool, str, NoneType] = None, nullValue: Optional[str] = None, escapeQuotes: Union[bool, str, NoneType] = None, quoteAll: Union[bool, str, NoneType] = None, dateFormat: Optional[str] = None, timestampFormat: Optional[str] = None, ignoreLeadingWhiteSpace: Union[bool, str, NoneType] = None, ignoreTrailingWhiteSpace: Union[bool, str, NoneType] = None, charToEscapeQuoteEscaping: Optional[str] = None, encoding: Optional[str] = None, emptyValue: Optional[str] = None, lineSep: Optional[str] = None) -> None method of pyspark.sql.readwriter.DataFrameWriter instance\n    Saves the content of the :class:`DataFrame` in CSV format at the specified path.\n    \n    .. versionadded:: 2.0.0\n    \n    .. versionchanged:: 3.4.0\n        Supports Spark Connect.\n    \n    Parameters\n    ----------\n    path : str\n        the path in any Hadoop supported file system\n    mode : str, optional\n        specifies the behavior of the save operation when data already exists.\n    \n        * ``append``: Append contents of this :class:`DataFrame` to existing data.\n        * ``overwrite``: Overwrite existing data.\n        * ``ignore``: Silently ignore this operation if data already exists.\n        * ``error`` or ``errorifexists`` (default case): Throw an exception if data already \\\n            exists.\n    \n    Other Parameters\n    ----------------\n    Extra options\n        For the extra options, refer to\n        `Data Source Option <https://spark.apache.org/docs/latest/sql-data-sources-csv.html#data-source-option>`_\n        for the version you use.\n    \n        .. # noqa\n    \n    Examples\n    --------\n    Write a DataFrame into a CSV file and read it back.\n    \n    >>> import tempfile\n    >>> with tempfile.TemporaryDirectory() as d:\n    ...     # Write a DataFrame into a CSV file\n    ...     df = spark.createDataFrame([{\"age\": 100, \"name\": \"Hyukjin Kwon\"}])\n    ...     df.write.csv(d, mode=\"overwrite\")\n    ...\n    ...     # Read the CSV file as a DataFrame with 'nullValue' option set to 'Hyukjin Kwon'.\n    ...     spark.read.schema(df.schema).format(\"csv\").option(\n    ...         \"nullValue\", \"Hyukjin Kwon\").load(d).show()\n    +---+----+\n    |age|name|\n    +---+----+\n    |100|NULL|\n    +---+----+\n\n"
     ]
    }
   ],
   "source": [
    "help(orders.write.csv)"
   ]
  },
  {
   "cell_type": "code",
   "execution_count": 0,
   "metadata": {
    "application/vnd.databricks.v1+cell": {
     "cellMetadata": {
      "byteLimit": 2048000,
      "rowLimit": 10000
     },
     "inputWidgets": {},
     "nuid": "d823f23b-338e-4dd9-b45b-2dfb1b262b5e",
     "showTitle": false,
     "title": ""
    }
   },
   "outputs": [
    {
     "output_type": "stream",
     "name": "stdout",
     "output_type": "stream",
     "text": [
      "Help on method option in module pyspark.sql.readwriter:\n\noption(key: str, value: 'OptionalPrimitiveType') -> 'DataFrameWriter' method of pyspark.sql.readwriter.DataFrameWriter instance\n    Adds an output option for the underlying data source.\n    \n    .. versionadded:: 1.5.0\n    \n    .. versionchanged:: 3.4.0\n        Supports Spark Connect.\n    \n    Parameters\n    ----------\n    key : str\n        The key for the option to set.\n    value\n        The value for the option to set.\n    \n    Examples\n    --------\n    >>> spark.range(1).write.option(\"key\", \"value\")\n    <...readwriter.DataFrameWriter object ...>\n    \n    Specify the option 'nullValue' with writing a CSV file.\n    \n    >>> import tempfile\n    >>> with tempfile.TemporaryDirectory() as d:\n    ...     # Write a DataFrame into a CSV file with 'nullValue' option set to 'Hyukjin Kwon'.\n    ...     df = spark.createDataFrame([(100, None)], \"age INT, name STRING\")\n    ...     df.write.option(\"nullValue\", \"Hyukjin Kwon\").mode(\"overwrite\").format(\"csv\").save(d)\n    ...\n    ...     # Read the CSV file as a DataFrame.\n    ...     spark.read.schema(df.schema).format('csv').load(d).show()\n    +---+------------+\n    |age|        name|\n    +---+------------+\n    |100|Hyukjin Kwon|\n    +---+------------+\n\n"
     ]
    }
   ],
   "source": [
    "help(orders.write.option)"
   ]
  },
  {
   "cell_type": "code",
   "execution_count": 0,
   "metadata": {
    "application/vnd.databricks.v1+cell": {
     "cellMetadata": {
      "byteLimit": 2048000,
      "rowLimit": 10000
     },
     "inputWidgets": {},
     "nuid": "8a4381f0-71d6-46c5-a775-a8ed7087d434",
     "showTitle": false,
     "title": ""
    }
   },
   "outputs": [],
   "source": [
    "import getpass\n",
    "username = getpass.getuser()\n",
    "\n",
    "input_dir = '/public/retail_db'\n",
    "output_dir = f'/user/{username}/retail_db_pipe'"
   ]
  },
  {
   "cell_type": "code",
   "execution_count": 0,
   "metadata": {
    "application/vnd.databricks.v1+cell": {
     "cellMetadata": {
      "byteLimit": 2048000,
      "rowLimit": 10000
     },
     "inputWidgets": {},
     "nuid": "1697c718-5dd9-4f67-b931-ebc2a58bb4d4",
     "showTitle": false,
     "title": ""
    }
   },
   "outputs": [],
   "source": [
    "orders.\\\n",
    "    coalesce(1).\\\n",
    "    write.\\\n",
    "    mode('overwrite').\\\n",
    "    options(sep = '|', header = True, compression = 'gzip').\\\n",
    "    csv(f'{output_dir}/orders')"
   ]
  },
  {
   "cell_type": "code",
   "execution_count": 0,
   "metadata": {
    "application/vnd.databricks.v1+cell": {
     "cellMetadata": {
      "byteLimit": 2048000,
      "rowLimit": 10000
     },
     "inputWidgets": {},
     "nuid": "cf4424c2-b577-499b-befb-f763193d2cc9",
     "showTitle": false,
     "title": ""
    }
   },
   "outputs": [],
   "source": [
    "orders.\\\n",
    "    coalesce(1).\\\n",
    "    write.\\\n",
    "    mode('overwrite').\\\n",
    "    csv(f'{output_dir}/orders', sep = '|', header = True, compression = 'gzip')"
   ]
  },
  {
   "cell_type": "code",
   "execution_count": 0,
   "metadata": {
    "application/vnd.databricks.v1+cell": {
     "cellMetadata": {
      "byteLimit": 2048000,
      "rowLimit": 10000
     },
     "inputWidgets": {},
     "nuid": "14d697fc-80e9-421d-bc02-741ffe58033d",
     "showTitle": false,
     "title": ""
    }
   },
   "outputs": [
    {
     "output_type": "execute_result",
     "data": {
      "text/plain": [
       "[FileInfo(path='dbfs:/user/root/retail_db_pipe/orders/_committed_2138336445384861395', name='_committed_2138336445384861395', size=210, modificationTime=1698058683000),\n",
       " FileInfo(path='dbfs:/user/root/retail_db_pipe/orders/_committed_2858080205054351136', name='_committed_2858080205054351136', size=198, modificationTime=1698079185000),\n",
       " FileInfo(path='dbfs:/user/root/retail_db_pipe/orders/_committed_3199123936033837054', name='_committed_3199123936033837054', size=205, modificationTime=1698080703000),\n",
       " FileInfo(path='dbfs:/user/root/retail_db_pipe/orders/_committed_3962500966089846319', name='_committed_3962500966089846319', size=201, modificationTime=1698080619000),\n",
       " FileInfo(path='dbfs:/user/root/retail_db_pipe/orders/_started_2858080205054351136', name='_started_2858080205054351136', size=0, modificationTime=1698079184000),\n",
       " FileInfo(path='dbfs:/user/root/retail_db_pipe/orders/_started_3199123936033837054', name='_started_3199123936033837054', size=0, modificationTime=1698080702000),\n",
       " FileInfo(path='dbfs:/user/root/retail_db_pipe/orders/_started_3962500966089846319', name='_started_3962500966089846319', size=0, modificationTime=1698080618000),\n",
       " FileInfo(path='dbfs:/user/root/retail_db_pipe/orders/part-00000-tid-3199123936033837054-3ce85abc-fdfe-494c-b0a7-9b618d321b68-22-1-c000.csv.gz', name='part-00000-tid-3199123936033837054-3ce85abc-fdfe-494c-b0a7-9b618d321b68-22-1-c000.csv.gz', size=473634, modificationTime=1698080703000)]"
      ]
     },
     "execution_count": 11,
     "metadata": {},
     "output_type": "execute_result"
    }
   ],
   "source": [
    "dbutils.fs.ls(f'{output_dir}/orders')"
   ]
  },
  {
   "cell_type": "code",
   "execution_count": 0,
   "metadata": {
    "application/vnd.databricks.v1+cell": {
     "cellMetadata": {
      "byteLimit": 2048000,
      "rowLimit": 10000
     },
     "inputWidgets": {},
     "nuid": "bcb3be0f-4242-45c3-9717-ab42b37fefce",
     "showTitle": false,
     "title": ""
    }
   },
   "outputs": [
    {
     "output_type": "stream",
     "name": "stdout",
     "output_type": "stream",
     "text": [
      "+--------+-------------------+-----------------+---------------+\n|order_id|         order_date|order_customer_id|   order_status|\n+--------+-------------------+-----------------+---------------+\n|       1|2013-07-25 00:00:00|            11599|         CLOSED|\n|       2|2013-07-25 00:00:00|              256|PENDING_PAYMENT|\n|       3|2013-07-25 00:00:00|            12111|       COMPLETE|\n|       4|2013-07-25 00:00:00|             8827|         CLOSED|\n|       5|2013-07-25 00:00:00|            11318|       COMPLETE|\n|       6|2013-07-25 00:00:00|             7130|       COMPLETE|\n|       7|2013-07-25 00:00:00|             4530|       COMPLETE|\n|       8|2013-07-25 00:00:00|             2911|     PROCESSING|\n|       9|2013-07-25 00:00:00|             5657|PENDING_PAYMENT|\n|      10|2013-07-25 00:00:00|             5648|PENDING_PAYMENT|\n|      11|2013-07-25 00:00:00|              918| PAYMENT_REVIEW|\n|      12|2013-07-25 00:00:00|             1837|         CLOSED|\n|      13|2013-07-25 00:00:00|             9149|PENDING_PAYMENT|\n|      14|2013-07-25 00:00:00|             9842|     PROCESSING|\n|      15|2013-07-25 00:00:00|             2568|       COMPLETE|\n|      16|2013-07-25 00:00:00|             7276|PENDING_PAYMENT|\n|      17|2013-07-25 00:00:00|             2667|       COMPLETE|\n|      18|2013-07-25 00:00:00|             1205|         CLOSED|\n|      19|2013-07-25 00:00:00|             9488|PENDING_PAYMENT|\n|      20|2013-07-25 00:00:00|             9198|     PROCESSING|\n+--------+-------------------+-----------------+---------------+\nonly showing top 20 rows\n\n"
     ]
    }
   ],
   "source": [
    "spark.read.csv(f'{output_dir}/orders', sep = '|', header = True, inferSchema=True).show()"
   ]
  },
  {
   "cell_type": "code",
   "execution_count": 0,
   "metadata": {
    "application/vnd.databricks.v1+cell": {
     "cellMetadata": {
      "byteLimit": 2048000,
      "rowLimit": 10000
     },
     "inputWidgets": {},
     "nuid": "8e154f70-f1af-42ba-95c9-d3b3f02808b6",
     "showTitle": false,
     "title": ""
    }
   },
   "outputs": [],
   "source": [
    "orders. \\\n",
    "    coalesce(1).\\\n",
    "    write. \\\n",
    "    mode('overwrite'). \\\n",
    "    option('compression', 'gzip').\\\n",
    "    option('header', True).\\\n",
    "    option('sep', '|').\\\n",
    "    csv(f'{output_dir}/orders')"
   ]
  },
  {
   "cell_type": "code",
   "execution_count": 0,
   "metadata": {
    "application/vnd.databricks.v1+cell": {
     "cellMetadata": {
      "byteLimit": 2048000,
      "rowLimit": 10000
     },
     "inputWidgets": {},
     "nuid": "0d01debd-e08a-4a62-a9ad-c97603453a3c",
     "showTitle": false,
     "title": ""
    }
   },
   "outputs": [
    {
     "output_type": "execute_result",
     "data": {
      "text/plain": [
       "[FileInfo(path='dbfs:/user/root/retail_db_pipe/orders/_committed_1158904935029638634', name='_committed_1158904935029638634', size=205, modificationTime=1698081006000),\n",
       " FileInfo(path='dbfs:/user/root/retail_db_pipe/orders/_committed_2138336445384861395', name='_committed_2138336445384861395', size=210, modificationTime=1698058683000),\n",
       " FileInfo(path='dbfs:/user/root/retail_db_pipe/orders/_committed_2858080205054351136', name='_committed_2858080205054351136', size=198, modificationTime=1698079185000),\n",
       " FileInfo(path='dbfs:/user/root/retail_db_pipe/orders/_committed_3199123936033837054', name='_committed_3199123936033837054', size=205, modificationTime=1698080703000),\n",
       " FileInfo(path='dbfs:/user/root/retail_db_pipe/orders/_committed_3962500966089846319', name='_committed_3962500966089846319', size=201, modificationTime=1698080619000),\n",
       " FileInfo(path='dbfs:/user/root/retail_db_pipe/orders/_started_1158904935029638634', name='_started_1158904935029638634', size=0, modificationTime=1698081005000),\n",
       " FileInfo(path='dbfs:/user/root/retail_db_pipe/orders/_started_3199123936033837054', name='_started_3199123936033837054', size=0, modificationTime=1698080702000),\n",
       " FileInfo(path='dbfs:/user/root/retail_db_pipe/orders/_started_3962500966089846319', name='_started_3962500966089846319', size=0, modificationTime=1698080618000),\n",
       " FileInfo(path='dbfs:/user/root/retail_db_pipe/orders/part-00000-tid-1158904935029638634-0bc02ce9-da4e-4f07-afd4-d83aa2b1bcbe-26-1-c000.csv.gz', name='part-00000-tid-1158904935029638634-0bc02ce9-da4e-4f07-afd4-d83aa2b1bcbe-26-1-c000.csv.gz', size=473634, modificationTime=1698081006000)]"
      ]
     },
     "execution_count": 14,
     "metadata": {},
     "output_type": "execute_result"
    }
   ],
   "source": [
    "dbutils.fs.ls(f'{output_dir}/orders')"
   ]
  },
  {
   "cell_type": "code",
   "execution_count": 0,
   "metadata": {
    "application/vnd.databricks.v1+cell": {
     "cellMetadata": {
      "byteLimit": 2048000,
      "rowLimit": 10000
     },
     "inputWidgets": {},
     "nuid": "3988182f-3c4c-4bf4-bdbe-fbe514d51420",
     "showTitle": false,
     "title": ""
    }
   },
   "outputs": [
    {
     "output_type": "stream",
     "name": "stdout",
     "output_type": "stream",
     "text": [
      "+--------+-------------------+-----------------+---------------+\n|order_id|         order_date|order_customer_id|   order_status|\n+--------+-------------------+-----------------+---------------+\n|       1|2013-07-25 00:00:00|            11599|         CLOSED|\n|       2|2013-07-25 00:00:00|              256|PENDING_PAYMENT|\n|       3|2013-07-25 00:00:00|            12111|       COMPLETE|\n|       4|2013-07-25 00:00:00|             8827|         CLOSED|\n|       5|2013-07-25 00:00:00|            11318|       COMPLETE|\n|       6|2013-07-25 00:00:00|             7130|       COMPLETE|\n|       7|2013-07-25 00:00:00|             4530|       COMPLETE|\n|       8|2013-07-25 00:00:00|             2911|     PROCESSING|\n|       9|2013-07-25 00:00:00|             5657|PENDING_PAYMENT|\n|      10|2013-07-25 00:00:00|             5648|PENDING_PAYMENT|\n|      11|2013-07-25 00:00:00|              918| PAYMENT_REVIEW|\n|      12|2013-07-25 00:00:00|             1837|         CLOSED|\n|      13|2013-07-25 00:00:00|             9149|PENDING_PAYMENT|\n|      14|2013-07-25 00:00:00|             9842|     PROCESSING|\n|      15|2013-07-25 00:00:00|             2568|       COMPLETE|\n|      16|2013-07-25 00:00:00|             7276|PENDING_PAYMENT|\n|      17|2013-07-25 00:00:00|             2667|       COMPLETE|\n|      18|2013-07-25 00:00:00|             1205|         CLOSED|\n|      19|2013-07-25 00:00:00|             9488|PENDING_PAYMENT|\n|      20|2013-07-25 00:00:00|             9198|     PROCESSING|\n+--------+-------------------+-----------------+---------------+\nonly showing top 20 rows\n\n"
     ]
    }
   ],
   "source": [
    "spark.read.csv(f'{output_dir}/orders', sep = '|', header = True, inferSchema=True).show()"
   ]
  },
  {
   "cell_type": "code",
   "execution_count": 0,
   "metadata": {
    "application/vnd.databricks.v1+cell": {
     "cellMetadata": {
      "byteLimit": 2048000,
      "rowLimit": 10000
     },
     "inputWidgets": {},
     "nuid": "576318a3-f6f0-40a6-bcb2-0a5fb75373e4",
     "showTitle": false,
     "title": ""
    }
   },
   "outputs": [],
   "source": [
    "orders.\\\n",
    "    coalesce(1). \\\n",
    "    write.\\\n",
    "    csv(f'{output_dir}/orders', mode = 'overwrite', sep = '|', header = True, compression = 'gzip')"
   ]
  },
  {
   "cell_type": "code",
   "execution_count": 0,
   "metadata": {
    "application/vnd.databricks.v1+cell": {
     "cellMetadata": {},
     "inputWidgets": {},
     "nuid": "44f41ae7-2afa-4469-92c3-5c0bee9e5334",
     "showTitle": false,
     "title": ""
    }
   },
   "outputs": [],
   "source": []
  },
  {
   "cell_type": "code",
   "execution_count": 0,
   "metadata": {
    "application/vnd.databricks.v1+cell": {
     "cellMetadata": {},
     "inputWidgets": {},
     "nuid": "a3d3cccf-4cdc-4faf-92ab-03a918162f6c",
     "showTitle": false,
     "title": ""
    }
   },
   "outputs": [],
   "source": []
  },
  {
   "cell_type": "code",
   "execution_count": 0,
   "metadata": {
    "application/vnd.databricks.v1+cell": {
     "cellMetadata": {},
     "inputWidgets": {},
     "nuid": "6a1daf83-9010-4aa7-914e-9111fcdd4399",
     "showTitle": false,
     "title": ""
    }
   },
   "outputs": [],
   "source": []
  }
 ],
 "metadata": {
  "application/vnd.databricks.v1+notebook": {
   "dashboards": [],
   "language": "python",
   "notebookMetadata": {
    "pythonIndentUnit": 4
   },
   "notebookName": "09 - Using Options while writing Spark Data Frame into CSV files",
   "widgets": {}
  }
 },
 "nbformat": 4,
 "nbformat_minor": 0
}
