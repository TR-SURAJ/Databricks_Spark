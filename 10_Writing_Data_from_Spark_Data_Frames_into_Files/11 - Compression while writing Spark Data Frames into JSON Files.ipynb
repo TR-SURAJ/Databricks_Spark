{
 "cells": [
  {
   "cell_type": "code",
   "execution_count": 0,
   "metadata": {
    "application/vnd.databricks.v1+cell": {
     "cellMetadata": {
      "byteLimit": 2048000,
      "rowLimit": 10000
     },
     "inputWidgets": {},
     "nuid": "8d5f288c-6b8d-47df-bd88-d1ff19ce7c09",
     "showTitle": false,
     "title": ""
    }
   },
   "outputs": [],
   "source": [
    "courses = [\n",
    "    {   \n",
    "        'course_id': 1,\n",
    "        'course_name': \"Python Bootcamp\",\n",
    "        'suitable_for': 'Beginner',\n",
    "        'enrollment': 1100093,\n",
    "        'stars': 4.6,\n",
    "        'number_of_ratings': 218066\n",
    "    },\n",
    "    {   \n",
    "        'course_id': 2,\n",
    "        'course_name': \"angular - the complete guide\",\n",
    "        'suitable_for': 'Intermediate',\n",
    "        'enrollment': 34567,\n",
    "        'stars': 4.5,\n",
    "        'number_of_ratings': 347912\n",
    "    },\n",
    "    {\n",
    "        'course_id': 3,\n",
    "        'course_name': \"Java In-Depth\",\n",
    "        'suitable_for': 'Adavanced',\n",
    "        'enrollment': 2345321,\n",
    "        'stars': 4.8,\n",
    "        'number_of_ratings': 23789\n",
    "    },\n",
    "    {\n",
    "        'course_id': 4,\n",
    "        'course_name': \"C++ Beginner guide\",\n",
    "        'suitable_for': 'Beginner',\n",
    "        'enrollment': 32145,\n",
    "        'stars': 4.2,\n",
    "        'number_of_ratings': 5678\n",
    "    },\n",
    "    {\n",
    "        'course_id': 5,\n",
    "        'course_name': \"Data Science Practical approach\",\n",
    "        'suitable_for': 'Intermediate',\n",
    "        'enrollment': 67897,\n",
    "        'stars': 4.6,\n",
    "        'number_of_ratings': 267576\n",
    "    }\n",
    "]"
   ]
  },
  {
   "cell_type": "code",
   "execution_count": 0,
   "metadata": {
    "application/vnd.databricks.v1+cell": {
     "cellMetadata": {
      "byteLimit": 2048000,
      "rowLimit": 10000
     },
     "inputWidgets": {},
     "nuid": "2a81c229-6fd8-413c-b4fc-5951e79155f2",
     "showTitle": false,
     "title": ""
    }
   },
   "outputs": [],
   "source": [
    "\n",
    "from pyspark.sql.functions import *\n",
    "from pyspark.sql import Row"
   ]
  },
  {
   "cell_type": "code",
   "execution_count": 0,
   "metadata": {
    "application/vnd.databricks.v1+cell": {
     "cellMetadata": {
      "byteLimit": 2048000,
      "rowLimit": 10000
     },
     "inputWidgets": {},
     "nuid": "a4e901fe-ef2d-456b-a410-bc866c3e7adf",
     "showTitle": false,
     "title": ""
    }
   },
   "outputs": [],
   "source": [
    "course_df = spark.createDataFrame([Row(**course) for course in courses])"
   ]
  },
  {
   "cell_type": "code",
   "execution_count": 0,
   "metadata": {
    "application/vnd.databricks.v1+cell": {
     "cellMetadata": {
      "byteLimit": 2048000,
      "rowLimit": 10000
     },
     "inputWidgets": {},
     "nuid": "8234f78f-0a52-4f6d-aa2f-6ec8b23c80de",
     "showTitle": false,
     "title": ""
    }
   },
   "outputs": [],
   "source": [
    "import getpass\n",
    "username = getpass.getuser()"
   ]
  },
  {
   "cell_type": "code",
   "execution_count": 0,
   "metadata": {
    "application/vnd.databricks.v1+cell": {
     "cellMetadata": {
      "byteLimit": 2048000,
      "rowLimit": 10000
     },
     "inputWidgets": {},
     "nuid": "ee2ded4b-365e-4ddc-bf1b-6cc187e3909d",
     "showTitle": false,
     "title": ""
    }
   },
   "outputs": [],
   "source": [
    "course_df.\\\n",
    "    coalesce(1).\\\n",
    "    write.\\\n",
    "    json(\n",
    "        f'/user/{username}/course',\n",
    "        mode='overwrite',\n",
    "        compression='gzip'\n",
    "    )"
   ]
  },
  {
   "cell_type": "code",
   "execution_count": 0,
   "metadata": {
    "application/vnd.databricks.v1+cell": {
     "cellMetadata": {
      "byteLimit": 2048000,
      "rowLimit": 10000
     },
     "inputWidgets": {},
     "nuid": "73157d74-6ba0-4268-8fff-3fc425f38a1b",
     "showTitle": false,
     "title": ""
    }
   },
   "outputs": [
    {
     "output_type": "execute_result",
     "data": {
      "text/plain": [
       "[FileInfo(path='dbfs:/user/root/course/_SUCCESS', name='_SUCCESS', size=0, modificationTime=1698120957000),\n",
       " FileInfo(path='dbfs:/user/root/course/_committed_1491884221270627900', name='_committed_1491884221270627900', size=202, modificationTime=1698120957000),\n",
       " FileInfo(path='dbfs:/user/root/course/_committed_3369753614984232727', name='_committed_3369753614984232727', size=112, modificationTime=1698120253000),\n",
       " FileInfo(path='dbfs:/user/root/course/_committed_8412628378454775660', name='_committed_8412628378454775660', size=210, modificationTime=1698120469000),\n",
       " FileInfo(path='dbfs:/user/root/course/_started_1491884221270627900', name='_started_1491884221270627900', size=0, modificationTime=1698120956000),\n",
       " FileInfo(path='dbfs:/user/root/course/_started_3369753614984232727', name='_started_3369753614984232727', size=0, modificationTime=1698120250000),\n",
       " FileInfo(path='dbfs:/user/root/course/_started_8412628378454775660', name='_started_8412628378454775660', size=0, modificationTime=1698120469000),\n",
       " FileInfo(path='dbfs:/user/root/course/part-00000-tid-1491884221270627900-aeaed760-b9be-43a9-8014-f237720345ce-5-1-c000.json.gz', name='part-00000-tid-1491884221270627900-aeaed760-b9be-43a9-8014-f237720345ce-5-1-c000.json.gz', size=298, modificationTime=1698120956000)]"
      ]
     },
     "execution_count": 7,
     "metadata": {},
     "output_type": "execute_result"
    }
   ],
   "source": [
    "dbutils.fs.ls(f'/user/{username}/course')"
   ]
  },
  {
   "cell_type": "code",
   "execution_count": 0,
   "metadata": {
    "application/vnd.databricks.v1+cell": {
     "cellMetadata": {
      "byteLimit": 2048000,
      "rowLimit": 10000
     },
     "inputWidgets": {},
     "nuid": "cfe23ba4-3d3c-4e20-9d8d-c9a98d075015",
     "showTitle": false,
     "title": ""
    }
   },
   "outputs": [
    {
     "output_type": "stream",
     "name": "stdout",
     "output_type": "stream",
     "text": [
      "+---------+--------------------+----------+-----------------+-----+------------+\n|course_id|         course_name|enrollment|number_of_ratings|stars|suitable_for|\n+---------+--------------------+----------+-----------------+-----+------------+\n|        1|     Python Bootcamp|   1100093|           218066|  4.6|    Beginner|\n|        2|angular - the com...|     34567|           347912|  4.5|Intermediate|\n|        3|       Java In-Depth|   2345321|            23789|  4.8|   Adavanced|\n|        4|  C++ Beginner guide|     32145|             5678|  4.2|    Beginner|\n|        5|Data Science Prac...|     67897|           267576|  4.6|Intermediate|\n+---------+--------------------+----------+-----------------+-----+------------+\n\n"
     ]
    }
   ],
   "source": [
    "spark.read.json(f'/user/{username}/course').show()"
   ]
  },
  {
   "cell_type": "code",
   "execution_count": 0,
   "metadata": {
    "application/vnd.databricks.v1+cell": {
     "cellMetadata": {
      "byteLimit": 2048000,
      "rowLimit": 10000
     },
     "inputWidgets": {},
     "nuid": "542c883a-59c8-4081-b6bc-9d3989ccbbb7",
     "showTitle": false,
     "title": ""
    }
   },
   "outputs": [],
   "source": [
    "course_df.\\\n",
    "    coalesce(1).\\\n",
    "    write.\\\n",
    "    format('json').\\\n",
    "    save(\n",
    "        f'/user/{username}/course',\n",
    "        mode='overwrite',\n",
    "        compression='snappy'\n",
    "    )"
   ]
  },
  {
   "cell_type": "code",
   "execution_count": 0,
   "metadata": {
    "application/vnd.databricks.v1+cell": {
     "cellMetadata": {
      "byteLimit": 2048000,
      "rowLimit": 10000
     },
     "inputWidgets": {},
     "nuid": "54c224e2-b88d-4d73-820f-08027d25dae9",
     "showTitle": false,
     "title": ""
    }
   },
   "outputs": [
    {
     "output_type": "execute_result",
     "data": {
      "text/plain": [
       "[FileInfo(path='dbfs:/user/root/course/_SUCCESS', name='_SUCCESS', size=0, modificationTime=1698121213000),\n",
       " FileInfo(path='dbfs:/user/root/course/_committed_1491884221270627900', name='_committed_1491884221270627900', size=202, modificationTime=1698120957000),\n",
       " FileInfo(path='dbfs:/user/root/course/_committed_3217168378337940333', name='_committed_3217168378337940333', size=209, modificationTime=1698121213000),\n",
       " FileInfo(path='dbfs:/user/root/course/_committed_3369753614984232727', name='_committed_3369753614984232727', size=112, modificationTime=1698120253000),\n",
       " FileInfo(path='dbfs:/user/root/course/_committed_4717435535539949276', name='_committed_4717435535539949276', size=205, modificationTime=1698121189000),\n",
       " FileInfo(path='dbfs:/user/root/course/_committed_8412628378454775660', name='_committed_8412628378454775660', size=210, modificationTime=1698120469000),\n",
       " FileInfo(path='dbfs:/user/root/course/_started_1491884221270627900', name='_started_1491884221270627900', size=0, modificationTime=1698120956000),\n",
       " FileInfo(path='dbfs:/user/root/course/_started_3217168378337940333', name='_started_3217168378337940333', size=0, modificationTime=1698121212000),\n",
       " FileInfo(path='dbfs:/user/root/course/_started_3369753614984232727', name='_started_3369753614984232727', size=0, modificationTime=1698120250000),\n",
       " FileInfo(path='dbfs:/user/root/course/_started_4717435535539949276', name='_started_4717435535539949276', size=0, modificationTime=1698121189000),\n",
       " FileInfo(path='dbfs:/user/root/course/_started_8412628378454775660', name='_started_8412628378454775660', size=0, modificationTime=1698120469000),\n",
       " FileInfo(path='dbfs:/user/root/course/part-00000-tid-3217168378337940333-19ecb234-9974-406f-a498-88e4e57571a2-9-1-c000.json.snappy', name='part-00000-tid-3217168378337940333-19ecb234-9974-406f-a498-88e4e57571a2-9-1-c000.json.snappy', size=394, modificationTime=1698121213000)]"
      ]
     },
     "execution_count": 13,
     "metadata": {},
     "output_type": "execute_result"
    }
   ],
   "source": [
    "dbutils.fs.ls(f'/user/{username}/course')"
   ]
  },
  {
   "cell_type": "code",
   "execution_count": 0,
   "metadata": {
    "application/vnd.databricks.v1+cell": {
     "cellMetadata": {
      "byteLimit": 2048000,
      "rowLimit": 10000
     },
     "inputWidgets": {},
     "nuid": "ee42653f-de84-4875-ae7b-a59c25ede7f3",
     "showTitle": false,
     "title": ""
    }
   },
   "outputs": [
    {
     "output_type": "stream",
     "name": "stdout",
     "output_type": "stream",
     "text": [
      "+---------+--------------------+----------+-----------------+-----+------------+\n|course_id|         course_name|enrollment|number_of_ratings|stars|suitable_for|\n+---------+--------------------+----------+-----------------+-----+------------+\n|        1|     Python Bootcamp|   1100093|           218066|  4.6|    Beginner|\n|        2|angular - the com...|     34567|           347912|  4.5|Intermediate|\n|        3|       Java In-Depth|   2345321|            23789|  4.8|   Adavanced|\n|        4|  C++ Beginner guide|     32145|             5678|  4.2|    Beginner|\n|        5|Data Science Prac...|     67897|           267576|  4.6|Intermediate|\n+---------+--------------------+----------+-----------------+-----+------------+\n\n"
     ]
    }
   ],
   "source": [
    "spark.read.json(f'/user/{username}/course').show()"
   ]
  },
  {
   "cell_type": "code",
   "execution_count": 0,
   "metadata": {
    "application/vnd.databricks.v1+cell": {
     "cellMetadata": {},
     "inputWidgets": {},
     "nuid": "11bf3035-3042-4b61-a8e5-dbab4316af00",
     "showTitle": false,
     "title": ""
    }
   },
   "outputs": [],
   "source": []
  }
 ],
 "metadata": {
  "application/vnd.databricks.v1+notebook": {
   "dashboards": [],
   "language": "python",
   "notebookMetadata": {
    "pythonIndentUnit": 4
   },
   "notebookName": "11 - Compression while writing Spark Data Frames into JSON Files",
   "widgets": {}
  }
 },
 "nbformat": 4,
 "nbformat_minor": 0
}
