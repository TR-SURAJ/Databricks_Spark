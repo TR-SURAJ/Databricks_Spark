{
 "cells": [
  {
   "cell_type": "code",
   "execution_count": 0,
   "metadata": {
    "application/vnd.databricks.v1+cell": {
     "cellMetadata": {
      "byteLimit": 2048000,
      "rowLimit": 10000
     },
     "inputWidgets": {},
     "nuid": "bac778c1-84f3-48be-9d09-f0a89e83ce1e",
     "showTitle": false,
     "title": ""
    }
   },
   "outputs": [],
   "source": [
    "courses = [\n",
    "    {   \n",
    "        'course_id': 1,\n",
    "        'course_name': \"Python Bootcamp\",\n",
    "        'suitable_for': 'Beginner',\n",
    "        'enrollment': 1100093,\n",
    "        'stars': 4.6,\n",
    "        'number_of_ratings': 218066\n",
    "    },\n",
    "    {   \n",
    "        'course_id': 2,\n",
    "        'course_name': \"angular - the complete guide\",\n",
    "        'suitable_for': 'Intermediate',\n",
    "        'enrollment': 34567,\n",
    "        'stars': 4.5,\n",
    "        'number_of_ratings': 347912\n",
    "    },\n",
    "    {\n",
    "        'course_id': 3,\n",
    "        'course_name': \"Java In-Depth\",\n",
    "        'suitable_for': 'Adavanced',\n",
    "        'enrollment': 2345321,\n",
    "        'stars': 4.8,\n",
    "        'number_of_ratings': 23789\n",
    "    },\n",
    "    {\n",
    "        'course_id': 4,\n",
    "        'course_name': \"C++ Beginner guide\",\n",
    "        'suitable_for': 'Beginner',\n",
    "        'enrollment': 32145,\n",
    "        'stars': 4.2,\n",
    "        'number_of_ratings': 5678\n",
    "    },\n",
    "    {\n",
    "        'course_id': 5,\n",
    "        'course_name': \"Data Science Practical approach\",\n",
    "        'suitable_for': 'Intermediate',\n",
    "        'enrollment': 67897,\n",
    "        'stars': 4.6,\n",
    "        'number_of_ratings': 267576\n",
    "    }\n",
    "]"
   ]
  },
  {
   "cell_type": "code",
   "execution_count": 0,
   "metadata": {
    "application/vnd.databricks.v1+cell": {
     "cellMetadata": {
      "byteLimit": 2048000,
      "rowLimit": 10000
     },
     "inputWidgets": {},
     "nuid": "ee2034aa-e1fc-4e02-8346-13f356af88f8",
     "showTitle": false,
     "title": ""
    }
   },
   "outputs": [],
   "source": [
    "\n",
    "from pyspark.sql.functions import *\n",
    "from pyspark.sql import Row"
   ]
  },
  {
   "cell_type": "code",
   "execution_count": 0,
   "metadata": {
    "application/vnd.databricks.v1+cell": {
     "cellMetadata": {
      "byteLimit": 2048000,
      "rowLimit": 10000
     },
     "inputWidgets": {},
     "nuid": "a689f244-1820-4d4e-bf21-8d6e3af37fc1",
     "showTitle": false,
     "title": ""
    }
   },
   "outputs": [],
   "source": [
    "course_df = spark.createDataFrame([Row(**course) for course in courses])"
   ]
  },
  {
   "cell_type": "code",
   "execution_count": 0,
   "metadata": {
    "application/vnd.databricks.v1+cell": {
     "cellMetadata": {
      "byteLimit": 2048000,
      "rowLimit": 10000
     },
     "inputWidgets": {},
     "nuid": "a4ce0795-9a26-4165-81d5-bd5d4ac15aa8",
     "showTitle": false,
     "title": ""
    }
   },
   "outputs": [],
   "source": [
    "import getpass\n",
    "username = getpass.getuser()"
   ]
  },
  {
   "cell_type": "code",
   "execution_count": 0,
   "metadata": {
    "application/vnd.databricks.v1+cell": {
     "cellMetadata": {
      "byteLimit": 2048000,
      "rowLimit": 10000
     },
     "inputWidgets": {},
     "nuid": "da911b11-3634-41f9-afdf-2f03627de7e1",
     "showTitle": false,
     "title": ""
    }
   },
   "outputs": [],
   "source": [
    "course_df.\\\n",
    "    coalesce(1).\\\n",
    "    write.\\\n",
    "    parquet(\n",
    "        f'/user/{username}/course',\n",
    "        mode='overwrite'\n",
    "    )"
   ]
  },
  {
   "cell_type": "code",
   "execution_count": 0,
   "metadata": {
    "application/vnd.databricks.v1+cell": {
     "cellMetadata": {
      "byteLimit": 2048000,
      "rowLimit": 10000
     },
     "inputWidgets": {},
     "nuid": "115a9d6c-0d6a-43e5-adc4-db2a88b7778e",
     "showTitle": false,
     "title": ""
    }
   },
   "outputs": [
    {
     "output_type": "execute_result",
     "data": {
      "text/plain": [
       "[FileInfo(path='dbfs:/user/root/course/_SUCCESS', name='_SUCCESS', size=0, modificationTime=1698121438000),\n",
       " FileInfo(path='dbfs:/user/root/course/_committed_1491884221270627900', name='_committed_1491884221270627900', size=202, modificationTime=1698120957000),\n",
       " FileInfo(path='dbfs:/user/root/course/_committed_3217168378337940333', name='_committed_3217168378337940333', size=209, modificationTime=1698121213000),\n",
       " FileInfo(path='dbfs:/user/root/course/_committed_3369753614984232727', name='_committed_3369753614984232727', size=112, modificationTime=1698120253000),\n",
       " FileInfo(path='dbfs:/user/root/course/_committed_4717435535539949276', name='_committed_4717435535539949276', size=205, modificationTime=1698121189000),\n",
       " FileInfo(path='dbfs:/user/root/course/_committed_5293263209246580565', name='_committed_5293263209246580565', size=217, modificationTime=1698121438000),\n",
       " FileInfo(path='dbfs:/user/root/course/_committed_8412628378454775660', name='_committed_8412628378454775660', size=210, modificationTime=1698120469000),\n",
       " FileInfo(path='dbfs:/user/root/course/_started_1491884221270627900', name='_started_1491884221270627900', size=0, modificationTime=1698120956000),\n",
       " FileInfo(path='dbfs:/user/root/course/_started_3217168378337940333', name='_started_3217168378337940333', size=0, modificationTime=1698121212000),\n",
       " FileInfo(path='dbfs:/user/root/course/_started_3369753614984232727', name='_started_3369753614984232727', size=0, modificationTime=1698120250000),\n",
       " FileInfo(path='dbfs:/user/root/course/_started_4717435535539949276', name='_started_4717435535539949276', size=0, modificationTime=1698121189000),\n",
       " FileInfo(path='dbfs:/user/root/course/_started_5293263209246580565', name='_started_5293263209246580565', size=0, modificationTime=1698121438000),\n",
       " FileInfo(path='dbfs:/user/root/course/_started_8412628378454775660', name='_started_8412628378454775660', size=0, modificationTime=1698120469000),\n",
       " FileInfo(path='dbfs:/user/root/course/part-00000-tid-5293263209246580565-3148120e-916a-4970-8060-6f1e70145690-12-1.c000.snappy.parquet', name='part-00000-tid-5293263209246580565-3148120e-916a-4970-8060-6f1e70145690-12-1.c000.snappy.parquet', size=2031, modificationTime=1698121438000)]"
      ]
     },
     "execution_count": 6,
     "metadata": {},
     "output_type": "execute_result"
    }
   ],
   "source": [
    "dbutils.fs.ls(f'/user/{username}/course')"
   ]
  },
  {
   "cell_type": "code",
   "execution_count": 0,
   "metadata": {
    "application/vnd.databricks.v1+cell": {
     "cellMetadata": {
      "byteLimit": 2048000,
      "rowLimit": 10000
     },
     "inputWidgets": {},
     "nuid": "277f961b-ca36-44b7-8400-719d6c582479",
     "showTitle": false,
     "title": ""
    }
   },
   "outputs": [
    {
     "output_type": "stream",
     "name": "stdout",
     "output_type": "stream",
     "text": [
      "+---------+--------------------+------------+----------+-----+-----------------+\n|course_id|         course_name|suitable_for|enrollment|stars|number_of_ratings|\n+---------+--------------------+------------+----------+-----+-----------------+\n|        1|     Python Bootcamp|    Beginner|   1100093|  4.6|           218066|\n|        2|angular - the com...|Intermediate|     34567|  4.5|           347912|\n|        3|       Java In-Depth|   Adavanced|   2345321|  4.8|            23789|\n|        4|  C++ Beginner guide|    Beginner|     32145|  4.2|             5678|\n|        5|Data Science Prac...|Intermediate|     67897|  4.6|           267576|\n+---------+--------------------+------------+----------+-----+-----------------+\n\n"
     ]
    }
   ],
   "source": [
    "spark.read.parquet(f'/user/{username}/course').show()"
   ]
  },
  {
   "cell_type": "code",
   "execution_count": 0,
   "metadata": {
    "application/vnd.databricks.v1+cell": {
     "cellMetadata": {
      "byteLimit": 2048000,
      "rowLimit": 10000
     },
     "inputWidgets": {},
     "nuid": "e347ac78-116f-45b2-8768-7a4e0a3196d7",
     "showTitle": false,
     "title": ""
    }
   },
   "outputs": [],
   "source": [
    "course_df.\\\n",
    "    coalesce(1).\\\n",
    "    write.\\\n",
    "    format('parquet').\\\n",
    "    save(\n",
    "        f'/user/{username}/course',\n",
    "        mode='overwrite'\n",
    "    )"
   ]
  },
  {
   "cell_type": "code",
   "execution_count": 0,
   "metadata": {
    "application/vnd.databricks.v1+cell": {
     "cellMetadata": {
      "byteLimit": 2048000,
      "rowLimit": 10000
     },
     "inputWidgets": {},
     "nuid": "3c59c747-63c2-4459-a8bb-9d051308fa0d",
     "showTitle": false,
     "title": ""
    }
   },
   "outputs": [
    {
     "output_type": "execute_result",
     "data": {
      "text/plain": [
       "[FileInfo(path='dbfs:/user/root/course/_SUCCESS', name='_SUCCESS', size=0, modificationTime=1698121788000),\n",
       " FileInfo(path='dbfs:/user/root/course/_committed_1491884221270627900', name='_committed_1491884221270627900', size=202, modificationTime=1698120957000),\n",
       " FileInfo(path='dbfs:/user/root/course/_committed_3217168378337940333', name='_committed_3217168378337940333', size=209, modificationTime=1698121213000),\n",
       " FileInfo(path='dbfs:/user/root/course/_committed_3369753614984232727', name='_committed_3369753614984232727', size=112, modificationTime=1698120253000),\n",
       " FileInfo(path='dbfs:/user/root/course/_committed_3546661089147839298', name='_committed_3546661089147839298', size=221, modificationTime=1698121788000),\n",
       " FileInfo(path='dbfs:/user/root/course/_committed_4717435535539949276', name='_committed_4717435535539949276', size=205, modificationTime=1698121189000),\n",
       " FileInfo(path='dbfs:/user/root/course/_committed_5293263209246580565', name='_committed_5293263209246580565', size=217, modificationTime=1698121438000),\n",
       " FileInfo(path='dbfs:/user/root/course/_committed_8412628378454775660', name='_committed_8412628378454775660', size=210, modificationTime=1698120469000),\n",
       " FileInfo(path='dbfs:/user/root/course/_started_1491884221270627900', name='_started_1491884221270627900', size=0, modificationTime=1698120956000),\n",
       " FileInfo(path='dbfs:/user/root/course/_started_3217168378337940333', name='_started_3217168378337940333', size=0, modificationTime=1698121212000),\n",
       " FileInfo(path='dbfs:/user/root/course/_started_3369753614984232727', name='_started_3369753614984232727', size=0, modificationTime=1698120250000),\n",
       " FileInfo(path='dbfs:/user/root/course/_started_3546661089147839298', name='_started_3546661089147839298', size=0, modificationTime=1698121788000),\n",
       " FileInfo(path='dbfs:/user/root/course/_started_4717435535539949276', name='_started_4717435535539949276', size=0, modificationTime=1698121189000),\n",
       " FileInfo(path='dbfs:/user/root/course/_started_5293263209246580565', name='_started_5293263209246580565', size=0, modificationTime=1698121438000),\n",
       " FileInfo(path='dbfs:/user/root/course/_started_8412628378454775660', name='_started_8412628378454775660', size=0, modificationTime=1698120469000),\n",
       " FileInfo(path='dbfs:/user/root/course/part-00000-tid-3546661089147839298-03aff684-06f6-4717-aa95-101f77f66871-16-1.c000.snappy.parquet', name='part-00000-tid-3546661089147839298-03aff684-06f6-4717-aa95-101f77f66871-16-1.c000.snappy.parquet', size=2031, modificationTime=1698121788000)]"
      ]
     },
     "execution_count": 10,
     "metadata": {},
     "output_type": "execute_result"
    }
   ],
   "source": [
    "dbutils.fs.ls(f'/user/{username}/course')"
   ]
  },
  {
   "cell_type": "code",
   "execution_count": 0,
   "metadata": {
    "application/vnd.databricks.v1+cell": {
     "cellMetadata": {
      "byteLimit": 2048000,
      "rowLimit": 10000
     },
     "inputWidgets": {},
     "nuid": "e9205c09-098a-482e-943f-3b8dfdb3b7db",
     "showTitle": false,
     "title": ""
    }
   },
   "outputs": [
    {
     "output_type": "stream",
     "name": "stdout",
     "output_type": "stream",
     "text": [
      "+---------+--------------------+------------+----------+-----+-----------------+\n|course_id|         course_name|suitable_for|enrollment|stars|number_of_ratings|\n+---------+--------------------+------------+----------+-----+-----------------+\n|        1|     Python Bootcamp|    Beginner|   1100093|  4.6|           218066|\n|        2|angular - the com...|Intermediate|     34567|  4.5|           347912|\n|        3|       Java In-Depth|   Adavanced|   2345321|  4.8|            23789|\n|        4|  C++ Beginner guide|    Beginner|     32145|  4.2|             5678|\n|        5|Data Science Prac...|Intermediate|     67897|  4.6|           267576|\n+---------+--------------------+------------+----------+-----+-----------------+\n\n"
     ]
    }
   ],
   "source": [
    "spark.read.parquet(f'/user/{username}/course').show()"
   ]
  },
  {
   "cell_type": "code",
   "execution_count": 0,
   "metadata": {
    "application/vnd.databricks.v1+cell": {
     "cellMetadata": {},
     "inputWidgets": {},
     "nuid": "44a0c064-397f-442d-9790-a54ee08e6d5f",
     "showTitle": false,
     "title": ""
    }
   },
   "outputs": [],
   "source": []
  }
 ],
 "metadata": {
  "application/vnd.databricks.v1+notebook": {
   "dashboards": [],
   "language": "python",
   "notebookMetadata": {
    "pythonIndentUnit": 4
   },
   "notebookName": "12 - Writing Spark Data Frames into Parquet Files",
   "widgets": {}
  }
 },
 "nbformat": 4,
 "nbformat_minor": 0
}
