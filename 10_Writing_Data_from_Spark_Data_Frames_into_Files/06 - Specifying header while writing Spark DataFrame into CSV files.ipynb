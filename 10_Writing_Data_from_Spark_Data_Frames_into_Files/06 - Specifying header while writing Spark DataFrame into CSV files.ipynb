{
 "cells": [
  {
   "cell_type": "code",
   "execution_count": 0,
   "metadata": {
    "application/vnd.databricks.v1+cell": {
     "cellMetadata": {
      "byteLimit": 2048000,
      "rowLimit": 10000
     },
     "inputWidgets": {},
     "nuid": "cee38cd2-b349-41b9-b17f-276f29e3874c",
     "showTitle": false,
     "title": ""
    }
   },
   "outputs": [],
   "source": [
    "courses = [\n",
    "    {   \n",
    "        'course_id': 1,\n",
    "        'course_name': \"Python Bootcamp\",\n",
    "        'suitable_for': 'Beginner',\n",
    "        'enrollment': 1100093,\n",
    "        'stars': 4.6,\n",
    "        'number_of_ratings': 218066\n",
    "    },\n",
    "    {   \n",
    "        'course_id': 2,\n",
    "        'course_name': \"angular - the complete guide\",\n",
    "        'suitable_for': 'Intermediate',\n",
    "        'enrollment': 34567,\n",
    "        'stars': 4.5,\n",
    "        'number_of_ratings': 347912\n",
    "    },\n",
    "    {\n",
    "        'course_id': 3,\n",
    "        'course_name': \"Java In-Depth\",\n",
    "        'suitable_for': 'Adavanced',\n",
    "        'enrollment': 2345321,\n",
    "        'stars': 4.8,\n",
    "        'number_of_ratings': 23789\n",
    "    },\n",
    "    {\n",
    "        'course_id': 4,\n",
    "        'course_name': \"C++ Beginner guide\",\n",
    "        'suitable_for': 'Beginner',\n",
    "        'enrollment': 32145,\n",
    "        'stars': 4.2,\n",
    "        'number_of_ratings': 5678\n",
    "    },\n",
    "    {\n",
    "        'course_id': 5,\n",
    "        'course_name': \"Data Science Practical approach\",\n",
    "        'suitable_for': 'Intermediate',\n",
    "        'enrollment': 67897,\n",
    "        'stars': 4.6,\n",
    "        'number_of_ratings': 267576\n",
    "    }\n",
    "]"
   ]
  },
  {
   "cell_type": "code",
   "execution_count": 0,
   "metadata": {
    "application/vnd.databricks.v1+cell": {
     "cellMetadata": {
      "byteLimit": 2048000,
      "rowLimit": 10000
     },
     "inputWidgets": {},
     "nuid": "12595536-def3-40d8-ba20-493866cb3194",
     "showTitle": false,
     "title": ""
    }
   },
   "outputs": [],
   "source": [
    "from pyspark.sql.functions import *\n",
    "from pyspark.sql import Row"
   ]
  },
  {
   "cell_type": "code",
   "execution_count": 0,
   "metadata": {
    "application/vnd.databricks.v1+cell": {
     "cellMetadata": {
      "byteLimit": 2048000,
      "rowLimit": 10000
     },
     "inputWidgets": {},
     "nuid": "45547ef5-a528-4646-83b4-f2b679d66914",
     "showTitle": false,
     "title": ""
    }
   },
   "outputs": [],
   "source": [
    "course_df = spark.createDataFrame([Row(**course) for course in courses])"
   ]
  },
  {
   "cell_type": "code",
   "execution_count": 0,
   "metadata": {
    "application/vnd.databricks.v1+cell": {
     "cellMetadata": {
      "byteLimit": 2048000,
      "rowLimit": 10000
     },
     "inputWidgets": {},
     "nuid": "b74ade85-42be-419c-a5d6-3bbb6d67b89b",
     "showTitle": false,
     "title": ""
    }
   },
   "outputs": [
    {
     "output_type": "stream",
     "name": "stdout",
     "output_type": "stream",
     "text": [
      "+---------+--------------------+------------+----------+-----+-----------------+\n|course_id|         course_name|suitable_for|enrollment|stars|number_of_ratings|\n+---------+--------------------+------------+----------+-----+-----------------+\n|        1|     Python Bootcamp|    Beginner|   1100093|  4.6|           218066|\n|        2|angular - the com...|Intermediate|     34567|  4.5|           347912|\n|        3|       Java In-Depth|   Adavanced|   2345321|  4.8|            23789|\n|        4|  C++ Beginner guide|    Beginner|     32145|  4.2|             5678|\n|        5|Data Science Prac...|Intermediate|     67897|  4.6|           267576|\n+---------+--------------------+------------+----------+-----+-----------------+\n\n"
     ]
    }
   ],
   "source": [
    "course_df.show()"
   ]
  },
  {
   "cell_type": "code",
   "execution_count": 0,
   "metadata": {
    "application/vnd.databricks.v1+cell": {
     "cellMetadata": {
      "byteLimit": 2048000,
      "rowLimit": 10000
     },
     "inputWidgets": {},
     "nuid": "a5b1e0f1-4092-4cae-b92d-df0a152591e6",
     "showTitle": false,
     "title": ""
    }
   },
   "outputs": [],
   "source": [
    "import getpass\n",
    "username = getpass.getuser()"
   ]
  },
  {
   "cell_type": "code",
   "execution_count": 0,
   "metadata": {
    "application/vnd.databricks.v1+cell": {
     "cellMetadata": {
      "byteLimit": 2048000,
      "rowLimit": 10000
     },
     "inputWidgets": {},
     "nuid": "69a61fe7-a045-4271-85d7-15aa7392c7f5",
     "showTitle": false,
     "title": ""
    }
   },
   "outputs": [
    {
     "output_type": "execute_result",
     "data": {
      "text/plain": [
       "[FileInfo(path='dbfs:/user/root/course/_SUCCESS', name='_SUCCESS', size=0, modificationTime=1698050371000),\n",
       " FileInfo(path='dbfs:/user/root/course/_committed_154650268415425654', name='_committed_154650268415425654', size=372, modificationTime=1698050142000),\n",
       " FileInfo(path='dbfs:/user/root/course/_committed_4292193513688800745', name='_committed_4292193513688800745', size=734, modificationTime=1698050371000),\n",
       " FileInfo(path='dbfs:/user/root/course/_started_154650268415425654', name='_started_154650268415425654', size=0, modificationTime=1698050142000),\n",
       " FileInfo(path='dbfs:/user/root/course/_started_4292193513688800745', name='_started_4292193513688800745', size=0, modificationTime=1698050371000),\n",
       " FileInfo(path='dbfs:/user/root/course/part-00000-tid-4292193513688800745-fdc7a98b-2de7-4bc5-98cf-8de0498c3931-31-1-c000.csv', name='part-00000-tid-4292193513688800745-fdc7a98b-2de7-4bc5-98cf-8de0498c3931-31-1-c000.csv', size=46, modificationTime=1698050371000),\n",
       " FileInfo(path='dbfs:/user/root/course/part-00001-tid-4292193513688800745-fdc7a98b-2de7-4bc5-98cf-8de0498c3931-32-1-c000.csv', name='part-00001-tid-4292193513688800745-fdc7a98b-2de7-4bc5-98cf-8de0498c3931-32-1-c000.csv', size=61, modificationTime=1698050371000),\n",
       " FileInfo(path='dbfs:/user/root/course/part-00002-tid-4292193513688800745-fdc7a98b-2de7-4bc5-98cf-8de0498c3931-33-1-c000.csv', name='part-00002-tid-4292193513688800745-fdc7a98b-2de7-4bc5-98cf-8de0498c3931-33-1-c000.csv', size=44, modificationTime=1698050371000),\n",
       " FileInfo(path='dbfs:/user/root/course/part-00003-tid-4292193513688800745-fdc7a98b-2de7-4bc5-98cf-8de0498c3931-34-1-c000.csv', name='part-00003-tid-4292193513688800745-fdc7a98b-2de7-4bc5-98cf-8de0498c3931-34-1-c000.csv', size=109, modificationTime=1698050371000)]"
      ]
     },
     "execution_count": 6,
     "metadata": {},
     "output_type": "execute_result"
    }
   ],
   "source": [
    "dbutils.fs.ls(f'/user/{username}/course')"
   ]
  },
  {
   "cell_type": "code",
   "execution_count": 0,
   "metadata": {
    "application/vnd.databricks.v1+cell": {
     "cellMetadata": {
      "byteLimit": 2048000,
      "rowLimit": 10000
     },
     "inputWidgets": {},
     "nuid": "b6143ad9-ed36-42c1-b9fd-d1979a37458b",
     "showTitle": false,
     "title": ""
    }
   },
   "outputs": [],
   "source": [
    "course_df.\\\n",
    "    coalesce(1).\\\n",
    "    write.\\\n",
    "    csv(f'/user/{username}/course', mode='overwrite', header=True)"
   ]
  },
  {
   "cell_type": "code",
   "execution_count": 0,
   "metadata": {
    "application/vnd.databricks.v1+cell": {
     "cellMetadata": {
      "byteLimit": 2048000,
      "rowLimit": 10000
     },
     "inputWidgets": {},
     "nuid": "d1d4bb95-11a4-4248-a99a-640a202126b5",
     "showTitle": false,
     "title": ""
    }
   },
   "outputs": [
    {
     "output_type": "execute_result",
     "data": {
      "text/plain": [
       "[FileInfo(path='dbfs:/user/root/course/_committed_154650268415425654', name='_committed_154650268415425654', size=372, modificationTime=1698050142000),\n",
       " FileInfo(path='dbfs:/user/root/course/_committed_4292193513688800745', name='_committed_4292193513688800745', size=734, modificationTime=1698050371000),\n",
       " FileInfo(path='dbfs:/user/root/course/_committed_8831713169969611268', name='_committed_8831713169969611268', size=462, modificationTime=1698057286000),\n",
       " FileInfo(path='dbfs:/user/root/course/_committed_vacuum4569954551373683974', name='_committed_vacuum4569954551373683974', size=95, modificationTime=1698057287000),\n",
       " FileInfo(path='dbfs:/user/root/course/_started_8831713169969611268', name='_started_8831713169969611268', size=0, modificationTime=1698057285000),\n",
       " FileInfo(path='dbfs:/user/root/course/part-00000-tid-8831713169969611268-90e63088-c730-441a-a507-36dbebfa2c70-4-1-c000.csv', name='part-00000-tid-8831713169969611268-90e63088-c730-441a-a507-36dbebfa2c70-4-1-c000.csv', size=330, modificationTime=1698057286000)]"
      ]
     },
     "execution_count": 8,
     "metadata": {},
     "output_type": "execute_result"
    }
   ],
   "source": [
    "dbutils.fs.ls(f'/user/{username}/course')"
   ]
  },
  {
   "cell_type": "code",
   "execution_count": 0,
   "metadata": {
    "application/vnd.databricks.v1+cell": {
     "cellMetadata": {
      "byteLimit": 2048000,
      "rowLimit": 10000
     },
     "inputWidgets": {},
     "nuid": "d51e1e67-9e9a-4301-bd88-65d31ceb803d",
     "showTitle": false,
     "title": ""
    }
   },
   "outputs": [
    {
     "output_type": "stream",
     "name": "stdout",
     "output_type": "stream",
     "text": [
      "+---------------------------------------------------------------------+\n|value                                                                |\n+---------------------------------------------------------------------+\n|course_id,course_name,suitable_for,enrollment,stars,number_of_ratings|\n|1,Python Bootcamp,Beginner,1100093,4.6,218066                        |\n|2,angular - the complete guide,Intermediate,34567,4.5,347912         |\n|3,Java In-Depth,Adavanced,2345321,4.8,23789                          |\n|4,C++ Beginner guide,Beginner,32145,4.2,5678                         |\n|5,Data Science Practical approach,Intermediate,67897,4.6,267576      |\n+---------------------------------------------------------------------+\n\n"
     ]
    }
   ],
   "source": [
    "spark.read.text(f'/user/{username}/course').show(truncate=False)"
   ]
  },
  {
   "cell_type": "code",
   "execution_count": 0,
   "metadata": {
    "application/vnd.databricks.v1+cell": {
     "cellMetadata": {
      "byteLimit": 2048000,
      "rowLimit": 10000
     },
     "inputWidgets": {},
     "nuid": "7870adfd-ce52-4e72-bd6e-b088cb495983",
     "showTitle": false,
     "title": ""
    }
   },
   "outputs": [
    {
     "output_type": "stream",
     "name": "stdout",
     "output_type": "stream",
     "text": [
      "+---------+--------------------+------------+----------+-----+-----------------+\n|course_id|         course_name|suitable_for|enrollment|stars|number_of_ratings|\n+---------+--------------------+------------+----------+-----+-----------------+\n|        1|     Python Bootcamp|    Beginner|   1100093|  4.6|           218066|\n|        2|angular - the com...|Intermediate|     34567|  4.5|           347912|\n|        3|       Java In-Depth|   Adavanced|   2345321|  4.8|            23789|\n|        4|  C++ Beginner guide|    Beginner|     32145|  4.2|             5678|\n|        5|Data Science Prac...|Intermediate|     67897|  4.6|           267576|\n+---------+--------------------+------------+----------+-----+-----------------+\n\n"
     ]
    }
   ],
   "source": [
    "spark.read.csv(f'/user/{username}/course', header=True).show()"
   ]
  },
  {
   "cell_type": "code",
   "execution_count": 0,
   "metadata": {
    "application/vnd.databricks.v1+cell": {
     "cellMetadata": {
      "byteLimit": 2048000,
      "rowLimit": 10000
     },
     "inputWidgets": {},
     "nuid": "a3cb5933-34ac-4e47-bd42-e0c10124eea2",
     "showTitle": false,
     "title": ""
    }
   },
   "outputs": [],
   "source": [
    "course_df.\\\n",
    "    coalesce(1).\\\n",
    "    write.\\\n",
    "    format('csv').\\\n",
    "    save(f'/user/{username}/course', mode='overwrite', header=True)"
   ]
  },
  {
   "cell_type": "code",
   "execution_count": 0,
   "metadata": {
    "application/vnd.databricks.v1+cell": {
     "cellMetadata": {
      "byteLimit": 2048000,
      "rowLimit": 10000
     },
     "inputWidgets": {},
     "nuid": "bbb6c2b5-1ea0-4f9b-95f2-b3227e716eae",
     "showTitle": false,
     "title": ""
    }
   },
   "outputs": [
    {
     "output_type": "execute_result",
     "data": {
      "text/plain": [
       "[FileInfo(path='dbfs:/user/root/course/_committed_154650268415425654', name='_committed_154650268415425654', size=372, modificationTime=1698050142000),\n",
       " FileInfo(path='dbfs:/user/root/course/_committed_3111606097757740364', name='_committed_3111606097757740364', size=197, modificationTime=1698057524000),\n",
       " FileInfo(path='dbfs:/user/root/course/_committed_4292193513688800745', name='_committed_4292193513688800745', size=734, modificationTime=1698050371000),\n",
       " FileInfo(path='dbfs:/user/root/course/_committed_8831713169969611268', name='_committed_8831713169969611268', size=462, modificationTime=1698057286000),\n",
       " FileInfo(path='dbfs:/user/root/course/_committed_vacuum4569954551373683974', name='_committed_vacuum4569954551373683974', size=95, modificationTime=1698057287000),\n",
       " FileInfo(path='dbfs:/user/root/course/_started_3111606097757740364', name='_started_3111606097757740364', size=0, modificationTime=1698057523000),\n",
       " FileInfo(path='dbfs:/user/root/course/_started_8831713169969611268', name='_started_8831713169969611268', size=0, modificationTime=1698057285000),\n",
       " FileInfo(path='dbfs:/user/root/course/part-00000-tid-3111606097757740364-834bfe06-6371-406e-894e-7991c7b37447-8-1-c000.csv', name='part-00000-tid-3111606097757740364-834bfe06-6371-406e-894e-7991c7b37447-8-1-c000.csv', size=330, modificationTime=1698057524000)]"
      ]
     },
     "execution_count": 12,
     "metadata": {},
     "output_type": "execute_result"
    }
   ],
   "source": [
    "dbutils.fs.ls(f'/user/{username}/course')"
   ]
  },
  {
   "cell_type": "code",
   "execution_count": 0,
   "metadata": {
    "application/vnd.databricks.v1+cell": {
     "cellMetadata": {},
     "inputWidgets": {},
     "nuid": "5437e0fd-30df-40f2-92a5-5ce4b5497dfd",
     "showTitle": false,
     "title": ""
    }
   },
   "outputs": [],
   "source": []
  }
 ],
 "metadata": {
  "application/vnd.databricks.v1+notebook": {
   "dashboards": [],
   "language": "python",
   "notebookMetadata": {
    "pythonIndentUnit": 4
   },
   "notebookName": "06 - Specifying header while writing Spark DataFrame into CSV files",
   "widgets": {}
  }
 },
 "nbformat": 4,
 "nbformat_minor": 0
}
