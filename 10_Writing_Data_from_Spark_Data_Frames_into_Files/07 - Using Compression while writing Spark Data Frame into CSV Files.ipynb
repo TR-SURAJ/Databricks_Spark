{
 "cells": [
  {
   "cell_type": "code",
   "execution_count": 0,
   "metadata": {
    "application/vnd.databricks.v1+cell": {
     "cellMetadata": {
      "byteLimit": 2048000,
      "rowLimit": 10000
     },
     "inputWidgets": {},
     "nuid": "f21eed38-d936-45ca-bc4e-a7a5737efa0a",
     "showTitle": false,
     "title": ""
    }
   },
   "outputs": [],
   "source": [
    "courses = [\n",
    "    {   \n",
    "        'course_id': 1,\n",
    "        'course_name': \"Python Bootcamp\",\n",
    "        'suitable_for': 'Beginner',\n",
    "        'enrollment': 1100093,\n",
    "        'stars': 4.6,\n",
    "        'number_of_ratings': 218066\n",
    "    },\n",
    "    {   \n",
    "        'course_id': 2,\n",
    "        'course_name': \"angular - the complete guide\",\n",
    "        'suitable_for': 'Intermediate',\n",
    "        'enrollment': 34567,\n",
    "        'stars': 4.5,\n",
    "        'number_of_ratings': 347912\n",
    "    },\n",
    "    {\n",
    "        'course_id': 3,\n",
    "        'course_name': \"Java In-Depth\",\n",
    "        'suitable_for': 'Adavanced',\n",
    "        'enrollment': 2345321,\n",
    "        'stars': 4.8,\n",
    "        'number_of_ratings': 23789\n",
    "    },\n",
    "    {\n",
    "        'course_id': 4,\n",
    "        'course_name': \"C++ Beginner guide\",\n",
    "        'suitable_for': 'Beginner',\n",
    "        'enrollment': 32145,\n",
    "        'stars': 4.2,\n",
    "        'number_of_ratings': 5678\n",
    "    },\n",
    "    {\n",
    "        'course_id': 5,\n",
    "        'course_name': \"Data Science Practical approach\",\n",
    "        'suitable_for': 'Intermediate',\n",
    "        'enrollment': 67897,\n",
    "        'stars': 4.6,\n",
    "        'number_of_ratings': 267576\n",
    "    }\n",
    "]"
   ]
  },
  {
   "cell_type": "code",
   "execution_count": 0,
   "metadata": {
    "application/vnd.databricks.v1+cell": {
     "cellMetadata": {
      "byteLimit": 2048000,
      "rowLimit": 10000
     },
     "inputWidgets": {},
     "nuid": "3460a6d8-db82-4b80-8a3e-f9a56ebaf74e",
     "showTitle": false,
     "title": ""
    }
   },
   "outputs": [],
   "source": [
    "from pyspark.sql.functions import *\n",
    "from pyspark.sql import Row"
   ]
  },
  {
   "cell_type": "code",
   "execution_count": 0,
   "metadata": {
    "application/vnd.databricks.v1+cell": {
     "cellMetadata": {
      "byteLimit": 2048000,
      "rowLimit": 10000
     },
     "inputWidgets": {},
     "nuid": "9aec5426-c207-4001-a60c-6d466a39b1bb",
     "showTitle": false,
     "title": ""
    }
   },
   "outputs": [],
   "source": [
    "course_df = spark.createDataFrame([Row(**course) for course in courses])"
   ]
  },
  {
   "cell_type": "code",
   "execution_count": 0,
   "metadata": {
    "application/vnd.databricks.v1+cell": {
     "cellMetadata": {
      "byteLimit": 2048000,
      "rowLimit": 10000
     },
     "inputWidgets": {},
     "nuid": "78b2a3b2-f998-4c90-bf36-67bb39a9d900",
     "showTitle": false,
     "title": ""
    }
   },
   "outputs": [
    {
     "output_type": "stream",
     "name": "stdout",
     "output_type": "stream",
     "text": [
      "+---------+--------------------+------------+----------+-----+-----------------+\n|course_id|         course_name|suitable_for|enrollment|stars|number_of_ratings|\n+---------+--------------------+------------+----------+-----+-----------------+\n|        1|     Python Bootcamp|    Beginner|   1100093|  4.6|           218066|\n|        2|angular - the com...|Intermediate|     34567|  4.5|           347912|\n|        3|       Java In-Depth|   Adavanced|   2345321|  4.8|            23789|\n|        4|  C++ Beginner guide|    Beginner|     32145|  4.2|             5678|\n|        5|Data Science Prac...|Intermediate|     67897|  4.6|           267576|\n+---------+--------------------+------------+----------+-----+-----------------+\n\n"
     ]
    }
   ],
   "source": [
    "course_df.show()"
   ]
  },
  {
   "cell_type": "code",
   "execution_count": 0,
   "metadata": {
    "application/vnd.databricks.v1+cell": {
     "cellMetadata": {
      "byteLimit": 2048000,
      "rowLimit": 10000
     },
     "inputWidgets": {},
     "nuid": "262b278c-5391-4592-823a-d2c2509ff3ab",
     "showTitle": false,
     "title": ""
    }
   },
   "outputs": [],
   "source": [
    "import getpass\n",
    "username = getpass.getuser()"
   ]
  },
  {
   "cell_type": "code",
   "execution_count": 0,
   "metadata": {
    "application/vnd.databricks.v1+cell": {
     "cellMetadata": {
      "byteLimit": 2048000,
      "rowLimit": 10000
     },
     "inputWidgets": {},
     "nuid": "6ca8387f-916e-49d4-b5e9-32a0a36944f8",
     "showTitle": false,
     "title": ""
    }
   },
   "outputs": [
    {
     "output_type": "execute_result",
     "data": {
      "text/plain": [
       "True"
      ]
     },
     "execution_count": 7,
     "metadata": {},
     "output_type": "execute_result"
    }
   ],
   "source": [
    "dbutils.fs.rm(f'/user/{username}/course', recurse=True)"
   ]
  },
  {
   "cell_type": "code",
   "execution_count": 0,
   "metadata": {
    "application/vnd.databricks.v1+cell": {
     "cellMetadata": {
      "byteLimit": 2048000,
      "rowLimit": 10000
     },
     "inputWidgets": {},
     "nuid": "10769039-f54f-4edf-87a3-f6b0c4af55fd",
     "showTitle": false,
     "title": ""
    }
   },
   "outputs": [],
   "source": [
    "course_df.\\\n",
    "    coalesce(1).\\\n",
    "    write.\\\n",
    "    csv(f'/user/{username}/course', mode='overwrite', header=True)"
   ]
  },
  {
   "cell_type": "code",
   "execution_count": 0,
   "metadata": {
    "application/vnd.databricks.v1+cell": {
     "cellMetadata": {
      "byteLimit": 2048000,
      "rowLimit": 10000
     },
     "inputWidgets": {},
     "nuid": "91a07fb0-bf77-40e9-b074-476069180f88",
     "showTitle": false,
     "title": ""
    }
   },
   "outputs": [
    {
     "output_type": "execute_result",
     "data": {
      "text/plain": [
       "[FileInfo(path='dbfs:/user/root/course/_SUCCESS', name='_SUCCESS', size=0, modificationTime=1698057841000),\n",
       " FileInfo(path='dbfs:/user/root/course/_committed_5605178836044931805', name='_committed_5605178836044931805', size=112, modificationTime=1698057840000),\n",
       " FileInfo(path='dbfs:/user/root/course/_started_5605178836044931805', name='_started_5605178836044931805', size=0, modificationTime=1698057840000),\n",
       " FileInfo(path='dbfs:/user/root/course/part-00000-tid-5605178836044931805-13c344e9-9925-4c59-acc5-24b94b619c82-13-1-c000.csv', name='part-00000-tid-5605178836044931805-13c344e9-9925-4c59-acc5-24b94b619c82-13-1-c000.csv', size=330, modificationTime=1698057840000)]"
      ]
     },
     "execution_count": 9,
     "metadata": {},
     "output_type": "execute_result"
    }
   ],
   "source": [
    "dbutils.fs.ls(f'/user/{username}/course')"
   ]
  },
  {
   "cell_type": "code",
   "execution_count": 0,
   "metadata": {
    "application/vnd.databricks.v1+cell": {
     "cellMetadata": {
      "byteLimit": 2048000,
      "rowLimit": 10000
     },
     "inputWidgets": {},
     "nuid": "42d31a33-e507-4fb3-a1fd-71d3ecff5e65",
     "showTitle": false,
     "title": ""
    }
   },
   "outputs": [
    {
     "output_type": "stream",
     "name": "stdout",
     "output_type": "stream",
     "text": [
      "Help on method csv in module pyspark.sql.readwriter:\n\ncsv(path: str, mode: Optional[str] = None, compression: Optional[str] = None, sep: Optional[str] = None, quote: Optional[str] = None, escape: Optional[str] = None, header: Union[bool, str, NoneType] = None, nullValue: Optional[str] = None, escapeQuotes: Union[bool, str, NoneType] = None, quoteAll: Union[bool, str, NoneType] = None, dateFormat: Optional[str] = None, timestampFormat: Optional[str] = None, ignoreLeadingWhiteSpace: Union[bool, str, NoneType] = None, ignoreTrailingWhiteSpace: Union[bool, str, NoneType] = None, charToEscapeQuoteEscaping: Optional[str] = None, encoding: Optional[str] = None, emptyValue: Optional[str] = None, lineSep: Optional[str] = None) -> None method of pyspark.sql.readwriter.DataFrameWriter instance\n    Saves the content of the :class:`DataFrame` in CSV format at the specified path.\n    \n    .. versionadded:: 2.0.0\n    \n    .. versionchanged:: 3.4.0\n        Supports Spark Connect.\n    \n    Parameters\n    ----------\n    path : str\n        the path in any Hadoop supported file system\n    mode : str, optional\n        specifies the behavior of the save operation when data already exists.\n    \n        * ``append``: Append contents of this :class:`DataFrame` to existing data.\n        * ``overwrite``: Overwrite existing data.\n        * ``ignore``: Silently ignore this operation if data already exists.\n        * ``error`` or ``errorifexists`` (default case): Throw an exception if data already \\\n            exists.\n    \n    Other Parameters\n    ----------------\n    Extra options\n        For the extra options, refer to\n        `Data Source Option <https://spark.apache.org/docs/latest/sql-data-sources-csv.html#data-source-option>`_\n        for the version you use.\n    \n        .. # noqa\n    \n    Examples\n    --------\n    Write a DataFrame into a CSV file and read it back.\n    \n    >>> import tempfile\n    >>> with tempfile.TemporaryDirectory() as d:\n    ...     # Write a DataFrame into a CSV file\n    ...     df = spark.createDataFrame([{\"age\": 100, \"name\": \"Hyukjin Kwon\"}])\n    ...     df.write.csv(d, mode=\"overwrite\")\n    ...\n    ...     # Read the CSV file as a DataFrame with 'nullValue' option set to 'Hyukjin Kwon'.\n    ...     spark.read.schema(df.schema).format(\"csv\").option(\n    ...         \"nullValue\", \"Hyukjin Kwon\").load(d).show()\n    +---+----+\n    |age|name|\n    +---+----+\n    |100|NULL|\n    +---+----+\n\n"
     ]
    }
   ],
   "source": [
    "help(course_df.write.csv)"
   ]
  },
  {
   "cell_type": "code",
   "execution_count": 0,
   "metadata": {
    "application/vnd.databricks.v1+cell": {
     "cellMetadata": {
      "byteLimit": 2048000,
      "rowLimit": 10000
     },
     "inputWidgets": {},
     "nuid": "3d5ae4da-3bc5-4a8d-bc3e-d951b3fdaf53",
     "showTitle": false,
     "title": ""
    }
   },
   "outputs": [],
   "source": [
    "course_df.\\\n",
    "    coalesce(1).\\\n",
    "    write.\\\n",
    "    csv(f'/user/{username}/course', mode='overwrite', compression='gzip' ,header=True)"
   ]
  },
  {
   "cell_type": "code",
   "execution_count": 0,
   "metadata": {
    "application/vnd.databricks.v1+cell": {
     "cellMetadata": {
      "byteLimit": 2048000,
      "rowLimit": 10000
     },
     "inputWidgets": {},
     "nuid": "549f5fc8-4190-4b15-a7ec-0cb45e47f2b3",
     "showTitle": false,
     "title": ""
    }
   },
   "outputs": [
    {
     "output_type": "execute_result",
     "data": {
      "text/plain": [
       "[FileInfo(path='dbfs:/user/root/course/_SUCCESS', name='_SUCCESS', size=0, modificationTime=1698057985000),\n",
       " FileInfo(path='dbfs:/user/root/course/_committed_5605178836044931805', name='_committed_5605178836044931805', size=112, modificationTime=1698057840000),\n",
       " FileInfo(path='dbfs:/user/root/course/_committed_6805884440080036048', name='_committed_6805884440080036048', size=213, modificationTime=1698057985000),\n",
       " FileInfo(path='dbfs:/user/root/course/_started_5605178836044931805', name='_started_5605178836044931805', size=0, modificationTime=1698057840000),\n",
       " FileInfo(path='dbfs:/user/root/course/_started_6805884440080036048', name='_started_6805884440080036048', size=0, modificationTime=1698057985000),\n",
       " FileInfo(path='dbfs:/user/root/course/part-00000-tid-6805884440080036048-8b5b1a7b-ef93-40e5-98ee-5c197ec368c9-14-1-c000.csv.gz', name='part-00000-tid-6805884440080036048-8b5b1a7b-ef93-40e5-98ee-5c197ec368c9-14-1-c000.csv.gz', size=253, modificationTime=1698057985000)]"
      ]
     },
     "execution_count": 12,
     "metadata": {},
     "output_type": "execute_result"
    }
   ],
   "source": [
    "dbutils.fs.ls(f'/user/{username}/course')"
   ]
  },
  {
   "cell_type": "code",
   "execution_count": 0,
   "metadata": {
    "application/vnd.databricks.v1+cell": {
     "cellMetadata": {
      "byteLimit": 2048000,
      "rowLimit": 10000
     },
     "inputWidgets": {},
     "nuid": "5f96eefa-5f4c-49b4-abbe-7875f90f763e",
     "showTitle": false,
     "title": ""
    }
   },
   "outputs": [
    {
     "output_type": "stream",
     "name": "stdout",
     "output_type": "stream",
     "text": [
      "+---------+--------------------+------------+----------+-----+-----------------+\n|course_id|         course_name|suitable_for|enrollment|stars|number_of_ratings|\n+---------+--------------------+------------+----------+-----+-----------------+\n|        1|     Python Bootcamp|    Beginner|   1100093|  4.6|           218066|\n|        2|angular - the com...|Intermediate|     34567|  4.5|           347912|\n|        3|       Java In-Depth|   Adavanced|   2345321|  4.8|            23789|\n|        4|  C++ Beginner guide|    Beginner|     32145|  4.2|             5678|\n|        5|Data Science Prac...|Intermediate|     67897|  4.6|           267576|\n+---------+--------------------+------------+----------+-----+-----------------+\n\n"
     ]
    }
   ],
   "source": [
    "spark.read.csv(f'/user/{username}/course', header=True).show()"
   ]
  },
  {
   "cell_type": "code",
   "execution_count": 0,
   "metadata": {
    "application/vnd.databricks.v1+cell": {
     "cellMetadata": {
      "byteLimit": 2048000,
      "rowLimit": 10000
     },
     "inputWidgets": {},
     "nuid": "c0d9f0fa-22ce-4d9e-8e5f-379cf9c2229a",
     "showTitle": false,
     "title": ""
    }
   },
   "outputs": [],
   "source": [
    "course_df.\\\n",
    "    coalesce(1).\\\n",
    "    write.\\\n",
    "    format('csv').\\\n",
    "    save(f'/user/{username}/course', mode='overwrite', compression='snappy' ,header=True)"
   ]
  },
  {
   "cell_type": "code",
   "execution_count": 0,
   "metadata": {
    "application/vnd.databricks.v1+cell": {
     "cellMetadata": {
      "byteLimit": 2048000,
      "rowLimit": 10000
     },
     "inputWidgets": {},
     "nuid": "de966d1b-26ef-447b-8e7e-26e394415c90",
     "showTitle": false,
     "title": ""
    }
   },
   "outputs": [
    {
     "output_type": "execute_result",
     "data": {
      "text/plain": [
       "[FileInfo(path='dbfs:/user/root/course/_SUCCESS', name='_SUCCESS', size=0, modificationTime=1698058143000),\n",
       " FileInfo(path='dbfs:/user/root/course/_committed_1619018238547590661', name='_committed_1619018238547590661', size=209, modificationTime=1698058143000),\n",
       " FileInfo(path='dbfs:/user/root/course/_committed_5605178836044931805', name='_committed_5605178836044931805', size=112, modificationTime=1698057840000),\n",
       " FileInfo(path='dbfs:/user/root/course/_committed_6805884440080036048', name='_committed_6805884440080036048', size=213, modificationTime=1698057985000),\n",
       " FileInfo(path='dbfs:/user/root/course/_committed_9139497331757959640', name='_committed_9139497331757959640', size=205, modificationTime=1698058125000),\n",
       " FileInfo(path='dbfs:/user/root/course/_started_1619018238547590661', name='_started_1619018238547590661', size=0, modificationTime=1698058142000),\n",
       " FileInfo(path='dbfs:/user/root/course/_started_5605178836044931805', name='_started_5605178836044931805', size=0, modificationTime=1698057840000),\n",
       " FileInfo(path='dbfs:/user/root/course/_started_6805884440080036048', name='_started_6805884440080036048', size=0, modificationTime=1698057985000),\n",
       " FileInfo(path='dbfs:/user/root/course/_started_9139497331757959640', name='_started_9139497331757959640', size=0, modificationTime=1698058124000),\n",
       " FileInfo(path='dbfs:/user/root/course/part-00000-tid-1619018238547590661-8d6163b8-f6f0-47eb-9686-fccc63fcf37f-18-1-c000.csv.snappy', name='part-00000-tid-1619018238547590661-8d6163b8-f6f0-47eb-9686-fccc63fcf37f-18-1-c000.csv.snappy', size=339, modificationTime=1698058143000)]"
      ]
     },
     "execution_count": 17,
     "metadata": {},
     "output_type": "execute_result"
    }
   ],
   "source": [
    "dbutils.fs.ls(f'/user/{username}/course')"
   ]
  },
  {
   "cell_type": "code",
   "execution_count": 0,
   "metadata": {
    "application/vnd.databricks.v1+cell": {
     "cellMetadata": {
      "byteLimit": 2048000,
      "rowLimit": 10000
     },
     "inputWidgets": {},
     "nuid": "4110c78f-7d82-4f95-a1c3-baba5d62f801",
     "showTitle": false,
     "title": ""
    }
   },
   "outputs": [
    {
     "output_type": "stream",
     "name": "stdout",
     "output_type": "stream",
     "text": [
      "+---------+--------------------+------------+----------+-----+-----------------+\n|course_id|         course_name|suitable_for|enrollment|stars|number_of_ratings|\n+---------+--------------------+------------+----------+-----+-----------------+\n|        1|     Python Bootcamp|    Beginner|   1100093|  4.6|           218066|\n|        2|angular - the com...|Intermediate|     34567|  4.5|           347912|\n|        3|       Java In-Depth|   Adavanced|   2345321|  4.8|            23789|\n|        4|  C++ Beginner guide|    Beginner|     32145|  4.2|             5678|\n|        5|Data Science Prac...|Intermediate|     67897|  4.6|           267576|\n+---------+--------------------+------------+----------+-----+-----------------+\n\n"
     ]
    }
   ],
   "source": [
    "spark.read.csv(f'/user/{username}/course', header=True).show()"
   ]
  },
  {
   "cell_type": "code",
   "execution_count": 0,
   "metadata": {
    "application/vnd.databricks.v1+cell": {
     "cellMetadata": {},
     "inputWidgets": {},
     "nuid": "94a30f29-b62c-4b3d-ab0f-3b4018d8d7e2",
     "showTitle": false,
     "title": ""
    }
   },
   "outputs": [],
   "source": []
  }
 ],
 "metadata": {
  "application/vnd.databricks.v1+notebook": {
   "dashboards": [],
   "language": "python",
   "notebookMetadata": {
    "pythonIndentUnit": 4
   },
   "notebookName": "07 - Using Compression while writing Spark Data Frame into CSV Files",
   "widgets": {}
  }
 },
 "nbformat": 4,
 "nbformat_minor": 0
}
