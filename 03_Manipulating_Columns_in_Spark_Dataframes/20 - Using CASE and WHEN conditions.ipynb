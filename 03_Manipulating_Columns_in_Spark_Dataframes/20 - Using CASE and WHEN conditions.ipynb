{
 "cells": [
  {
   "cell_type": "code",
   "execution_count": 0,
   "metadata": {
    "application/vnd.databricks.v1+cell": {
     "cellMetadata": {
      "byteLimit": 2048000,
      "rowLimit": 10000
     },
     "inputWidgets": {},
     "nuid": "8a076c21-c2b8-496f-acf5-49af193282ab",
     "showTitle": false,
     "title": ""
    }
   },
   "outputs": [],
   "source": [
    "from pyspark.sql.functions import *"
   ]
  },
  {
   "cell_type": "code",
   "execution_count": 0,
   "metadata": {
    "application/vnd.databricks.v1+cell": {
     "cellMetadata": {
      "byteLimit": 2048000,
      "rowLimit": 10000
     },
     "inputWidgets": {},
     "nuid": "09286980-3873-4888-a0db-da17ce8af6a2",
     "showTitle": false,
     "title": ""
    }
   },
   "outputs": [],
   "source": [
    "employees = [\n",
    "    (1, \"scott\", \"Tiger\", 1000.0,30,\"united states\", \"+1 123 456 7890\", \"123 45 6789\"),\n",
    "    (2, \"Henry\", \"Ford\", 1250.0,None, \"india\", \"+91 234 567 8901\", \"456 78 9123\"),\n",
    "    (3, \"Nick\", \"Junior\",500.0,\"\", \"united kingdom\", \"+44 111 111 111\", \"222 33 4444\"),\n",
    "    (4, \"Bill\", \"Gomes\", 1500.0,150, \"australia\", \"+61 987 654 3210\", \"789 12 6113\"),\n",
    "]"
   ]
  },
  {
   "cell_type": "code",
   "execution_count": 0,
   "metadata": {
    "application/vnd.databricks.v1+cell": {
     "cellMetadata": {
      "byteLimit": 2048000,
      "rowLimit": 10000
     },
     "inputWidgets": {},
     "nuid": "5b014b9a-4062-45f1-b49e-6aa4bd3a9bc9",
     "showTitle": false,
     "title": ""
    }
   },
   "outputs": [],
   "source": [
    "empdf = spark.createDataFrame(employees, schema = \"\"\"employee_id INT, first_name STRING,\n",
    "                              last_name STRING, salary FLOAT, bonus STRING, nationality STRING,\n",
    "                              phone_number STRING, ssn STRING                              \n",
    "                               \"\"\")"
   ]
  },
  {
   "cell_type": "code",
   "execution_count": 0,
   "metadata": {
    "application/vnd.databricks.v1+cell": {
     "cellMetadata": {
      "byteLimit": 2048000,
      "rowLimit": 10000
     },
     "inputWidgets": {},
     "nuid": "b88718dc-b9f1-4df7-9191-c6e17236eb81",
     "showTitle": false,
     "title": ""
    }
   },
   "outputs": [
    {
     "output_type": "stream",
     "name": "stdout",
     "output_type": "stream",
     "text": [
      "+-----------+----------+---------+------+-----+--------------+----------------+-----------+\n|employee_id|first_name|last_name|salary|bonus|   nationality|    phone_number|        ssn|\n+-----------+----------+---------+------+-----+--------------+----------------+-----------+\n|          1|     scott|    Tiger|1000.0|   30| united states| +1 123 456 7890|123 45 6789|\n|          2|     Henry|     Ford|1250.0| NULL|         india|+91 234 567 8901|456 78 9123|\n|          3|      Nick|   Junior| 500.0|     |united kingdom| +44 111 111 111|222 33 4444|\n|          4|      Bill|    Gomes|1500.0|  150|     australia|+61 987 654 3210|789 12 6113|\n+-----------+----------+---------+------+-----+--------------+----------------+-----------+\n\n"
     ]
    }
   ],
   "source": [
    "empdf.show()"
   ]
  },
  {
   "cell_type": "code",
   "execution_count": 0,
   "metadata": {
    "application/vnd.databricks.v1+cell": {
     "cellMetadata": {
      "byteLimit": 2048000,
      "rowLimit": 10000
     },
     "inputWidgets": {},
     "nuid": "e714a1b2-ec8e-4ad0-a41b-eebd6dd760a0",
     "showTitle": false,
     "title": ""
    }
   },
   "outputs": [
    {
     "output_type": "stream",
     "name": "stdout",
     "output_type": "stream",
     "text": [
      "+-----------+----------+---------+------+-----+--------------+----------------+-----------+------+\n|employee_id|first_name|last_name|salary|bonus|   nationality|    phone_number|        ssn|bonus1|\n+-----------+----------+---------+------+-----+--------------+----------------+-----------+------+\n|          1|     scott|    Tiger|1000.0|   30| united states| +1 123 456 7890|123 45 6789|    30|\n|          2|     Henry|     Ford|1250.0| NULL|         india|+91 234 567 8901|456 78 9123|     0|\n|          3|      Nick|   Junior| 500.0|     |united kingdom| +44 111 111 111|222 33 4444|     0|\n|          4|      Bill|    Gomes|1500.0|  150|     australia|+61 987 654 3210|789 12 6113|   150|\n+-----------+----------+---------+------+-----+--------------+----------------+-----------+------+\n\n"
     ]
    }
   ],
   "source": [
    "empdf. \\\n",
    "    withColumn('bonus1', coalesce(col('bonus').cast('int'), lit(0))). \\\n",
    "    show()"
   ]
  },
  {
   "cell_type": "code",
   "execution_count": 0,
   "metadata": {
    "application/vnd.databricks.v1+cell": {
     "cellMetadata": {
      "byteLimit": 2048000,
      "rowLimit": 10000
     },
     "inputWidgets": {},
     "nuid": "a1b99f6a-dd14-4854-ab93-06a1b3bf05b6",
     "showTitle": false,
     "title": ""
    }
   },
   "outputs": [
    {
     "output_type": "stream",
     "name": "stdout",
     "output_type": "stream",
     "text": [
      "+-----------+----------+---------+------+-----+--------------+----------------+-----------+------+\n|employee_id|first_name|last_name|salary|bonus|   nationality|    phone_number|        ssn|bonus1|\n+-----------+----------+---------+------+-----+--------------+----------------+-----------+------+\n|          1|     scott|    Tiger|1000.0|   30| united states| +1 123 456 7890|123 45 6789|    30|\n|          2|     Henry|     Ford|1250.0| NULL|         india|+91 234 567 8901|456 78 9123|     0|\n|          3|      Nick|   Junior| 500.0|     |united kingdom| +44 111 111 111|222 33 4444|     0|\n|          4|      Bill|    Gomes|1500.0|  150|     australia|+61 987 654 3210|789 12 6113|   150|\n+-----------+----------+---------+------+-----+--------------+----------------+-----------+------+\n\n"
     ]
    }
   ],
   "source": [
    "empdf. \\\n",
    "    withColumn(\n",
    "        'bonus1',\n",
    "        expr(\"\"\"\n",
    "             CASE\n",
    "                WHEN bonus is NULL OR bonus = '' THEN 0\n",
    "                ELSE bonus\n",
    "             END             \n",
    "              \"\"\")\n",
    "    ).show()"
   ]
  },
  {
   "cell_type": "code",
   "execution_count": 0,
   "metadata": {
    "application/vnd.databricks.v1+cell": {
     "cellMetadata": {
      "byteLimit": 2048000,
      "rowLimit": 10000
     },
     "inputWidgets": {},
     "nuid": "f7b5c967-1a80-45ce-9f0d-f64c172d5567",
     "showTitle": false,
     "title": ""
    }
   },
   "outputs": [
    {
     "output_type": "stream",
     "name": "stdout",
     "output_type": "stream",
     "text": [
      "+-----------+----------+---------+------+-----+--------------+----------------+-----------+------+\n|employee_id|first_name|last_name|salary|bonus|   nationality|    phone_number|        ssn|bonus1|\n+-----------+----------+---------+------+-----+--------------+----------------+-----------+------+\n|          1|     scott|    Tiger|1000.0|   30| united states| +1 123 456 7890|123 45 6789|    30|\n|          2|     Henry|     Ford|1250.0| NULL|         india|+91 234 567 8901|456 78 9123|     0|\n|          3|      Nick|   Junior| 500.0|     |united kingdom| +44 111 111 111|222 33 4444|     0|\n|          4|      Bill|    Gomes|1500.0|  150|     australia|+61 987 654 3210|789 12 6113|   150|\n+-----------+----------+---------+------+-----+--------------+----------------+-----------+------+\n\n"
     ]
    }
   ],
   "source": [
    "empdf. \\\n",
    "    withColumn(\n",
    "        'bonus1',\n",
    "        when( (col('bonus').isNull()) | (col('bonus') == lit('')), 0).otherwise(col('bonus'))\n",
    "    ). \\\n",
    "    show()"
   ]
  },
  {
   "cell_type": "code",
   "execution_count": 0,
   "metadata": {
    "application/vnd.databricks.v1+cell": {
     "cellMetadata": {
      "byteLimit": 2048000,
      "rowLimit": 10000
     },
     "inputWidgets": {},
     "nuid": "5935a5ef-d968-4ad1-a340-70195c777cf2",
     "showTitle": false,
     "title": ""
    }
   },
   "outputs": [],
   "source": [
    "persons = [\n",
    "    (1,1),\n",
    "    (2,3),\n",
    "    (3,18),\n",
    "    (4,60),\n",
    "    (5,120),\n",
    "    (6,0),\n",
    "    (7,12),\n",
    "    (8,160)\n",
    "]"
   ]
  },
  {
   "cell_type": "code",
   "execution_count": 0,
   "metadata": {
    "application/vnd.databricks.v1+cell": {
     "cellMetadata": {
      "byteLimit": 2048000,
      "rowLimit": 10000
     },
     "inputWidgets": {},
     "nuid": "f1559a2c-dfee-4b9f-a5bd-561ca3e159d7",
     "showTitle": false,
     "title": ""
    }
   },
   "outputs": [],
   "source": [
    "personsdf = spark.createDataFrame(persons, schema = 'id INT, age INT')"
   ]
  },
  {
   "cell_type": "code",
   "execution_count": 0,
   "metadata": {
    "application/vnd.databricks.v1+cell": {
     "cellMetadata": {
      "byteLimit": 2048000,
      "rowLimit": 10000
     },
     "inputWidgets": {},
     "nuid": "8570022c-359c-48b7-8a27-3bea3011adb0",
     "showTitle": false,
     "title": ""
    }
   },
   "outputs": [
    {
     "output_type": "stream",
     "name": "stdout",
     "output_type": "stream",
     "text": [
      "+---+---+\n| id|age|\n+---+---+\n|  1|  1|\n|  2|  3|\n|  3| 18|\n|  4| 60|\n|  5|120|\n|  6|  0|\n|  7| 12|\n|  8|160|\n+---+---+\n\n"
     ]
    }
   ],
   "source": [
    "personsdf.show()"
   ]
  },
  {
   "cell_type": "code",
   "execution_count": 0,
   "metadata": {
    "application/vnd.databricks.v1+cell": {
     "cellMetadata": {
      "byteLimit": 2048000,
      "rowLimit": 10000
     },
     "inputWidgets": {},
     "nuid": "24d4f1f2-58af-4790-8329-b1d0ab2cf508",
     "showTitle": false,
     "title": ""
    }
   },
   "outputs": [
    {
     "output_type": "stream",
     "name": "stdout",
     "output_type": "stream",
     "text": [
      "+---+---+--------------+\n| id|age|      category|\n+---+---+--------------+\n|  1|  1|      New Born|\n|  2|  3|        Infant|\n|  3| 18|       Toddler|\n|  4| 60|           Kid|\n|  5|120|           Kid|\n|  6|  0|      New Born|\n|  7| 12|        Infant|\n|  8|160|Tennager/Adult|\n+---+---+--------------+\n\n"
     ]
    }
   ],
   "source": [
    "personsdf. \\\n",
    "    withColumn('category',\n",
    "               expr(\"\"\"\n",
    "                    CASE\n",
    "                        WHEN age BETWEEN 0 AND 2 THEN 'New Born'\n",
    "                        WHEN age > 2 AND age <= 12 THEN 'Infant'\n",
    "                        WHEN age > 12 AND age <= 48 THEN 'Toddler'\n",
    "                        WHEN age > 48 AND age <=144 THEN 'Kid'\n",
    "                        ELSE 'Tennager/Adult'\n",
    "                    END\n",
    "             \"\"\")\n",
    "    ).show()"
   ]
  },
  {
   "cell_type": "code",
   "execution_count": 0,
   "metadata": {
    "application/vnd.databricks.v1+cell": {
     "cellMetadata": {
      "byteLimit": 2048000,
      "rowLimit": 10000
     },
     "inputWidgets": {},
     "nuid": "be143876-5a04-4732-9f08-9c0db7c30da6",
     "showTitle": false,
     "title": ""
    }
   },
   "outputs": [
    {
     "output_type": "stream",
     "name": "stdout",
     "output_type": "stream",
     "text": [
      "+---+---+--------------+\n| id|age|      category|\n+---+---+--------------+\n|  1|  1|      New Born|\n|  2|  3|        Infant|\n|  3| 18|       Toddler|\n|  4| 60|           Kid|\n|  5|120|           Kid|\n|  6|  0|      New Born|\n|  7| 12|        Infant|\n|  8|160|Tennager/Adult|\n+---+---+--------------+\n\n"
     ]
    }
   ],
   "source": [
    "personsdf. \\\n",
    "    withColumn(\n",
    "        \"category\",\n",
    "         when(col('age').between(0,2), 'New Born').\n",
    "         when( (col('age') > 2) & (col('age') <= 12), \"Infant\").\n",
    "         when( (col('age') > 12) & (col('age') <= 48), \"Toddler\").\n",
    "         when( (col('age') > 48) & (col('age') <= 144), \"Kid\").\n",
    "         otherwise('Tennager/Adult')\n",
    "    ).\\\n",
    "    show()\n"
   ]
  },
  {
   "cell_type": "code",
   "execution_count": 0,
   "metadata": {
    "application/vnd.databricks.v1+cell": {
     "cellMetadata": {},
     "inputWidgets": {},
     "nuid": "0aafc046-8e79-4279-bc29-ba5cc4b40642",
     "showTitle": false,
     "title": ""
    }
   },
   "outputs": [],
   "source": []
  }
 ],
 "metadata": {
  "application/vnd.databricks.v1+notebook": {
   "dashboards": [],
   "language": "python",
   "notebookMetadata": {
    "pythonIndentUnit": 4
   },
   "notebookName": "20 - Using CASE and WHEN conditions",
   "widgets": {}
  }
 },
 "nbformat": 4,
 "nbformat_minor": 0
}
