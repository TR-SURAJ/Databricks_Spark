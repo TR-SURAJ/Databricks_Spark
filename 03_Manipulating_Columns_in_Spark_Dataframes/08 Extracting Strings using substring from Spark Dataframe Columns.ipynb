{
 "cells": [
  {
   "cell_type": "code",
   "execution_count": 0,
   "metadata": {
    "application/vnd.databricks.v1+cell": {
     "cellMetadata": {
      "byteLimit": 2048000,
      "rowLimit": 10000
     },
     "inputWidgets": {},
     "nuid": "5cbecc40-7671-48a9-b635-e298fed71d39",
     "showTitle": false,
     "title": ""
    }
   },
   "outputs": [],
   "source": [
    "s = \"hello suraj\""
   ]
  },
  {
   "cell_type": "code",
   "execution_count": 0,
   "metadata": {
    "application/vnd.databricks.v1+cell": {
     "cellMetadata": {
      "byteLimit": 2048000,
      "rowLimit": 10000
     },
     "inputWidgets": {},
     "nuid": "2cdd12ab-a7c1-462c-8d7b-ff8eb93cfa93",
     "showTitle": false,
     "title": ""
    }
   },
   "outputs": [
    {
     "output_type": "execute_result",
     "data": {
      "text/plain": [
       "'hel'"
      ]
     },
     "execution_count": 2,
     "metadata": {},
     "output_type": "execute_result"
    }
   ],
   "source": [
    "s[:3]"
   ]
  },
  {
   "cell_type": "code",
   "execution_count": 0,
   "metadata": {
    "application/vnd.databricks.v1+cell": {
     "cellMetadata": {
      "byteLimit": 2048000,
      "rowLimit": 10000
     },
     "inputWidgets": {},
     "nuid": "e2d6067b-c07d-4d7b-bc0c-a21d87f4f840",
     "showTitle": false,
     "title": ""
    }
   },
   "outputs": [
    {
     "output_type": "stream",
     "name": "stdout",
     "output_type": "stream",
     "text": [
      "Help on function substring in module pyspark.sql.functions:\n\nsubstring(str: 'ColumnOrName', pos: int, len: int) -> pyspark.sql.column.Column\n    Substring starts at `pos` and is of length `len` when str is String type or\n    returns the slice of byte array that starts at `pos` in byte and is of length `len`\n    when str is Binary type.\n    \n    .. versionadded:: 1.5.0\n    \n    .. versionchanged:: 3.4.0\n        Supports Spark Connect.\n    \n    Notes\n    -----\n    The position is not zero based, but 1 based index.\n    \n    Parameters\n    ----------\n    str : :class:`~pyspark.sql.Column` or str\n        target column to work on.\n    pos : int\n        starting position in str.\n    len : int\n        length of chars.\n    \n    Returns\n    -------\n    :class:`~pyspark.sql.Column`\n        substring of given value.\n    \n    Examples\n    --------\n    >>> df = spark.createDataFrame([('abcd',)], ['s',])\n    >>> df.select(substring(df.s, 1, 2).alias('s')).collect()\n    [Row(s='ab')]\n\n"
     ]
    }
   ],
   "source": [
    "help(substring)"
   ]
  },
  {
   "cell_type": "code",
   "execution_count": 0,
   "metadata": {
    "application/vnd.databricks.v1+cell": {
     "cellMetadata": {
      "byteLimit": 2048000,
      "rowLimit": 10000
     },
     "inputWidgets": {},
     "nuid": "0283754e-798c-4766-9801-d5e8e19d7c30",
     "showTitle": false,
     "title": ""
    }
   },
   "outputs": [],
   "source": [
    "l = [(\"X\",)]"
   ]
  },
  {
   "cell_type": "code",
   "execution_count": 0,
   "metadata": {
    "application/vnd.databricks.v1+cell": {
     "cellMetadata": {
      "byteLimit": 2048000,
      "rowLimit": 10000
     },
     "inputWidgets": {},
     "nuid": "6554a148-7b06-48f0-a49c-d489b79abd2c",
     "showTitle": false,
     "title": ""
    }
   },
   "outputs": [],
   "source": [
    "df = spark.createDataFrame(l, \"dummy string\")"
   ]
  },
  {
   "cell_type": "code",
   "execution_count": 0,
   "metadata": {
    "application/vnd.databricks.v1+cell": {
     "cellMetadata": {
      "byteLimit": 2048000,
      "rowLimit": 10000
     },
     "inputWidgets": {},
     "nuid": "d08f5fd1-2384-49a2-8721-f50be62983da",
     "showTitle": false,
     "title": ""
    }
   },
   "outputs": [
    {
     "output_type": "stream",
     "name": "stdout",
     "output_type": "stream",
     "text": [
      "+-----+\n|dummy|\n+-----+\n|    X|\n+-----+\n\n"
     ]
    }
   ],
   "source": [
    "df.show()"
   ]
  },
  {
   "cell_type": "code",
   "execution_count": 0,
   "metadata": {
    "application/vnd.databricks.v1+cell": {
     "cellMetadata": {
      "byteLimit": 2048000,
      "rowLimit": 10000
     },
     "inputWidgets": {},
     "nuid": "7663c1d2-a876-4597-b364-a74a34bd6b19",
     "showTitle": false,
     "title": ""
    }
   },
   "outputs": [],
   "source": [
    "from pyspark.sql.functions import *"
   ]
  },
  {
   "cell_type": "code",
   "execution_count": 0,
   "metadata": {
    "application/vnd.databricks.v1+cell": {
     "cellMetadata": {
      "byteLimit": 2048000,
      "rowLimit": 10000
     },
     "inputWidgets": {},
     "nuid": "f60bec23-e2e2-40a7-851e-11ab248eb34c",
     "showTitle": false,
     "title": ""
    }
   },
   "outputs": [
    {
     "output_type": "stream",
     "name": "stdout",
     "output_type": "stream",
     "text": [
      "+----------------------------+\n|substring(Hello World, 1, 4)|\n+----------------------------+\n|                        Hell|\n+----------------------------+\n\n"
     ]
    }
   ],
   "source": [
    "df.select(substring(lit(\"Hello World\"),1,4)).show()"
   ]
  },
  {
   "cell_type": "code",
   "execution_count": 0,
   "metadata": {
    "application/vnd.databricks.v1+cell": {
     "cellMetadata": {
      "byteLimit": 2048000,
      "rowLimit": 10000
     },
     "inputWidgets": {},
     "nuid": "47a8b98e-2cb3-4dfc-a003-aa67708e6e7e",
     "showTitle": false,
     "title": ""
    }
   },
   "outputs": [],
   "source": [
    "employees = [\n",
    "    (1, \"Scott\", \"Tiger\", 1000.0, \"united states\", \"+1 123 456 7890\", \"123 45 6789\"),\n",
    "    (2, \"Henry\", \"Ford\", 1250.0, \"india\", \"+91 234 567 8901\", \"456 78 9123\"),\n",
    "    (3, \"Nick\", \"Junior\", 750.0, \"united kingdom\", \"+44 111 111 111\", \"222 33 4444\"),\n",
    "    (4, \"Bill\", \"Gomes\", 1500.0, \"australia\", \"+61 987 654 3210\", \"789 12 6113\"),\n",
    "]"
   ]
  },
  {
   "cell_type": "code",
   "execution_count": 0,
   "metadata": {
    "application/vnd.databricks.v1+cell": {
     "cellMetadata": {
      "byteLimit": 2048000,
      "rowLimit": 10000
     },
     "inputWidgets": {},
     "nuid": "c5879305-9cfe-4a32-92d5-403dc076b46a",
     "showTitle": false,
     "title": ""
    }
   },
   "outputs": [],
   "source": [
    "empdf = spark.createDataFrame(employees, schema = \"\"\"employee_id INT, first_name STRING,\n",
    "                              last_name STRING, salary FLOAT, nationality STRING,\n",
    "                              phone_number STRING, ssn STRING                              \n",
    "                               \"\"\")"
   ]
  },
  {
   "cell_type": "code",
   "execution_count": 0,
   "metadata": {
    "application/vnd.databricks.v1+cell": {
     "cellMetadata": {
      "byteLimit": 2048000,
      "rowLimit": 10000
     },
     "inputWidgets": {},
     "nuid": "2bf8bbfd-a0d9-4ee1-b3bf-313a1171c6a9",
     "showTitle": false,
     "title": ""
    }
   },
   "outputs": [
    {
     "output_type": "stream",
     "name": "stdout",
     "output_type": "stream",
     "text": [
      "+-----------+----------+---------+------+--------------+----------------+-----------+\n|employee_id|first_name|last_name|salary|   nationality|    phone_number|        ssn|\n+-----------+----------+---------+------+--------------+----------------+-----------+\n|          1|     Scott|    Tiger|1000.0| united states| +1 123 456 7890|123 45 6789|\n|          2|     Henry|     Ford|1250.0|         india|+91 234 567 8901|456 78 9123|\n|          3|      Nick|   Junior| 750.0|united kingdom| +44 111 111 111|222 33 4444|\n|          4|      Bill|    Gomes|1500.0|     australia|+61 987 654 3210|789 12 6113|\n+-----------+----------+---------+------+--------------+----------------+-----------+\n\n"
     ]
    }
   ],
   "source": [
    "empdf.show()"
   ]
  },
  {
   "cell_type": "code",
   "execution_count": 0,
   "metadata": {
    "application/vnd.databricks.v1+cell": {
     "cellMetadata": {
      "byteLimit": 2048000,
      "rowLimit": 10000
     },
     "inputWidgets": {},
     "nuid": "f2cdfe39-06cf-4831-974d-d7579126b4d1",
     "showTitle": false,
     "title": ""
    }
   },
   "outputs": [
    {
     "output_type": "stream",
     "name": "stdout",
     "output_type": "stream",
     "text": [
      "+-----------+----------------+-----------+----------+---------+\n|employee_id|    phone_number|        ssn|phone_last|ssn_last4|\n+-----------+----------------+-----------+----------+---------+\n|          1| +1 123 456 7890|123 45 6789|      7890|     6789|\n|          2|+91 234 567 8901|456 78 9123|      8901|     9123|\n|          3| +44 111 111 111|222 33 4444|       111|     4444|\n|          4|+61 987 654 3210|789 12 6113|      3210|     6113|\n+-----------+----------------+-----------+----------+---------+\n\n"
     ]
    }
   ],
   "source": [
    "empdf. \\\n",
    "    select(\"employee_id\",\"phone_number\",\"ssn\"). \\\n",
    "    withColumn(\"phone_last\", substring(col('phone_number'),-4,4).cast('int')). \\\n",
    "    withColumn(\"ssn_last4\", substring(col('ssn'),8,4).cast('int')).\\\n",
    "    show()"
   ]
  },
  {
   "cell_type": "code",
   "execution_count": 0,
   "metadata": {
    "application/vnd.databricks.v1+cell": {
     "cellMetadata": {
      "byteLimit": 2048000,
      "rowLimit": 10000
     },
     "inputWidgets": {},
     "nuid": "cfa0e0a0-d835-443c-a334-f141dbc9f4dd",
     "showTitle": false,
     "title": ""
    }
   },
   "outputs": [
    {
     "output_type": "stream",
     "name": "stdout",
     "output_type": "stream",
     "text": [
      "+-----------+----------------+-----------+----------+---------+\n|employee_id|    phone_number|        ssn|phone_last|ssn_last4|\n+-----------+----------------+-----------+----------+---------+\n|          1| +1 123 456 7890|123 45 6789|      7890|     6789|\n|          2|+91 234 567 8901|456 78 9123|      8901|     9123|\n|          3| +44 111 111 111|222 33 4444|       111|     4444|\n|          4|+61 987 654 3210|789 12 6113|      3210|     6113|\n+-----------+----------------+-----------+----------+---------+\n\n"
     ]
    }
   ],
   "source": [
    "empdf. \\\n",
    "    select(\"employee_id\",\"phone_number\",\"ssn\"). \\\n",
    "    withColumn(\"phone_last\", substring('phone_number',-4,4).cast('int')). \\\n",
    "    withColumn(\"ssn_last4\", substring('ssn',8,4).cast('int')).\\\n",
    "    show()"
   ]
  },
  {
   "cell_type": "code",
   "execution_count": 0,
   "metadata": {
    "application/vnd.databricks.v1+cell": {
     "cellMetadata": {},
     "inputWidgets": {},
     "nuid": "569cfcf5-d57e-477d-84cd-3417ebcd11ad",
     "showTitle": false,
     "title": ""
    }
   },
   "outputs": [],
   "source": []
  }
 ],
 "metadata": {
  "application/vnd.databricks.v1+notebook": {
   "dashboards": [],
   "language": "python",
   "notebookMetadata": {
    "pythonIndentUnit": 4
   },
   "notebookName": "08 Extracting Strings using substring from Spark Dataframe Columns",
   "widgets": {}
  }
 },
 "nbformat": 4,
 "nbformat_minor": 0
}
