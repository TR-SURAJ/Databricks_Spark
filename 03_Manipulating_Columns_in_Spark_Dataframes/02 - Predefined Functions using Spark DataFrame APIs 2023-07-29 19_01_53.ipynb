{
 "cells": [
  {
   "cell_type": "markdown",
   "metadata": {
    "application/vnd.databricks.v1+cell": {
     "cellMetadata": {},
     "inputWidgets": {},
     "nuid": "7e9f86d1-4d64-48c0-a502-427ee237bbae",
     "showTitle": false,
     "title": ""
    }
   },
   "source": [
    "\n",
    "* We typically process data in columns using functions in **pyspark.sql.functions** . Let us understand details about these functions in detail as part of this module"
   ]
  },
  {
   "cell_type": "code",
   "execution_count": 0,
   "metadata": {
    "application/vnd.databricks.v1+cell": {
     "cellMetadata": {
      "byteLimit": 2048000,
      "rowLimit": 10000
     },
     "inputWidgets": {},
     "nuid": "8422fea4-740f-42a4-b6ad-7838c12711f8",
     "showTitle": false,
     "title": ""
    }
   },
   "outputs": [],
   "source": [
    "orders = spark.read.csv('/public/retail_db/orders', schema = 'order_id INT, order_date STRING, order_customer_id INT, order_status STRING')"
   ]
  },
  {
   "cell_type": "code",
   "execution_count": 0,
   "metadata": {
    "application/vnd.databricks.v1+cell": {
     "cellMetadata": {
      "byteLimit": 2048000,
      "rowLimit": 10000
     },
     "inputWidgets": {},
     "nuid": "a22ab513-1e7d-48ad-a75c-0c71d25e1a81",
     "showTitle": false,
     "title": ""
    }
   },
   "outputs": [
    {
     "output_type": "stream",
     "name": "stdout",
     "output_type": "stream",
     "text": [
      "+--------+--------------------+-----------------+---------------+\n|order_id|          order_date|order_customer_id|   order_status|\n+--------+--------------------+-----------------+---------------+\n|       1|2013-07-25 00:00:...|            11599|         CLOSED|\n|       2|2013-07-25 00:00:...|              256|PENDING_PAYMENT|\n|       3|2013-07-25 00:00:...|            12111|       COMPLETE|\n|       4|2013-07-25 00:00:...|             8827|         CLOSED|\n|       5|2013-07-25 00:00:...|            11318|       COMPLETE|\n|       6|2013-07-25 00:00:...|             7130|       COMPLETE|\n|       7|2013-07-25 00:00:...|             4530|       COMPLETE|\n|       8|2013-07-25 00:00:...|             2911|     PROCESSING|\n|       9|2013-07-25 00:00:...|             5657|PENDING_PAYMENT|\n|      10|2013-07-25 00:00:...|             5648|PENDING_PAYMENT|\n|      11|2013-07-25 00:00:...|              918| PAYMENT_REVIEW|\n|      12|2013-07-25 00:00:...|             1837|         CLOSED|\n|      13|2013-07-25 00:00:...|             9149|PENDING_PAYMENT|\n|      14|2013-07-25 00:00:...|             9842|     PROCESSING|\n|      15|2013-07-25 00:00:...|             2568|       COMPLETE|\n|      16|2013-07-25 00:00:...|             7276|PENDING_PAYMENT|\n|      17|2013-07-25 00:00:...|             2667|       COMPLETE|\n|      18|2013-07-25 00:00:...|             1205|         CLOSED|\n|      19|2013-07-25 00:00:...|             9488|PENDING_PAYMENT|\n|      20|2013-07-25 00:00:...|             9198|     PROCESSING|\n+--------+--------------------+-----------------+---------------+\nonly showing top 20 rows\n\n"
     ]
    }
   ],
   "source": [
    "orders.show()"
   ]
  },
  {
   "cell_type": "code",
   "execution_count": 0,
   "metadata": {
    "application/vnd.databricks.v1+cell": {
     "cellMetadata": {
      "byteLimit": 2048000,
      "rowLimit": 10000
     },
     "inputWidgets": {},
     "nuid": "504265a3-7401-4b6d-b883-4b3a563dc75e",
     "showTitle": false,
     "title": ""
    }
   },
   "outputs": [],
   "source": [
    "from pyspark.sql.functions import *"
   ]
  },
  {
   "cell_type": "code",
   "execution_count": 0,
   "metadata": {
    "application/vnd.databricks.v1+cell": {
     "cellMetadata": {
      "byteLimit": 2048000,
      "rowLimit": 10000
     },
     "inputWidgets": {},
     "nuid": "999d87ad-4fe7-48c3-9768-8e3a4086c098",
     "showTitle": false,
     "title": ""
    }
   },
   "outputs": [
    {
     "output_type": "stream",
     "name": "stdout",
     "output_type": "stream",
     "text": [
      "root\n |-- order_id: integer (nullable = true)\n |-- order_date: string (nullable = true)\n |-- order_customer_id: integer (nullable = true)\n |-- order_status: string (nullable = true)\n\n"
     ]
    }
   ],
   "source": [
    "orders.printSchema()"
   ]
  },
  {
   "cell_type": "code",
   "execution_count": 0,
   "metadata": {
    "application/vnd.databricks.v1+cell": {
     "cellMetadata": {
      "byteLimit": 2048000,
      "rowLimit": 10000
     },
     "inputWidgets": {},
     "nuid": "960ce0f2-0711-4c1f-bf13-2e7086abe9e5",
     "showTitle": false,
     "title": ""
    }
   },
   "outputs": [
    {
     "output_type": "stream",
     "name": "stdout",
     "output_type": "stream",
     "text": [
      "Help on function date_format in module pyspark.sql.functions:\n\ndate_format(date: 'ColumnOrName', format: str) -> pyspark.sql.column.Column\n    Converts a date/timestamp/string to a value of string in the format specified by the date\n    format given by the second argument.\n    \n    A pattern could be for instance `dd.MM.yyyy` and could return a string like '18.03.1993'. All\n    pattern letters of `datetime pattern`_. can be used.\n    \n    .. _datetime pattern: https://spark.apache.org/docs/latest/sql-ref-datetime-pattern.html\n    \n    .. versionadded:: 1.5.0\n    \n    Notes\n    -----\n    Whenever possible, use specialized functions like `year`.\n    \n    Examples\n    --------\n    >>> df = spark.createDataFrame([('2015-04-08',)], ['dt'])\n    >>> df.select(date_format('dt', 'MM/dd/yyy').alias('date')).collect()\n    [Row(date='04/08/2015')]\n\n"
     ]
    }
   ],
   "source": [
    "help(date_format)"
   ]
  },
  {
   "cell_type": "code",
   "execution_count": 0,
   "metadata": {
    "application/vnd.databricks.v1+cell": {
     "cellMetadata": {
      "byteLimit": 2048000,
      "rowLimit": 10000
     },
     "inputWidgets": {},
     "nuid": "6ac41b5d-66fb-4a64-a0cf-15a9ea036184",
     "showTitle": false,
     "title": ""
    }
   },
   "outputs": [
    {
     "output_type": "stream",
     "name": "stdout",
     "output_type": "stream",
     "text": [
      "+--------+--------------------+-----------------+---------------+-----------+\n|order_id|          order_date|order_customer_id|   order_status|order_month|\n+--------+--------------------+-----------------+---------------+-----------+\n|       1|2013-07-25 00:00:...|            11599|         CLOSED|     201307|\n|       2|2013-07-25 00:00:...|              256|PENDING_PAYMENT|     201307|\n|       3|2013-07-25 00:00:...|            12111|       COMPLETE|     201307|\n|       4|2013-07-25 00:00:...|             8827|         CLOSED|     201307|\n|       5|2013-07-25 00:00:...|            11318|       COMPLETE|     201307|\n|       6|2013-07-25 00:00:...|             7130|       COMPLETE|     201307|\n|       7|2013-07-25 00:00:...|             4530|       COMPLETE|     201307|\n|       8|2013-07-25 00:00:...|             2911|     PROCESSING|     201307|\n|       9|2013-07-25 00:00:...|             5657|PENDING_PAYMENT|     201307|\n|      10|2013-07-25 00:00:...|             5648|PENDING_PAYMENT|     201307|\n|      11|2013-07-25 00:00:...|              918| PAYMENT_REVIEW|     201307|\n|      12|2013-07-25 00:00:...|             1837|         CLOSED|     201307|\n|      13|2013-07-25 00:00:...|             9149|PENDING_PAYMENT|     201307|\n|      14|2013-07-25 00:00:...|             9842|     PROCESSING|     201307|\n|      15|2013-07-25 00:00:...|             2568|       COMPLETE|     201307|\n|      16|2013-07-25 00:00:...|             7276|PENDING_PAYMENT|     201307|\n|      17|2013-07-25 00:00:...|             2667|       COMPLETE|     201307|\n|      18|2013-07-25 00:00:...|             1205|         CLOSED|     201307|\n|      19|2013-07-25 00:00:...|             9488|PENDING_PAYMENT|     201307|\n|      20|2013-07-25 00:00:...|             9198|     PROCESSING|     201307|\n+--------+--------------------+-----------------+---------------+-----------+\nonly showing top 20 rows\n\n"
     ]
    }
   ],
   "source": [
    "orders.select('*', date_format('order_date','yyyyMM').alias('order_month')).show()"
   ]
  },
  {
   "cell_type": "code",
   "execution_count": 0,
   "metadata": {
    "application/vnd.databricks.v1+cell": {
     "cellMetadata": {
      "byteLimit": 2048000,
      "rowLimit": 10000
     },
     "inputWidgets": {},
     "nuid": "b29a98e4-c609-4968-b89e-f8fcc03a6b1c",
     "showTitle": false,
     "title": ""
    }
   },
   "outputs": [
    {
     "output_type": "stream",
     "name": "stdout",
     "output_type": "stream",
     "text": [
      "+--------+--------------------+-----------------+---------------+-----------+\n|order_id|          order_date|order_customer_id|   order_status|order_month|\n+--------+--------------------+-----------------+---------------+-----------+\n|       1|2013-07-25 00:00:...|            11599|         CLOSED|     201307|\n|       2|2013-07-25 00:00:...|              256|PENDING_PAYMENT|     201307|\n|       3|2013-07-25 00:00:...|            12111|       COMPLETE|     201307|\n|       4|2013-07-25 00:00:...|             8827|         CLOSED|     201307|\n|       5|2013-07-25 00:00:...|            11318|       COMPLETE|     201307|\n|       6|2013-07-25 00:00:...|             7130|       COMPLETE|     201307|\n|       7|2013-07-25 00:00:...|             4530|       COMPLETE|     201307|\n|       8|2013-07-25 00:00:...|             2911|     PROCESSING|     201307|\n|       9|2013-07-25 00:00:...|             5657|PENDING_PAYMENT|     201307|\n|      10|2013-07-25 00:00:...|             5648|PENDING_PAYMENT|     201307|\n|      11|2013-07-25 00:00:...|              918| PAYMENT_REVIEW|     201307|\n|      12|2013-07-25 00:00:...|             1837|         CLOSED|     201307|\n|      13|2013-07-25 00:00:...|             9149|PENDING_PAYMENT|     201307|\n|      14|2013-07-25 00:00:...|             9842|     PROCESSING|     201307|\n|      15|2013-07-25 00:00:...|             2568|       COMPLETE|     201307|\n|      16|2013-07-25 00:00:...|             7276|PENDING_PAYMENT|     201307|\n|      17|2013-07-25 00:00:...|             2667|       COMPLETE|     201307|\n|      18|2013-07-25 00:00:...|             1205|         CLOSED|     201307|\n|      19|2013-07-25 00:00:...|             9488|PENDING_PAYMENT|     201307|\n|      20|2013-07-25 00:00:...|             9198|     PROCESSING|     201307|\n+--------+--------------------+-----------------+---------------+-----------+\nonly showing top 20 rows\n\n"
     ]
    }
   ],
   "source": [
    "orders.withColumn('order_month', date_format('order_date', 'yyyyMM')).show()"
   ]
  },
  {
   "cell_type": "code",
   "execution_count": 0,
   "metadata": {
    "application/vnd.databricks.v1+cell": {
     "cellMetadata": {
      "byteLimit": 2048000,
      "rowLimit": 10000
     },
     "inputWidgets": {},
     "nuid": "418d38b8-d829-4f93-9b1b-f53a7dcfbe69",
     "showTitle": false,
     "title": ""
    }
   },
   "outputs": [
    {
     "output_type": "stream",
     "name": "stdout",
     "output_type": "stream",
     "text": [
      "+--------+--------------------+-----------------+---------------+\n|order_id|          order_date|order_customer_id|   order_status|\n+--------+--------------------+-----------------+---------------+\n|   25876|2014-01-01 00:00:...|             3414|PENDING_PAYMENT|\n|   25877|2014-01-01 00:00:...|             5549|PENDING_PAYMENT|\n|   25878|2014-01-01 00:00:...|             9084|        PENDING|\n|   25879|2014-01-01 00:00:...|             5118|        PENDING|\n|   25880|2014-01-01 00:00:...|            10146|       CANCELED|\n|   25881|2014-01-01 00:00:...|             3205|PENDING_PAYMENT|\n|   25882|2014-01-01 00:00:...|             4598|       COMPLETE|\n|   25883|2014-01-01 00:00:...|            11764|        PENDING|\n|   25884|2014-01-01 00:00:...|             7904|PENDING_PAYMENT|\n|   25885|2014-01-01 00:00:...|             7253|        PENDING|\n|   25886|2014-01-01 00:00:...|             8195|     PROCESSING|\n|   25887|2014-01-01 00:00:...|            10062|        PENDING|\n|   25888|2014-01-01 00:00:...|             6735|       COMPLETE|\n|   25889|2014-01-01 00:00:...|            10045|       COMPLETE|\n|   25890|2014-01-01 00:00:...|             2581|        PENDING|\n|   25891|2014-01-01 00:00:...|             3037|         CLOSED|\n|   25892|2014-01-01 00:00:...|             3853|        ON_HOLD|\n|   25893|2014-01-01 00:00:...|             8679|PENDING_PAYMENT|\n|   25894|2014-01-01 00:00:...|             7839|     PROCESSING|\n|   25895|2014-01-01 00:00:...|             1044|       COMPLETE|\n+--------+--------------------+-----------------+---------------+\nonly showing top 20 rows\n\n"
     ]
    }
   ],
   "source": [
    "# where or filter\n",
    "\n",
    "orders.filter(date_format('order_date','yyyyMM') == 201401).show()"
   ]
  },
  {
   "cell_type": "code",
   "execution_count": 0,
   "metadata": {
    "application/vnd.databricks.v1+cell": {
     "cellMetadata": {
      "byteLimit": 2048000,
      "rowLimit": 10000
     },
     "inputWidgets": {},
     "nuid": "0a1f4257-b6bd-42fb-8168-70eac6eeca36",
     "showTitle": false,
     "title": ""
    }
   },
   "outputs": [
    {
     "output_type": "stream",
     "name": "stdout",
     "output_type": "stream",
     "text": [
      "+-----------+-----+\n|order_month|count|\n+-----------+-----+\n|     201401| 5908|\n|     201405| 5467|\n|     201312| 5892|\n|     201310| 5335|\n|     201311| 6381|\n|     201307| 1533|\n|     201407| 4468|\n|     201403| 5778|\n|     201404| 5657|\n|     201402| 5635|\n|     201309| 5841|\n|     201406| 5308|\n|     201308| 5680|\n+-----------+-----+\n\n"
     ]
    }
   ],
   "source": [
    "orders.groupBy(date_format('order_date','yyyyMM').alias('order_month')).count().show()"
   ]
  },
  {
   "cell_type": "code",
   "execution_count": 0,
   "metadata": {
    "application/vnd.databricks.v1+cell": {
     "cellMetadata": {},
     "inputWidgets": {},
     "nuid": "4f849cc1-1916-4810-ad77-1d982d4e5ed1",
     "showTitle": false,
     "title": ""
    }
   },
   "outputs": [],
   "source": []
  }
 ],
 "metadata": {
  "application/vnd.databricks.v1+notebook": {
   "dashboards": [],
   "language": "python",
   "notebookMetadata": {
    "pythonIndentUnit": 4
   },
   "notebookName": "02 - Predefined Functions using Spark DataFrame APIs 2023-07-29 19:01:53",
   "widgets": {}
  }
 },
 "nbformat": 4,
 "nbformat_minor": 0
}
