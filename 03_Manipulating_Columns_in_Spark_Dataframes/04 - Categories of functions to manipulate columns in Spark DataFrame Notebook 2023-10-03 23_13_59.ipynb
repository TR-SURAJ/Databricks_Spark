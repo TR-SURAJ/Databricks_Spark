{
 "cells": [
  {
   "cell_type": "code",
   "execution_count": 0,
   "metadata": {
    "application/vnd.databricks.v1+cell": {
     "cellMetadata": {
      "byteLimit": 2048000,
      "rowLimit": 10000
     },
     "inputWidgets": {},
     "nuid": "72716342-922e-4f3f-9e6c-2a40b985b1fc",
     "showTitle": false,
     "title": ""
    }
   },
   "outputs": [],
   "source": [
    "employee_list = [(1,\"bob\",\"jackson\",1500.0,\"AUSTRALIA\",\"+61 9890989789\",\"345 23 5645\"),\n",
    "            (2,\"hill\",\"martin\",750.0,\"UK\",\"+44 3465789709\",\"390 45 7598\")]"
   ]
  },
  {
   "cell_type": "code",
   "execution_count": 0,
   "metadata": {
    "application/vnd.databricks.v1+cell": {
     "cellMetadata": {
      "byteLimit": 2048000,
      "rowLimit": 10000
     },
     "inputWidgets": {},
     "nuid": "54de64ad-d896-4fde-a6f5-fcd9e7f9054c",
     "showTitle": false,
     "title": ""
    }
   },
   "outputs": [],
   "source": [
    "emp = spark.createDataFrame(employee_list, schema = \"\"\"employee_id INT, first_name STRING, last_name STRING, salary FLOAT, nationality STRING,\n",
    "                            phone_number STRING, ssn STRING \"\"\")"
   ]
  },
  {
   "cell_type": "code",
   "execution_count": 0,
   "metadata": {
    "application/vnd.databricks.v1+cell": {
     "cellMetadata": {
      "byteLimit": 2048000,
      "rowLimit": 10000
     },
     "inputWidgets": {},
     "nuid": "70772c7c-c1b5-4f67-b613-b9c34f52b721",
     "showTitle": false,
     "title": ""
    }
   },
   "outputs": [],
   "source": [
    "from pyspark.sql.functions import *"
   ]
  },
  {
   "cell_type": "code",
   "execution_count": 0,
   "metadata": {
    "application/vnd.databricks.v1+cell": {
     "cellMetadata": {
      "byteLimit": 2048000,
      "rowLimit": 10000
     },
     "inputWidgets": {},
     "nuid": "b63781d6-68bb-46b8-9b70-8daf60f75263",
     "showTitle": false,
     "title": ""
    }
   },
   "outputs": [
    {
     "output_type": "stream",
     "name": "stdout",
     "output_type": "stream",
     "text": [
      "+-----------+----------+---------+------+-----------+--------------+-----------+\n|employee_id|first_name|last_name|salary|nationality|  phone_number|        ssn|\n+-----------+----------+---------+------+-----------+--------------+-----------+\n|          1|       bob|  jackson|1500.0|  AUSTRALIA|+61 9890989789|345 23 5645|\n|          2|      hill|   martin| 750.0|         UK|+44 3465789709|390 45 7598|\n+-----------+----------+---------+------+-----------+--------------+-----------+\n\n"
     ]
    }
   ],
   "source": [
    "emp.show()"
   ]
  },
  {
   "cell_type": "code",
   "execution_count": 0,
   "metadata": {
    "application/vnd.databricks.v1+cell": {
     "cellMetadata": {
      "byteLimit": 2048000,
      "rowLimit": 10000
     },
     "inputWidgets": {},
     "nuid": "cd94f7e2-063b-43c9-b248-86f230349cd2",
     "showTitle": false,
     "title": ""
    }
   },
   "outputs": [
    {
     "output_type": "stream",
     "name": "stdout",
     "output_type": "stream",
     "text": [
      "+-----------+----------+---------+------+-----------+--------------+-----------+\n|employee_id|first_name|last_name|salary|nationality|  phone_number|        ssn|\n+-----------+----------+---------+------+-----------+--------------+-----------+\n|          1|       bob|  jackson|1500.0|  australia|+61 9890989789|345 23 5645|\n|          2|      hill|   martin| 750.0|         uk|+44 3465789709|390 45 7598|\n+-----------+----------+---------+------+-----------+--------------+-----------+\n\n"
     ]
    }
   ],
   "source": [
    "emp.withColumn(\"nationality\", lower('nationality')).show()"
   ]
  },
  {
   "cell_type": "code",
   "execution_count": 0,
   "metadata": {
    "application/vnd.databricks.v1+cell": {
     "cellMetadata": {},
     "inputWidgets": {},
     "nuid": "0bd0a32c-e0ef-42e4-b21f-43e8b10534cd",
     "showTitle": false,
     "title": ""
    }
   },
   "outputs": [],
   "source": []
  }
 ],
 "metadata": {
  "application/vnd.databricks.v1+notebook": {
   "dashboards": [],
   "language": "python",
   "notebookMetadata": {
    "pythonIndentUnit": 4
   },
   "notebookName": "04 - Categories of functions to manipulate columns in Spark DataFrame Notebook 2023-10-03 23:13:59",
   "widgets": {}
  }
 },
 "nbformat": 4,
 "nbformat_minor": 0
}
