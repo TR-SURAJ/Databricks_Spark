{
 "cells": [
  {
   "cell_type": "code",
   "execution_count": 0,
   "metadata": {
    "application/vnd.databricks.v1+cell": {
     "cellMetadata": {
      "byteLimit": 2048000,
      "rowLimit": 10000
     },
     "inputWidgets": {},
     "nuid": "42389a36-cf9b-49ff-ac41-40ed4262b7dc",
     "showTitle": false,
     "title": ""
    }
   },
   "outputs": [],
   "source": [
    "from pyspark.sql.functions import *"
   ]
  },
  {
   "cell_type": "code",
   "execution_count": 0,
   "metadata": {
    "application/vnd.databricks.v1+cell": {
     "cellMetadata": {
      "byteLimit": 2048000,
      "rowLimit": 10000
     },
     "inputWidgets": {},
     "nuid": "71896cbc-6003-42b6-b092-b9ba4dcfe932",
     "showTitle": false,
     "title": ""
    }
   },
   "outputs": [
    {
     "output_type": "stream",
     "name": "stdout",
     "output_type": "stream",
     "text": [
      "Help on function lpad in module pyspark.sql.functions:\n\nlpad(col: 'ColumnOrName', len: int, pad: str) -> pyspark.sql.column.Column\n    Left-pad the string column to width `len` with `pad`.\n    \n    .. versionadded:: 1.5.0\n    \n    .. versionchanged:: 3.4.0\n        Supports Spark Connect.\n    \n    Parameters\n    ----------\n    col : :class:`~pyspark.sql.Column` or str\n        target column to work on.\n    len : int\n        length of the final string.\n    pad : str\n        chars to prepend.\n    \n    Returns\n    -------\n    :class:`~pyspark.sql.Column`\n        left padded result.\n    \n    Examples\n    --------\n    >>> df = spark.createDataFrame([('abcd',)], ['s',])\n    >>> df.select(lpad(df.s, 6, '#').alias('s')).collect()\n    [Row(s='##abcd')]\n\n"
     ]
    }
   ],
   "source": [
    "help(lpad)"
   ]
  },
  {
   "cell_type": "code",
   "execution_count": 0,
   "metadata": {
    "application/vnd.databricks.v1+cell": {
     "cellMetadata": {
      "byteLimit": 2048000,
      "rowLimit": 10000
     },
     "inputWidgets": {},
     "nuid": "6f53e5c4-ba6b-4cf6-b68a-56b00a3b589d",
     "showTitle": false,
     "title": ""
    }
   },
   "outputs": [],
   "source": [
    "l = [('X',)]"
   ]
  },
  {
   "cell_type": "code",
   "execution_count": 0,
   "metadata": {
    "application/vnd.databricks.v1+cell": {
     "cellMetadata": {
      "byteLimit": 2048000,
      "rowLimit": 10000
     },
     "inputWidgets": {},
     "nuid": "0afcf7a7-1084-4e0c-a08b-b2b4ed7cf188",
     "showTitle": false,
     "title": ""
    }
   },
   "outputs": [],
   "source": [
    "df = spark.createDataFrame(l, 'dummy string')"
   ]
  },
  {
   "cell_type": "code",
   "execution_count": 0,
   "metadata": {
    "application/vnd.databricks.v1+cell": {
     "cellMetadata": {
      "byteLimit": 2048000,
      "rowLimit": 10000
     },
     "inputWidgets": {},
     "nuid": "c6a49d67-8e71-4adf-b022-0c11daaa36fe",
     "showTitle": false,
     "title": ""
    }
   },
   "outputs": [
    {
     "output_type": "stream",
     "name": "stdout",
     "output_type": "stream",
     "text": [
      "+-----+\n|dummy|\n+-----+\n|    X|\n+-----+\n\n"
     ]
    }
   ],
   "source": [
    "df.show()"
   ]
  },
  {
   "cell_type": "code",
   "execution_count": 0,
   "metadata": {
    "application/vnd.databricks.v1+cell": {
     "cellMetadata": {
      "byteLimit": 2048000,
      "rowLimit": 10000
     },
     "inputWidgets": {},
     "nuid": "4ef91f4a-7f51-46c9-a6eb-86f6f2587543",
     "showTitle": false,
     "title": ""
    }
   },
   "outputs": [
    {
     "output_type": "stream",
     "name": "stdout",
     "output_type": "stream",
     "text": [
      "+----------+\n|     dummy|\n+----------+\n|-----hello|\n+----------+\n\n"
     ]
    }
   ],
   "source": [
    "df.select(lpad(lit(\"hello\"), 10, '-').alias('dummy')).show()"
   ]
  },
  {
   "cell_type": "code",
   "execution_count": 0,
   "metadata": {
    "application/vnd.databricks.v1+cell": {
     "cellMetadata": {
      "byteLimit": 2048000,
      "rowLimit": 10000
     },
     "inputWidgets": {},
     "nuid": "da94d647-6e96-4119-aee6-7273eba9f299",
     "showTitle": false,
     "title": ""
    }
   },
   "outputs": [],
   "source": [
    "employees = [\n",
    "    (1, \"Scott\", \"Tiger\", 1000.0, \"united states\", \"+1 123 456 7890\", \"123 45 6789\"),\n",
    "    (2, \"Henry\", \"Ford\", 1250.0, \"india\", \"+91 234 567 8901\", \"456 78 9123\"),\n",
    "    (3, \"Nick\", \"Junior\", 750.0, \"united kingdom\", \"+44 111 111 111\", \"222 33 4444\"),\n",
    "    (4, \"Bill\", \"Gomes\", 1500.0, \"australia\", \"+61 987 654 3210\", \"789 12 6118\"),\n",
    "]"
   ]
  },
  {
   "cell_type": "code",
   "execution_count": 0,
   "metadata": {
    "application/vnd.databricks.v1+cell": {
     "cellMetadata": {
      "byteLimit": 2048000,
      "rowLimit": 10000
     },
     "inputWidgets": {},
     "nuid": "67468934-2b80-4b2f-8587-87c96bb3aaad",
     "showTitle": false,
     "title": ""
    }
   },
   "outputs": [],
   "source": [
    "empdf = spark.createDataFrame(employees, schema = \"\"\"employee_id INT, first_name STRING,\n",
    "                              last_name STRING, salary FLOAT, nationality STRING,\n",
    "                              phone_number STRING, ssn STRING                              \n",
    "                               \"\"\")"
   ]
  },
  {
   "cell_type": "code",
   "execution_count": 0,
   "metadata": {
    "application/vnd.databricks.v1+cell": {
     "cellMetadata": {
      "byteLimit": 2048000,
      "rowLimit": 10000
     },
     "inputWidgets": {},
     "nuid": "e4dc5625-0471-4c15-a8b8-d048fc6164da",
     "showTitle": false,
     "title": ""
    }
   },
   "outputs": [
    {
     "output_type": "stream",
     "name": "stdout",
     "output_type": "stream",
     "text": [
      "+-----------+----------+---------+------+--------------+----------------+-----------+\n|employee_id|first_name|last_name|salary|   nationality|    phone_number|        ssn|\n+-----------+----------+---------+------+--------------+----------------+-----------+\n|          1|     Scott|    Tiger|1000.0| united states| +1 123 456 7890|123 45 6789|\n|          2|     Henry|     Ford|1250.0|         india|+91 234 567 8901|456 78 9123|\n|          3|      Nick|   Junior| 750.0|united kingdom| +44 111 111 111|222 33 4444|\n|          4|      Bill|    Gomes|1500.0|     australia|+61 987 654 3210|789 12 6118|\n+-----------+----------+---------+------+--------------+----------------+-----------+\n\n"
     ]
    }
   ],
   "source": [
    "empdf.show()"
   ]
  },
  {
   "cell_type": "code",
   "execution_count": 0,
   "metadata": {
    "application/vnd.databricks.v1+cell": {
     "cellMetadata": {
      "byteLimit": 2048000,
      "rowLimit": 10000
     },
     "inputWidgets": {},
     "nuid": "c9badc31-a42b-4985-b4bf-374e8be85e99",
     "showTitle": false,
     "title": ""
    }
   },
   "outputs": [],
   "source": [
    "empfixedDf = empdf.select(\n",
    "    concat(\n",
    "        lpad(\"employee_id\",5,\"0\"),\n",
    "        rpad(\"first_name\",10,\"-\"),\n",
    "        rpad(\"last_name\",10,\"-\"),\n",
    "        lpad(\"salary\",10,\"0\"),\n",
    "        rpad(\"nationality\",15,\"-\"),\n",
    "        rpad(\"phone_number\",17,\"-\"),\n",
    "        \"ssn\"\n",
    "    ).alias(\"employee\")\n",
    ")"
   ]
  },
  {
   "cell_type": "code",
   "execution_count": 0,
   "metadata": {
    "application/vnd.databricks.v1+cell": {
     "cellMetadata": {
      "byteLimit": 2048000,
      "rowLimit": 10000
     },
     "inputWidgets": {},
     "nuid": "79209765-43e5-4f67-8d60-a84d4519fd87",
     "showTitle": false,
     "title": ""
    }
   },
   "outputs": [
    {
     "output_type": "stream",
     "name": "stdout",
     "output_type": "stream",
     "text": [
      "+------------------------------------------------------------------------------+\n|employee                                                                      |\n+------------------------------------------------------------------------------+\n|00001Scott-----Tiger-----00001000.0united states--+1 123 456 7890--123 45 6789|\n|00002Henry-----Ford------00001250.0india----------+91 234 567 8901-456 78 9123|\n|00003Nick------Junior----00000750.0united kingdom-+44 111 111 111--222 33 4444|\n|00004Bill------Gomes-----00001500.0australia------+61 987 654 3210-789 12 6118|\n+------------------------------------------------------------------------------+\n\n"
     ]
    }
   ],
   "source": [
    "empfixedDf.show(truncate=False)"
   ]
  },
  {
   "cell_type": "code",
   "execution_count": 0,
   "metadata": {
    "application/vnd.databricks.v1+cell": {
     "cellMetadata": {},
     "inputWidgets": {},
     "nuid": "9c4a2ada-a6e9-46a7-8df5-cab3f1bc1f37",
     "showTitle": false,
     "title": ""
    }
   },
   "outputs": [],
   "source": []
  }
 ],
 "metadata": {
  "application/vnd.databricks.v1+notebook": {
   "dashboards": [],
   "language": "python",
   "notebookMetadata": {
    "pythonIndentUnit": 4
   },
   "notebookName": "10 - Padding Characters around strings in Spark Data Frame Columns",
   "widgets": {}
  }
 },
 "nbformat": 4,
 "nbformat_minor": 0
}
