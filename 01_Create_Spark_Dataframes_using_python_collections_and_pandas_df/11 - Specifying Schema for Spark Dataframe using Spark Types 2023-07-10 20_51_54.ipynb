{
 "cells": [
  {
   "cell_type": "code",
   "execution_count": 0,
   "metadata": {
    "application/vnd.databricks.v1+cell": {
     "cellMetadata": {
      "byteLimit": 2048000,
      "rowLimit": 10000
     },
     "inputWidgets": {},
     "nuid": "dfb84216-6204-4395-8360-de107969d560",
     "showTitle": false,
     "title": ""
    }
   },
   "outputs": [],
   "source": [
    "import datetime\n",
    "\n",
    "users = [(1,\n",
    "          'Corrie',\n",
    "          'Van den oord',\n",
    "          'cvandenoord@etsy.com',\n",
    "          True,\n",
    "          550.55,\n",
    "          datetime.date(2021,1,15),\n",
    "          datetime.datetime(2021,2,10,1,15)),\n",
    "         (2,\n",
    "          'Nikolus',\n",
    "          'Brewitt',\n",
    "          'nbrewitti@dailymail.co.uk',\n",
    "          True,\n",
    "          900.0,\n",
    "          datetime.date(2021,2,14),\n",
    "          datetime.datetime(2021,2,18,3,33)),\n",
    "         (3,\n",
    "          'Orelie',\n",
    "          'Penney',\n",
    "          'openney2@vistaprint.com',\n",
    "          True,\n",
    "          850.55,\n",
    "          datetime.date(2021,1,21),\n",
    "          datetime.datetime(2021,3,15,15,16,55)),\n",
    "         (4,\n",
    "          'Ashby',\n",
    "          'Maddocks',\n",
    "          'amaddocks3@home.pl',\n",
    "          False,\n",
    "          None,\n",
    "          None,\n",
    "          datetime.datetime(2021,4,10,17,45,30)),\n",
    "         (5,\n",
    "          'kurt',\n",
    "          'Roem',\n",
    "          'krome4@shutterfly.com',\n",
    "          False,\n",
    "          None,\n",
    "          None,\n",
    "          datetime.datetime(2021,4,2,0,55,18))\n",
    "             \n",
    "         ]"
   ]
  },
  {
   "cell_type": "code",
   "execution_count": 0,
   "metadata": {
    "application/vnd.databricks.v1+cell": {
     "cellMetadata": {
      "byteLimit": 2048000,
      "rowLimit": 10000
     },
     "inputWidgets": {},
     "nuid": "118672ca-1540-496d-bb2e-646a9faae5a9",
     "showTitle": false,
     "title": ""
    }
   },
   "outputs": [],
   "source": [
    "from pyspark.sql.types import *"
   ]
  },
  {
   "cell_type": "code",
   "execution_count": 0,
   "metadata": {
    "application/vnd.databricks.v1+cell": {
     "cellMetadata": {
      "byteLimit": 2048000,
      "rowLimit": 10000
     },
     "inputWidgets": {},
     "nuid": "3ddb506f-60a7-49e4-84a4-0e1010015200",
     "showTitle": false,
     "title": ""
    }
   },
   "outputs": [],
   "source": [
    "fields = StructType([\n",
    "    StructField('id',IntegerType()),\n",
    "    StructField('first_name',StringType()),\n",
    "    StructField('last_name',StringType()),\n",
    "    StructField('email',StringType()),\n",
    "    StructField('is_customer',BooleanType()),\n",
    "    StructField('amount_paid',FloatType()),\n",
    "    StructField('customer_from',DateType()),\n",
    "    StructField('last_updated_ts',TimestampType()),\n",
    "])"
   ]
  },
  {
   "cell_type": "code",
   "execution_count": 0,
   "metadata": {
    "application/vnd.databricks.v1+cell": {
     "cellMetadata": {
      "byteLimit": 2048000,
      "rowLimit": 10000
     },
     "inputWidgets": {},
     "nuid": "47ea1e24-3fa7-4eac-81e2-ef01b792a76a",
     "showTitle": false,
     "title": ""
    }
   },
   "outputs": [
    {
     "output_type": "stream",
     "name": "stdout",
     "output_type": "stream",
     "text": [
      "Out[6]: DataFrame[id: int, first_name: string, last_name: string, email: string, is_customer: boolean, amount_paid: float, customer_from: date, last_updated_ts: timestamp]"
     ]
    }
   ],
   "source": [
    "spark.createDataFrame(users, schema = fields)"
   ]
  },
  {
   "cell_type": "code",
   "execution_count": 0,
   "metadata": {
    "application/vnd.databricks.v1+cell": {
     "cellMetadata": {
      "byteLimit": 2048000,
      "rowLimit": 10000
     },
     "inputWidgets": {},
     "nuid": "a0920ebf-fd32-44b6-96ca-00a9fa368758",
     "showTitle": false,
     "title": ""
    }
   },
   "outputs": [
    {
     "output_type": "stream",
     "name": "stdout",
     "output_type": "stream",
     "text": [
      "+---+----------+------------+--------------------+-----------+-----------+-------------+-------------------+\n| id|first_name|   last_name|               email|is_customer|amount_paid|customer_from|    last_updated_ts|\n+---+----------+------------+--------------------+-----------+-----------+-------------+-------------------+\n|  1|    Corrie|Van den oord|cvandenoord@etsy.com|       true|     550.55|   2021-01-15|2021-02-10 01:15:00|\n|  2|   Nikolus|     Brewitt|nbrewitti@dailyma...|       true|      900.0|   2021-02-14|2021-02-18 03:33:00|\n|  3|    Orelie|      Penney|openney2@vistapri...|       true|     850.55|   2021-01-21|2021-03-15 15:16:55|\n|  4|     Ashby|    Maddocks|  amaddocks3@home.pl|      false|       null|         null|2021-04-10 17:45:30|\n|  5|      kurt|        Roem|krome4@shutterfly...|      false|       null|         null|2021-04-02 00:55:18|\n+---+----------+------------+--------------------+-----------+-----------+-------------+-------------------+\n\n"
     ]
    }
   ],
   "source": [
    "spark.createDataFrame(users, schema = fields).show()"
   ]
  },
  {
   "cell_type": "code",
   "execution_count": 0,
   "metadata": {
    "application/vnd.databricks.v1+cell": {
     "cellMetadata": {},
     "inputWidgets": {},
     "nuid": "986ca55f-a86c-4914-8ad3-f047ee1424b9",
     "showTitle": false,
     "title": ""
    }
   },
   "outputs": [],
   "source": []
  }
 ],
 "metadata": {
  "application/vnd.databricks.v1+notebook": {
   "dashboards": [],
   "language": "python",
   "notebookMetadata": {
    "pythonIndentUnit": 4
   },
   "notebookName": "11 - Specifying Schema for Spark Dataframe using Spark Types 2023-07-10 20:51:54",
   "widgets": {}
  }
 },
 "nbformat": 4,
 "nbformat_minor": 0
}
