{
 "cells": [
  {
   "cell_type": "code",
   "execution_count": 0,
   "metadata": {
    "application/vnd.databricks.v1+cell": {
     "cellMetadata": {
      "byteLimit": 2048000,
      "rowLimit": 10000
     },
     "inputWidgets": {},
     "nuid": "2b143df2-18af-4042-8bc1-54ea76849eb5",
     "showTitle": false,
     "title": ""
    }
   },
   "outputs": [],
   "source": [
    "import datetime\n",
    "\n",
    "users = [(1,\n",
    "          'Corrie',\n",
    "          'Van den oord',\n",
    "          'cvandenoord@etsy.com',\n",
    "          True,\n",
    "          550.55,\n",
    "          datetime.date(2021,1,15),\n",
    "          datetime.datetime(2021,2,10,1,15)),\n",
    "         (2,\n",
    "          'Nikolus',\n",
    "          'Brewitt',\n",
    "          'nbrewitti@dailymail.co.uk',\n",
    "          True,\n",
    "          900.0,\n",
    "          datetime.date(2021,2,14),\n",
    "          datetime.datetime(2021,2,18,3,33)),\n",
    "         (3,\n",
    "          'Orelie',\n",
    "          'Penney',\n",
    "          'openney2@vistaprint.com',\n",
    "          True,\n",
    "          850.55,\n",
    "          datetime.date(2021,1,21),\n",
    "          datetime.datetime(2021,3,15,15,16,55)),\n",
    "         (4,\n",
    "          'Ashby',\n",
    "          'Maddocks',\n",
    "          'amaddocks3@home.pl',\n",
    "          False,\n",
    "          None,\n",
    "          None,\n",
    "          datetime.datetime(2021,4,10,17,45,30)),\n",
    "         (5,\n",
    "          'kurt',\n",
    "          'Roem',\n",
    "          'krome4@shutterfly.com',\n",
    "          False,\n",
    "          None,\n",
    "          None,\n",
    "          datetime.datetime(2021,4,2,0,55,18))\n",
    "             \n",
    "         ]"
   ]
  },
  {
   "cell_type": "code",
   "execution_count": 0,
   "metadata": {
    "application/vnd.databricks.v1+cell": {
     "cellMetadata": {
      "byteLimit": 2048000,
      "rowLimit": 10000
     },
     "inputWidgets": {},
     "nuid": "ffac8b76-fdb5-4f46-8748-72e838314e87",
     "showTitle": false,
     "title": ""
    }
   },
   "outputs": [],
   "source": [
    "users_schema = '''\n",
    "        id INT,\n",
    "        first_name STRING,\n",
    "        last_name STRING,\n",
    "        email STRING,\n",
    "        is_customer BOOLEAN,\n",
    "        amount_paid FLOAT,\n",
    "        customer_from DATE,\n",
    "        last_updated_ts TIMESTAMP\n",
    " '''"
   ]
  },
  {
   "cell_type": "code",
   "execution_count": 0,
   "metadata": {
    "application/vnd.databricks.v1+cell": {
     "cellMetadata": {
      "byteLimit": 2048000,
      "rowLimit": 10000
     },
     "inputWidgets": {},
     "nuid": "95e34ada-1f64-468b-a840-e0705be904cf",
     "showTitle": false,
     "title": ""
    }
   },
   "outputs": [
    {
     "output_type": "stream",
     "name": "stdout",
     "output_type": "stream",
     "text": [
      "+---+----------+------------+--------------------+-----------+-----------+-------------+-------------------+\n| id|first_name|   last_name|               email|is_customer|amount_paid|customer_from|    last_updated_ts|\n+---+----------+------------+--------------------+-----------+-----------+-------------+-------------------+\n|  1|    Corrie|Van den oord|cvandenoord@etsy.com|       true|     550.55|   2021-01-15|2021-02-10 01:15:00|\n|  2|   Nikolus|     Brewitt|nbrewitti@dailyma...|       true|      900.0|   2021-02-14|2021-02-18 03:33:00|\n|  3|    Orelie|      Penney|openney2@vistapri...|       true|     850.55|   2021-01-21|2021-03-15 15:16:55|\n|  4|     Ashby|    Maddocks|  amaddocks3@home.pl|      false|       null|         null|2021-04-10 17:45:30|\n|  5|      kurt|        Roem|krome4@shutterfly...|      false|       null|         null|2021-04-02 00:55:18|\n+---+----------+------------+--------------------+-----------+-----------+-------------+-------------------+\n\n"
     ]
    }
   ],
   "source": [
    "spark.createDataFrame(users,schema = users_schema).show()"
   ]
  },
  {
   "cell_type": "code",
   "execution_count": 0,
   "metadata": {
    "application/vnd.databricks.v1+cell": {
     "cellMetadata": {
      "byteLimit": 2048000,
      "rowLimit": 10000
     },
     "inputWidgets": {},
     "nuid": "a2e11836-004a-4c15-ac01-6443c7cf3d61",
     "showTitle": false,
     "title": ""
    }
   },
   "outputs": [],
   "source": [
    "from pyspark.sql import Row"
   ]
  },
  {
   "cell_type": "code",
   "execution_count": 0,
   "metadata": {
    "application/vnd.databricks.v1+cell": {
     "cellMetadata": {
      "byteLimit": 2048000,
      "rowLimit": 10000
     },
     "inputWidgets": {},
     "nuid": "649eae84-d200-4617-a869-6745859d4c88",
     "showTitle": false,
     "title": ""
    }
   },
   "outputs": [],
   "source": [
    "users_rows = [Row(*user) for user in users]"
   ]
  },
  {
   "cell_type": "code",
   "execution_count": 0,
   "metadata": {
    "application/vnd.databricks.v1+cell": {
     "cellMetadata": {
      "byteLimit": 2048000,
      "rowLimit": 10000
     },
     "inputWidgets": {},
     "nuid": "3bf2502e-6b23-4c5e-8d47-c11b13e4e7b8",
     "showTitle": false,
     "title": ""
    }
   },
   "outputs": [
    {
     "output_type": "stream",
     "name": "stdout",
     "output_type": "stream",
     "text": [
      "Out[7]: [<Row(1, 'Corrie', 'Van den oord', 'cvandenoord@etsy.com', True, 550.55, datetime.date(2021, 1, 15), datetime.datetime(2021, 2, 10, 1, 15))>,\n <Row(2, 'Nikolus', 'Brewitt', 'nbrewitti@dailymail.co.uk', True, 900.0, datetime.date(2021, 2, 14), datetime.datetime(2021, 2, 18, 3, 33))>,\n <Row(3, 'Orelie', 'Penney', 'openney2@vistaprint.com', True, 850.55, datetime.date(2021, 1, 21), datetime.datetime(2021, 3, 15, 15, 16, 55))>,\n <Row(4, 'Ashby', 'Maddocks', 'amaddocks3@home.pl', False, None, None, datetime.datetime(2021, 4, 10, 17, 45, 30))>,\n <Row(5, 'kurt', 'Roem', 'krome4@shutterfly.com', False, None, None, datetime.datetime(2021, 4, 2, 0, 55, 18))>]"
     ]
    }
   ],
   "source": [
    "users_rows"
   ]
  },
  {
   "cell_type": "code",
   "execution_count": 0,
   "metadata": {
    "application/vnd.databricks.v1+cell": {
     "cellMetadata": {
      "byteLimit": 2048000,
      "rowLimit": 10000
     },
     "inputWidgets": {},
     "nuid": "ad53d892-efcd-4e36-9687-a47852ed5b0e",
     "showTitle": false,
     "title": ""
    }
   },
   "outputs": [
    {
     "output_type": "stream",
     "name": "stdout",
     "output_type": "stream",
     "text": [
      "+---+----------+------------+--------------------+-----------+-----------+-------------+-------------------+\n| id|first_name|   last_name|               email|is_customer|amount_paid|customer_from|    last_updated_ts|\n+---+----------+------------+--------------------+-----------+-----------+-------------+-------------------+\n|  1|    Corrie|Van den oord|cvandenoord@etsy.com|       true|     550.55|   2021-01-15|2021-02-10 01:15:00|\n|  2|   Nikolus|     Brewitt|nbrewitti@dailyma...|       true|      900.0|   2021-02-14|2021-02-18 03:33:00|\n|  3|    Orelie|      Penney|openney2@vistapri...|       true|     850.55|   2021-01-21|2021-03-15 15:16:55|\n|  4|     Ashby|    Maddocks|  amaddocks3@home.pl|      false|       null|         null|2021-04-10 17:45:30|\n|  5|      kurt|        Roem|krome4@shutterfly...|      false|       null|         null|2021-04-02 00:55:18|\n+---+----------+------------+--------------------+-----------+-----------+-------------+-------------------+\n\n"
     ]
    }
   ],
   "source": [
    "spark.createDataFrame(users_rows,schema=users_schema).show()"
   ]
  },
  {
   "cell_type": "code",
   "execution_count": 0,
   "metadata": {
    "application/vnd.databricks.v1+cell": {
     "cellMetadata": {},
     "inputWidgets": {},
     "nuid": "f3052dd9-4c68-4926-8bc8-b156acc51bcd",
     "showTitle": false,
     "title": ""
    }
   },
   "outputs": [],
   "source": []
  }
 ],
 "metadata": {
  "application/vnd.databricks.v1+notebook": {
   "dashboards": [],
   "language": "python",
   "notebookMetadata": {
    "pythonIndentUnit": 4
   },
   "notebookName": "09 - Specifying Schema for Spark Dataframe using String 2023-07-09 08:56:05",
   "widgets": {}
  }
 },
 "nbformat": 4,
 "nbformat_minor": 0
}
