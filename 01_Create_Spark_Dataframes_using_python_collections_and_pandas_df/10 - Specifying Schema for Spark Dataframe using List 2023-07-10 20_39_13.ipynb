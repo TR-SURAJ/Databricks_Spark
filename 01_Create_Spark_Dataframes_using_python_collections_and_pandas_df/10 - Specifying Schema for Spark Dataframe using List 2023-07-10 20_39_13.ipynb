{
 "cells": [
  {
   "cell_type": "code",
   "execution_count": 0,
   "metadata": {
    "application/vnd.databricks.v1+cell": {
     "cellMetadata": {
      "byteLimit": 2048000,
      "rowLimit": 10000
     },
     "inputWidgets": {},
     "nuid": "baa477f5-e3b6-42ee-9120-6758dbde5a11",
     "showTitle": false,
     "title": ""
    }
   },
   "outputs": [],
   "source": [
    "import datetime\n",
    "\n",
    "users = [(1,\n",
    "          'Corrie',\n",
    "          'Van den oord',\n",
    "          'cvandenoord@etsy.com',\n",
    "          True,\n",
    "          550.55,\n",
    "          datetime.date(2021,1,15),\n",
    "          datetime.datetime(2021,2,10,1,15)),\n",
    "         (2,\n",
    "          'Nikolus',\n",
    "          'Brewitt',\n",
    "          'nbrewitti@dailymail.co.uk',\n",
    "          True,\n",
    "          900.0,\n",
    "          datetime.date(2021,2,14),\n",
    "          datetime.datetime(2021,2,18,3,33)),\n",
    "         (3,\n",
    "          'Orelie',\n",
    "          'Penney',\n",
    "          'openney2@vistaprint.com',\n",
    "          True,\n",
    "          850.55,\n",
    "          datetime.date(2021,1,21),\n",
    "          datetime.datetime(2021,3,15,15,16,55)),\n",
    "         (4,\n",
    "          'Ashby',\n",
    "          'Maddocks',\n",
    "          'amaddocks3@home.pl',\n",
    "          False,\n",
    "          None,\n",
    "          None,\n",
    "          datetime.datetime(2021,4,10,17,45,30)),\n",
    "         (5,\n",
    "          'kurt',\n",
    "          'Roem',\n",
    "          'krome4@shutterfly.com',\n",
    "          False,\n",
    "          None,\n",
    "          None,\n",
    "          datetime.datetime(2021,4,2,0,55,18))\n",
    "             \n",
    "         ]"
   ]
  },
  {
   "cell_type": "code",
   "execution_count": 0,
   "metadata": {
    "application/vnd.databricks.v1+cell": {
     "cellMetadata": {
      "byteLimit": 2048000,
      "rowLimit": 10000
     },
     "inputWidgets": {},
     "nuid": "cd399d0b-7519-4a7d-9078-b06bfe89b4c7",
     "showTitle": false,
     "title": ""
    }
   },
   "outputs": [],
   "source": [
    "users_schema = [\n",
    "    'id',\n",
    "    'first_name',\n",
    "    'last_name',\n",
    "    'email',\n",
    "    'is_customer',\n",
    "    'amount_paid',\n",
    "    'customer_from',\n",
    "    'last_updated_ts'\n",
    "]"
   ]
  },
  {
   "cell_type": "code",
   "execution_count": 0,
   "metadata": {
    "application/vnd.databricks.v1+cell": {
     "cellMetadata": {
      "byteLimit": 2048000,
      "rowLimit": 10000
     },
     "inputWidgets": {},
     "nuid": "18d33e6b-79c5-4175-b071-7e5b9f37a32a",
     "showTitle": false,
     "title": ""
    }
   },
   "outputs": [
    {
     "output_type": "stream",
     "name": "stdout",
     "output_type": "stream",
     "text": [
      "Out[6]: DataFrame[id: bigint, first_name: string, last_name: string, email: string, is_customer: boolean, amount_paid: double, customer_from: date, last_updated_ts: timestamp]"
     ]
    }
   ],
   "source": [
    "spark.createDataFrame(users,schema = users_schema)"
   ]
  },
  {
   "cell_type": "code",
   "execution_count": 0,
   "metadata": {
    "application/vnd.databricks.v1+cell": {
     "cellMetadata": {
      "byteLimit": 2048000,
      "rowLimit": 10000
     },
     "inputWidgets": {},
     "nuid": "f48339ba-8a19-4180-b8c2-8de9bb45b42b",
     "showTitle": false,
     "title": ""
    }
   },
   "outputs": [
    {
     "output_type": "stream",
     "name": "stdout",
     "output_type": "stream",
     "text": [
      "+---+----------+------------+--------------------+-----------+-----------+-------------+-------------------+\n| id|first_name|   last_name|               email|is_customer|amount_paid|customer_from|    last_updated_ts|\n+---+----------+------------+--------------------+-----------+-----------+-------------+-------------------+\n|  1|    Corrie|Van den oord|cvandenoord@etsy.com|       true|     550.55|   2021-01-15|2021-02-10 01:15:00|\n|  2|   Nikolus|     Brewitt|nbrewitti@dailyma...|       true|      900.0|   2021-02-14|2021-02-18 03:33:00|\n|  3|    Orelie|      Penney|openney2@vistapri...|       true|     850.55|   2021-01-21|2021-03-15 15:16:55|\n|  4|     Ashby|    Maddocks|  amaddocks3@home.pl|      false|       null|         null|2021-04-10 17:45:30|\n|  5|      kurt|        Roem|krome4@shutterfly...|      false|       null|         null|2021-04-02 00:55:18|\n+---+----------+------------+--------------------+-----------+-----------+-------------+-------------------+\n\n"
     ]
    }
   ],
   "source": [
    "spark.createDataFrame(users,schema = users_schema).show()"
   ]
  },
  {
   "cell_type": "code",
   "execution_count": 0,
   "metadata": {
    "application/vnd.databricks.v1+cell": {
     "cellMetadata": {},
     "inputWidgets": {},
     "nuid": "0b722b3a-ad08-437c-ad9b-fb7ccc9ce4c3",
     "showTitle": false,
     "title": ""
    }
   },
   "outputs": [],
   "source": []
  }
 ],
 "metadata": {
  "application/vnd.databricks.v1+notebook": {
   "dashboards": [],
   "language": "python",
   "notebookMetadata": {
    "pythonIndentUnit": 4
   },
   "notebookName": "10 - Specifying Schema for Spark Dataframe using List 2023-07-10 20:39:13",
   "widgets": {}
  }
 },
 "nbformat": 4,
 "nbformat_minor": 0
}
