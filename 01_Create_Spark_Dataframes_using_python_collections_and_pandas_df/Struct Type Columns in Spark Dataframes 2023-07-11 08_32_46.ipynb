{
 "cells": [
  {
   "cell_type": "code",
   "execution_count": 0,
   "metadata": {
    "application/vnd.databricks.v1+cell": {
     "cellMetadata": {
      "byteLimit": 2048000,
      "rowLimit": 10000
     },
     "inputWidgets": {},
     "nuid": "a4c38c9d-0f69-424f-8a52-584f3ef66dc8",
     "showTitle": false,
     "title": ""
    }
   },
   "outputs": [],
   "source": [
    "from pyspark.sql import Row"
   ]
  },
  {
   "cell_type": "code",
   "execution_count": 0,
   "metadata": {
    "application/vnd.databricks.v1+cell": {
     "cellMetadata": {
      "byteLimit": 2048000,
      "rowLimit": 10000
     },
     "inputWidgets": {},
     "nuid": "12ef5901-3d9b-485e-8869-ec7dd21033b2",
     "showTitle": false,
     "title": ""
    }
   },
   "outputs": [],
   "source": [
    "import datetime\n",
    "\n",
    "users = [\n",
    "    {\n",
    "        \"id\": 1,\n",
    "        \"first_name\": \"Corrie\",\n",
    "        \"last_name\": \"Van den Oord\",\n",
    "        \"email\": \"cvandenoor@etsy.com\",\n",
    "        \"phone_numbers\": Row(mobile = \"+91 8645879087\",home = \"+91 9878673289\"),\n",
    "        \"is_customer\": True,\n",
    "        \"amount_paid\": 1000.55,\n",
    "        \"customer_from\": datetime.date(2021,1,15),\n",
    "        \"last_updated_ts\": datetime.datetime(2021,2,10,1,15,0)\n",
    "    },\n",
    "    {\n",
    "        \"id\": 2,\n",
    "        \"first_name\": \"John\",\n",
    "        \"last_name\": \"Cena\",\n",
    "        \"email\": \"john@cena.com\",\n",
    "        \"phone_numbers\": Row(mobile = \"+91 9886879087\",home = \"+91 9134673289\"),\n",
    "        \"is_customer\": True,\n",
    "        \"amount_paid\": 900.0,\n",
    "        \"customer_from\": datetime.date(2022,5,15),\n",
    "        \"last_updated_ts\": datetime.datetime(2024,3,15,1,16,0)\n",
    "    },\n",
    "    {\n",
    "        \"id\": 3,\n",
    "        \"first_name\": \"James\",\n",
    "        \"last_name\": \"Bond\",\n",
    "        \"email\": \"james@bond.com\",\n",
    "        \"phone_numbers\": Row(mobile = \"+91 3245879087\",home = \"+91 9854673289\"),\n",
    "        \"is_customer\": False,\n",
    "        \"amount_paid\": 750.60,\n",
    "        \"customer_from\": datetime.date(2023,1,12),\n",
    "        \"last_updated_ts\": datetime.datetime(2018,5,5,5,17,2)\n",
    "    },\n",
    "    {\n",
    "        \"id\": 4,\n",
    "        \"first_name\": \"Robert\",\n",
    "        \"last_name\": \"Dowrey\",\n",
    "        \"email\": \"robert@dowrey.com\",\n",
    "        \"phone_numbers\": None,\n",
    "        \"is_customer\": True,\n",
    "        \"amount_paid\": None,\n",
    "        \"customer_from\": None,\n",
    "        \"last_updated_ts\": datetime.datetime(2019,4,3,8,14,8)\n",
    "    },\n",
    "    {\n",
    "        \"id\": 5,\n",
    "        \"first_name\": \"Chris\",\n",
    "        \"last_name\": \"Hemmsworth\",\n",
    "        \"email\": \"chris@hemmsworth.com\",\n",
    "        \"phone_numbers\": Row(mobile = \"+91 9085879087\", home = None),\n",
    "        \"is_customer\": False,\n",
    "        \"amount_paid\": None,\n",
    "        \"customer_from\": None,\n",
    "        \"last_updated_ts\": datetime.datetime(2019,4,3,8,14,8)\n",
    "    },\n",
    "]"
   ]
  },
  {
   "cell_type": "code",
   "execution_count": 0,
   "metadata": {
    "application/vnd.databricks.v1+cell": {
     "cellMetadata": {
      "byteLimit": 2048000,
      "rowLimit": 10000
     },
     "inputWidgets": {},
     "nuid": "3a551aae-e96d-4b50-bdbb-476aa00f9123",
     "showTitle": false,
     "title": ""
    }
   },
   "outputs": [],
   "source": [
    "users_df = spark.createDataFrame([Row(**user) for user in users])"
   ]
  },
  {
   "cell_type": "code",
   "execution_count": 0,
   "metadata": {
    "application/vnd.databricks.v1+cell": {
     "cellMetadata": {
      "byteLimit": 2048000,
      "rowLimit": 10000
     },
     "inputWidgets": {},
     "nuid": "91592064-0fad-4fd7-bd41-f67e4c7925c0",
     "showTitle": false,
     "title": ""
    }
   },
   "outputs": [
    {
     "output_type": "stream",
     "name": "stdout",
     "output_type": "stream",
     "text": [
      "+---+----------+------------+--------------------+--------------------+-----------+-----------+-------------+-------------------+\n| id|first_name|   last_name|               email|       phone_numbers|is_customer|amount_paid|customer_from|    last_updated_ts|\n+---+----------+------------+--------------------+--------------------+-----------+-----------+-------------+-------------------+\n|  1|    Corrie|Van den Oord| cvandenoor@etsy.com|{+91 8645879087, ...|       true|    1000.55|   2021-01-15|2021-02-10 01:15:00|\n|  2|      John|        Cena|       john@cena.com|{+91 9886879087, ...|       true|      900.0|   2022-05-15|2024-03-15 01:16:00|\n|  3|     James|        Bond|      james@bond.com|{+91 3245879087, ...|      false|      750.6|   2023-01-12|2018-05-05 05:17:02|\n|  4|    Robert|      Dowrey|   robert@dowrey.com|                null|       true|       null|         null|2019-04-03 08:14:08|\n|  5|     Chris|  Hemmsworth|chris@hemmsworth.com|{+91 9085879087, ...|      false|       null|         null|2019-04-03 08:14:08|\n+---+----------+------------+--------------------+--------------------+-----------+-----------+-------------+-------------------+\n\n"
     ]
    }
   ],
   "source": [
    "users_df.show()"
   ]
  },
  {
   "cell_type": "code",
   "execution_count": 0,
   "metadata": {
    "application/vnd.databricks.v1+cell": {
     "cellMetadata": {
      "byteLimit": 2048000,
      "rowLimit": 10000
     },
     "inputWidgets": {},
     "nuid": "3c17d72f-06bb-438f-ae93-9744c174f287",
     "showTitle": false,
     "title": ""
    }
   },
   "outputs": [
    {
     "output_type": "stream",
     "name": "stdout",
     "output_type": "stream",
     "text": [
      "+---+--------------------------------+\n|id |phone_numbers                   |\n+---+--------------------------------+\n|1  |{+91 8645879087, +91 9878673289}|\n|2  |{+91 9886879087, +91 9134673289}|\n|3  |{+91 3245879087, +91 9854673289}|\n|4  |null                            |\n|5  |{+91 9085879087, null}          |\n+---+--------------------------------+\n\n"
     ]
    }
   ],
   "source": [
    "users_df.select('id','phone_numbers').show(truncate=False)"
   ]
  },
  {
   "cell_type": "code",
   "execution_count": 0,
   "metadata": {
    "application/vnd.databricks.v1+cell": {
     "cellMetadata": {
      "byteLimit": 2048000,
      "rowLimit": 10000
     },
     "inputWidgets": {},
     "nuid": "d8734e0b-d0c0-48ba-947e-9c0fbb6ec8a9",
     "showTitle": false,
     "title": ""
    }
   },
   "outputs": [
    {
     "output_type": "stream",
     "name": "stdout",
     "output_type": "stream",
     "text": [
      "Out[9]: [('id', 'bigint'),\n ('first_name', 'string'),\n ('last_name', 'string'),\n ('email', 'string'),\n ('phone_numbers', 'struct<mobile:string,home:string>'),\n ('is_customer', 'boolean'),\n ('amount_paid', 'double'),\n ('customer_from', 'date'),\n ('last_updated_ts', 'timestamp')]"
     ]
    }
   ],
   "source": [
    "users_df.dtypes"
   ]
  },
  {
   "cell_type": "code",
   "execution_count": 0,
   "metadata": {
    "application/vnd.databricks.v1+cell": {
     "cellMetadata": {
      "byteLimit": 2048000,
      "rowLimit": 10000
     },
     "inputWidgets": {},
     "nuid": "0b22d942-c63d-4707-b8c2-a80f91a84309",
     "showTitle": false,
     "title": ""
    }
   },
   "outputs": [
    {
     "output_type": "stream",
     "name": "stdout",
     "output_type": "stream",
     "text": [
      "+---+--------------+--------------+\n| id|        mobile|          home|\n+---+--------------+--------------+\n|  1|+91 8645879087|+91 9878673289|\n|  2|+91 9886879087|+91 9134673289|\n|  3|+91 3245879087|+91 9854673289|\n|  4|          null|          null|\n|  5|+91 9085879087|          null|\n+---+--------------+--------------+\n\n"
     ]
    }
   ],
   "source": [
    "users_df.select('id','phone_numbers.mobile','phone_numbers.home').show()"
   ]
  },
  {
   "cell_type": "code",
   "execution_count": 0,
   "metadata": {
    "application/vnd.databricks.v1+cell": {
     "cellMetadata": {
      "byteLimit": 2048000,
      "rowLimit": 10000
     },
     "inputWidgets": {},
     "nuid": "62eeb1fe-866d-4cba-abd8-1956aa91367e",
     "showTitle": false,
     "title": ""
    }
   },
   "outputs": [],
   "source": [
    "from pyspark.sql.functions import col"
   ]
  },
  {
   "cell_type": "code",
   "execution_count": 0,
   "metadata": {
    "application/vnd.databricks.v1+cell": {
     "cellMetadata": {
      "byteLimit": 2048000,
      "rowLimit": 10000
     },
     "inputWidgets": {},
     "nuid": "6f46b2c2-b7d8-4218-8bd6-3b37d1d59f9b",
     "showTitle": false,
     "title": ""
    }
   },
   "outputs": [
    {
     "output_type": "stream",
     "name": "stdout",
     "output_type": "stream",
     "text": [
      "+---+--------------------+------------------+\n| id|phone_numbers.mobile|phone_numbers.home|\n+---+--------------------+------------------+\n|  1|      +91 8645879087|    +91 9878673289|\n|  2|      +91 9886879087|    +91 9134673289|\n|  3|      +91 3245879087|    +91 9854673289|\n|  4|                null|              null|\n|  5|      +91 9085879087|              null|\n+---+--------------------+------------------+\n\n"
     ]
    }
   ],
   "source": [
    "users_df.select('id',col('phone_numbers')['mobile'], col('phone_numbers')['home']).show()"
   ]
  },
  {
   "cell_type": "code",
   "execution_count": 0,
   "metadata": {
    "application/vnd.databricks.v1+cell": {
     "cellMetadata": {
      "byteLimit": 2048000,
      "rowLimit": 10000
     },
     "inputWidgets": {},
     "nuid": "5e1796a1-f97d-4bf4-b15f-467287a53e01",
     "showTitle": false,
     "title": ""
    }
   },
   "outputs": [
    {
     "output_type": "stream",
     "name": "stdout",
     "output_type": "stream",
     "text": [
      "+---+--------------+--------------+\n| id|        mobile|          home|\n+---+--------------+--------------+\n|  1|+91 8645879087|+91 9878673289|\n|  2|+91 9886879087|+91 9134673289|\n|  3|+91 3245879087|+91 9854673289|\n|  4|          null|          null|\n|  5|+91 9085879087|          null|\n+---+--------------+--------------+\n\n"
     ]
    }
   ],
   "source": [
    "users_df.select('id','phone_numbers.*').show()"
   ]
  },
  {
   "cell_type": "code",
   "execution_count": 0,
   "metadata": {
    "application/vnd.databricks.v1+cell": {
     "cellMetadata": {},
     "inputWidgets": {},
     "nuid": "fdd1b35e-293b-46b9-965e-66560c926f4d",
     "showTitle": false,
     "title": ""
    }
   },
   "outputs": [],
   "source": []
  }
 ],
 "metadata": {
  "application/vnd.databricks.v1+notebook": {
   "dashboards": [],
   "language": "python",
   "notebookMetadata": {
    "pythonIndentUnit": 4
   },
   "notebookName": "Struct Type Columns in Spark Dataframes 2023-07-11 08:32:46",
   "widgets": {}
  }
 },
 "nbformat": 4,
 "nbformat_minor": 0
}
