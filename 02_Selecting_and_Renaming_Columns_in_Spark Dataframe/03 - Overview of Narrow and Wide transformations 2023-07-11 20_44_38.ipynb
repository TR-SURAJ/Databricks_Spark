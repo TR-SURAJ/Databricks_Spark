{
 "cells": [
  {
   "cell_type": "code",
   "execution_count": 0,
   "metadata": {
    "application/vnd.databricks.v1+cell": {
     "cellMetadata": {
      "byteLimit": 2048000,
      "rowLimit": 10000
     },
     "inputWidgets": {},
     "nuid": "65f04748-9270-4e87-998a-fbd06d7f9a3f",
     "showTitle": false,
     "title": ""
    }
   },
   "outputs": [],
   "source": [
    "## Below are the examples of Narrow transformations. They do not result in shuffling of data. They are know as row level transformations\n",
    "\n",
    "# df.select\n",
    "# df.filter\n",
    "# df.withColumn\n",
    "# df.withColumnRenamed\n",
    "# df.drop\n",
    "\n",
    "## Here are the functions related to wide transformations. Wide transformations results in shuffling\n",
    "\n",
    "# df.distinct\n",
    "# df.union\n",
    "# df.join\n",
    "# df.groupBy\n",
    "# df.sort\n",
    "# df.orderBy"
   ]
  },
  {
   "cell_type": "code",
   "execution_count": 0,
   "metadata": {
    "application/vnd.databricks.v1+cell": {
     "cellMetadata": {},
     "inputWidgets": {},
     "nuid": "b96dda4b-efb8-481b-8477-119269ced8ec",
     "showTitle": false,
     "title": ""
    }
   },
   "outputs": [],
   "source": []
  }
 ],
 "metadata": {
  "application/vnd.databricks.v1+notebook": {
   "dashboards": [],
   "language": "python",
   "notebookMetadata": {
    "pythonIndentUnit": 4
   },
   "notebookName": "03 - Overview of Narrow and Wide transformations 2023-07-11 20:44:38",
   "widgets": {}
  }
 },
 "nbformat": 4,
 "nbformat_minor": 0
}
