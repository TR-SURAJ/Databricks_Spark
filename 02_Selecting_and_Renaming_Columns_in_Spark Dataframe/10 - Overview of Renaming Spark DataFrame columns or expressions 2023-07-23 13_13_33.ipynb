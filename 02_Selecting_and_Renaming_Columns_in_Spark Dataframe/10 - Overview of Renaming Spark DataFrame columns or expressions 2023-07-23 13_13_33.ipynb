{
 "cells": [
  {
   "cell_type": "markdown",
   "metadata": {
    "application/vnd.databricks.v1+cell": {
     "cellMetadata": {},
     "inputWidgets": {},
     "nuid": "c4d45d66-0248-47ef-b93e-29af58fd3870",
     "showTitle": false,
     "title": ""
    }
   },
   "source": [
    "\n",
    "* We can rename column or expression using **alias** as part of select\n",
    "* We can add or rename column or expression using **withColumn** on top of dataframe\n",
    "* We can rename one column at a time using **withColumnRenamed** on top of Dataframe\n",
    "* We typically use **withColumn** to perform row level transformations and then to provide a name to the result. If we provide the same name as existing column, then the column will be replaced with new one\n",
    "* If we want to just rename the column then it is better to use **withColumnRenamed**\n",
    "* If we want to apply any transformation, we need to either use **select** or **withColumn**\n",
    "* We can rename bunch of columns using **toDF**.\n"
   ]
  },
  {
   "cell_type": "code",
   "execution_count": 0,
   "metadata": {
    "application/vnd.databricks.v1+cell": {
     "cellMetadata": {
      "byteLimit": 2048000,
      "rowLimit": 10000
     },
     "inputWidgets": {},
     "nuid": "607afc2c-6372-4b66-aaa3-a9383294f0ac",
     "showTitle": false,
     "title": ""
    }
   },
   "outputs": [
    {
     "output_type": "display_data",
     "data": {
      "application/vnd.databricks.v1+bamboolib_hint": "{\"pd.DataFrames\": [], \"version\": \"0.0.1\"}",
      "text/plain": []
     },
     "metadata": {},
     "output_type": "display_data"
    },
    {
     "output_type": "stream",
     "name": "stdout",
     "output_type": "stream",
     "text": [
      "+---+----------+------------+--------------------+--------------------+-------+-----------+-----------+-------------+-------------------+\n| id|first_name|   last_name|               email|       phone_numbers|courses|is_customer|amount_paid|customer_from|    last_updated_ts|\n+---+----------+------------+--------------------+--------------------+-------+-----------+-----------+-------------+-------------------+\n|  1|    Corrie|Van den Oord| cvandenoor@etsy.com|{+91 8645879087, ...| [1, 2]|       true|    1000.55|   2021-01-15|2021-02-10 01:15:00|\n|  2|      John|        Cena|       john@cena.com|{+91 9886879087, ...| [3, 4]|       true|      900.0|   2022-05-15|2024-03-15 01:16:00|\n|  3|     James|        Bond|      james@bond.com|{+91 3245879087, ...|    [2]|      false|      750.6|   2023-01-12|2018-05-05 05:17:02|\n|  4|    Robert|      Dowrey|   robert@dowrey.com|                null|     []|       true|        NaN|         null|2019-04-03 08:14:08|\n|  5|     Chris|  Hemmsworth|chris@hemmsworth.com|{+91 9085879087, ...|     []|      false|        NaN|         null|2019-04-03 08:14:08|\n+---+----------+------------+--------------------+--------------------+-------+-----------+-----------+-------------+-------------------+\n\n"
     ]
    },
    {
     "output_type": "stream",
     "name": "stdout",
     "output_type": "stream",
     "text": [
      "Out[7]: [('id', 'bigint'),\n ('first_name', 'string'),\n ('last_name', 'string'),\n ('email', 'string'),\n ('phone_numbers', 'struct<mobile:string,home:string>'),\n ('courses', 'array<bigint>'),\n ('is_customer', 'boolean'),\n ('amount_paid', 'double'),\n ('customer_from', 'date'),\n ('last_updated_ts', 'timestamp')]"
     ]
    }
   ],
   "source": [
    "%run \"/Users/surajthallapalli@outlook.com/02 Selecting and Renaming Columns in Spark Dataframe/Creating Spark Dataframe 2023-07-11 20:32:19\""
   ]
  },
  {
   "cell_type": "code",
   "execution_count": 0,
   "metadata": {
    "application/vnd.databricks.v1+cell": {
     "cellMetadata": {
      "byteLimit": 2048000,
      "rowLimit": 10000
     },
     "inputWidgets": {},
     "nuid": "70783d7d-c9dd-487d-b56e-0fa502d64b89",
     "showTitle": false,
     "title": ""
    }
   },
   "outputs": [
    {
     "output_type": "stream",
     "name": "stdout",
     "output_type": "stream",
     "text": [
      "+---+----------+------------+\n| id|first_name|   last_name|\n+---+----------+------------+\n|  1|    Corrie|Van den Oord|\n|  2|      John|        Cena|\n|  3|     James|        Bond|\n|  4|    Robert|      Dowrey|\n|  5|     Chris|  Hemmsworth|\n+---+----------+------------+\n\n"
     ]
    }
   ],
   "source": [
    "users_df.select('id','first_name','last_name').show()"
   ]
  },
  {
   "cell_type": "code",
   "execution_count": 0,
   "metadata": {
    "application/vnd.databricks.v1+cell": {
     "cellMetadata": {
      "byteLimit": 2048000,
      "rowLimit": 10000
     },
     "inputWidgets": {},
     "nuid": "73716e29-cd52-49f1-ab91-b6e68315d754",
     "showTitle": false,
     "title": ""
    }
   },
   "outputs": [],
   "source": [
    "from pyspark.sql.functions import *"
   ]
  },
  {
   "cell_type": "code",
   "execution_count": 0,
   "metadata": {
    "application/vnd.databricks.v1+cell": {
     "cellMetadata": {
      "byteLimit": 2048000,
      "rowLimit": 10000
     },
     "inputWidgets": {},
     "nuid": "9cdebad0-ad85-479c-98d2-926c2a183861",
     "showTitle": false,
     "title": ""
    }
   },
   "outputs": [
    {
     "output_type": "stream",
     "name": "stdout",
     "output_type": "stream",
     "text": [
      "+---+----------+------------+-------------------+\n| id|first_name|   last_name|          full_name|\n+---+----------+------------+-------------------+\n|  1|    Corrie|Van den Oord|Corrie,Van den Oord|\n|  2|      John|        Cena|          John,Cena|\n|  3|     James|        Bond|         James,Bond|\n|  4|    Robert|      Dowrey|      Robert,Dowrey|\n|  5|     Chris|  Hemmsworth|   Chris,Hemmsworth|\n+---+----------+------------+-------------------+\n\n"
     ]
    }
   ],
   "source": [
    "users_df.select(\n",
    "    \"id\",\n",
    "    \"first_name\",\n",
    "    \"last_name\",\n",
    "    concat(\"first_name\", lit(\",\"), \"last_name\").alias(\"full_name\")\n",
    ").show()"
   ]
  },
  {
   "cell_type": "code",
   "execution_count": 0,
   "metadata": {
    "application/vnd.databricks.v1+cell": {
     "cellMetadata": {
      "byteLimit": 2048000,
      "rowLimit": 10000
     },
     "inputWidgets": {},
     "nuid": "aa3ae7a8-90cf-4c6b-ba8a-b6c2e6ddc27f",
     "showTitle": false,
     "title": ""
    }
   },
   "outputs": [
    {
     "output_type": "stream",
     "name": "stdout",
     "output_type": "stream",
     "text": [
      "+---+----------+------------+-------------------+\n| id|first_name|   last_name|          full_name|\n+---+----------+------------+-------------------+\n|  1|    Corrie|Van den Oord|Corrie,Van den Oord|\n|  2|      John|        Cena|          John,Cena|\n|  3|     James|        Bond|         James,Bond|\n|  4|    Robert|      Dowrey|      Robert,Dowrey|\n|  5|     Chris|  Hemmsworth|   Chris,Hemmsworth|\n+---+----------+------------+-------------------+\n\n"
     ]
    }
   ],
   "source": [
    "users_df.select(\"id\",\"first_name\",\"last_name\").withColumn(\"full_name\", concat(\"first_name\",lit(\",\"),\"last_name\") ).show()"
   ]
  },
  {
   "cell_type": "code",
   "execution_count": 0,
   "metadata": {
    "application/vnd.databricks.v1+cell": {
     "cellMetadata": {
      "byteLimit": 2048000,
      "rowLimit": 10000
     },
     "inputWidgets": {},
     "nuid": "19f7a49d-fb4d-4175-a3d2-0805d5c14e9d",
     "showTitle": false,
     "title": ""
    }
   },
   "outputs": [
    {
     "output_type": "stream",
     "name": "stdout",
     "output_type": "stream",
     "text": [
      "+---+----------+------------+-------------------+\n| id|first_name|   last_name|          full_name|\n+---+----------+------------+-------------------+\n|  1|    Corrie|Van den Oord|Corrie,Van den Oord|\n|  2|      John|        Cena|          John,Cena|\n|  3|     James|        Bond|         James,Bond|\n|  4|    Robert|      Dowrey|      Robert,Dowrey|\n|  5|     Chris|  Hemmsworth|   Chris,Hemmsworth|\n+---+----------+------------+-------------------+\n\n"
     ]
    }
   ],
   "source": [
    "users_df.select(\"id\",\"first_name\",\"last_name\").withColumn(\"full_name\", concat(\"first_name\",lit(\",\"),\"last_name\").alias(\"fn\") ).show()"
   ]
  },
  {
   "cell_type": "code",
   "execution_count": 0,
   "metadata": {
    "application/vnd.databricks.v1+cell": {
     "cellMetadata": {
      "byteLimit": 2048000,
      "rowLimit": 10000
     },
     "inputWidgets": {},
     "nuid": "57022906-b98f-4b9c-b057-72fdff7d9681",
     "showTitle": false,
     "title": ""
    }
   },
   "outputs": [
    {
     "output_type": "stream",
     "name": "stdout",
     "output_type": "stream",
     "text": [
      "+---+-------------------+------------+\n| id|         first_name|   last_name|\n+---+-------------------+------------+\n|  1|Corrie,Van den Oord|Van den Oord|\n|  2|          John,Cena|        Cena|\n|  3|         James,Bond|        Bond|\n|  4|      Robert,Dowrey|      Dowrey|\n|  5|   Chris,Hemmsworth|  Hemmsworth|\n+---+-------------------+------------+\n\n"
     ]
    }
   ],
   "source": [
    "users_df.select(\"id\",\"first_name\",\"last_name\").withColumn(\"first_name\", concat(\"first_name\",lit(\",\"),\"last_name\").alias(\"fn\") ).show()"
   ]
  },
  {
   "cell_type": "code",
   "execution_count": 0,
   "metadata": {
    "application/vnd.databricks.v1+cell": {
     "cellMetadata": {
      "byteLimit": 2048000,
      "rowLimit": 10000
     },
     "inputWidgets": {},
     "nuid": "0b117b28-6de7-48e1-92f7-4bfefe700452",
     "showTitle": false,
     "title": ""
    }
   },
   "outputs": [
    {
     "output_type": "stream",
     "name": "stdout",
     "output_type": "stream",
     "text": [
      "+---+----------+------------+------+\n| id|first_name|   last_name|    fn|\n+---+----------+------------+------+\n|  1|    Corrie|Van den Oord|Corrie|\n|  2|      John|        Cena|  John|\n|  3|     James|        Bond| James|\n|  4|    Robert|      Dowrey|Robert|\n|  5|     Chris|  Hemmsworth| Chris|\n+---+----------+------------+------+\n\n"
     ]
    }
   ],
   "source": [
    "users_df.select('id','first_name','last_name').withColumn('fn', col('first_name')).show()"
   ]
  },
  {
   "cell_type": "code",
   "execution_count": 0,
   "metadata": {
    "application/vnd.databricks.v1+cell": {
     "cellMetadata": {
      "byteLimit": 2048000,
      "rowLimit": 10000
     },
     "inputWidgets": {},
     "nuid": "936c7016-a9f7-40d9-914e-3b80c2ac0497",
     "showTitle": false,
     "title": ""
    }
   },
   "outputs": [
    {
     "output_type": "stream",
     "name": "stdout",
     "output_type": "stream",
     "text": [
      "+---+----------+------------+------+\n| id|first_name|   last_name|    fn|\n+---+----------+------------+------+\n|  1|    Corrie|Van den Oord|Corrie|\n|  2|      John|        Cena|  John|\n|  3|     James|        Bond| James|\n|  4|    Robert|      Dowrey|Robert|\n|  5|     Chris|  Hemmsworth| Chris|\n+---+----------+------------+------+\n\n"
     ]
    }
   ],
   "source": [
    "users_df.select('id','first_name','last_name').withColumn('fn', users_df['first_name']).show()"
   ]
  },
  {
   "cell_type": "markdown",
   "metadata": {
    "application/vnd.databricks.v1+cell": {
     "cellMetadata": {
      "byteLimit": 2048000,
      "rowLimit": 10000
     },
     "inputWidgets": {},
     "nuid": "c6d3927f-b01a-4541-a885-720db12e319a",
     "showTitle": false,
     "title": ""
    }
   },
   "source": [
    "\n",
    "* Find the number courses that each id has taken"
   ]
  },
  {
   "cell_type": "code",
   "execution_count": 0,
   "metadata": {
    "application/vnd.databricks.v1+cell": {
     "cellMetadata": {
      "byteLimit": 2048000,
      "rowLimit": 10000
     },
     "inputWidgets": {},
     "nuid": "22539075-390f-4101-88c3-9605dfc78b78",
     "showTitle": false,
     "title": ""
    }
   },
   "outputs": [
    {
     "output_type": "stream",
     "name": "stdout",
     "output_type": "stream",
     "text": [
      "+---+-------+\n| id|courses|\n+---+-------+\n|  1| [1, 2]|\n|  2| [3, 4]|\n|  3|    [2]|\n|  4|     []|\n|  5|     []|\n+---+-------+\n\n"
     ]
    }
   ],
   "source": [
    "users_df.select('id','courses').show()"
   ]
  },
  {
   "cell_type": "code",
   "execution_count": 0,
   "metadata": {
    "application/vnd.databricks.v1+cell": {
     "cellMetadata": {
      "byteLimit": 2048000,
      "rowLimit": 10000
     },
     "inputWidgets": {},
     "nuid": "e7951794-1706-43e9-b069-17c46b026e92",
     "showTitle": false,
     "title": ""
    }
   },
   "outputs": [
    {
     "output_type": "stream",
     "name": "stdout",
     "output_type": "stream",
     "text": [
      "+---+-------+------------+\n| id|courses|course_count|\n+---+-------+------------+\n|  1| [1, 2]|           2|\n|  2| [3, 4]|           2|\n|  3|    [2]|           1|\n|  4|     []|           0|\n|  5|     []|           0|\n+---+-------+------------+\n\n"
     ]
    }
   ],
   "source": [
    "users_df.select('id','courses').withColumn('course_count', size('courses')).show()"
   ]
  },
  {
   "cell_type": "code",
   "execution_count": 0,
   "metadata": {
    "application/vnd.databricks.v1+cell": {
     "cellMetadata": {},
     "inputWidgets": {},
     "nuid": "bcde1fc8-4635-4918-8d92-07a2faa50718",
     "showTitle": false,
     "title": ""
    }
   },
   "outputs": [],
   "source": []
  }
 ],
 "metadata": {
  "application/vnd.databricks.v1+notebook": {
   "dashboards": [],
   "language": "python",
   "notebookMetadata": {
    "pythonIndentUnit": 4
   },
   "notebookName": "10 - Overview of Renaming Spark DataFrame columns or expressions 2023-07-23 13:13:33",
   "widgets": {}
  }
 },
 "nbformat": 4,
 "nbformat_minor": 0
}
