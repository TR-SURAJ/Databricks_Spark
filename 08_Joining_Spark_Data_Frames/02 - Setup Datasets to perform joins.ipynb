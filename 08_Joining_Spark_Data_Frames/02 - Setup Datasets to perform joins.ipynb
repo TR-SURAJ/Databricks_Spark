{
 "cells": [
  {
   "cell_type": "code",
   "execution_count": 0,
   "metadata": {
    "application/vnd.databricks.v1+cell": {
     "cellMetadata": {
      "byteLimit": 2048000,
      "rowLimit": 10000
     },
     "inputWidgets": {},
     "nuid": "9233f7a2-2127-4418-aea7-acce782d0e30",
     "showTitle": false,
     "title": ""
    }
   },
   "outputs": [],
   "source": [
    "from pyspark.sql import Row"
   ]
  },
  {
   "cell_type": "code",
   "execution_count": 0,
   "metadata": {
    "application/vnd.databricks.v1+cell": {
     "cellMetadata": {
      "byteLimit": 2048000,
      "rowLimit": 10000
     },
     "inputWidgets": {},
     "nuid": "87bd0845-f70d-4a5c-8de9-86d8622232e2",
     "showTitle": false,
     "title": ""
    }
   },
   "outputs": [],
   "source": [
    "import datetime\n",
    "\n",
    "courses = [\n",
    "    {\n",
    "        'course_id': 1,\n",
    "        'course_title': 'Mastering python',\n",
    "        'course_published_at': datetime.date(2021,1,4),\n",
    "        'is_active': True,\n",
    "        'last_updated_ts': datetime.datetime(2021,2,18,16,57,25)\n",
    "    },\n",
    "    {\n",
    "        'course_id': 2,\n",
    "        'course_title': 'Data Engineering Essentials',\n",
    "        'course_published_at': datetime.date(2021,2,10),\n",
    "        'is_active': True,\n",
    "        'last_updated_ts': datetime.datetime(2021,3,5,12,7,33)\n",
    "    },\n",
    "    {\n",
    "        'course_id': 3,\n",
    "        'course_title': 'Mastering pyspark',\n",
    "        'course_published_at': datetime.date(2021,1,7),\n",
    "        'is_active': True,\n",
    "        'last_updated_ts': datetime.datetime(2021,4,6,10,5,42)\n",
    "    },\n",
    "    {\n",
    "        'course_id': 4,\n",
    "        'course_title': 'AWS Essentials',\n",
    "        'course_published_at': datetime.date(2021,3,19),\n",
    "        'is_active': False,\n",
    "        'last_updated_ts': datetime.datetime(2021,4,10,2,25,36)\n",
    "    },\n",
    "    {\n",
    "        'course_id': 5,\n",
    "        'course_title': 'Docker 101',\n",
    "        'course_published_at': datetime.date(2021,2,28),\n",
    "        'is_active': True,\n",
    "        'last_updated_ts': datetime.datetime(2021,3,21,7,18,52)\n",
    "    }\n",
    "]\n",
    "\n",
    "courses_df = spark.createDataFrame([Row(**course) for course in courses])"
   ]
  },
  {
   "cell_type": "code",
   "execution_count": 0,
   "metadata": {
    "application/vnd.databricks.v1+cell": {
     "cellMetadata": {
      "byteLimit": 2048000,
      "rowLimit": 10000
     },
     "inputWidgets": {},
     "nuid": "4d17d070-9871-4c23-8f5e-0789b10c6bf8",
     "showTitle": false,
     "title": ""
    }
   },
   "outputs": [
    {
     "output_type": "stream",
     "name": "stdout",
     "output_type": "stream",
     "text": [
      "+---------+--------------------+-------------------+---------+-------------------+\n|course_id|        course_title|course_published_at|is_active|    last_updated_ts|\n+---------+--------------------+-------------------+---------+-------------------+\n|        1|    Mastering python|         2021-01-04|     true|2021-02-18 16:57:25|\n|        2|Data Engineering ...|         2021-02-10|     true|2021-03-05 12:07:33|\n|        3|   Mastering pyspark|         2021-01-07|     true|2021-04-06 10:05:42|\n|        4|      AWS Essentials|         2021-03-19|    false|2021-04-10 02:25:36|\n|        5|          Docker 101|         2021-02-28|     true|2021-03-21 07:18:52|\n+---------+--------------------+-------------------+---------+-------------------+\n\n"
     ]
    }
   ],
   "source": [
    "courses_df.show()"
   ]
  },
  {
   "cell_type": "code",
   "execution_count": 0,
   "metadata": {
    "application/vnd.databricks.v1+cell": {
     "cellMetadata": {
      "byteLimit": 2048000,
      "rowLimit": 10000
     },
     "inputWidgets": {},
     "nuid": "40cc2ec7-ed7f-4028-983c-c04ba2ac2708",
     "showTitle": false,
     "title": ""
    }
   },
   "outputs": [],
   "source": [
    "users = [\n",
    "    {\n",
    "        \"user_id\": 1,\n",
    "        \"user_first_name\": \"Sandra\",\n",
    "        \"user_last_name\": \"Karpov\",\n",
    "        \"user_email\": \"skarpov@ovh.net\"\n",
    "    },\n",
    "    {\n",
    "        \"user_id\": 2,\n",
    "        \"user_first_name\": \"Kari\",\n",
    "        \"user_last_name\": \"Dearth\",\n",
    "        \"user_email\": \"kdearth1@so-net.ne.jp\"\n",
    "    },\n",
    "    {\n",
    "        \"user_id\": 3,\n",
    "        \"user_first_name\": \"Joanna\",\n",
    "        \"user_last_name\": \"Spennock\",\n",
    "        \"user_email\": \"jspennock2@redcross.org\"\n",
    "    },\n",
    "    {\n",
    "        \"user_id\": 4,\n",
    "        \"user_first_name\": \"Hirsch\",\n",
    "        \"user_last_name\": \"Conaboy\",\n",
    "        \"user_email\": \"hconaboy3@barnesandnoble.com\"\n",
    "    },\n",
    "    {\n",
    "        \"user_id\": 5,\n",
    "        \"user_first_name\": \"Loreen\",\n",
    "        \"user_last_name\": \"Malin\",\n",
    "        \"user_email\": \"lmalin4@independent.co.uk\"\n",
    "    },\n",
    "    {\n",
    "        \"user_id\": 6,\n",
    "        \"user_first_name\": \"Augy\",\n",
    "        \"user_last_name\": \"Christon\",\n",
    "        \"user_email\": \"achriston5@mlb\"\n",
    "    },\n",
    "    {\n",
    "        \"user_id\": 7,\n",
    "        \"user_first_name\": \"Trudey\",\n",
    "        \"user_last_name\": \"Choupin\",\n",
    "        \"user_email\": \"tchoupin6@de.vu\"\n",
    "    },\n",
    "    {\n",
    "        \"user_id\": 8,\n",
    "        \"user_first_name\": \"Nadine\",\n",
    "        \"user_last_name\": \"Grimsdell\",\n",
    "        \"user_email\": \"ngrimsdell7@ohu.com\"\n",
    "    },\n",
    "    {\n",
    "        \"user_id\": 9,\n",
    "        \"user_first_name\": \"Vassily\",\n",
    "        \"user_last_name\": \"Tamas\",\n",
    "        \"user_email\": \"vtamas@businessweek.com\"\n",
    "    },\n",
    "    {\n",
    "        \"user_id\": 10,\n",
    "        \"user_first_name\": \"Wells\",\n",
    "        \"user_last_name\": \"Simpkins\",\n",
    "        \"user_email\": \"wsimpkins9@amazon.co.uk\"\n",
    "    }\n",
    "]\n",
    "\n",
    "users_df = spark.createDataFrame([Row(**user) for user in users])"
   ]
  },
  {
   "cell_type": "code",
   "execution_count": 0,
   "metadata": {
    "application/vnd.databricks.v1+cell": {
     "cellMetadata": {
      "byteLimit": 2048000,
      "rowLimit": 10000
     },
     "inputWidgets": {},
     "nuid": "aa20a17f-7c87-4a39-bc17-740982b6d3c3",
     "showTitle": false,
     "title": ""
    }
   },
   "outputs": [
    {
     "output_type": "stream",
     "name": "stdout",
     "output_type": "stream",
     "text": [
      "+-------+---------------+--------------+--------------------+\n|user_id|user_first_name|user_last_name|          user_email|\n+-------+---------------+--------------+--------------------+\n|      1|         Sandra|        Karpov|     skarpov@ovh.net|\n|      2|           Kari|        Dearth|kdearth1@so-net.n...|\n|      3|         Joanna|      Spennock|jspennock2@redcro...|\n|      4|         Hirsch|       Conaboy|hconaboy3@barnesa...|\n|      5|         Loreen|         Malin|lmalin4@independe...|\n|      6|           Augy|      Christon|      achriston5@mlb|\n|      7|         Trudey|       Choupin|     tchoupin6@de.vu|\n|      8|         Nadine|     Grimsdell| ngrimsdell7@ohu.com|\n|      9|        Vassily|         Tamas|vtamas@businesswe...|\n|     10|          Wells|      Simpkins|wsimpkins9@amazon...|\n+-------+---------------+--------------+--------------------+\n\n"
     ]
    }
   ],
   "source": [
    "users_df.show()"
   ]
  },
  {
   "cell_type": "code",
   "execution_count": 0,
   "metadata": {
    "application/vnd.databricks.v1+cell": {
     "cellMetadata": {
      "byteLimit": 2048000,
      "rowLimit": 10000
     },
     "inputWidgets": {},
     "nuid": "609b1026-89f6-4bc8-b0c5-bb6b42a7ffc0",
     "showTitle": false,
     "title": ""
    }
   },
   "outputs": [],
   "source": [
    "course_enrolments = [\n",
    "    {\n",
    "        'course_enrolmane_id': 1,\n",
    "        'user_id': 10,\n",
    "        'course_id': 2,\n",
    "        'price_paid': 9.99\n",
    "    },\n",
    "    {\n",
    "        'course_enrolmane_id': 2,\n",
    "        'user_id': 5,\n",
    "        'course_id': 2,\n",
    "        'price_paid': 9.99\n",
    "    },\n",
    "    {\n",
    "        'course_enrolmane_id': 3,\n",
    "        'user_id': 7,\n",
    "        'course_id': 5,\n",
    "        'price_paid': 9.99        \n",
    "    },\n",
    "    {\n",
    "        'course_enrolmane_id': 4,\n",
    "        'user_id': 9,\n",
    "        'course_id': 2,\n",
    "        'price_paid': 9.99\n",
    "    },\n",
    "    {\n",
    "        'course_enrolmane_id': 5,\n",
    "        'user_id': 8,\n",
    "        'course_id': 2,\n",
    "        'price_paid': 9.99\n",
    "    },\n",
    "    {\n",
    "        'course_enrolmane_id':6,\n",
    "        'user_id': 5,\n",
    "        'course_id': 5,\n",
    "        'price_paid': 10.99\n",
    "    },\n",
    "    {\n",
    "        'course_enrolmane_id': 7,\n",
    "        'user_id': 4,\n",
    "        'course_id': 5,\n",
    "        'price_paid': 10.99\n",
    "    },\n",
    "    {\n",
    "        'course_enrolmane_id': 8,\n",
    "        'user_id': 7,\n",
    "        'course_id': 3,\n",
    "        'price_paid': 10.99\n",
    "    },\n",
    "    {\n",
    "        'course_enrolmane_id': 9,\n",
    "        'user_id': 8,\n",
    "        'course_id': 5,\n",
    "        'price_paid': 10.99\n",
    "    },\n",
    "    {\n",
    "        'course_enrolmane_id': 10,\n",
    "        'user_id': 3,\n",
    "        'course_id': 3,\n",
    "        'price_paid': 10.99\n",
    "    },\n",
    "    {\n",
    "        'course_enrolmane_id': 11,\n",
    "        'user_id': 7,\n",
    "        'course_id': 5,\n",
    "        'price_paid': 10.99\n",
    "    },\n",
    "    {\n",
    "        'course_enrolmane_id': 12,\n",
    "        'user_id': 3,\n",
    "        'course_id': 2,\n",
    "        'price_paid': 9.99\n",
    "    },\n",
    "    {\n",
    "        'course_enrolmane_id': 13,\n",
    "        'user_id': 5,\n",
    "        'course_id': 2,\n",
    "        'price_paid': 9.99\n",
    "    },\n",
    "    {\n",
    "        'course_enrolmane_id': 14,\n",
    "        'user_id': 4,\n",
    "        'course_id': 3,\n",
    "        'price_paid': 10.99\n",
    "    },\n",
    "    {\n",
    "        'course_enrolmane_id': 15,\n",
    "        'user_id': 8,\n",
    "        'course_id': 2,\n",
    "        'price_paid': 9.99\n",
    "    }\n",
    "]\n",
    "\n",
    "course_enrolments_df = spark.createDataFrame([Row(**ce) for ce in course_enrolments])"
   ]
  },
  {
   "cell_type": "code",
   "execution_count": 0,
   "metadata": {
    "application/vnd.databricks.v1+cell": {
     "cellMetadata": {
      "byteLimit": 2048000,
      "rowLimit": 10000
     },
     "inputWidgets": {},
     "nuid": "36bde311-49f2-422d-bc05-35d1dedd836d",
     "showTitle": false,
     "title": ""
    }
   },
   "outputs": [
    {
     "output_type": "stream",
     "name": "stdout",
     "output_type": "stream",
     "text": [
      "+-------------------+-------+---------+----------+\n|course_enrolmane_id|user_id|course_id|price_paid|\n+-------------------+-------+---------+----------+\n|                  1|     10|        2|      9.99|\n|                  2|      5|        2|      9.99|\n|                  3|      7|        5|      9.99|\n|                  4|      9|        2|      9.99|\n|                  5|      8|        2|      9.99|\n|                  6|      5|        5|     10.99|\n|                  7|      4|        5|     10.99|\n|                  8|      7|        3|     10.99|\n|                  9|      8|        5|     10.99|\n|                 10|      3|        3|     10.99|\n|                 11|      7|        5|     10.99|\n|                 12|      3|        2|      9.99|\n|                 13|      5|        2|      9.99|\n|                 14|      4|        3|     10.99|\n|                 15|      8|        2|      9.99|\n+-------------------+-------+---------+----------+\n\n"
     ]
    }
   ],
   "source": [
    "course_enrolments_df.show()"
   ]
  },
  {
   "cell_type": "code",
   "execution_count": 0,
   "metadata": {
    "application/vnd.databricks.v1+cell": {
     "cellMetadata": {},
     "inputWidgets": {},
     "nuid": "c5d49b4e-90c4-446b-a1cc-d497d00cac50",
     "showTitle": false,
     "title": ""
    }
   },
   "outputs": [],
   "source": []
  }
 ],
 "metadata": {
  "application/vnd.databricks.v1+notebook": {
   "dashboards": [],
   "language": "python",
   "notebookMetadata": {
    "pythonIndentUnit": 4
   },
   "notebookName": "02 - Setup Datasets to perform joins",
   "widgets": {}
  }
 },
 "nbformat": 4,
 "nbformat_minor": 0
}
