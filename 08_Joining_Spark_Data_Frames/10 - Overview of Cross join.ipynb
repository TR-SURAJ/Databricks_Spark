{
 "cells": [
  {
   "cell_type": "code",
   "execution_count": 0,
   "metadata": {
    "application/vnd.databricks.v1+cell": {
     "cellMetadata": {
      "byteLimit": 2048000,
      "rowLimit": 10000
     },
     "inputWidgets": {},
     "nuid": "543a4e48-44fa-4dd7-aa0f-2189a5dd2dd1",
     "showTitle": false,
     "title": ""
    }
   },
   "outputs": [
    {
     "output_type": "stream",
     "name": "stdout",
     "output_type": "stream",
     "text": [
      "+---------+--------------------+-------------------+---------+-------------------+\n|course_id|        course_title|course_published_at|is_active|    last_updated_ts|\n+---------+--------------------+-------------------+---------+-------------------+\n|        1|    Mastering python|         2021-01-04|     true|2021-02-18 16:57:25|\n|        2|Data Engineering ...|         2021-02-10|     true|2021-03-05 12:07:33|\n|        3|   Mastering pyspark|         2021-01-07|     true|2021-04-06 10:05:42|\n|        4|      AWS Essentials|         2021-03-19|    false|2021-04-10 02:25:36|\n|        5|          Docker 101|         2021-02-28|     true|2021-03-21 07:18:52|\n+---------+--------------------+-------------------+---------+-------------------+\n\n"
     ]
    },
    {
     "output_type": "stream",
     "name": "stdout",
     "output_type": "stream",
     "text": [
      "+-------+---------------+--------------+--------------------+\n|user_id|user_first_name|user_last_name|          user_email|\n+-------+---------------+--------------+--------------------+\n|      1|         Sandra|        Karpov|     skarpov@ovh.net|\n|      2|           Kari|        Dearth|kdearth1@so-net.n...|\n|      3|         Joanna|      Spennock|jspennock2@redcro...|\n|      4|         Hirsch|       Conaboy|hconaboy3@barnesa...|\n|      5|         Loreen|         Malin|lmalin4@independe...|\n|      6|           Augy|      Christon|      achriston5@mlb|\n|      7|         Trudey|       Choupin|     tchoupin6@de.vu|\n|      8|         Nadine|     Grimsdell| ngrimsdell7@ohu.com|\n|      9|        Vassily|         Tamas|vtamas@businesswe...|\n|     10|          Wells|      Simpkins|wsimpkins9@amazon...|\n+-------+---------------+--------------+--------------------+\n\n"
     ]
    },
    {
     "output_type": "stream",
     "name": "stdout",
     "output_type": "stream",
     "text": [
      "+-------------------+-------+---------+----------+\n|course_enrolmane_id|user_id|course_id|price_paid|\n+-------------------+-------+---------+----------+\n|                  1|     10|        2|      9.99|\n|                  2|      5|        2|      9.99|\n|                  3|      7|        5|      9.99|\n|                  4|      9|        2|      9.99|\n|                  5|      8|        2|      9.99|\n|                  6|      5|        5|     10.99|\n|                  7|      4|        5|     10.99|\n|                  8|      7|        3|     10.99|\n|                  9|      8|        5|     10.99|\n|                 10|      3|        3|     10.99|\n|                 11|      7|        5|     10.99|\n|                 12|      3|        2|      9.99|\n|                 13|      5|        2|      9.99|\n|                 14|      4|        3|     10.99|\n|                 15|      8|        2|      9.99|\n+-------------------+-------+---------+----------+\n\n"
     ]
    }
   ],
   "source": [
    "%run \"/Users/surajthallapalli@outlook.com/08 Joining Spark Data Frames/02 - Setup Datasets to perform joins\""
   ]
  },
  {
   "cell_type": "code",
   "execution_count": 0,
   "metadata": {
    "application/vnd.databricks.v1+cell": {
     "cellMetadata": {
      "byteLimit": 2048000,
      "rowLimit": 10000
     },
     "inputWidgets": {},
     "nuid": "b34021fa-d86a-420c-92b2-3b67f1fc1cb3",
     "showTitle": false,
     "title": ""
    }
   },
   "outputs": [
    {
     "output_type": "stream",
     "name": "stdout",
     "output_type": "stream",
     "text": [
      "Help on method crossJoin in module pyspark.sql.dataframe:\n\ncrossJoin(other: 'DataFrame') -> 'DataFrame' method of pyspark.sql.dataframe.DataFrame instance\n    Returns the cartesian product with another :class:`DataFrame`.\n    \n    .. versionadded:: 2.1.0\n    \n    .. versionchanged:: 3.4.0\n        Supports Spark Connect.\n    \n    Parameters\n    ----------\n    other : :class:`DataFrame`\n        Right side of the cartesian product.\n    \n    Returns\n    -------\n    :class:`DataFrame`\n        Joined DataFrame.\n    \n    Examples\n    --------\n    >>> from pyspark.sql import Row\n    >>> df = spark.createDataFrame(\n    ...     [(14, \"Tom\"), (23, \"Alice\"), (16, \"Bob\")], [\"age\", \"name\"])\n    >>> df2 = spark.createDataFrame(\n    ...     [Row(height=80, name=\"Tom\"), Row(height=85, name=\"Bob\")])\n    >>> df.crossJoin(df2.select(\"height\")).select(\"age\", \"name\", \"height\").show()\n    +---+-----+------+\n    |age| name|height|\n    +---+-----+------+\n    | 14|  Tom|    80|\n    | 14|  Tom|    85|\n    | 23|Alice|    80|\n    | 23|Alice|    85|\n    | 16|  Bob|    80|\n    | 16|  Bob|    85|\n    +---+-----+------+\n\n"
     ]
    }
   ],
   "source": [
    "help(courses_df.crossJoin)"
   ]
  },
  {
   "cell_type": "code",
   "execution_count": 0,
   "metadata": {
    "application/vnd.databricks.v1+cell": {
     "cellMetadata": {
      "byteLimit": 2048000,
      "rowLimit": 10000
     },
     "inputWidgets": {},
     "nuid": "bf05a65c-1097-4356-81ba-06d584f2a483",
     "showTitle": false,
     "title": ""
    }
   },
   "outputs": [
    {
     "output_type": "stream",
     "name": "stdout",
     "output_type": "stream",
     "text": [
      "+-------+---------------+--------------+--------------------+---------+--------------------+-------------------+---------+-------------------+\n|user_id|user_first_name|user_last_name|          user_email|course_id|        course_title|course_published_at|is_active|    last_updated_ts|\n+-------+---------------+--------------+--------------------+---------+--------------------+-------------------+---------+-------------------+\n|      1|         Sandra|        Karpov|     skarpov@ovh.net|        1|    Mastering python|         2021-01-04|     true|2021-02-18 16:57:25|\n|      2|           Kari|        Dearth|kdearth1@so-net.n...|        1|    Mastering python|         2021-01-04|     true|2021-02-18 16:57:25|\n|      1|         Sandra|        Karpov|     skarpov@ovh.net|        2|Data Engineering ...|         2021-02-10|     true|2021-03-05 12:07:33|\n|      2|           Kari|        Dearth|kdearth1@so-net.n...|        2|Data Engineering ...|         2021-02-10|     true|2021-03-05 12:07:33|\n|      1|         Sandra|        Karpov|     skarpov@ovh.net|        3|   Mastering pyspark|         2021-01-07|     true|2021-04-06 10:05:42|\n|      2|           Kari|        Dearth|kdearth1@so-net.n...|        3|   Mastering pyspark|         2021-01-07|     true|2021-04-06 10:05:42|\n|      1|         Sandra|        Karpov|     skarpov@ovh.net|        4|      AWS Essentials|         2021-03-19|    false|2021-04-10 02:25:36|\n|      1|         Sandra|        Karpov|     skarpov@ovh.net|        5|          Docker 101|         2021-02-28|     true|2021-03-21 07:18:52|\n|      2|           Kari|        Dearth|kdearth1@so-net.n...|        4|      AWS Essentials|         2021-03-19|    false|2021-04-10 02:25:36|\n|      2|           Kari|        Dearth|kdearth1@so-net.n...|        5|          Docker 101|         2021-02-28|     true|2021-03-21 07:18:52|\n|      3|         Joanna|      Spennock|jspennock2@redcro...|        1|    Mastering python|         2021-01-04|     true|2021-02-18 16:57:25|\n|      4|         Hirsch|       Conaboy|hconaboy3@barnesa...|        1|    Mastering python|         2021-01-04|     true|2021-02-18 16:57:25|\n|      3|         Joanna|      Spennock|jspennock2@redcro...|        2|Data Engineering ...|         2021-02-10|     true|2021-03-05 12:07:33|\n|      4|         Hirsch|       Conaboy|hconaboy3@barnesa...|        2|Data Engineering ...|         2021-02-10|     true|2021-03-05 12:07:33|\n|      3|         Joanna|      Spennock|jspennock2@redcro...|        3|   Mastering pyspark|         2021-01-07|     true|2021-04-06 10:05:42|\n|      4|         Hirsch|       Conaboy|hconaboy3@barnesa...|        3|   Mastering pyspark|         2021-01-07|     true|2021-04-06 10:05:42|\n|      3|         Joanna|      Spennock|jspennock2@redcro...|        4|      AWS Essentials|         2021-03-19|    false|2021-04-10 02:25:36|\n|      3|         Joanna|      Spennock|jspennock2@redcro...|        5|          Docker 101|         2021-02-28|     true|2021-03-21 07:18:52|\n|      4|         Hirsch|       Conaboy|hconaboy3@barnesa...|        4|      AWS Essentials|         2021-03-19|    false|2021-04-10 02:25:36|\n|      4|         Hirsch|       Conaboy|hconaboy3@barnesa...|        5|          Docker 101|         2021-02-28|     true|2021-03-21 07:18:52|\n+-------+---------------+--------------+--------------------+---------+--------------------+-------------------+---------+-------------------+\nonly showing top 20 rows\n\n"
     ]
    }
   ],
   "source": [
    "users_df.\\\n",
    "    crossJoin(courses_df).\\\n",
    "    show()"
   ]
  },
  {
   "cell_type": "code",
   "execution_count": 0,
   "metadata": {
    "application/vnd.databricks.v1+cell": {
     "cellMetadata": {
      "byteLimit": 2048000,
      "rowLimit": 10000
     },
     "inputWidgets": {},
     "nuid": "358c9905-fa79-4aaf-8656-ab8334ce10af",
     "showTitle": false,
     "title": ""
    }
   },
   "outputs": [
    {
     "output_type": "execute_result",
     "data": {
      "text/plain": [
       "50"
      ]
     },
     "execution_count": 10,
     "metadata": {},
     "output_type": "execute_result"
    }
   ],
   "source": [
    "users_df.\\\n",
    "    crossJoin(courses_df).\\\n",
    "    count()"
   ]
  },
  {
   "cell_type": "code",
   "execution_count": 0,
   "metadata": {
    "application/vnd.databricks.v1+cell": {
     "cellMetadata": {
      "byteLimit": 2048000,
      "rowLimit": 10000
     },
     "inputWidgets": {},
     "nuid": "77242efa-f9ae-4522-89b2-33f1d5650f23",
     "showTitle": false,
     "title": ""
    }
   },
   "outputs": [
    {
     "output_type": "execute_result",
     "data": {
      "text/plain": [
       "50"
      ]
     },
     "execution_count": 11,
     "metadata": {},
     "output_type": "execute_result"
    }
   ],
   "source": [
    "# Even join without conditions result in cross join or cartesian product\n",
    "users_df.\\\n",
    "    join(courses_df).\\\n",
    "    count()"
   ]
  },
  {
   "cell_type": "code",
   "execution_count": 0,
   "metadata": {
    "application/vnd.databricks.v1+cell": {
     "cellMetadata": {
      "byteLimit": 2048000,
      "rowLimit": 10000
     },
     "inputWidgets": {},
     "nuid": "fa8d597b-ecd4-4b28-87c0-be4eda5a6643",
     "showTitle": false,
     "title": ""
    }
   },
   "outputs": [
    {
     "output_type": "execute_result",
     "data": {
      "text/plain": [
       "50"
      ]
     },
     "execution_count": 13,
     "metadata": {},
     "output_type": "execute_result"
    }
   ],
   "source": [
    "users_df.\\\n",
    "    join(courses_df, how = 'cross').\\\n",
    "    count()"
   ]
  },
  {
   "cell_type": "code",
   "execution_count": 0,
   "metadata": {
    "application/vnd.databricks.v1+cell": {
     "cellMetadata": {},
     "inputWidgets": {},
     "nuid": "906c4221-f361-4556-b2b6-5517a5f380f6",
     "showTitle": false,
     "title": ""
    }
   },
   "outputs": [],
   "source": []
  }
 ],
 "metadata": {
  "application/vnd.databricks.v1+notebook": {
   "dashboards": [],
   "language": "python",
   "notebookMetadata": {
    "pythonIndentUnit": 4
   },
   "notebookName": "10 - Overview of Cross join",
   "widgets": {}
  }
 },
 "nbformat": 4,
 "nbformat_minor": 0
}
