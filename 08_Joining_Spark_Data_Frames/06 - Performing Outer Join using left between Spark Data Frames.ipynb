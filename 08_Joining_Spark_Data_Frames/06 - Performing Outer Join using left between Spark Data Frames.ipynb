{
 "cells": [
  {
   "cell_type": "code",
   "execution_count": 0,
   "metadata": {
    "application/vnd.databricks.v1+cell": {
     "cellMetadata": {
      "byteLimit": 2048000,
      "rowLimit": 10000
     },
     "inputWidgets": {},
     "nuid": "7b009cb9-4726-44e6-8ace-707ca5bc4762",
     "showTitle": false,
     "title": ""
    }
   },
   "outputs": [
    {
     "output_type": "stream",
     "name": "stdout",
     "output_type": "stream",
     "text": [
      "+---------+--------------------+-------------------+---------+-------------------+\n|course_id|        course_title|course_published_at|is_active|    last_updated_ts|\n+---------+--------------------+-------------------+---------+-------------------+\n|        1|    Mastering python|         2021-01-04|     true|2021-02-18 16:57:25|\n|        2|Data Engineering ...|         2021-02-10|     true|2021-03-05 12:07:33|\n|        3|   Mastering pyspark|         2021-01-07|     true|2021-04-06 10:05:42|\n|        4|      AWS Essentials|         2021-03-19|    false|2021-04-10 02:25:36|\n|        5|          Docker 101|         2021-02-28|     true|2021-03-21 07:18:52|\n+---------+--------------------+-------------------+---------+-------------------+\n\n"
     ]
    },
    {
     "output_type": "stream",
     "name": "stdout",
     "output_type": "stream",
     "text": [
      "+-------+---------------+--------------+--------------------+\n|user_id|user_first_name|user_last_name|          user_email|\n+-------+---------------+--------------+--------------------+\n|      1|         Sandra|        Karpov|     skarpov@ovh.net|\n|      2|           Kari|        Dearth|kdearth1@so-net.n...|\n|      3|         Joanna|      Spennock|jspennock2@redcro...|\n|      4|         Hirsch|       Conaboy|hconaboy3@barnesa...|\n|      5|         Loreen|         Malin|lmalin4@independe...|\n|      6|           Augy|      Christon|      achriston5@mlb|\n|      7|         Trudey|       Choupin|     tchoupin6@de.vu|\n|      8|         Nadine|     Grimsdell| ngrimsdell7@ohu.com|\n|      9|        Vassily|         Tamas|vtamas@businesswe...|\n|     10|          Wells|      Simpkins|wsimpkins9@amazon...|\n+-------+---------------+--------------+--------------------+\n\n"
     ]
    },
    {
     "output_type": "stream",
     "name": "stdout",
     "output_type": "stream",
     "text": [
      "+-------------------+-------+---------+----------+\n|course_enrolmane_id|user_id|course_id|price_paid|\n+-------------------+-------+---------+----------+\n|                  1|     10|        2|      9.99|\n|                  2|      5|        2|      9.99|\n|                  3|      7|        5|      9.99|\n|                  4|      9|        2|      9.99|\n|                  5|      8|        2|      9.99|\n|                  6|      5|        5|     10.99|\n|                  7|      4|        5|     10.99|\n|                  8|      7|        3|     10.99|\n|                  9|      8|        5|     10.99|\n|                 10|      3|        3|     10.99|\n|                 11|      7|        5|     10.99|\n|                 12|      3|        2|      9.99|\n|                 13|      5|        2|      9.99|\n|                 14|      4|        3|     10.99|\n|                 15|      8|        2|      9.99|\n+-------------------+-------+---------+----------+\n\n"
     ]
    }
   ],
   "source": [
    "%run \"/Users/surajthallapalli@outlook.com/08 Joining Spark Data Frames/02 - Setup Datasets to perform joins\""
   ]
  },
  {
   "cell_type": "markdown",
   "metadata": {
    "application/vnd.databricks.v1+cell": {
     "cellMetadata": {},
     "inputWidgets": {},
     "nuid": "64e9d861-2fde-4af2-8706-44d750c1e57d",
     "showTitle": false,
     "title": ""
    }
   },
   "source": [
    "\n",
    "- Get all the user details along with course enrolment details (if the user have any course enrolments)\n",
    "- If the users does not have any course enrolments, we need to get all user details. Course details will be substitiued with null values\n",
    "  - Need to perform left or right outer join **users_df** and **course_enrolments_df**\n",
    "  - We will use left for this lecture. As *users_df* is from parent table and as we are going to use **left outer join**, we need to invoke *join* on top of *users_df*\n",
    "  - Here are the fields that needs to be displayed\n",
    "    - All fields from *users_df*\n",
    "    - *course_id* and *course_enrolmane_id* from *course_enrolments_df*\n",
    "- For this example using these data frames, using just *outer* also give same results. But it is not correect to use *outer*\n",
    "- how='outer' means **full outer join**"
   ]
  },
  {
   "cell_type": "code",
   "execution_count": 0,
   "metadata": {
    "application/vnd.databricks.v1+cell": {
     "cellMetadata": {
      "byteLimit": 2048000,
      "rowLimit": 10000
     },
     "inputWidgets": {},
     "nuid": "5a42ff3a-ec89-4325-b9ee-4f0fba70a8f0",
     "showTitle": false,
     "title": ""
    }
   },
   "outputs": [
    {
     "output_type": "stream",
     "name": "stdout",
     "output_type": "stream",
     "text": [
      "+-------+---------------+--------------+--------------------+-------------------+-------+---------+----------+\n|user_id|user_first_name|user_last_name|          user_email|course_enrolmane_id|user_id|course_id|price_paid|\n+-------+---------------+--------------+--------------------+-------------------+-------+---------+----------+\n|      1|         Sandra|        Karpov|     skarpov@ovh.net|               NULL|   NULL|     NULL|      NULL|\n|      2|           Kari|        Dearth|kdearth1@so-net.n...|               NULL|   NULL|     NULL|      NULL|\n|      3|         Joanna|      Spennock|jspennock2@redcro...|                 12|      3|        2|      9.99|\n|      3|         Joanna|      Spennock|jspennock2@redcro...|                 10|      3|        3|     10.99|\n|      4|         Hirsch|       Conaboy|hconaboy3@barnesa...|                 14|      4|        3|     10.99|\n|      4|         Hirsch|       Conaboy|hconaboy3@barnesa...|                  7|      4|        5|     10.99|\n|      5|         Loreen|         Malin|lmalin4@independe...|                 13|      5|        2|      9.99|\n|      5|         Loreen|         Malin|lmalin4@independe...|                  6|      5|        5|     10.99|\n|      5|         Loreen|         Malin|lmalin4@independe...|                  2|      5|        2|      9.99|\n|      6|           Augy|      Christon|      achriston5@mlb|               NULL|   NULL|     NULL|      NULL|\n|      7|         Trudey|       Choupin|     tchoupin6@de.vu|                 11|      7|        5|     10.99|\n|      7|         Trudey|       Choupin|     tchoupin6@de.vu|                  8|      7|        3|     10.99|\n|      7|         Trudey|       Choupin|     tchoupin6@de.vu|                  3|      7|        5|      9.99|\n|      8|         Nadine|     Grimsdell| ngrimsdell7@ohu.com|                 15|      8|        2|      9.99|\n|      8|         Nadine|     Grimsdell| ngrimsdell7@ohu.com|                  9|      8|        5|     10.99|\n|      8|         Nadine|     Grimsdell| ngrimsdell7@ohu.com|                  5|      8|        2|      9.99|\n|      9|        Vassily|         Tamas|vtamas@businesswe...|                  4|      9|        2|      9.99|\n|     10|          Wells|      Simpkins|wsimpkins9@amazon...|                  1|     10|        2|      9.99|\n+-------+---------------+--------------+--------------------+-------------------+-------+---------+----------+\n\n"
     ]
    }
   ],
   "source": [
    "users_df.\\\n",
    "    join(course_enrolments_df, users_df.user_id == course_enrolments_df.user_id, 'left').\\\n",
    "    show()"
   ]
  },
  {
   "cell_type": "code",
   "execution_count": 0,
   "metadata": {
    "application/vnd.databricks.v1+cell": {
     "cellMetadata": {
      "byteLimit": 2048000,
      "rowLimit": 10000
     },
     "inputWidgets": {},
     "nuid": "256649c6-b769-413f-861b-2e5c7c9984c9",
     "showTitle": false,
     "title": ""
    }
   },
   "outputs": [
    {
     "output_type": "stream",
     "name": "stdout",
     "output_type": "stream",
     "text": [
      "+-------+---------------+--------------+--------------------+-------------------+-------+---------+----------+\n|user_id|user_first_name|user_last_name|          user_email|course_enrolmane_id|user_id|course_id|price_paid|\n+-------+---------------+--------------+--------------------+-------------------+-------+---------+----------+\n|      1|         Sandra|        Karpov|     skarpov@ovh.net|               NULL|   NULL|     NULL|      NULL|\n|      2|           Kari|        Dearth|kdearth1@so-net.n...|               NULL|   NULL|     NULL|      NULL|\n|      3|         Joanna|      Spennock|jspennock2@redcro...|                 12|      3|        2|      9.99|\n|      3|         Joanna|      Spennock|jspennock2@redcro...|                 10|      3|        3|     10.99|\n|      4|         Hirsch|       Conaboy|hconaboy3@barnesa...|                 14|      4|        3|     10.99|\n|      4|         Hirsch|       Conaboy|hconaboy3@barnesa...|                  7|      4|        5|     10.99|\n|      5|         Loreen|         Malin|lmalin4@independe...|                 13|      5|        2|      9.99|\n|      5|         Loreen|         Malin|lmalin4@independe...|                  6|      5|        5|     10.99|\n|      5|         Loreen|         Malin|lmalin4@independe...|                  2|      5|        2|      9.99|\n|      6|           Augy|      Christon|      achriston5@mlb|               NULL|   NULL|     NULL|      NULL|\n|      7|         Trudey|       Choupin|     tchoupin6@de.vu|                 11|      7|        5|     10.99|\n|      7|         Trudey|       Choupin|     tchoupin6@de.vu|                  8|      7|        3|     10.99|\n|      7|         Trudey|       Choupin|     tchoupin6@de.vu|                  3|      7|        5|      9.99|\n|      8|         Nadine|     Grimsdell| ngrimsdell7@ohu.com|                 15|      8|        2|      9.99|\n|      8|         Nadine|     Grimsdell| ngrimsdell7@ohu.com|                  9|      8|        5|     10.99|\n|      8|         Nadine|     Grimsdell| ngrimsdell7@ohu.com|                  5|      8|        2|      9.99|\n|      9|        Vassily|         Tamas|vtamas@businesswe...|                  4|      9|        2|      9.99|\n|     10|          Wells|      Simpkins|wsimpkins9@amazon...|                  1|     10|        2|      9.99|\n+-------+---------------+--------------+--------------------+-------------------+-------+---------+----------+\n\n"
     ]
    }
   ],
   "source": [
    "# left or left_outer or leftouter are same\n",
    "\n",
    "users_df.\\\n",
    "    join(course_enrolments_df, users_df.user_id == course_enrolments_df.user_id, 'left_outer').\\\n",
    "    show()"
   ]
  },
  {
   "cell_type": "code",
   "execution_count": 0,
   "metadata": {
    "application/vnd.databricks.v1+cell": {
     "cellMetadata": {
      "byteLimit": 2048000,
      "rowLimit": 10000
     },
     "inputWidgets": {},
     "nuid": "b3366ac1-7d2a-4a58-bc98-9482d313a043",
     "showTitle": false,
     "title": ""
    }
   },
   "outputs": [
    {
     "output_type": "stream",
     "name": "stdout",
     "output_type": "stream",
     "text": [
      "+-------+---------------+--------------+--------------------+-------------------+---------+----------+\n|user_id|user_first_name|user_last_name|          user_email|course_enrolmane_id|course_id|price_paid|\n+-------+---------------+--------------+--------------------+-------------------+---------+----------+\n|      1|         Sandra|        Karpov|     skarpov@ovh.net|               NULL|     NULL|      NULL|\n|      2|           Kari|        Dearth|kdearth1@so-net.n...|               NULL|     NULL|      NULL|\n|      3|         Joanna|      Spennock|jspennock2@redcro...|                 12|        2|      9.99|\n|      3|         Joanna|      Spennock|jspennock2@redcro...|                 10|        3|     10.99|\n|      4|         Hirsch|       Conaboy|hconaboy3@barnesa...|                 14|        3|     10.99|\n|      4|         Hirsch|       Conaboy|hconaboy3@barnesa...|                  7|        5|     10.99|\n|      5|         Loreen|         Malin|lmalin4@independe...|                 13|        2|      9.99|\n|      5|         Loreen|         Malin|lmalin4@independe...|                  6|        5|     10.99|\n|      5|         Loreen|         Malin|lmalin4@independe...|                  2|        2|      9.99|\n|      6|           Augy|      Christon|      achriston5@mlb|               NULL|     NULL|      NULL|\n|      7|         Trudey|       Choupin|     tchoupin6@de.vu|                 11|        5|     10.99|\n|      7|         Trudey|       Choupin|     tchoupin6@de.vu|                  8|        3|     10.99|\n|      7|         Trudey|       Choupin|     tchoupin6@de.vu|                  3|        5|      9.99|\n|      8|         Nadine|     Grimsdell| ngrimsdell7@ohu.com|                 15|        2|      9.99|\n|      8|         Nadine|     Grimsdell| ngrimsdell7@ohu.com|                  9|        5|     10.99|\n|      8|         Nadine|     Grimsdell| ngrimsdell7@ohu.com|                  5|        2|      9.99|\n|      9|        Vassily|         Tamas|vtamas@businesswe...|                  4|        2|      9.99|\n|     10|          Wells|      Simpkins|wsimpkins9@amazon...|                  1|        2|      9.99|\n+-------+---------------+--------------+--------------------+-------------------+---------+----------+\n\n"
     ]
    }
   ],
   "source": [
    "users_df.\\\n",
    "    join(course_enrolments_df, 'user_id', 'left_outer').\\\n",
    "    show()"
   ]
  },
  {
   "cell_type": "code",
   "execution_count": 0,
   "metadata": {
    "application/vnd.databricks.v1+cell": {
     "cellMetadata": {
      "byteLimit": 2048000,
      "rowLimit": 10000
     },
     "inputWidgets": {},
     "nuid": "7550b0d9-6859-4841-b6a0-348497a3ee13",
     "showTitle": false,
     "title": ""
    }
   },
   "outputs": [
    {
     "output_type": "stream",
     "name": "stdout",
     "output_type": "stream",
     "text": [
      "+-------+---------------+--------------+--------------------+---------+-------------------+\n|user_id|user_first_name|user_last_name|          user_email|course_id|course_enrolmane_id|\n+-------+---------------+--------------+--------------------+---------+-------------------+\n|      1|         Sandra|        Karpov|     skarpov@ovh.net|     NULL|               NULL|\n|      2|           Kari|        Dearth|kdearth1@so-net.n...|     NULL|               NULL|\n|      3|         Joanna|      Spennock|jspennock2@redcro...|        2|                 12|\n|      3|         Joanna|      Spennock|jspennock2@redcro...|        3|                 10|\n|      4|         Hirsch|       Conaboy|hconaboy3@barnesa...|        3|                 14|\n|      4|         Hirsch|       Conaboy|hconaboy3@barnesa...|        5|                  7|\n|      5|         Loreen|         Malin|lmalin4@independe...|        2|                 13|\n|      5|         Loreen|         Malin|lmalin4@independe...|        5|                  6|\n|      5|         Loreen|         Malin|lmalin4@independe...|        2|                  2|\n|      6|           Augy|      Christon|      achriston5@mlb|     NULL|               NULL|\n|      7|         Trudey|       Choupin|     tchoupin6@de.vu|        5|                 11|\n|      7|         Trudey|       Choupin|     tchoupin6@de.vu|        3|                  8|\n|      7|         Trudey|       Choupin|     tchoupin6@de.vu|        5|                  3|\n|      8|         Nadine|     Grimsdell| ngrimsdell7@ohu.com|        2|                 15|\n|      8|         Nadine|     Grimsdell| ngrimsdell7@ohu.com|        5|                  9|\n|      8|         Nadine|     Grimsdell| ngrimsdell7@ohu.com|        2|                  5|\n|      9|        Vassily|         Tamas|vtamas@businesswe...|        2|                  4|\n|     10|          Wells|      Simpkins|wsimpkins9@amazon...|        2|                  1|\n+-------+---------------+--------------+--------------------+---------+-------------------+\n\n"
     ]
    }
   ],
   "source": [
    "users_df.\\\n",
    "    join(course_enrolments_df, users_df.user_id == course_enrolments_df.user_id, 'left').\\\n",
    "    select(users_df['*'],course_enrolments_df['course_id'],course_enrolments_df['course_enrolmane_id']).\\\n",
    "    show()"
   ]
  },
  {
   "cell_type": "code",
   "execution_count": 0,
   "metadata": {
    "application/vnd.databricks.v1+cell": {
     "cellMetadata": {
      "byteLimit": 2048000,
      "rowLimit": 10000
     },
     "inputWidgets": {},
     "nuid": "998bcef5-855e-4db7-8822-7d7f8fc50983",
     "showTitle": false,
     "title": ""
    }
   },
   "outputs": [
    {
     "output_type": "stream",
     "name": "stdout",
     "output_type": "stream",
     "text": [
      "+-------+---------------+--------------+--------------------+---------+-------------------+\n|user_id|user_first_name|user_last_name|          user_email|course_id|course_enrolmane_id|\n+-------+---------------+--------------+--------------------+---------+-------------------+\n|      1|         Sandra|        Karpov|     skarpov@ovh.net|     NULL|               NULL|\n|      2|           Kari|        Dearth|kdearth1@so-net.n...|     NULL|               NULL|\n|      3|         Joanna|      Spennock|jspennock2@redcro...|        2|                 12|\n|      3|         Joanna|      Spennock|jspennock2@redcro...|        3|                 10|\n|      4|         Hirsch|       Conaboy|hconaboy3@barnesa...|        3|                 14|\n|      4|         Hirsch|       Conaboy|hconaboy3@barnesa...|        5|                  7|\n|      5|         Loreen|         Malin|lmalin4@independe...|        2|                 13|\n|      5|         Loreen|         Malin|lmalin4@independe...|        5|                  6|\n|      5|         Loreen|         Malin|lmalin4@independe...|        2|                  2|\n|      6|           Augy|      Christon|      achriston5@mlb|     NULL|               NULL|\n|      7|         Trudey|       Choupin|     tchoupin6@de.vu|        5|                 11|\n|      7|         Trudey|       Choupin|     tchoupin6@de.vu|        3|                  8|\n|      7|         Trudey|       Choupin|     tchoupin6@de.vu|        5|                  3|\n|      8|         Nadine|     Grimsdell| ngrimsdell7@ohu.com|        2|                 15|\n|      8|         Nadine|     Grimsdell| ngrimsdell7@ohu.com|        5|                  9|\n|      8|         Nadine|     Grimsdell| ngrimsdell7@ohu.com|        2|                  5|\n|      9|        Vassily|         Tamas|vtamas@businesswe...|        2|                  4|\n|     10|          Wells|      Simpkins|wsimpkins9@amazon...|        2|                  1|\n+-------+---------------+--------------+--------------------+---------+-------------------+\n\n"
     ]
    }
   ],
   "source": [
    "# using alias\n",
    "users_df.alias('u').\\\n",
    "    join(course_enrolments_df.alias('ce'), users_df.user_id == course_enrolments_df.user_id,'left').\\\n",
    "    select('u.*','course_id','course_enrolmane_id').\\\n",
    "    show()"
   ]
  },
  {
   "cell_type": "markdown",
   "metadata": {
    "application/vnd.databricks.v1+cell": {
     "cellMetadata": {},
     "inputWidgets": {},
     "nuid": "4080fc32-b498-479d-8518-fb52c5912372",
     "showTitle": false,
     "title": ""
    }
   },
   "source": [
    "- Get all the users who have not enrolled for any courses. Recommended to use primary key in the child table when comparing with null values"
   ]
  },
  {
   "cell_type": "code",
   "execution_count": 0,
   "metadata": {
    "application/vnd.databricks.v1+cell": {
     "cellMetadata": {
      "byteLimit": 2048000,
      "rowLimit": 10000
     },
     "inputWidgets": {},
     "nuid": "ed6972de-90e3-4b79-8d85-4f5c493adc33",
     "showTitle": false,
     "title": ""
    }
   },
   "outputs": [
    {
     "output_type": "stream",
     "name": "stdout",
     "output_type": "stream",
     "text": [
      "+-------+---------------+--------------+--------------------+---------+-------------------+\n|user_id|user_first_name|user_last_name|          user_email|course_id|course_enrolmane_id|\n+-------+---------------+--------------+--------------------+---------+-------------------+\n|      1|         Sandra|        Karpov|     skarpov@ovh.net|     NULL|               NULL|\n|      2|           Kari|        Dearth|kdearth1@so-net.n...|     NULL|               NULL|\n|      6|           Augy|      Christon|      achriston5@mlb|     NULL|               NULL|\n+-------+---------------+--------------+--------------------+---------+-------------------+\n\n"
     ]
    }
   ],
   "source": [
    "# using alias\n",
    "users_df.alias('u').\\\n",
    "    join(course_enrolments_df.alias('ce'), users_df.user_id == course_enrolments_df.user_id,'left').\\\n",
    "    filter('ce.course_enrolmane_id is NULL').\\\n",
    "    select('u.*','course_id','course_enrolmane_id').\\\n",
    "    show()"
   ]
  },
  {
   "cell_type": "code",
   "execution_count": 0,
   "metadata": {
    "application/vnd.databricks.v1+cell": {
     "cellMetadata": {
      "byteLimit": 2048000,
      "rowLimit": 10000
     },
     "inputWidgets": {},
     "nuid": "ccfd7eaf-49e6-416f-b270-6fbe16ec9dd0",
     "showTitle": false,
     "title": ""
    }
   },
   "outputs": [
    {
     "output_type": "stream",
     "name": "stdout",
     "output_type": "stream",
     "text": [
      "+-------+---------------+--------------+--------------------+---------+-------------------+\n|user_id|user_first_name|user_last_name|          user_email|course_id|course_enrolmane_id|\n+-------+---------------+--------------+--------------------+---------+-------------------+\n|      1|         Sandra|        Karpov|     skarpov@ovh.net|     NULL|               NULL|\n|      2|           Kari|        Dearth|kdearth1@so-net.n...|     NULL|               NULL|\n|      6|           Augy|      Christon|      achriston5@mlb|     NULL|               NULL|\n+-------+---------------+--------------+--------------------+---------+-------------------+\n\n"
     ]
    }
   ],
   "source": [
    "users_df.alias('u').\\\n",
    "    join(course_enrolments_df.alias('ce'), users_df.user_id == course_enrolments_df.user_id,'left').\\\n",
    "    filter('course_enrolmane_id is NULL').\\\n",
    "    select('u.*','course_id','course_enrolmane_id').\\\n",
    "    show()"
   ]
  },
  {
   "cell_type": "markdown",
   "metadata": {
    "application/vnd.databricks.v1+cell": {
     "cellMetadata": {},
     "inputWidgets": {},
     "nuid": "f500bbd2-3065-4c41-ba80-8d19744f844e",
     "showTitle": false,
     "title": ""
    }
   },
   "source": [
    "- Get number of courses enrolled by each user\n",
    "- If there are no enrollments, then count should return 0"
   ]
  },
  {
   "cell_type": "code",
   "execution_count": 0,
   "metadata": {
    "application/vnd.databricks.v1+cell": {
     "cellMetadata": {
      "byteLimit": 2048000,
      "rowLimit": 10000
     },
     "inputWidgets": {},
     "nuid": "fea1712e-7959-4dd2-b8ad-a306e683bcae",
     "showTitle": false,
     "title": ""
    }
   },
   "outputs": [
    {
     "output_type": "stream",
     "name": "stdout",
     "output_type": "stream",
     "text": [
      "+-------+-----+\n|user_id|count|\n+-------+-----+\n|      1|    1|\n|      2|    1|\n|      3|    2|\n|      4|    2|\n|      5|    3|\n|      6|    1|\n|      7|    3|\n|      8|    3|\n|      9|    1|\n|     10|    1|\n+-------+-----+\n\n"
     ]
    }
   ],
   "source": [
    "users_df.alias('u').\\\n",
    "    join(course_enrolments_df.alias('ce'), users_df.user_id == course_enrolments_df.user_id,'outer').\\\n",
    "    groupBy('u.user_id').\\\n",
    "    count().\\\n",
    "    orderBy('u.user_id').\\\n",
    "    show()"
   ]
  },
  {
   "cell_type": "code",
   "execution_count": 0,
   "metadata": {
    "application/vnd.databricks.v1+cell": {
     "cellMetadata": {
      "byteLimit": 2048000,
      "rowLimit": 10000
     },
     "inputWidgets": {},
     "nuid": "9b6bc408-fd53-474b-9636-05a26d29f825",
     "showTitle": false,
     "title": ""
    }
   },
   "outputs": [
    {
     "output_type": "stream",
     "name": "stdout",
     "output_type": "stream",
     "text": [
      "+-------+-----+\n|user_id|count|\n+-------+-----+\n|      1|    1|\n|      2|    1|\n|      3|    2|\n|      4|    2|\n|      5|    3|\n|      6|    1|\n|      7|    3|\n|      8|    3|\n|      9|    1|\n|     10|    1|\n+-------+-----+\n\n"
     ]
    }
   ],
   "source": [
    "users_df.alias('u').\\\n",
    "    join(course_enrolments_df.alias('ce'), users_df.user_id == course_enrolments_df.user_id,'left').\\\n",
    "    groupBy('u.user_id').\\\n",
    "    count().\\\n",
    "    orderBy('u.user_id').\\\n",
    "    show()"
   ]
  },
  {
   "cell_type": "code",
   "execution_count": 0,
   "metadata": {
    "application/vnd.databricks.v1+cell": {
     "cellMetadata": {
      "byteLimit": 2048000,
      "rowLimit": 10000
     },
     "inputWidgets": {},
     "nuid": "5b6d33f1-aef4-4daa-9192-e66115660094",
     "showTitle": false,
     "title": ""
    }
   },
   "outputs": [],
   "source": [
    "from pyspark.sql.functions import *"
   ]
  },
  {
   "cell_type": "code",
   "execution_count": 0,
   "metadata": {
    "application/vnd.databricks.v1+cell": {
     "cellMetadata": {
      "byteLimit": 2048000,
      "rowLimit": 10000
     },
     "inputWidgets": {},
     "nuid": "21303360-c9d2-4e57-ba19-1af84ae5385e",
     "showTitle": false,
     "title": ""
    }
   },
   "outputs": [
    {
     "output_type": "stream",
     "name": "stdout",
     "output_type": "stream",
     "text": [
      "+-------+------------+\n|user_id|course_count|\n+-------+------------+\n|      1|           0|\n|      2|           0|\n|      3|           2|\n|      4|           2|\n|      5|           3|\n|      6|           0|\n|      7|           3|\n|      8|           3|\n|      9|           1|\n|     10|           1|\n+-------+------------+\n\n"
     ]
    }
   ],
   "source": [
    "# using count will not give correct result so need to make use of when and sum in aggragtions to get proper count\n",
    "users_df.alias('u').\\\n",
    "    join(course_enrolments_df.alias('ce'), users_df.user_id == course_enrolments_df.user_id,'left').\\\n",
    "    groupBy('u.user_id').\\\n",
    "    agg(sum(when(course_enrolments_df['course_enrolmane_id'].isNull(),0).otherwise(1)).alias('course_count')).\\\n",
    "    orderBy('u.user_id').\\\n",
    "    show()"
   ]
  },
  {
   "cell_type": "code",
   "execution_count": 0,
   "metadata": {
    "application/vnd.databricks.v1+cell": {
     "cellMetadata": {
      "byteLimit": 2048000,
      "rowLimit": 10000
     },
     "inputWidgets": {},
     "nuid": "28fe2122-c8c1-4837-9217-94c3cb96c327",
     "showTitle": false,
     "title": ""
    }
   },
   "outputs": [
    {
     "output_type": "stream",
     "name": "stdout",
     "output_type": "stream",
     "text": [
      "+-------+------------+\n|user_id|course_count|\n+-------+------------+\n|      1|           0|\n|      2|           0|\n|      3|           2|\n|      4|           2|\n|      5|           3|\n|      6|           0|\n|      7|           3|\n|      8|           3|\n|      9|           1|\n|     10|           1|\n+-------+------------+\n\n"
     ]
    }
   ],
   "source": [
    "users_df.alias('u').\\\n",
    "    join(course_enrolments_df.alias('ce'), users_df.user_id == course_enrolments_df.user_id,'left').\\\n",
    "    groupBy('u.user_id').\\\n",
    "    agg(sum(expr(\n",
    "        '''\n",
    "        CASE\n",
    "            WHEN ce.course_enrolmane_id IS NULL THEN 0\n",
    "            ELSE 1\n",
    "        END        \n",
    "         '''\n",
    "    )).alias('course_count')).\\\n",
    "    orderBy('u.user_id').\\\n",
    "    show()"
   ]
  },
  {
   "cell_type": "code",
   "execution_count": 0,
   "metadata": {
    "application/vnd.databricks.v1+cell": {
     "cellMetadata": {},
     "inputWidgets": {},
     "nuid": "d06aff4e-311a-491b-96a8-0f03cd8e024c",
     "showTitle": false,
     "title": ""
    }
   },
   "outputs": [],
   "source": []
  }
 ],
 "metadata": {
  "application/vnd.databricks.v1+notebook": {
   "dashboards": [],
   "language": "python",
   "notebookMetadata": {
    "pythonIndentUnit": 4
   },
   "notebookName": "06 - Performing Outer Join using left between Spark Data Frames",
   "widgets": {}
  }
 },
 "nbformat": 4,
 "nbformat_minor": 0
}
