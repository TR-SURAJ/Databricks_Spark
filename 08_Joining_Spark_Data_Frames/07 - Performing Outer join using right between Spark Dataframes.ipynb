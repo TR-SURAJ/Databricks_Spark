{
 "cells": [
  {
   "cell_type": "code",
   "execution_count": 0,
   "metadata": {
    "application/vnd.databricks.v1+cell": {
     "cellMetadata": {
      "byteLimit": 2048000,
      "rowLimit": 10000
     },
     "inputWidgets": {},
     "nuid": "6caad685-c80c-4a61-b070-5bff49f8c98f",
     "showTitle": false,
     "title": ""
    }
   },
   "outputs": [
    {
     "output_type": "stream",
     "name": "stdout",
     "output_type": "stream",
     "text": [
      "+---------+--------------------+-------------------+---------+-------------------+\n|course_id|        course_title|course_published_at|is_active|    last_updated_ts|\n+---------+--------------------+-------------------+---------+-------------------+\n|        1|    Mastering python|         2021-01-04|     true|2021-02-18 16:57:25|\n|        2|Data Engineering ...|         2021-02-10|     true|2021-03-05 12:07:33|\n|        3|   Mastering pyspark|         2021-01-07|     true|2021-04-06 10:05:42|\n|        4|      AWS Essentials|         2021-03-19|    false|2021-04-10 02:25:36|\n|        5|          Docker 101|         2021-02-28|     true|2021-03-21 07:18:52|\n+---------+--------------------+-------------------+---------+-------------------+\n\n"
     ]
    },
    {
     "output_type": "stream",
     "name": "stdout",
     "output_type": "stream",
     "text": [
      "+-------+---------------+--------------+--------------------+\n|user_id|user_first_name|user_last_name|          user_email|\n+-------+---------------+--------------+--------------------+\n|      1|         Sandra|        Karpov|     skarpov@ovh.net|\n|      2|           Kari|        Dearth|kdearth1@so-net.n...|\n|      3|         Joanna|      Spennock|jspennock2@redcro...|\n|      4|         Hirsch|       Conaboy|hconaboy3@barnesa...|\n|      5|         Loreen|         Malin|lmalin4@independe...|\n|      6|           Augy|      Christon|      achriston5@mlb|\n|      7|         Trudey|       Choupin|     tchoupin6@de.vu|\n|      8|         Nadine|     Grimsdell| ngrimsdell7@ohu.com|\n|      9|        Vassily|         Tamas|vtamas@businesswe...|\n|     10|          Wells|      Simpkins|wsimpkins9@amazon...|\n+-------+---------------+--------------+--------------------+\n\n"
     ]
    },
    {
     "output_type": "stream",
     "name": "stdout",
     "output_type": "stream",
     "text": [
      "+-------------------+-------+---------+----------+\n|course_enrolmane_id|user_id|course_id|price_paid|\n+-------------------+-------+---------+----------+\n|                  1|     10|        2|      9.99|\n|                  2|      5|        2|      9.99|\n|                  3|      7|        5|      9.99|\n|                  4|      9|        2|      9.99|\n|                  5|      8|        2|      9.99|\n|                  6|      5|        5|     10.99|\n|                  7|      4|        5|     10.99|\n|                  8|      7|        3|     10.99|\n|                  9|      8|        5|     10.99|\n|                 10|      3|        3|     10.99|\n|                 11|      7|        5|     10.99|\n|                 12|      3|        2|      9.99|\n|                 13|      5|        2|      9.99|\n|                 14|      4|        3|     10.99|\n|                 15|      8|        2|      9.99|\n+-------------------+-------+---------+----------+\n\n"
     ]
    }
   ],
   "source": [
    "%run \"/Users/surajthallapalli@outlook.com/08 Joining Spark Data Frames/02 - Setup Datasets to perform joins\""
   ]
  },
  {
   "cell_type": "code",
   "execution_count": 0,
   "metadata": {
    "application/vnd.databricks.v1+cell": {
     "cellMetadata": {
      "byteLimit": 2048000,
      "rowLimit": 10000
     },
     "inputWidgets": {},
     "nuid": "44defadf-aa92-4fac-9abd-55a3532b1b15",
     "showTitle": false,
     "title": ""
    }
   },
   "outputs": [
    {
     "output_type": "stream",
     "name": "stdout",
     "output_type": "stream",
     "text": [
      "+-------------------+-------+---------+----------+-------+---------------+--------------+--------------------+\n|course_enrolmane_id|user_id|course_id|price_paid|user_id|user_first_name|user_last_name|          user_email|\n+-------------------+-------+---------+----------+-------+---------------+--------------+--------------------+\n|               NULL|   NULL|     NULL|      NULL|      1|         Sandra|        Karpov|     skarpov@ovh.net|\n|               NULL|   NULL|     NULL|      NULL|      2|           Kari|        Dearth|kdearth1@so-net.n...|\n|                 12|      3|        2|      9.99|      3|         Joanna|      Spennock|jspennock2@redcro...|\n|                 10|      3|        3|     10.99|      3|         Joanna|      Spennock|jspennock2@redcro...|\n|                 14|      4|        3|     10.99|      4|         Hirsch|       Conaboy|hconaboy3@barnesa...|\n|                  7|      4|        5|     10.99|      4|         Hirsch|       Conaboy|hconaboy3@barnesa...|\n|               NULL|   NULL|     NULL|      NULL|      6|           Augy|      Christon|      achriston5@mlb|\n|                 13|      5|        2|      9.99|      5|         Loreen|         Malin|lmalin4@independe...|\n|                  6|      5|        5|     10.99|      5|         Loreen|         Malin|lmalin4@independe...|\n|                  2|      5|        2|      9.99|      5|         Loreen|         Malin|lmalin4@independe...|\n|                 11|      7|        5|     10.99|      7|         Trudey|       Choupin|     tchoupin6@de.vu|\n|                  8|      7|        3|     10.99|      7|         Trudey|       Choupin|     tchoupin6@de.vu|\n|                  3|      7|        5|      9.99|      7|         Trudey|       Choupin|     tchoupin6@de.vu|\n|                  4|      9|        2|      9.99|      9|        Vassily|         Tamas|vtamas@businesswe...|\n|                  1|     10|        2|      9.99|     10|          Wells|      Simpkins|wsimpkins9@amazon...|\n|                 15|      8|        2|      9.99|      8|         Nadine|     Grimsdell| ngrimsdell7@ohu.com|\n|                  9|      8|        5|     10.99|      8|         Nadine|     Grimsdell| ngrimsdell7@ohu.com|\n|                  5|      8|        2|      9.99|      8|         Nadine|     Grimsdell| ngrimsdell7@ohu.com|\n+-------------------+-------+---------+----------+-------+---------------+--------------+--------------------+\n\n"
     ]
    }
   ],
   "source": [
    "course_enrolments_df.\\\n",
    "    join(users_df, users_df.user_id == course_enrolments_df.user_id, 'right').\\\n",
    "    show()"
   ]
  },
  {
   "cell_type": "code",
   "execution_count": 0,
   "metadata": {
    "application/vnd.databricks.v1+cell": {
     "cellMetadata": {
      "byteLimit": 2048000,
      "rowLimit": 10000
     },
     "inputWidgets": {},
     "nuid": "c2dc95a2-893f-4b71-8ace-e8dc8fedcbb8",
     "showTitle": false,
     "title": ""
    }
   },
   "outputs": [
    {
     "output_type": "stream",
     "name": "stdout",
     "output_type": "stream",
     "text": [
      "+-------+-------------------+---------+----------+---------------+--------------+--------------------+\n|user_id|course_enrolmane_id|course_id|price_paid|user_first_name|user_last_name|          user_email|\n+-------+-------------------+---------+----------+---------------+--------------+--------------------+\n|      1|               NULL|     NULL|      NULL|         Sandra|        Karpov|     skarpov@ovh.net|\n|      2|               NULL|     NULL|      NULL|           Kari|        Dearth|kdearth1@so-net.n...|\n|      3|                 12|        2|      9.99|         Joanna|      Spennock|jspennock2@redcro...|\n|      3|                 10|        3|     10.99|         Joanna|      Spennock|jspennock2@redcro...|\n|      4|                 14|        3|     10.99|         Hirsch|       Conaboy|hconaboy3@barnesa...|\n|      4|                  7|        5|     10.99|         Hirsch|       Conaboy|hconaboy3@barnesa...|\n|      5|                 13|        2|      9.99|         Loreen|         Malin|lmalin4@independe...|\n|      5|                  6|        5|     10.99|         Loreen|         Malin|lmalin4@independe...|\n|      5|                  2|        2|      9.99|         Loreen|         Malin|lmalin4@independe...|\n|      6|               NULL|     NULL|      NULL|           Augy|      Christon|      achriston5@mlb|\n|      7|                 11|        5|     10.99|         Trudey|       Choupin|     tchoupin6@de.vu|\n|      7|                  8|        3|     10.99|         Trudey|       Choupin|     tchoupin6@de.vu|\n|      7|                  3|        5|      9.99|         Trudey|       Choupin|     tchoupin6@de.vu|\n|      8|                 15|        2|      9.99|         Nadine|     Grimsdell| ngrimsdell7@ohu.com|\n|      8|                  9|        5|     10.99|         Nadine|     Grimsdell| ngrimsdell7@ohu.com|\n|      8|                  5|        2|      9.99|         Nadine|     Grimsdell| ngrimsdell7@ohu.com|\n|      9|                  4|        2|      9.99|        Vassily|         Tamas|vtamas@businesswe...|\n|     10|                  1|        2|      9.99|          Wells|      Simpkins|wsimpkins9@amazon...|\n+-------+-------------------+---------+----------+---------------+--------------+--------------------+\n\n"
     ]
    }
   ],
   "source": [
    "course_enrolments_df.\\\n",
    "    join(users_df, 'user_id', 'right').\\\n",
    "    show()"
   ]
  },
  {
   "cell_type": "code",
   "execution_count": 0,
   "metadata": {
    "application/vnd.databricks.v1+cell": {
     "cellMetadata": {},
     "inputWidgets": {},
     "nuid": "71314ecb-3514-4e73-b03a-fc278da17ec1",
     "showTitle": false,
     "title": ""
    }
   },
   "outputs": [],
   "source": []
  }
 ],
 "metadata": {
  "application/vnd.databricks.v1+notebook": {
   "dashboards": [],
   "language": "python",
   "notebookMetadata": {
    "pythonIndentUnit": 4
   },
   "notebookName": "07 - Performing Outer join using right between Spark Dataframes",
   "widgets": {}
  }
 },
 "nbformat": 4,
 "nbformat_minor": 0
}
