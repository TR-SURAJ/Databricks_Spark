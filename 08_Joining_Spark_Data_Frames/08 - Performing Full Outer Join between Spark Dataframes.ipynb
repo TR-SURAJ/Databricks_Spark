{
 "cells": [
  {
   "cell_type": "code",
   "execution_count": 0,
   "metadata": {
    "application/vnd.databricks.v1+cell": {
     "cellMetadata": {
      "byteLimit": 2048000,
      "rowLimit": 10000
     },
     "inputWidgets": {},
     "nuid": "b31e67c0-50c8-404c-b9d4-320944e54a72",
     "showTitle": false,
     "title": ""
    }
   },
   "outputs": [
    {
     "output_type": "stream",
     "name": "stdout",
     "output_type": "stream",
     "text": [
      "+---------+--------------------+-------------------+---------+-------------------+\n|course_id|        course_title|course_published_at|is_active|    last_updated_ts|\n+---------+--------------------+-------------------+---------+-------------------+\n|        1|    Mastering python|         2021-01-04|     true|2021-02-18 16:57:25|\n|        2|Data Engineering ...|         2021-02-10|     true|2021-03-05 12:07:33|\n|        3|   Mastering pyspark|         2021-01-07|     true|2021-04-06 10:05:42|\n|        4|      AWS Essentials|         2021-03-19|    false|2021-04-10 02:25:36|\n|        5|          Docker 101|         2021-02-28|     true|2021-03-21 07:18:52|\n+---------+--------------------+-------------------+---------+-------------------+\n\n"
     ]
    },
    {
     "output_type": "stream",
     "name": "stdout",
     "output_type": "stream",
     "text": [
      "+-------+---------------+--------------+--------------------+\n|user_id|user_first_name|user_last_name|          user_email|\n+-------+---------------+--------------+--------------------+\n|      1|         Sandra|        Karpov|     skarpov@ovh.net|\n|      2|           Kari|        Dearth|kdearth1@so-net.n...|\n|      3|         Joanna|      Spennock|jspennock2@redcro...|\n|      4|         Hirsch|       Conaboy|hconaboy3@barnesa...|\n|      5|         Loreen|         Malin|lmalin4@independe...|\n|      6|           Augy|      Christon|      achriston5@mlb|\n|      7|         Trudey|       Choupin|     tchoupin6@de.vu|\n|      8|         Nadine|     Grimsdell| ngrimsdell7@ohu.com|\n|      9|        Vassily|         Tamas|vtamas@businesswe...|\n|     10|          Wells|      Simpkins|wsimpkins9@amazon...|\n+-------+---------------+--------------+--------------------+\n\n"
     ]
    },
    {
     "output_type": "stream",
     "name": "stdout",
     "output_type": "stream",
     "text": [
      "+-------------------+-------+---------+----------+\n|course_enrolmane_id|user_id|course_id|price_paid|\n+-------------------+-------+---------+----------+\n|                  1|     10|        2|      9.99|\n|                  2|      5|        2|      9.99|\n|                  3|      7|        5|      9.99|\n|                  4|      9|        2|      9.99|\n|                  5|      8|        2|      9.99|\n|                  6|      5|        5|     10.99|\n|                  7|      4|        5|     10.99|\n|                  8|      7|        3|     10.99|\n|                  9|      8|        5|     10.99|\n|                 10|      3|        3|     10.99|\n|                 11|      7|        5|     10.99|\n|                 12|      3|        2|      9.99|\n|                 13|      5|        2|      9.99|\n|                 14|      4|        3|     10.99|\n|                 15|      8|        2|      9.99|\n+-------------------+-------+---------+----------+\n\n"
     ]
    }
   ],
   "source": [
    "%run \"/Users/surajthallapalli@outlook.com/08 Joining Spark Data Frames/02 - Setup Datasets to perform joins\""
   ]
  },
  {
   "cell_type": "code",
   "execution_count": 0,
   "metadata": {
    "application/vnd.databricks.v1+cell": {
     "cellMetadata": {
      "byteLimit": 2048000,
      "rowLimit": 10000
     },
     "inputWidgets": {},
     "nuid": "ea3c09c3-62b1-45a8-b205-c477cd18517d",
     "showTitle": false,
     "title": ""
    }
   },
   "outputs": [
    {
     "output_type": "stream",
     "name": "stdout",
     "output_type": "stream",
     "text": [
      "+-------+---------------+--------------+--------------------+-------------------+-------+---------+----------+\n|user_id|user_first_name|user_last_name|          user_email|course_enrolmane_id|user_id|course_id|price_paid|\n+-------+---------------+--------------+--------------------+-------------------+-------+---------+----------+\n|      3|         Joanna|      Spennock|jspennock2@redcro...|                 10|      3|        3|     10.99|\n|      3|         Joanna|      Spennock|jspennock2@redcro...|                 12|      3|        2|      9.99|\n|      4|         Hirsch|       Conaboy|hconaboy3@barnesa...|                  7|      4|        5|     10.99|\n|      4|         Hirsch|       Conaboy|hconaboy3@barnesa...|                 14|      4|        3|     10.99|\n|      5|         Loreen|         Malin|lmalin4@independe...|                  2|      5|        2|      9.99|\n|      5|         Loreen|         Malin|lmalin4@independe...|                  6|      5|        5|     10.99|\n|      5|         Loreen|         Malin|lmalin4@independe...|                 13|      5|        2|      9.99|\n|      7|         Trudey|       Choupin|     tchoupin6@de.vu|                  3|      7|        5|      9.99|\n|      7|         Trudey|       Choupin|     tchoupin6@de.vu|                  8|      7|        3|     10.99|\n|      7|         Trudey|       Choupin|     tchoupin6@de.vu|                 11|      7|        5|     10.99|\n|      8|         Nadine|     Grimsdell| ngrimsdell7@ohu.com|                  5|      8|        2|      9.99|\n|      8|         Nadine|     Grimsdell| ngrimsdell7@ohu.com|                  9|      8|        5|     10.99|\n|      8|         Nadine|     Grimsdell| ngrimsdell7@ohu.com|                 15|      8|        2|      9.99|\n|      9|        Vassily|         Tamas|vtamas@businesswe...|                  4|      9|        2|      9.99|\n|     10|          Wells|      Simpkins|wsimpkins9@amazon...|                  1|     10|        2|      9.99|\n+-------+---------------+--------------+--------------------+-------------------+-------+---------+----------+\n\n"
     ]
    }
   ],
   "source": [
    "users_df.\\\n",
    "    join(course_enrolments_df, users_df.user_id == course_enrolments_df.user_id, 'inner').\\\n",
    "    show()"
   ]
  },
  {
   "cell_type": "code",
   "execution_count": 0,
   "metadata": {
    "application/vnd.databricks.v1+cell": {
     "cellMetadata": {
      "byteLimit": 2048000,
      "rowLimit": 10000
     },
     "inputWidgets": {},
     "nuid": "36012220-89e6-4f86-a35b-98c671f553a1",
     "showTitle": false,
     "title": ""
    }
   },
   "outputs": [
    {
     "output_type": "stream",
     "name": "stdout",
     "output_type": "stream",
     "text": [
      "+-------+---------------+--------------+--------------------+-------------------+-------+---------+----------+\n|user_id|user_first_name|user_last_name|          user_email|course_enrolmane_id|user_id|course_id|price_paid|\n+-------+---------------+--------------+--------------------+-------------------+-------+---------+----------+\n|      1|         Sandra|        Karpov|     skarpov@ovh.net|               NULL|   NULL|     NULL|      NULL|\n|      2|           Kari|        Dearth|kdearth1@so-net.n...|               NULL|   NULL|     NULL|      NULL|\n|      3|         Joanna|      Spennock|jspennock2@redcro...|                 10|      3|        3|     10.99|\n|      3|         Joanna|      Spennock|jspennock2@redcro...|                 12|      3|        2|      9.99|\n|      4|         Hirsch|       Conaboy|hconaboy3@barnesa...|                  7|      4|        5|     10.99|\n|      4|         Hirsch|       Conaboy|hconaboy3@barnesa...|                 14|      4|        3|     10.99|\n|      5|         Loreen|         Malin|lmalin4@independe...|                  2|      5|        2|      9.99|\n|      5|         Loreen|         Malin|lmalin4@independe...|                  6|      5|        5|     10.99|\n|      5|         Loreen|         Malin|lmalin4@independe...|                 13|      5|        2|      9.99|\n|      6|           Augy|      Christon|      achriston5@mlb|               NULL|   NULL|     NULL|      NULL|\n|      7|         Trudey|       Choupin|     tchoupin6@de.vu|                  3|      7|        5|      9.99|\n|      7|         Trudey|       Choupin|     tchoupin6@de.vu|                  8|      7|        3|     10.99|\n|      7|         Trudey|       Choupin|     tchoupin6@de.vu|                 11|      7|        5|     10.99|\n|      8|         Nadine|     Grimsdell| ngrimsdell7@ohu.com|                  5|      8|        2|      9.99|\n|      8|         Nadine|     Grimsdell| ngrimsdell7@ohu.com|                  9|      8|        5|     10.99|\n|      8|         Nadine|     Grimsdell| ngrimsdell7@ohu.com|                 15|      8|        2|      9.99|\n|      9|        Vassily|         Tamas|vtamas@businesswe...|                  4|      9|        2|      9.99|\n|     10|          Wells|      Simpkins|wsimpkins9@amazon...|                  1|     10|        2|      9.99|\n+-------+---------------+--------------+--------------------+-------------------+-------+---------+----------+\n\n"
     ]
    }
   ],
   "source": [
    "users_df.\\\n",
    "    join(course_enrolments_df, users_df.user_id == course_enrolments_df.user_id, 'outer').\\\n",
    "    show()"
   ]
  },
  {
   "cell_type": "code",
   "execution_count": 0,
   "metadata": {
    "application/vnd.databricks.v1+cell": {
     "cellMetadata": {},
     "inputWidgets": {},
     "nuid": "068c50e9-3216-45dd-b985-a2123142fb6b",
     "showTitle": false,
     "title": ""
    }
   },
   "outputs": [],
   "source": []
  }
 ],
 "metadata": {
  "application/vnd.databricks.v1+notebook": {
   "dashboards": [],
   "language": "python",
   "notebookMetadata": {
    "pythonIndentUnit": 4
   },
   "notebookName": "08 - Performing Full Outer Join between Spark Dataframes",
   "widgets": {}
  }
 },
 "nbformat": 4,
 "nbformat_minor": 0
}
