{
 "cells": [
  {
   "cell_type": "markdown",
   "metadata": {
    "application/vnd.databricks.v1+cell": {
     "cellMetadata": {},
     "inputWidgets": {},
     "nuid": "827f29a8-50fb-4c4c-8feb-9fa4a11b61f8",
     "showTitle": false,
     "title": ""
    }
   },
   "source": [
    "- Check if the files are compressed (gz, snappy, bz2, etc). Most common ones are gz and snappy\n",
    "- Understand the file format(text,json,avro,parquet,orc etc). Sometimes files will not have extensions\n",
    "- If files does not have extensions, make sure to confirm the details by going through the tech spec or by opening the file\n",
    "- We will get tech specs from our leads or architects while working on real world projects\n",
    "- If the files are of text file format, check if the data is delimited or seperated by a specific character\n",
    "- Use appropriate API under spark.read to read the data"
   ]
  },
  {
   "cell_type": "code",
   "execution_count": 0,
   "metadata": {
    "application/vnd.databricks.v1+cell": {
     "cellMetadata": {
      "byteLimit": 2048000,
      "rowLimit": 10000
     },
     "inputWidgets": {},
     "nuid": "88f43293-7be9-4942-aadc-fea8862b62fa",
     "showTitle": false,
     "title": ""
    }
   },
   "outputs": [
    {
     "output_type": "display_data",
     "data": {
      "text/html": [
       "<style scoped>\n",
       "  .table-result-container {\n",
       "    max-height: 300px;\n",
       "    overflow: auto;\n",
       "  }\n",
       "  table, th, td {\n",
       "    border: 1px solid black;\n",
       "    border-collapse: collapse;\n",
       "  }\n",
       "  th, td {\n",
       "    padding: 5px;\n",
       "  }\n",
       "  th {\n",
       "    text-align: left;\n",
       "  }\n",
       "</style><div class='table-result-container'><table class='table-result'><thead style='background-color: white'><tr><th>path</th><th>name</th><th>size</th><th>modificationTime</th></tr></thead><tbody><tr><td>dbfs:/public/retail_db/orders/part-00000</td><td>part-00000</td><td>3068827</td><td>1688522117000</td></tr></tbody></table></div>"
      ]
     },
     "metadata": {
      "application/vnd.databricks.v1+output": {
       "addedWidgets": {},
       "aggData": [],
       "aggError": "",
       "aggOverflow": false,
       "aggSchema": [],
       "aggSeriesLimitReached": false,
       "aggType": "",
       "arguments": {},
       "columnCustomDisplayInfos": {},
       "data": [
        [
         "dbfs:/public/retail_db/orders/part-00000",
         "part-00000",
         3068827,
         1688522117000
        ]
       ],
       "datasetInfos": [],
       "dbfsResultPath": null,
       "isJsonSchema": true,
       "metadata": {
        "isDbfsCommandResult": false
       },
       "overflow": false,
       "plotOptions": {
        "customPlotOptions": {},
        "displayType": "table",
        "pivotAggregation": null,
        "pivotColumns": null,
        "xColumns": null,
        "yColumns": null
       },
       "removedWidgets": [],
       "schema": [
        {
         "metadata": "{}",
         "name": "path",
         "type": "\"string\""
        },
        {
         "metadata": "{}",
         "name": "name",
         "type": "\"string\""
        },
        {
         "metadata": "{}",
         "name": "size",
         "type": "\"long\""
        },
        {
         "metadata": "{}",
         "name": "modificationTime",
         "type": "\"long\""
        }
       ],
       "type": "table"
      }
     },
     "output_type": "display_data"
    }
   ],
   "source": [
    "%fs ls /public/retail_db/orders"
   ]
  },
  {
   "cell_type": "code",
   "execution_count": 0,
   "metadata": {
    "application/vnd.databricks.v1+cell": {
     "cellMetadata": {
      "byteLimit": 2048000,
      "rowLimit": 10000
     },
     "inputWidgets": {},
     "nuid": "c17c94d8-cebe-41f7-b949-9f521eb85a20",
     "showTitle": false,
     "title": ""
    }
   },
   "outputs": [
    {
     "output_type": "stream",
     "name": "stdout",
     "output_type": "stream",
     "text": [
      "+---------------------------------------------+\n|value                                        |\n+---------------------------------------------+\n|1,2013-07-25 00:00:00.0,11599,CLOSED         |\n|2,2013-07-25 00:00:00.0,256,PENDING_PAYMENT  |\n|3,2013-07-25 00:00:00.0,12111,COMPLETE       |\n|4,2013-07-25 00:00:00.0,8827,CLOSED          |\n|5,2013-07-25 00:00:00.0,11318,COMPLETE       |\n|6,2013-07-25 00:00:00.0,7130,COMPLETE        |\n|7,2013-07-25 00:00:00.0,4530,COMPLETE        |\n|8,2013-07-25 00:00:00.0,2911,PROCESSING      |\n|9,2013-07-25 00:00:00.0,5657,PENDING_PAYMENT |\n|10,2013-07-25 00:00:00.0,5648,PENDING_PAYMENT|\n|11,2013-07-25 00:00:00.0,918,PAYMENT_REVIEW  |\n|12,2013-07-25 00:00:00.0,1837,CLOSED         |\n|13,2013-07-25 00:00:00.0,9149,PENDING_PAYMENT|\n|14,2013-07-25 00:00:00.0,9842,PROCESSING     |\n|15,2013-07-25 00:00:00.0,2568,COMPLETE       |\n|16,2013-07-25 00:00:00.0,7276,PENDING_PAYMENT|\n|17,2013-07-25 00:00:00.0,2667,COMPLETE       |\n|18,2013-07-25 00:00:00.0,1205,CLOSED         |\n|19,2013-07-25 00:00:00.0,9488,PENDING_PAYMENT|\n|20,2013-07-25 00:00:00.0,9198,PROCESSING     |\n+---------------------------------------------+\nonly showing top 20 rows\n\n"
     ]
    }
   ],
   "source": [
    "spark.read.text('/public/retail_db/orders').show(truncate=False)"
   ]
  },
  {
   "cell_type": "code",
   "execution_count": 0,
   "metadata": {
    "application/vnd.databricks.v1+cell": {
     "cellMetadata": {
      "byteLimit": 2048000,
      "rowLimit": 10000
     },
     "inputWidgets": {},
     "nuid": "1d7f880e-2c59-44e7-96f0-2f4791899a19",
     "showTitle": false,
     "title": ""
    }
   },
   "outputs": [
    {
     "output_type": "display_data",
     "data": {
      "text/html": [
       "<style scoped>\n",
       "  .table-result-container {\n",
       "    max-height: 300px;\n",
       "    overflow: auto;\n",
       "  }\n",
       "  table, th, td {\n",
       "    border: 1px solid black;\n",
       "    border-collapse: collapse;\n",
       "  }\n",
       "  th, td {\n",
       "    padding: 5px;\n",
       "  }\n",
       "  th {\n",
       "    text-align: left;\n",
       "  }\n",
       "</style><div class='table-result-container'><table class='table-result'><thead style='background-color: white'><tr><th>path</th><th>name</th><th>size</th><th>modificationTime</th></tr></thead><tbody><tr><td>dbfs:/public/retail_db_json/orders/part-r-00000-990f5773-9005-49ba-b670-631286032674</td><td>part-r-00000-990f5773-9005-49ba-b670-631286032674</td><td>7546222</td><td>1688523874000</td></tr></tbody></table></div>"
      ]
     },
     "metadata": {
      "application/vnd.databricks.v1+output": {
       "addedWidgets": {},
       "aggData": [],
       "aggError": "",
       "aggOverflow": false,
       "aggSchema": [],
       "aggSeriesLimitReached": false,
       "aggType": "",
       "arguments": {},
       "columnCustomDisplayInfos": {},
       "data": [
        [
         "dbfs:/public/retail_db_json/orders/part-r-00000-990f5773-9005-49ba-b670-631286032674",
         "part-r-00000-990f5773-9005-49ba-b670-631286032674",
         7546222,
         1688523874000
        ]
       ],
       "datasetInfos": [],
       "dbfsResultPath": null,
       "isJsonSchema": true,
       "metadata": {
        "isDbfsCommandResult": false
       },
       "overflow": false,
       "plotOptions": {
        "customPlotOptions": {},
        "displayType": "table",
        "pivotAggregation": null,
        "pivotColumns": null,
        "xColumns": null,
        "yColumns": null
       },
       "removedWidgets": [],
       "schema": [
        {
         "metadata": "{}",
         "name": "path",
         "type": "\"string\""
        },
        {
         "metadata": "{}",
         "name": "name",
         "type": "\"string\""
        },
        {
         "metadata": "{}",
         "name": "size",
         "type": "\"long\""
        },
        {
         "metadata": "{}",
         "name": "modificationTime",
         "type": "\"long\""
        }
       ],
       "type": "table"
      }
     },
     "output_type": "display_data"
    }
   ],
   "source": [
    "%fs ls /public/retail_db_json/orders"
   ]
  },
  {
   "cell_type": "code",
   "execution_count": 0,
   "metadata": {
    "application/vnd.databricks.v1+cell": {
     "cellMetadata": {
      "byteLimit": 2048000,
      "rowLimit": 10000
     },
     "inputWidgets": {},
     "nuid": "ab879e33-92fb-461d-9f86-9822da0fb668",
     "showTitle": false,
     "title": ""
    }
   },
   "outputs": [
    {
     "output_type": "stream",
     "name": "stdout",
     "output_type": "stream",
     "text": [
      "+-----------------+--------------------+--------+---------------+\n|order_customer_id|          order_date|order_id|   order_status|\n+-----------------+--------------------+--------+---------------+\n|            11599|2013-07-25 00:00:...|       1|         CLOSED|\n|              256|2013-07-25 00:00:...|       2|PENDING_PAYMENT|\n|            12111|2013-07-25 00:00:...|       3|       COMPLETE|\n|             8827|2013-07-25 00:00:...|       4|         CLOSED|\n|            11318|2013-07-25 00:00:...|       5|       COMPLETE|\n|             7130|2013-07-25 00:00:...|       6|       COMPLETE|\n|             4530|2013-07-25 00:00:...|       7|       COMPLETE|\n|             2911|2013-07-25 00:00:...|       8|     PROCESSING|\n|             5657|2013-07-25 00:00:...|       9|PENDING_PAYMENT|\n|             5648|2013-07-25 00:00:...|      10|PENDING_PAYMENT|\n|              918|2013-07-25 00:00:...|      11| PAYMENT_REVIEW|\n|             1837|2013-07-25 00:00:...|      12|         CLOSED|\n|             9149|2013-07-25 00:00:...|      13|PENDING_PAYMENT|\n|             9842|2013-07-25 00:00:...|      14|     PROCESSING|\n|             2568|2013-07-25 00:00:...|      15|       COMPLETE|\n|             7276|2013-07-25 00:00:...|      16|PENDING_PAYMENT|\n|             2667|2013-07-25 00:00:...|      17|       COMPLETE|\n|             1205|2013-07-25 00:00:...|      18|         CLOSED|\n|             9488|2013-07-25 00:00:...|      19|PENDING_PAYMENT|\n|             9198|2013-07-25 00:00:...|      20|     PROCESSING|\n+-----------------+--------------------+--------+---------------+\nonly showing top 20 rows\n\n"
     ]
    }
   ],
   "source": [
    "spark.read.json('/public/retail_db_json/orders').show()"
   ]
  },
  {
   "cell_type": "code",
   "execution_count": 0,
   "metadata": {
    "application/vnd.databricks.v1+cell": {
     "cellMetadata": {
      "byteLimit": 2048000,
      "rowLimit": 10000
     },
     "inputWidgets": {},
     "nuid": "06418b9c-c3e5-4a7e-87d0-59d8b7a62e93",
     "showTitle": false,
     "title": ""
    }
   },
   "outputs": [
    {
     "output_type": "display_data",
     "data": {
      "text/html": [
       "<style scoped>\n",
       "  .table-result-container {\n",
       "    max-height: 300px;\n",
       "    overflow: auto;\n",
       "  }\n",
       "  table, th, td {\n",
       "    border: 1px solid black;\n",
       "    border-collapse: collapse;\n",
       "  }\n",
       "  th, td {\n",
       "    padding: 5px;\n",
       "  }\n",
       "  th {\n",
       "    text-align: left;\n",
       "  }\n",
       "</style><div class='table-result-container'><table class='table-result'><thead style='background-color: white'><tr><th>path</th><th>name</th><th>size</th><th>modificationTime</th></tr></thead><tbody><tr><td>dbfs:/user/root/retail_db_parquet/orders/_SUCCESS</td><td>_SUCCESS</td><td>0</td><td>1697981160000</td></tr><tr><td>dbfs:/user/root/retail_db_parquet/orders/_committed_8179953115895123963</td><td>_committed_8179953115895123963</td><td>123</td><td>1697981160000</td></tr><tr><td>dbfs:/user/root/retail_db_parquet/orders/_started_8179953115895123963</td><td>_started_8179953115895123963</td><td>0</td><td>1697981160000</td></tr><tr><td>dbfs:/user/root/retail_db_parquet/orders/part-00000-tid-8179953115895123963-c35ccadf-1cdc-40b7-a979-8e858c75fe85-17-1.c000.snappy.parquet</td><td>part-00000-tid-8179953115895123963-c35ccadf-1cdc-40b7-a979-8e858c75fe85-17-1.c000.snappy.parquet</td><td>489027</td><td>1697981160000</td></tr></tbody></table></div>"
      ]
     },
     "metadata": {
      "application/vnd.databricks.v1+output": {
       "addedWidgets": {},
       "aggData": [],
       "aggError": "",
       "aggOverflow": false,
       "aggSchema": [],
       "aggSeriesLimitReached": false,
       "aggType": "",
       "arguments": {},
       "columnCustomDisplayInfos": {},
       "data": [
        [
         "dbfs:/user/root/retail_db_parquet/orders/_SUCCESS",
         "_SUCCESS",
         0,
         1697981160000
        ],
        [
         "dbfs:/user/root/retail_db_parquet/orders/_committed_8179953115895123963",
         "_committed_8179953115895123963",
         123,
         1697981160000
        ],
        [
         "dbfs:/user/root/retail_db_parquet/orders/_started_8179953115895123963",
         "_started_8179953115895123963",
         0,
         1697981160000
        ],
        [
         "dbfs:/user/root/retail_db_parquet/orders/part-00000-tid-8179953115895123963-c35ccadf-1cdc-40b7-a979-8e858c75fe85-17-1.c000.snappy.parquet",
         "part-00000-tid-8179953115895123963-c35ccadf-1cdc-40b7-a979-8e858c75fe85-17-1.c000.snappy.parquet",
         489027,
         1697981160000
        ]
       ],
       "datasetInfos": [],
       "dbfsResultPath": null,
       "isJsonSchema": true,
       "metadata": {
        "isDbfsCommandResult": false
       },
       "overflow": false,
       "plotOptions": {
        "customPlotOptions": {},
        "displayType": "table",
        "pivotAggregation": null,
        "pivotColumns": null,
        "xColumns": null,
        "yColumns": null
       },
       "removedWidgets": [],
       "schema": [
        {
         "metadata": "{}",
         "name": "path",
         "type": "\"string\""
        },
        {
         "metadata": "{}",
         "name": "name",
         "type": "\"string\""
        },
        {
         "metadata": "{}",
         "name": "size",
         "type": "\"long\""
        },
        {
         "metadata": "{}",
         "name": "modificationTime",
         "type": "\"long\""
        }
       ],
       "type": "table"
      }
     },
     "output_type": "display_data"
    }
   ],
   "source": [
    "%fs ls /user/root/retail_db_parquet/orders"
   ]
  },
  {
   "cell_type": "code",
   "execution_count": 0,
   "metadata": {
    "application/vnd.databricks.v1+cell": {
     "cellMetadata": {},
     "inputWidgets": {},
     "nuid": "755cbf8c-a3e4-4d0e-8c7f-707e630f3b32",
     "showTitle": false,
     "title": ""
    }
   },
   "outputs": [],
   "source": [
    "spark.read.parquet"
   ]
  }
 ],
 "metadata": {
  "application/vnd.databricks.v1+notebook": {
   "dashboards": [],
   "language": "python",
   "notebookMetadata": {
    "mostRecentlyExecutedCommandWithImplicitDF": {
     "commandId": 816251265088061,
     "dataframes": [
      "_sqldf"
     ]
    },
    "pythonIndentUnit": 4
   },
   "notebookName": "05 - Steps to follow to read data from files into Spark Data Frame",
   "widgets": {}
  }
 },
 "nbformat": 4,
 "nbformat_minor": 0
}
