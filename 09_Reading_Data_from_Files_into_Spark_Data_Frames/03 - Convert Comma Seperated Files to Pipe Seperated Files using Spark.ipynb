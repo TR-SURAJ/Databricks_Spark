{
 "cells": [
  {
   "cell_type": "code",
   "execution_count": 0,
   "metadata": {
    "application/vnd.databricks.v1+cell": {
     "cellMetadata": {
      "byteLimit": 2048000,
      "rowLimit": 10000
     },
     "inputWidgets": {},
     "nuid": "c40dff65-07c3-4ab0-8bf6-2d3658bff4b7",
     "showTitle": false,
     "title": ""
    }
   },
   "outputs": [],
   "source": [
    "import getpass\n",
    "username = getpass.getuser()"
   ]
  },
  {
   "cell_type": "code",
   "execution_count": 0,
   "metadata": {
    "application/vnd.databricks.v1+cell": {
     "cellMetadata": {
      "byteLimit": 2048000,
      "rowLimit": 10000
     },
     "inputWidgets": {},
     "nuid": "dd8bb077-a230-47e4-8b75-8f86c6569424",
     "showTitle": false,
     "title": ""
    }
   },
   "outputs": [],
   "source": [
    "input_dir = '/public/retail_db'\n",
    "output_dir = f'/user/{username}/retail_db_pipe'"
   ]
  },
  {
   "cell_type": "code",
   "execution_count": 0,
   "metadata": {
    "application/vnd.databricks.v1+cell": {
     "cellMetadata": {
      "byteLimit": 2048000,
      "rowLimit": 10000
     },
     "inputWidgets": {},
     "nuid": "a439bd68-5ca7-4f7a-af29-d45e4a5b3bab",
     "showTitle": false,
     "title": ""
    }
   },
   "outputs": [
    {
     "output_type": "execute_result",
     "data": {
      "text/plain": [
       "[FileInfo(path='dbfs:/public/retail_db/README.md', name='README.md', size=826, modificationTime=1688522119000),\n",
       " FileInfo(path='dbfs:/public/retail_db/categories/', name='categories/', size=0, modificationTime=1688522106000),\n",
       " FileInfo(path='dbfs:/public/retail_db/create_db.sql', name='create_db.sql', size=10303495, modificationTime=1688522111000),\n",
       " FileInfo(path='dbfs:/public/retail_db/create_db_tables_pg.sql', name='create_db_tables_pg.sql', size=1830, modificationTime=1688522112000),\n",
       " FileInfo(path='dbfs:/public/retail_db/customers/', name='customers/', size=0, modificationTime=1688522112000),\n",
       " FileInfo(path='dbfs:/public/retail_db/departments/', name='departments/', size=0, modificationTime=1688522113000),\n",
       " FileInfo(path='dbfs:/public/retail_db/load_db_tables_pg.sql', name='load_db_tables_pg.sql', size=10297392, modificationTime=1688522116000),\n",
       " FileInfo(path='dbfs:/public/retail_db/order_items/', name='order_items/', size=0, modificationTime=1688522117000),\n",
       " FileInfo(path='dbfs:/public/retail_db/orders/', name='orders/', size=0, modificationTime=1688522116000),\n",
       " FileInfo(path='dbfs:/public/retail_db/products/', name='products/', size=0, modificationTime=1688522119000)]"
      ]
     },
     "execution_count": 4,
     "metadata": {},
     "output_type": "execute_result"
    }
   ],
   "source": [
    "dbutils.fs.ls('/public/retail_db')"
   ]
  },
  {
   "cell_type": "code",
   "execution_count": 0,
   "metadata": {
    "application/vnd.databricks.v1+cell": {
     "cellMetadata": {
      "byteLimit": 2048000,
      "rowLimit": 10000
     },
     "inputWidgets": {},
     "nuid": "6c06ffed-441c-4050-8b47-e81a076f0801",
     "showTitle": false,
     "title": ""
    }
   },
   "outputs": [
    {
     "output_type": "stream",
     "name": "stdout",
     "output_type": "stream",
     "text": [
      "Converting data in dbfs:/public/retail_db/README.md folder from comma seperated to pipe seperated\nConverting data in dbfs:/public/retail_db/categories/ folder from comma seperated to pipe seperated\nConverting data in dbfs:/public/retail_db/customers/ folder from comma seperated to pipe seperated\nConverting data in dbfs:/public/retail_db/departments/ folder from comma seperated to pipe seperated\nConverting data in dbfs:/public/retail_db/order_items/ folder from comma seperated to pipe seperated\nConverting data in dbfs:/public/retail_db/orders/ folder from comma seperated to pipe seperated\nConverting data in dbfs:/public/retail_db/products/ folder from comma seperated to pipe seperated\n"
     ]
    }
   ],
   "source": [
    "for file_details in dbutils.fs.ls(input_dir):\n",
    "    if not ('.git' in file_details.path or file_details.path.endswith('sql')):\n",
    "        print(f'Converting data in {file_details.path} folder from comma seperated to pipe seperated')\n",
    "        df = spark.read.csv(file_details.path)\n",
    "        folder_name = file_details.path.split('/')[-2]        \n",
    "        df.coalesce(1).write.mode('overwrite').csv(f'{output_dir}/{folder_name}', sep = '|')"
   ]
  },
  {
   "cell_type": "code",
   "execution_count": 0,
   "metadata": {
    "application/vnd.databricks.v1+cell": {
     "cellMetadata": {
      "byteLimit": 2048000,
      "rowLimit": 10000
     },
     "inputWidgets": {},
     "nuid": "e132a77b-ae7c-429c-bc92-2eed306f2dfe",
     "showTitle": false,
     "title": ""
    }
   },
   "outputs": [],
   "source": [
    "schema = \"\"\" \n",
    "    order_id INT,\n",
    "    order_date TIMESTAMP,\n",
    "    order_customer_id INT,\n",
    "    order_status STRING\n",
    "\"\"\""
   ]
  },
  {
   "cell_type": "code",
   "execution_count": 0,
   "metadata": {
    "application/vnd.databricks.v1+cell": {
     "cellMetadata": {
      "byteLimit": 2048000,
      "rowLimit": 10000
     },
     "inputWidgets": {},
     "nuid": "1a66979d-95d8-42b8-ab58-d104f2b5909b",
     "showTitle": false,
     "title": ""
    }
   },
   "outputs": [],
   "source": [
    "orders = spark.read.schema(schema).csv(f'/user/{username}/retail_db_pipe/orders')"
   ]
  },
  {
   "cell_type": "code",
   "execution_count": 0,
   "metadata": {
    "application/vnd.databricks.v1+cell": {
     "cellMetadata": {
      "byteLimit": 2048000,
      "rowLimit": 10000
     },
     "inputWidgets": {},
     "nuid": "5a9b20a7-ac86-450d-afe8-50660896ebb4",
     "showTitle": false,
     "title": ""
    }
   },
   "outputs": [
    {
     "output_type": "stream",
     "name": "stdout",
     "output_type": "stream",
     "text": [
      "+--------+----------+-----------------+------------+\n|order_id|order_date|order_customer_id|order_status|\n+--------+----------+-----------------+------------+\n|    NULL|      NULL|             NULL|        NULL|\n|    NULL|      NULL|             NULL|        NULL|\n|    NULL|      NULL|             NULL|        NULL|\n|    NULL|      NULL|             NULL|        NULL|\n|    NULL|      NULL|             NULL|        NULL|\n|    NULL|      NULL|             NULL|        NULL|\n|    NULL|      NULL|             NULL|        NULL|\n|    NULL|      NULL|             NULL|        NULL|\n|    NULL|      NULL|             NULL|        NULL|\n|    NULL|      NULL|             NULL|        NULL|\n|    NULL|      NULL|             NULL|        NULL|\n|    NULL|      NULL|             NULL|        NULL|\n|    NULL|      NULL|             NULL|        NULL|\n|    NULL|      NULL|             NULL|        NULL|\n|    NULL|      NULL|             NULL|        NULL|\n|    NULL|      NULL|             NULL|        NULL|\n|    NULL|      NULL|             NULL|        NULL|\n|    NULL|      NULL|             NULL|        NULL|\n|    NULL|      NULL|             NULL|        NULL|\n|    NULL|      NULL|             NULL|        NULL|\n+--------+----------+-----------------+------------+\nonly showing top 20 rows\n\n"
     ]
    }
   ],
   "source": [
    "orders.show()"
   ]
  },
  {
   "cell_type": "code",
   "execution_count": 0,
   "metadata": {
    "application/vnd.databricks.v1+cell": {
     "cellMetadata": {
      "byteLimit": 2048000,
      "rowLimit": 10000
     },
     "inputWidgets": {},
     "nuid": "82771744-04d3-47bf-b262-4bad19ee346f",
     "showTitle": false,
     "title": ""
    }
   },
   "outputs": [],
   "source": [
    "orders = spark.read.schema(schema).csv(f'/user/{username}/retail_db_pipe/orders', sep = '|')"
   ]
  },
  {
   "cell_type": "code",
   "execution_count": 0,
   "metadata": {
    "application/vnd.databricks.v1+cell": {
     "cellMetadata": {
      "byteLimit": 2048000,
      "rowLimit": 10000
     },
     "inputWidgets": {},
     "nuid": "0f109196-9497-4635-8c00-6f60b0059e45",
     "showTitle": false,
     "title": ""
    }
   },
   "outputs": [
    {
     "output_type": "stream",
     "name": "stdout",
     "output_type": "stream",
     "text": [
      "+--------+-------------------+-----------------+---------------+\n|order_id|         order_date|order_customer_id|   order_status|\n+--------+-------------------+-----------------+---------------+\n|       1|2013-07-25 00:00:00|            11599|         CLOSED|\n|       2|2013-07-25 00:00:00|              256|PENDING_PAYMENT|\n|       3|2013-07-25 00:00:00|            12111|       COMPLETE|\n|       4|2013-07-25 00:00:00|             8827|         CLOSED|\n|       5|2013-07-25 00:00:00|            11318|       COMPLETE|\n|       6|2013-07-25 00:00:00|             7130|       COMPLETE|\n|       7|2013-07-25 00:00:00|             4530|       COMPLETE|\n|       8|2013-07-25 00:00:00|             2911|     PROCESSING|\n|       9|2013-07-25 00:00:00|             5657|PENDING_PAYMENT|\n|      10|2013-07-25 00:00:00|             5648|PENDING_PAYMENT|\n|      11|2013-07-25 00:00:00|              918| PAYMENT_REVIEW|\n|      12|2013-07-25 00:00:00|             1837|         CLOSED|\n|      13|2013-07-25 00:00:00|             9149|PENDING_PAYMENT|\n|      14|2013-07-25 00:00:00|             9842|     PROCESSING|\n|      15|2013-07-25 00:00:00|             2568|       COMPLETE|\n|      16|2013-07-25 00:00:00|             7276|PENDING_PAYMENT|\n|      17|2013-07-25 00:00:00|             2667|       COMPLETE|\n|      18|2013-07-25 00:00:00|             1205|         CLOSED|\n|      19|2013-07-25 00:00:00|             9488|PENDING_PAYMENT|\n|      20|2013-07-25 00:00:00|             9198|     PROCESSING|\n+--------+-------------------+-----------------+---------------+\nonly showing top 20 rows\n\n"
     ]
    }
   ],
   "source": [
    "orders.show()"
   ]
  },
  {
   "cell_type": "code",
   "execution_count": 0,
   "metadata": {
    "application/vnd.databricks.v1+cell": {
     "cellMetadata": {},
     "inputWidgets": {},
     "nuid": "50f1cb8d-4066-4da3-aa1a-2d3625d99b10",
     "showTitle": false,
     "title": ""
    }
   },
   "outputs": [],
   "source": []
  }
 ],
 "metadata": {
  "application/vnd.databricks.v1+notebook": {
   "dashboards": [],
   "language": "python",
   "notebookMetadata": {
    "pythonIndentUnit": 4
   },
   "notebookName": "03 - Convert Comma Seperated Files to Pipe Seperated Files using Spark",
   "widgets": {}
  }
 },
 "nbformat": 4,
 "nbformat_minor": 0
}
