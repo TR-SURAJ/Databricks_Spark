{
 "cells": [
  {
   "cell_type": "code",
   "execution_count": 0,
   "metadata": {
    "application/vnd.databricks.v1+cell": {
     "cellMetadata": {
      "byteLimit": 2048000,
      "rowLimit": 10000
     },
     "inputWidgets": {},
     "nuid": "6c11a1b9-b566-445c-b623-e77c78a3635c",
     "showTitle": false,
     "title": ""
    }
   },
   "outputs": [
    {
     "output_type": "display_data",
     "data": {
      "text/html": [
       "<style scoped>\n",
       "  .table-result-container {\n",
       "    max-height: 300px;\n",
       "    overflow: auto;\n",
       "  }\n",
       "  table, th, td {\n",
       "    border: 1px solid black;\n",
       "    border-collapse: collapse;\n",
       "  }\n",
       "  th, td {\n",
       "    padding: 5px;\n",
       "  }\n",
       "  th {\n",
       "    text-align: left;\n",
       "  }\n",
       "</style><div class='table-result-container'><table class='table-result'><thead style='background-color: white'><tr><th>path</th><th>name</th><th>size</th><th>modificationTime</th></tr></thead><tbody><tr><td>dbfs:/public/retail_db/README.md</td><td>README.md</td><td>826</td><td>1688522119000</td></tr><tr><td>dbfs:/public/retail_db/categories/</td><td>categories/</td><td>0</td><td>1688522106000</td></tr><tr><td>dbfs:/public/retail_db/create_db.sql</td><td>create_db.sql</td><td>10303495</td><td>1688522111000</td></tr><tr><td>dbfs:/public/retail_db/create_db_tables_pg.sql</td><td>create_db_tables_pg.sql</td><td>1830</td><td>1688522112000</td></tr><tr><td>dbfs:/public/retail_db/customers/</td><td>customers/</td><td>0</td><td>1688522112000</td></tr><tr><td>dbfs:/public/retail_db/departments/</td><td>departments/</td><td>0</td><td>1688522113000</td></tr><tr><td>dbfs:/public/retail_db/load_db_tables_pg.sql</td><td>load_db_tables_pg.sql</td><td>10297392</td><td>1688522116000</td></tr><tr><td>dbfs:/public/retail_db/order_items/</td><td>order_items/</td><td>0</td><td>1688522117000</td></tr><tr><td>dbfs:/public/retail_db/orders/</td><td>orders/</td><td>0</td><td>1688522116000</td></tr><tr><td>dbfs:/public/retail_db/products/</td><td>products/</td><td>0</td><td>1688522119000</td></tr></tbody></table></div>"
      ]
     },
     "metadata": {
      "application/vnd.databricks.v1+output": {
       "addedWidgets": {},
       "aggData": [],
       "aggError": "",
       "aggOverflow": false,
       "aggSchema": [],
       "aggSeriesLimitReached": false,
       "aggType": "",
       "arguments": {},
       "columnCustomDisplayInfos": {},
       "data": [
        [
         "dbfs:/public/retail_db/README.md",
         "README.md",
         826,
         1688522119000
        ],
        [
         "dbfs:/public/retail_db/categories/",
         "categories/",
         0,
         1688522106000
        ],
        [
         "dbfs:/public/retail_db/create_db.sql",
         "create_db.sql",
         10303495,
         1688522111000
        ],
        [
         "dbfs:/public/retail_db/create_db_tables_pg.sql",
         "create_db_tables_pg.sql",
         1830,
         1688522112000
        ],
        [
         "dbfs:/public/retail_db/customers/",
         "customers/",
         0,
         1688522112000
        ],
        [
         "dbfs:/public/retail_db/departments/",
         "departments/",
         0,
         1688522113000
        ],
        [
         "dbfs:/public/retail_db/load_db_tables_pg.sql",
         "load_db_tables_pg.sql",
         10297392,
         1688522116000
        ],
        [
         "dbfs:/public/retail_db/order_items/",
         "order_items/",
         0,
         1688522117000
        ],
        [
         "dbfs:/public/retail_db/orders/",
         "orders/",
         0,
         1688522116000
        ],
        [
         "dbfs:/public/retail_db/products/",
         "products/",
         0,
         1688522119000
        ]
       ],
       "datasetInfos": [],
       "dbfsResultPath": null,
       "isJsonSchema": true,
       "metadata": {
        "isDbfsCommandResult": false
       },
       "overflow": false,
       "plotOptions": {
        "customPlotOptions": {},
        "displayType": "table",
        "pivotAggregation": null,
        "pivotColumns": null,
        "xColumns": null,
        "yColumns": null
       },
       "removedWidgets": [],
       "schema": [
        {
         "metadata": "{}",
         "name": "path",
         "type": "\"string\""
        },
        {
         "metadata": "{}",
         "name": "name",
         "type": "\"string\""
        },
        {
         "metadata": "{}",
         "name": "size",
         "type": "\"long\""
        },
        {
         "metadata": "{}",
         "name": "modificationTime",
         "type": "\"long\""
        }
       ],
       "type": "table"
      }
     },
     "output_type": "display_data"
    }
   ],
   "source": [
    "%fs ls /public/retail_db"
   ]
  },
  {
   "cell_type": "code",
   "execution_count": 0,
   "metadata": {
    "application/vnd.databricks.v1+cell": {
     "cellMetadata": {
      "byteLimit": 2048000,
      "rowLimit": 10000
     },
     "inputWidgets": {},
     "nuid": "83408de5-68e0-4031-b1c8-e6bd2aaabd64",
     "showTitle": false,
     "title": ""
    }
   },
   "outputs": [],
   "source": [
    "schema = \"\"\" \n",
    "    order_id INT,\n",
    "    order_date TIMESTAMP,\n",
    "    order_customer_id INT,\n",
    "    order_status STRING\n",
    "\"\"\""
   ]
  },
  {
   "cell_type": "code",
   "execution_count": 0,
   "metadata": {
    "application/vnd.databricks.v1+cell": {
     "cellMetadata": {
      "byteLimit": 2048000,
      "rowLimit": 10000
     },
     "inputWidgets": {},
     "nuid": "46d7813e-50cb-459a-9a8e-b67fae0c2add",
     "showTitle": false,
     "title": ""
    }
   },
   "outputs": [],
   "source": [
    "orders = spark.read.schema(schema).csv('/public/retail_db/orders')"
   ]
  },
  {
   "cell_type": "code",
   "execution_count": 0,
   "metadata": {
    "application/vnd.databricks.v1+cell": {
     "cellMetadata": {
      "byteLimit": 2048000,
      "rowLimit": 10000
     },
     "inputWidgets": {},
     "nuid": "818203f7-f252-4964-b47b-d8cd7c9ced06",
     "showTitle": false,
     "title": ""
    }
   },
   "outputs": [
    {
     "output_type": "stream",
     "name": "stdout",
     "output_type": "stream",
     "text": [
      "+--------+-------------------+-----------------+---------------+\n|order_id|         order_date|order_customer_id|   order_status|\n+--------+-------------------+-----------------+---------------+\n|       1|2013-07-25 00:00:00|            11599|         CLOSED|\n|       2|2013-07-25 00:00:00|              256|PENDING_PAYMENT|\n|       3|2013-07-25 00:00:00|            12111|       COMPLETE|\n|       4|2013-07-25 00:00:00|             8827|         CLOSED|\n|       5|2013-07-25 00:00:00|            11318|       COMPLETE|\n|       6|2013-07-25 00:00:00|             7130|       COMPLETE|\n|       7|2013-07-25 00:00:00|             4530|       COMPLETE|\n|       8|2013-07-25 00:00:00|             2911|     PROCESSING|\n|       9|2013-07-25 00:00:00|             5657|PENDING_PAYMENT|\n|      10|2013-07-25 00:00:00|             5648|PENDING_PAYMENT|\n|      11|2013-07-25 00:00:00|              918| PAYMENT_REVIEW|\n|      12|2013-07-25 00:00:00|             1837|         CLOSED|\n|      13|2013-07-25 00:00:00|             9149|PENDING_PAYMENT|\n|      14|2013-07-25 00:00:00|             9842|     PROCESSING|\n|      15|2013-07-25 00:00:00|             2568|       COMPLETE|\n|      16|2013-07-25 00:00:00|             7276|PENDING_PAYMENT|\n|      17|2013-07-25 00:00:00|             2667|       COMPLETE|\n|      18|2013-07-25 00:00:00|             1205|         CLOSED|\n|      19|2013-07-25 00:00:00|             9488|PENDING_PAYMENT|\n|      20|2013-07-25 00:00:00|             9198|     PROCESSING|\n+--------+-------------------+-----------------+---------------+\nonly showing top 20 rows\n\n"
     ]
    }
   ],
   "source": [
    "orders.show()"
   ]
  },
  {
   "cell_type": "code",
   "execution_count": 0,
   "metadata": {
    "application/vnd.databricks.v1+cell": {
     "cellMetadata": {
      "byteLimit": 2048000,
      "rowLimit": 10000
     },
     "inputWidgets": {},
     "nuid": "b710bf3b-f17e-4315-a941-dfe78bcde199",
     "showTitle": false,
     "title": ""
    }
   },
   "outputs": [
    {
     "output_type": "stream",
     "name": "stdout",
     "output_type": "stream",
     "text": [
      "root\n |-- order_id: integer (nullable = true)\n |-- order_date: timestamp (nullable = true)\n |-- order_customer_id: integer (nullable = true)\n |-- order_status: string (nullable = true)\n\n"
     ]
    }
   ],
   "source": [
    "orders.printSchema()"
   ]
  },
  {
   "cell_type": "code",
   "execution_count": 0,
   "metadata": {
    "application/vnd.databricks.v1+cell": {
     "cellMetadata": {
      "byteLimit": 2048000,
      "rowLimit": 10000
     },
     "inputWidgets": {},
     "nuid": "e5c4202e-24b2-4a83-820b-2a040485cc82",
     "showTitle": false,
     "title": ""
    }
   },
   "outputs": [],
   "source": [
    "orders_json = spark.read.json('/public/retail_db_json/orders')"
   ]
  },
  {
   "cell_type": "code",
   "execution_count": 0,
   "metadata": {
    "application/vnd.databricks.v1+cell": {
     "cellMetadata": {
      "byteLimit": 2048000,
      "rowLimit": 10000
     },
     "inputWidgets": {},
     "nuid": "30ddaa46-d6bd-40fa-9976-7a6437178512",
     "showTitle": false,
     "title": ""
    }
   },
   "outputs": [
    {
     "output_type": "stream",
     "name": "stdout",
     "output_type": "stream",
     "text": [
      "+-----------------+--------------------+--------+---------------+\n|order_customer_id|          order_date|order_id|   order_status|\n+-----------------+--------------------+--------+---------------+\n|            11599|2013-07-25 00:00:...|       1|         CLOSED|\n|              256|2013-07-25 00:00:...|       2|PENDING_PAYMENT|\n|            12111|2013-07-25 00:00:...|       3|       COMPLETE|\n|             8827|2013-07-25 00:00:...|       4|         CLOSED|\n|            11318|2013-07-25 00:00:...|       5|       COMPLETE|\n|             7130|2013-07-25 00:00:...|       6|       COMPLETE|\n|             4530|2013-07-25 00:00:...|       7|       COMPLETE|\n|             2911|2013-07-25 00:00:...|       8|     PROCESSING|\n|             5657|2013-07-25 00:00:...|       9|PENDING_PAYMENT|\n|             5648|2013-07-25 00:00:...|      10|PENDING_PAYMENT|\n|              918|2013-07-25 00:00:...|      11| PAYMENT_REVIEW|\n|             1837|2013-07-25 00:00:...|      12|         CLOSED|\n|             9149|2013-07-25 00:00:...|      13|PENDING_PAYMENT|\n|             9842|2013-07-25 00:00:...|      14|     PROCESSING|\n|             2568|2013-07-25 00:00:...|      15|       COMPLETE|\n|             7276|2013-07-25 00:00:...|      16|PENDING_PAYMENT|\n|             2667|2013-07-25 00:00:...|      17|       COMPLETE|\n|             1205|2013-07-25 00:00:...|      18|         CLOSED|\n|             9488|2013-07-25 00:00:...|      19|PENDING_PAYMENT|\n|             9198|2013-07-25 00:00:...|      20|     PROCESSING|\n+-----------------+--------------------+--------+---------------+\nonly showing top 20 rows\n\n"
     ]
    }
   ],
   "source": [
    "orders_json.show()"
   ]
  },
  {
   "cell_type": "code",
   "execution_count": 0,
   "metadata": {
    "application/vnd.databricks.v1+cell": {
     "cellMetadata": {
      "byteLimit": 2048000,
      "rowLimit": 10000
     },
     "inputWidgets": {},
     "nuid": "99d222ce-9a1d-42f4-a7cc-71676af1b9b3",
     "showTitle": false,
     "title": ""
    }
   },
   "outputs": [
    {
     "output_type": "stream",
     "name": "stdout",
     "output_type": "stream",
     "text": [
      "root\n |-- order_customer_id: long (nullable = true)\n |-- order_date: string (nullable = true)\n |-- order_id: long (nullable = true)\n |-- order_status: string (nullable = true)\n\n"
     ]
    }
   ],
   "source": [
    "orders_json.printSchema()"
   ]
  },
  {
   "cell_type": "code",
   "execution_count": 0,
   "metadata": {
    "application/vnd.databricks.v1+cell": {
     "cellMetadata": {
      "byteLimit": 2048000,
      "rowLimit": 10000
     },
     "inputWidgets": {},
     "nuid": "81440256-1b76-4e06-a7b8-77cfbf93be92",
     "showTitle": false,
     "title": ""
    }
   },
   "outputs": [],
   "source": [
    "import getpass\n",
    "username = getpass.getuser()"
   ]
  },
  {
   "cell_type": "code",
   "execution_count": 0,
   "metadata": {
    "application/vnd.databricks.v1+cell": {
     "cellMetadata": {
      "byteLimit": 2048000,
      "rowLimit": 10000
     },
     "inputWidgets": {},
     "nuid": "36637ef4-d784-4cc2-88c2-2f273bb7633c",
     "showTitle": false,
     "title": ""
    }
   },
   "outputs": [],
   "source": [
    "input_dir = '/public/retail_db_json'\n",
    "output_dir = f'/user/{username}/retail_db_parquet'"
   ]
  },
  {
   "cell_type": "code",
   "execution_count": 0,
   "metadata": {
    "application/vnd.databricks.v1+cell": {
     "cellMetadata": {
      "byteLimit": 2048000,
      "rowLimit": 10000
     },
     "inputWidgets": {},
     "nuid": "286b6ea2-b97c-4d3c-ae21-6eb1ee2366b0",
     "showTitle": false,
     "title": ""
    }
   },
   "outputs": [
    {
     "output_type": "execute_result",
     "data": {
      "text/plain": [
       "[FileInfo(path='dbfs:/public/retail_db_json/categories/', name='categories/', size=0, modificationTime=1688523866000),\n",
       " FileInfo(path='dbfs:/public/retail_db_json/create_db_tables_pg.sql', name='create_db_tables_pg.sql', size=1830, modificationTime=1688523867000),\n",
       " FileInfo(path='dbfs:/public/retail_db_json/customers/', name='customers/', size=0, modificationTime=1688523868000),\n",
       " FileInfo(path='dbfs:/public/retail_db_json/departments/', name='departments/', size=0, modificationTime=1688523872000),\n",
       " FileInfo(path='dbfs:/public/retail_db_json/order_items/', name='order_items/', size=0, modificationTime=1688523875000),\n",
       " FileInfo(path='dbfs:/public/retail_db_json/orders/', name='orders/', size=0, modificationTime=1688523872000),\n",
       " FileInfo(path='dbfs:/public/retail_db_json/products/', name='products/', size=0, modificationTime=1688523882000)]"
      ]
     },
     "execution_count": 10,
     "metadata": {},
     "output_type": "execute_result"
    }
   ],
   "source": [
    "dbutils.fs.ls(input_dir)"
   ]
  },
  {
   "cell_type": "code",
   "execution_count": 0,
   "metadata": {
    "application/vnd.databricks.v1+cell": {
     "cellMetadata": {
      "byteLimit": 2048000,
      "rowLimit": 10000
     },
     "inputWidgets": {},
     "nuid": "60be37cf-8582-4bfd-8f3a-04447ec5fb1b",
     "showTitle": false,
     "title": ""
    }
   },
   "outputs": [
    {
     "output_type": "stream",
     "name": "stdout",
     "output_type": "stream",
     "text": [
      "dbfs:/public/retail_db_json/categories/\ndbfs:/public/retail_db_json/create_db_tables_pg.sql\ndbfs:/public/retail_db_json/customers/\ndbfs:/public/retail_db_json/departments/\ndbfs:/public/retail_db_json/order_items/\ndbfs:/public/retail_db_json/orders/\ndbfs:/public/retail_db_json/products/\n"
     ]
    }
   ],
   "source": [
    "for file_details in dbutils.fs.ls(input_dir):\n",
    "    print(file_details.path)"
   ]
  },
  {
   "cell_type": "code",
   "execution_count": 0,
   "metadata": {
    "application/vnd.databricks.v1+cell": {
     "cellMetadata": {
      "byteLimit": 2048000,
      "rowLimit": 10000
     },
     "inputWidgets": {},
     "nuid": "d98c804e-af8a-45d2-b1fc-ed84edfefd95",
     "showTitle": false,
     "title": ""
    }
   },
   "outputs": [
    {
     "output_type": "stream",
     "name": "stdout",
     "output_type": "stream",
     "text": [
      "Converting data in dbfs:/public/retail_db_json/categories/ folder from json to parquet\nConverting data in dbfs:/public/retail_db_json/customers/ folder from json to parquet\nConverting data in dbfs:/public/retail_db_json/departments/ folder from json to parquet\nConverting data in dbfs:/public/retail_db_json/order_items/ folder from json to parquet\nConverting data in dbfs:/public/retail_db_json/orders/ folder from json to parquet\nConverting data in dbfs:/public/retail_db_json/products/ folder from json to parquet\n"
     ]
    }
   ],
   "source": [
    "for file_details in dbutils.fs.ls(input_dir):\n",
    "    if not ('.git' in file_details.path or file_details.path.endswith('sql')):\n",
    "        print(f'Converting data in {file_details.path} folder from json to parquet')\n",
    "        data_set_dir = file_details.path.split('/')[-2]\n",
    "        df = spark.read.json(file_details.path)\n",
    "        df.coalesce(1).write.parquet(f'{output_dir}/{data_set_dir}', mode = 'overwrite')"
   ]
  },
  {
   "cell_type": "code",
   "execution_count": 0,
   "metadata": {
    "application/vnd.databricks.v1+cell": {
     "cellMetadata": {
      "byteLimit": 2048000,
      "rowLimit": 10000
     },
     "inputWidgets": {},
     "nuid": "9a8d2d3f-7357-4e2f-b130-fc5315d366d0",
     "showTitle": false,
     "title": ""
    }
   },
   "outputs": [
    {
     "output_type": "execute_result",
     "data": {
      "text/plain": [
       "[FileInfo(path='dbfs:/user/root/retail_db_parquet/categories/', name='categories/', size=0, modificationTime=1697981152000),\n",
       " FileInfo(path='dbfs:/user/root/retail_db_parquet/customers/', name='customers/', size=0, modificationTime=1697981153000),\n",
       " FileInfo(path='dbfs:/user/root/retail_db_parquet/departments/', name='departments/', size=0, modificationTime=1697981155000),\n",
       " FileInfo(path='dbfs:/user/root/retail_db_parquet/order_items/', name='order_items/', size=0, modificationTime=1697981157000),\n",
       " FileInfo(path='dbfs:/user/root/retail_db_parquet/orders/', name='orders/', size=0, modificationTime=1697981160000),\n",
       " FileInfo(path='dbfs:/user/root/retail_db_parquet/products/', name='products/', size=0, modificationTime=1697981161000)]"
      ]
     },
     "execution_count": 13,
     "metadata": {},
     "output_type": "execute_result"
    }
   ],
   "source": [
    "dbutils.fs.ls(f'/user/{username}/retail_db_parquet')"
   ]
  },
  {
   "cell_type": "code",
   "execution_count": 0,
   "metadata": {
    "application/vnd.databricks.v1+cell": {
     "cellMetadata": {
      "byteLimit": 2048000,
      "rowLimit": 10000
     },
     "inputWidgets": {},
     "nuid": "787ebdda-4d85-4c56-ae2d-c06a7fd39164",
     "showTitle": false,
     "title": ""
    }
   },
   "outputs": [
    {
     "output_type": "execute_result",
     "data": {
      "text/plain": [
       "[FileInfo(path='dbfs:/user/root/retail_db_parquet/orders/_SUCCESS', name='_SUCCESS', size=0, modificationTime=1697981160000),\n",
       " FileInfo(path='dbfs:/user/root/retail_db_parquet/orders/_committed_8179953115895123963', name='_committed_8179953115895123963', size=123, modificationTime=1697981160000),\n",
       " FileInfo(path='dbfs:/user/root/retail_db_parquet/orders/_started_8179953115895123963', name='_started_8179953115895123963', size=0, modificationTime=1697981160000),\n",
       " FileInfo(path='dbfs:/user/root/retail_db_parquet/orders/part-00000-tid-8179953115895123963-c35ccadf-1cdc-40b7-a979-8e858c75fe85-17-1.c000.snappy.parquet', name='part-00000-tid-8179953115895123963-c35ccadf-1cdc-40b7-a979-8e858c75fe85-17-1.c000.snappy.parquet', size=489027, modificationTime=1697981160000)]"
      ]
     },
     "execution_count": 14,
     "metadata": {},
     "output_type": "execute_result"
    }
   ],
   "source": [
    "dbutils.fs.ls(f'/user/{username}/retail_db_parquet/orders')"
   ]
  },
  {
   "cell_type": "code",
   "execution_count": 0,
   "metadata": {
    "application/vnd.databricks.v1+cell": {
     "cellMetadata": {
      "byteLimit": 2048000,
      "rowLimit": 10000
     },
     "inputWidgets": {},
     "nuid": "27845104-8fcb-4f7e-b03a-14c16de4177f",
     "showTitle": false,
     "title": ""
    }
   },
   "outputs": [],
   "source": [
    "orders = spark.read.parquet(f'/user/{username}/retail_db_parquet/orders')"
   ]
  },
  {
   "cell_type": "code",
   "execution_count": 0,
   "metadata": {
    "application/vnd.databricks.v1+cell": {
     "cellMetadata": {
      "byteLimit": 2048000,
      "rowLimit": 10000
     },
     "inputWidgets": {},
     "nuid": "ca8a5457-30eb-4a35-b9cc-87e41c6db5f5",
     "showTitle": false,
     "title": ""
    }
   },
   "outputs": [
    {
     "output_type": "stream",
     "name": "stdout",
     "output_type": "stream",
     "text": [
      "+-----------------+--------------------+--------+---------------+\n|order_customer_id|          order_date|order_id|   order_status|\n+-----------------+--------------------+--------+---------------+\n|            11599|2013-07-25 00:00:...|       1|         CLOSED|\n|              256|2013-07-25 00:00:...|       2|PENDING_PAYMENT|\n|            12111|2013-07-25 00:00:...|       3|       COMPLETE|\n|             8827|2013-07-25 00:00:...|       4|         CLOSED|\n|            11318|2013-07-25 00:00:...|       5|       COMPLETE|\n|             7130|2013-07-25 00:00:...|       6|       COMPLETE|\n|             4530|2013-07-25 00:00:...|       7|       COMPLETE|\n|             2911|2013-07-25 00:00:...|       8|     PROCESSING|\n|             5657|2013-07-25 00:00:...|       9|PENDING_PAYMENT|\n|             5648|2013-07-25 00:00:...|      10|PENDING_PAYMENT|\n|              918|2013-07-25 00:00:...|      11| PAYMENT_REVIEW|\n|             1837|2013-07-25 00:00:...|      12|         CLOSED|\n|             9149|2013-07-25 00:00:...|      13|PENDING_PAYMENT|\n|             9842|2013-07-25 00:00:...|      14|     PROCESSING|\n|             2568|2013-07-25 00:00:...|      15|       COMPLETE|\n|             7276|2013-07-25 00:00:...|      16|PENDING_PAYMENT|\n|             2667|2013-07-25 00:00:...|      17|       COMPLETE|\n|             1205|2013-07-25 00:00:...|      18|         CLOSED|\n|             9488|2013-07-25 00:00:...|      19|PENDING_PAYMENT|\n|             9198|2013-07-25 00:00:...|      20|     PROCESSING|\n+-----------------+--------------------+--------+---------------+\nonly showing top 20 rows\n\n"
     ]
    }
   ],
   "source": [
    "orders.show()"
   ]
  },
  {
   "cell_type": "code",
   "execution_count": 0,
   "metadata": {
    "application/vnd.databricks.v1+cell": {
     "cellMetadata": {
      "byteLimit": 2048000,
      "rowLimit": 10000
     },
     "inputWidgets": {},
     "nuid": "4aab0cbc-c6be-48bf-8f22-b95a9e3fc9ab",
     "showTitle": false,
     "title": ""
    }
   },
   "outputs": [
    {
     "output_type": "stream",
     "name": "stdout",
     "output_type": "stream",
     "text": [
      "root\n |-- order_customer_id: long (nullable = true)\n |-- order_date: string (nullable = true)\n |-- order_id: long (nullable = true)\n |-- order_status: string (nullable = true)\n\n"
     ]
    }
   ],
   "source": [
    "orders.printSchema()"
   ]
  },
  {
   "cell_type": "code",
   "execution_count": 0,
   "metadata": {
    "application/vnd.databricks.v1+cell": {
     "cellMetadata": {},
     "inputWidgets": {},
     "nuid": "f0f45223-4e17-4131-a43d-1819365fcb38",
     "showTitle": false,
     "title": ""
    }
   },
   "outputs": [],
   "source": []
  }
 ],
 "metadata": {
  "application/vnd.databricks.v1+notebook": {
   "dashboards": [],
   "language": "python",
   "notebookMetadata": {
    "mostRecentlyExecutedCommandWithImplicitDF": {
     "commandId": 2576471034351454,
     "dataframes": [
      "_sqldf"
     ]
    },
    "pythonIndentUnit": 4
   },
   "notebookName": "02 - Validate Data Sets for Reading from files using Spark APIs",
   "widgets": {}
  }
 },
 "nbformat": 4,
 "nbformat_minor": 0
}
