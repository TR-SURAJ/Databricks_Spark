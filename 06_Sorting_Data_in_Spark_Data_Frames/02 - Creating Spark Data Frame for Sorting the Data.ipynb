{
 "cells": [
  {
   "cell_type": "code",
   "execution_count": 0,
   "metadata": {
    "application/vnd.databricks.v1+cell": {
     "cellMetadata": {
      "byteLimit": 2048000,
      "rowLimit": 10000
     },
     "inputWidgets": {},
     "nuid": "2521d8d8-cc93-4386-8294-02c786c5fbe9",
     "showTitle": false,
     "title": ""
    }
   },
   "outputs": [],
   "source": [
    "from pyspark.sql import Row\n",
    "from pyspark.sql.functions import *"
   ]
  },
  {
   "cell_type": "code",
   "execution_count": 0,
   "metadata": {
    "application/vnd.databricks.v1+cell": {
     "cellMetadata": {
      "byteLimit": 2048000,
      "rowLimit": 10000
     },
     "inputWidgets": {},
     "nuid": "7f0c1899-f61a-4c7a-9d27-78762373991a",
     "showTitle": false,
     "title": ""
    }
   },
   "outputs": [],
   "source": [
    "import pandas as pd\n",
    "spark.conf.set('spark.sql.execution.arrow.pyspark.enabled', False)"
   ]
  },
  {
   "cell_type": "code",
   "execution_count": 0,
   "metadata": {
    "application/vnd.databricks.v1+cell": {
     "cellMetadata": {
      "byteLimit": 2048000,
      "rowLimit": 10000
     },
     "inputWidgets": {},
     "nuid": "0ada8487-7222-4492-9db0-9aa3022ef056",
     "showTitle": false,
     "title": ""
    }
   },
   "outputs": [],
   "source": [
    "import datetime\n",
    "\n",
    "users = [\n",
    "    {\n",
    "        \"id\": 1,\n",
    "        \"first_name\": \"Corrie\",\n",
    "        \"last_name\": \"Van den Oord\",        \n",
    "        \"email\": \"cvandenoor@etsy.com\",        \n",
    "        \"courses\": \"Intermediate Java\",\n",
    "        \"suitable_for\": \"Intermediate\",        \n",
    "        \"number_of_ratings\": 35000,\n",
    "        \"customer_from\": datetime.date(2021,1,15),\n",
    "        \"last_updated_ts\": datetime.datetime(2021,2,10,1,15,0)\n",
    "    },\n",
    "    {\n",
    "        \"id\": 2,\n",
    "        \"first_name\": \"John\",\n",
    "        \"last_name\": \"Cena\",        \n",
    "        \"email\": \"john@cena.com\",        \n",
    "        \"courses\": \"Intermediate Python\",\n",
    "        \"suitable_for\": \"Intermediate\",        \n",
    "        \"number_of_ratings\": 43000,\n",
    "        \"customer_from\": datetime.date(2022,5,15),\n",
    "        \"last_updated_ts\": datetime.datetime(2024,3,15,1,16,0)\n",
    "    },\n",
    "    {\n",
    "        \"id\": 3,\n",
    "        \"first_name\": \"James\",\n",
    "        \"last_name\": \"Bond\",        \n",
    "        \"email\": \"james@bond.com\",        \n",
    "        \"courses\": \"Intermediate C++\",\n",
    "        \"suitable_for\": \"Intermediate\",       \n",
    "        \"number_of_ratings\": 12000,\n",
    "        \"customer_from\": datetime.date(2023,1,12),\n",
    "        \"last_updated_ts\": datetime.datetime(2018,5,5,5,17,2)\n",
    "    },\n",
    "    {\n",
    "        \"id\": 4,\n",
    "        \"first_name\": \"Robert\",\n",
    "        \"last_name\": \"Dowrey\",        \n",
    "        \"email\": \"robert@dowrey.com\",        \n",
    "        \"courses\": \"Beginner Java\",\n",
    "        \"suitable_for\": \"Beginner\",\n",
    "        \"number_of_ratings\": 4000,\n",
    "        \"customer_from\": None,\n",
    "        \"last_updated_ts\": datetime.datetime(2019,4,3,8,14,8)\n",
    "    },\n",
    "    {\n",
    "        \"id\": 5,\n",
    "        \"first_name\": \"Chris\",\n",
    "        \"last_name\": \"Hemmsworth\",        \n",
    "        \"email\": \"chris@hemmsworth.com\",        \n",
    "        \"courses\": \"Beginner Python\",\n",
    "        \"suitable_for\": \"Beginner\",\n",
    "        \"number_of_ratings\": 35000,\n",
    "        \"customer_from\": None,\n",
    "        \"last_updated_ts\": datetime.datetime(2019,4,3,8,14,8)\n",
    "    },\n",
    "    {\n",
    "        \"id\": 6,\n",
    "        \"first_name\": \"Dan\",\n",
    "        \"last_name\": \"Brownie\",        \n",
    "        \"email\": \"dan@brownie.com\",        \n",
    "        \"courses\": \"Advanced System Design\",\n",
    "        \"suitable_for\": \"Advanced\",\n",
    "        \"number_of_ratings\": 9000,\n",
    "        \"customer_from\": None,\n",
    "        \"last_updated_ts\": datetime.datetime(2019,4,3,8,14,8)\n",
    "    },\n",
    "]"
   ]
  },
  {
   "cell_type": "code",
   "execution_count": 0,
   "metadata": {
    "application/vnd.databricks.v1+cell": {
     "cellMetadata": {
      "byteLimit": 2048000,
      "rowLimit": 10000
     },
     "inputWidgets": {},
     "nuid": "d61c04c7-016e-46f9-995f-a4fc51edb106",
     "showTitle": false,
     "title": ""
    }
   },
   "outputs": [],
   "source": [
    "from pyspark.sql.functions import *"
   ]
  },
  {
   "cell_type": "code",
   "execution_count": 0,
   "metadata": {
    "application/vnd.databricks.v1+cell": {
     "cellMetadata": {
      "byteLimit": 2048000,
      "rowLimit": 10000
     },
     "inputWidgets": {},
     "nuid": "120b634c-a254-45b0-acaf-ff006a0fa19c",
     "showTitle": false,
     "title": ""
    }
   },
   "outputs": [],
   "source": [
    "userdf = spark.createDataFrame(pd.DataFrame(users))"
   ]
  },
  {
   "cell_type": "code",
   "execution_count": 0,
   "metadata": {
    "application/vnd.databricks.v1+cell": {
     "cellMetadata": {
      "byteLimit": 2048000,
      "rowLimit": 10000
     },
     "inputWidgets": {},
     "nuid": "138ed35f-71b0-4688-8ec0-476185544b2d",
     "showTitle": false,
     "title": ""
    }
   },
   "outputs": [
    {
     "output_type": "stream",
     "name": "stdout",
     "output_type": "stream",
     "text": [
      "+---+----------+------------+--------------------+----------------------+------------+-----------------+-------------+-------------------+\n|id |first_name|last_name   |email               |courses               |suitable_for|number_of_ratings|customer_from|last_updated_ts    |\n+---+----------+------------+--------------------+----------------------+------------+-----------------+-------------+-------------------+\n|1  |Corrie    |Van den Oord|cvandenoor@etsy.com |Intermediate Java     |Intermediate|35000            |2021-01-15   |2021-02-10 01:15:00|\n|2  |John      |Cena        |john@cena.com       |Intermediate Python   |Intermediate|43000            |2022-05-15   |2024-03-15 01:16:00|\n|3  |James     |Bond        |james@bond.com      |Intermediate C++      |Intermediate|12000            |2023-01-12   |2018-05-05 05:17:02|\n|4  |Robert    |Dowrey      |robert@dowrey.com   |Beginner Java         |Beginner    |4000             |NULL         |2019-04-03 08:14:08|\n|5  |Chris     |Hemmsworth  |chris@hemmsworth.com|Beginner Python       |Beginner    |35000            |NULL         |2019-04-03 08:14:08|\n|6  |Dan       |Brownie     |dan@brownie.com     |Advanced System Design|Advanced    |9000             |NULL         |2019-04-03 08:14:08|\n+---+----------+------------+--------------------+----------------------+------------+-----------------+-------------+-------------------+\n\n"
     ]
    }
   ],
   "source": [
    "userdf.show(truncate=False)"
   ]
  },
  {
   "cell_type": "code",
   "execution_count": 0,
   "metadata": {
    "application/vnd.databricks.v1+cell": {
     "cellMetadata": {},
     "inputWidgets": {},
     "nuid": "ff8498d1-70fb-477b-9778-1007ae7ec66d",
     "showTitle": false,
     "title": ""
    }
   },
   "outputs": [],
   "source": []
  }
 ],
 "metadata": {
  "application/vnd.databricks.v1+notebook": {
   "dashboards": [],
   "language": "python",
   "notebookMetadata": {
    "pythonIndentUnit": 4
   },
   "notebookName": "02 - Creating Spark Data Frame for Sorting the Data",
   "widgets": {}
  }
 },
 "nbformat": 4,
 "nbformat_minor": 0
}
