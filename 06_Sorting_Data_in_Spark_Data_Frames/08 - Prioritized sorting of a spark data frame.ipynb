{
 "cells": [
  {
   "cell_type": "code",
   "execution_count": 0,
   "metadata": {
    "application/vnd.databricks.v1+cell": {
     "cellMetadata": {
      "byteLimit": 2048000,
      "rowLimit": 10000
     },
     "inputWidgets": {},
     "nuid": "49b0f0cb-8520-4665-94e0-786c5d925da9",
     "showTitle": false,
     "title": ""
    }
   },
   "outputs": [
    {
     "output_type": "stream",
     "name": "stdout",
     "output_type": "stream",
     "text": [
      "+---+----------+------------+--------------------+----------------------+------------+-----------------+-------------+-------------------+\n|id |first_name|last_name   |email               |courses               |suitable_for|number_of_ratings|customer_from|last_updated_ts    |\n+---+----------+------------+--------------------+----------------------+------------+-----------------+-------------+-------------------+\n|1  |Corrie    |Van den Oord|cvandenoor@etsy.com |Intermediate Java     |Intermediate|35000            |2021-01-15   |2021-02-10 01:15:00|\n|2  |John      |Cena        |john@cena.com       |Intermediate Python   |Intermediate|43000            |2022-05-15   |2024-03-15 01:16:00|\n|3  |James     |Bond        |james@bond.com      |Intermediate C++      |Intermediate|12000            |2023-01-12   |2018-05-05 05:17:02|\n|4  |Robert    |Dowrey      |robert@dowrey.com   |Beginner Java         |Beginner    |4000             |NULL         |2019-04-03 08:14:08|\n|5  |Chris     |Hemmsworth  |chris@hemmsworth.com|Beginner Python       |Beginner    |35000            |NULL         |2019-04-03 08:14:08|\n|6  |Dan       |Brownie     |dan@brownie.com     |Advanced System Design|Advanced    |9000             |NULL         |2019-04-03 08:14:08|\n+---+----------+------------+--------------------+----------------------+------------+-----------------+-------------+-------------------+\n\n"
     ]
    }
   ],
   "source": [
    "%run \"/Users/surajthallapalli@outlook.com/06 Sorting Data in Spark Data Frames/02 - Creating Spark Data Frame for Sorting the Data\""
   ]
  },
  {
   "cell_type": "code",
   "execution_count": 0,
   "metadata": {
    "application/vnd.databricks.v1+cell": {
     "cellMetadata": {
      "byteLimit": 2048000,
      "rowLimit": 10000
     },
     "inputWidgets": {},
     "nuid": "21c81c7b-cc46-44db-9c42-47c14f0c30c4",
     "showTitle": false,
     "title": ""
    }
   },
   "outputs": [],
   "source": [
    "from pyspark.sql.functions import *"
   ]
  },
  {
   "cell_type": "code",
   "execution_count": 0,
   "metadata": {
    "application/vnd.databricks.v1+cell": {
     "cellMetadata": {
      "byteLimit": 2048000,
      "rowLimit": 10000
     },
     "inputWidgets": {},
     "nuid": "d487f1d2-9347-47ed-82d4-6ebfd9b3c2b0",
     "showTitle": false,
     "title": ""
    }
   },
   "outputs": [
    {
     "output_type": "stream",
     "name": "stdout",
     "output_type": "stream",
     "text": [
      "+---+----------+------------+--------------------+--------------------+------------+-----------------+-------------+-------------------+\n| id|first_name|   last_name|               email|             courses|suitable_for|number_of_ratings|customer_from|    last_updated_ts|\n+---+----------+------------+--------------------+--------------------+------------+-----------------+-------------+-------------------+\n|  1|    Corrie|Van den Oord| cvandenoor@etsy.com|   Intermediate Java|Intermediate|            35000|   2021-01-15|2021-02-10 01:15:00|\n|  2|      John|        Cena|       john@cena.com| Intermediate Python|Intermediate|            43000|   2022-05-15|2024-03-15 01:16:00|\n|  3|     James|        Bond|      james@bond.com|    Intermediate C++|Intermediate|            12000|   2023-01-12|2018-05-05 05:17:02|\n|  4|    Robert|      Dowrey|   robert@dowrey.com|       Beginner Java|    Beginner|             4000|         NULL|2019-04-03 08:14:08|\n|  5|     Chris|  Hemmsworth|chris@hemmsworth.com|     Beginner Python|    Beginner|            35000|         NULL|2019-04-03 08:14:08|\n|  6|       Dan|     Brownie|     dan@brownie.com|Advanced System D...|    Advanced|             9000|         NULL|2019-04-03 08:14:08|\n+---+----------+------------+--------------------+--------------------+------------+-----------------+-------------+-------------------+\n\n"
     ]
    }
   ],
   "source": [
    "userdf.show()"
   ]
  },
  {
   "cell_type": "code",
   "execution_count": 0,
   "metadata": {
    "application/vnd.databricks.v1+cell": {
     "cellMetadata": {
      "byteLimit": 2048000,
      "rowLimit": 10000
     },
     "inputWidgets": {},
     "nuid": "baf436e6-8bdf-4663-a64b-bb02cf5fb272",
     "showTitle": false,
     "title": ""
    }
   },
   "outputs": [
    {
     "output_type": "stream",
     "name": "stdout",
     "output_type": "stream",
     "text": [
      "Help on function when in module pyspark.sql.functions:\n\nwhen(condition: pyspark.sql.column.Column, value: Any) -> pyspark.sql.column.Column\n    Evaluates a list of conditions and returns one of multiple possible result expressions.\n    If :func:`pyspark.sql.Column.otherwise` is not invoked, None is returned for unmatched\n    conditions.\n    \n    .. versionadded:: 1.4.0\n    \n    .. versionchanged:: 3.4.0\n        Supports Spark Connect.\n    \n    Parameters\n    ----------\n    condition : :class:`~pyspark.sql.Column`\n        a boolean :class:`~pyspark.sql.Column` expression.\n    value :\n        a literal value, or a :class:`~pyspark.sql.Column` expression.\n    \n    Returns\n    -------\n    :class:`~pyspark.sql.Column`\n        column representing when expression.\n    \n    Examples\n    --------\n    >>> df = spark.range(3)\n    >>> df.select(when(df['id'] == 2, 3).otherwise(4).alias(\"age\")).show()\n    +---+\n    |age|\n    +---+\n    |  4|\n    |  4|\n    |  3|\n    +---+\n    \n    >>> df.select(when(df.id == 2, df.id + 1).alias(\"age\")).show()\n    +----+\n    | age|\n    +----+\n    |NULL|\n    |NULL|\n    |   3|\n    +----+\n\n"
     ]
    }
   ],
   "source": [
    "help(when)"
   ]
  },
  {
   "cell_type": "code",
   "execution_count": 0,
   "metadata": {
    "application/vnd.databricks.v1+cell": {
     "cellMetadata": {
      "byteLimit": 2048000,
      "rowLimit": 10000
     },
     "inputWidgets": {},
     "nuid": "a1791ba3-0666-4e45-b462-1ec3b8a44203",
     "showTitle": false,
     "title": ""
    }
   },
   "outputs": [],
   "source": [
    "course_level = when(col('suitable_for') == 'Beginner',0).otherwise(when(col('suitable_for') == 'Intermediate',1).otherwise(2))"
   ]
  },
  {
   "cell_type": "code",
   "execution_count": 0,
   "metadata": {
    "application/vnd.databricks.v1+cell": {
     "cellMetadata": {
      "byteLimit": 2048000,
      "rowLimit": 10000
     },
     "inputWidgets": {},
     "nuid": "c3ed5cd6-694d-475e-8867-2b1522e65b4d",
     "showTitle": false,
     "title": ""
    }
   },
   "outputs": [
    {
     "output_type": "stream",
     "name": "stdout",
     "output_type": "stream",
     "text": [
      "+---+----------+------------+--------------------+--------------------+------------+-----------------+-------------+-------------------+\n| id|first_name|   last_name|               email|             courses|suitable_for|number_of_ratings|customer_from|    last_updated_ts|\n+---+----------+------------+--------------------+--------------------+------------+-----------------+-------------+-------------------+\n|  5|     Chris|  Hemmsworth|chris@hemmsworth.com|     Beginner Python|    Beginner|            35000|         NULL|2019-04-03 08:14:08|\n|  4|    Robert|      Dowrey|   robert@dowrey.com|       Beginner Java|    Beginner|             4000|         NULL|2019-04-03 08:14:08|\n|  2|      John|        Cena|       john@cena.com| Intermediate Python|Intermediate|            43000|   2022-05-15|2024-03-15 01:16:00|\n|  1|    Corrie|Van den Oord| cvandenoor@etsy.com|   Intermediate Java|Intermediate|            35000|   2021-01-15|2021-02-10 01:15:00|\n|  3|     James|        Bond|      james@bond.com|    Intermediate C++|Intermediate|            12000|   2023-01-12|2018-05-05 05:17:02|\n|  6|       Dan|     Brownie|     dan@brownie.com|Advanced System D...|    Advanced|             9000|         NULL|2019-04-03 08:14:08|\n+---+----------+------------+--------------------+--------------------+------------+-----------------+-------------+-------------------+\n\n"
     ]
    }
   ],
   "source": [
    "userdf.\\\n",
    "    orderBy(course_level,col('number_of_ratings').desc()). \\\n",
    "    show()"
   ]
  },
  {
   "cell_type": "code",
   "execution_count": 0,
   "metadata": {
    "application/vnd.databricks.v1+cell": {
     "cellMetadata": {},
     "inputWidgets": {},
     "nuid": "def1c726-f987-4709-a303-de3515738d1a",
     "showTitle": false,
     "title": ""
    }
   },
   "outputs": [],
   "source": []
  }
 ],
 "metadata": {
  "application/vnd.databricks.v1+notebook": {
   "dashboards": [],
   "language": "python",
   "notebookMetadata": {
    "pythonIndentUnit": 4
   },
   "notebookName": "08 - Prioritized sorting of a spark data frame",
   "widgets": {}
  }
 },
 "nbformat": 4,
 "nbformat_minor": 0
}
