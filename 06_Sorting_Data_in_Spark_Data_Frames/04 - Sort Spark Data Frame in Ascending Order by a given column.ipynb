{
 "cells": [
  {
   "cell_type": "code",
   "execution_count": 0,
   "metadata": {
    "application/vnd.databricks.v1+cell": {
     "cellMetadata": {
      "byteLimit": 2048000,
      "rowLimit": 10000
     },
     "inputWidgets": {},
     "nuid": "b6a7c825-2d91-4e05-91ba-406bb783f72f",
     "showTitle": false,
     "title": ""
    }
   },
   "outputs": [
    {
     "output_type": "stream",
     "name": "stdout",
     "output_type": "stream",
     "text": [
      "+---+----------+------------+--------------------+--------------------------------+-------+-----------+-----------+-------------+-------------------+\n|id |first_name|last_name   |email               |phone_numbers                   |courses|is_customer|amount_paid|customer_from|last_updated_ts    |\n+---+----------+------------+--------------------+--------------------------------+-------+-----------+-----------+-------------+-------------------+\n|1  |Corrie    |Van den Oord|cvandenoor@etsy.com |{+91 8645879087, +91 9878673289}|[1, 2] |true       |1000.55    |2021-01-15   |2021-02-10 01:15:00|\n|2  |John      |Cena        |john@cena.com       |{+91 9886879087, +91 9134673289}|[1]    |true       |900.0      |2022-05-15   |2024-03-15 01:16:00|\n|3  |James     |Bond        |james@bond.com      |{+91 3245879087, +91 9854673289}|[2, 3] |false      |750.6      |2023-01-12   |2018-05-05 05:17:02|\n|4  |Robert    |Dowrey      |robert@dowrey.com   |NULL                            |[2]    |true       |500.5      |NULL         |2019-04-03 08:14:08|\n|5  |Chris     |Hemmsworth  |chris@hemmsworth.com|{+91 9085879087, }              |[3, 4] |false      |NaN        |NULL         |2019-04-03 08:14:08|\n+---+----------+------------+--------------------+--------------------------------+-------+-----------+-----------+-------------+-------------------+\n\n"
     ]
    }
   ],
   "source": [
    "%run \"/Users/surajthallapalli@outlook.com/06 Sorting Data in Spark Data Frames/02 - Creating Spark Data Frame for Sorting the Data\""
   ]
  },
  {
   "cell_type": "code",
   "execution_count": 0,
   "metadata": {
    "application/vnd.databricks.v1+cell": {
     "cellMetadata": {
      "byteLimit": 2048000,
      "rowLimit": 10000
     },
     "inputWidgets": {},
     "nuid": "b68e95d0-e387-4fde-9fd6-20ff43aa3d02",
     "showTitle": false,
     "title": ""
    }
   },
   "outputs": [
    {
     "output_type": "stream",
     "name": "stdout",
     "output_type": "stream",
     "text": [
      "+---+----------+------------+--------------------+--------------------------------+-------+-----------+-----------+-------------+-------------------+\n|id |first_name|last_name   |email               |phone_numbers                   |courses|is_customer|amount_paid|customer_from|last_updated_ts    |\n+---+----------+------------+--------------------+--------------------------------+-------+-----------+-----------+-------------+-------------------+\n|1  |Corrie    |Van den Oord|cvandenoor@etsy.com |{+91 8645879087, +91 9878673289}|[1, 2] |true       |1000.55    |2021-01-15   |2021-02-10 01:15:00|\n|2  |John      |Cena        |john@cena.com       |{+91 9886879087, +91 9134673289}|[1]    |true       |900.0      |2022-05-15   |2024-03-15 01:16:00|\n|3  |James     |Bond        |james@bond.com      |{+91 3245879087, +91 9854673289}|[2, 3] |false      |750.6      |2023-01-12   |2018-05-05 05:17:02|\n|4  |Robert    |Dowrey      |robert@dowrey.com   |NULL                            |[2]    |true       |500.5      |NULL         |2019-04-03 08:14:08|\n|5  |Chris     |Hemmsworth  |chris@hemmsworth.com|{+91 9085879087, }              |[3, 4] |false      |NaN        |NULL         |2019-04-03 08:14:08|\n+---+----------+------------+--------------------+--------------------------------+-------+-----------+-----------+-------------+-------------------+\n\n"
     ]
    }
   ],
   "source": [
    "userdf.show(truncate=False)"
   ]
  },
  {
   "cell_type": "code",
   "execution_count": 0,
   "metadata": {
    "application/vnd.databricks.v1+cell": {
     "cellMetadata": {
      "byteLimit": 2048000,
      "rowLimit": 10000
     },
     "inputWidgets": {},
     "nuid": "34544188-14b8-4e7f-a748-26f27d129375",
     "showTitle": false,
     "title": ""
    }
   },
   "outputs": [],
   "source": [
    "from pyspark.sql.functions import *"
   ]
  },
  {
   "cell_type": "code",
   "execution_count": 0,
   "metadata": {
    "application/vnd.databricks.v1+cell": {
     "cellMetadata": {
      "byteLimit": 2048000,
      "rowLimit": 10000
     },
     "inputWidgets": {},
     "nuid": "8cd005cb-fb50-4ad9-9cca-780774e18117",
     "showTitle": false,
     "title": ""
    }
   },
   "outputs": [
    {
     "output_type": "stream",
     "name": "stdout",
     "output_type": "stream",
     "text": [
      "+---+----------+------------+--------------------+--------------------+-------+-----------+-----------+-------------+-------------------+\n| id|first_name|   last_name|               email|       phone_numbers|courses|is_customer|amount_paid|customer_from|    last_updated_ts|\n+---+----------+------------+--------------------+--------------------+-------+-----------+-----------+-------------+-------------------+\n|  5|     Chris|  Hemmsworth|chris@hemmsworth.com|  {+91 9085879087, }| [3, 4]|      false|        NaN|         NULL|2019-04-03 08:14:08|\n|  1|    Corrie|Van den Oord| cvandenoor@etsy.com|{+91 8645879087, ...| [1, 2]|       true|    1000.55|   2021-01-15|2021-02-10 01:15:00|\n|  3|     James|        Bond|      james@bond.com|{+91 3245879087, ...| [2, 3]|      false|      750.6|   2023-01-12|2018-05-05 05:17:02|\n|  2|      John|        Cena|       john@cena.com|{+91 9886879087, ...|    [1]|       true|      900.0|   2022-05-15|2024-03-15 01:16:00|\n|  4|    Robert|      Dowrey|   robert@dowrey.com|                NULL|    [2]|       true|      500.5|         NULL|2019-04-03 08:14:08|\n+---+----------+------------+--------------------+--------------------+-------+-----------+-----------+-------------+-------------------+\n\n"
     ]
    }
   ],
   "source": [
    "userdf.sort('first_name').show()"
   ]
  },
  {
   "cell_type": "code",
   "execution_count": 0,
   "metadata": {
    "application/vnd.databricks.v1+cell": {
     "cellMetadata": {
      "byteLimit": 2048000,
      "rowLimit": 10000
     },
     "inputWidgets": {},
     "nuid": "f06b68ff-02b7-46d0-812b-38a3794c23ba",
     "showTitle": false,
     "title": ""
    }
   },
   "outputs": [
    {
     "output_type": "stream",
     "name": "stdout",
     "output_type": "stream",
     "text": [
      "+---+----------+------------+--------------------+--------------------+-------+-----------+-----------+-------------+-------------------+\n| id|first_name|   last_name|               email|       phone_numbers|courses|is_customer|amount_paid|customer_from|    last_updated_ts|\n+---+----------+------------+--------------------+--------------------+-------+-----------+-----------+-------------+-------------------+\n|  5|     Chris|  Hemmsworth|chris@hemmsworth.com|  {+91 9085879087, }| [3, 4]|      false|        NaN|         NULL|2019-04-03 08:14:08|\n|  1|    Corrie|Van den Oord| cvandenoor@etsy.com|{+91 8645879087, ...| [1, 2]|       true|    1000.55|   2021-01-15|2021-02-10 01:15:00|\n|  3|     James|        Bond|      james@bond.com|{+91 3245879087, ...| [2, 3]|      false|      750.6|   2023-01-12|2018-05-05 05:17:02|\n|  2|      John|        Cena|       john@cena.com|{+91 9886879087, ...|    [1]|       true|      900.0|   2022-05-15|2024-03-15 01:16:00|\n|  4|    Robert|      Dowrey|   robert@dowrey.com|                NULL|    [2]|       true|      500.5|         NULL|2019-04-03 08:14:08|\n+---+----------+------------+--------------------+--------------------+-------+-----------+-----------+-------------+-------------------+\n\n"
     ]
    }
   ],
   "source": [
    "userdf.sort(userdf.first_name).show()"
   ]
  },
  {
   "cell_type": "code",
   "execution_count": 0,
   "metadata": {
    "application/vnd.databricks.v1+cell": {
     "cellMetadata": {
      "byteLimit": 2048000,
      "rowLimit": 10000
     },
     "inputWidgets": {},
     "nuid": "61c4b25e-8609-44db-832b-f7016caa055b",
     "showTitle": false,
     "title": ""
    }
   },
   "outputs": [
    {
     "output_type": "stream",
     "name": "stdout",
     "output_type": "stream",
     "text": [
      "+---+----------+------------+--------------------+--------------------------------+-------+-----------+-----------+-------------+-------------------+\n|id |first_name|last_name   |email               |phone_numbers                   |courses|is_customer|amount_paid|customer_from|last_updated_ts    |\n+---+----------+------------+--------------------+--------------------------------+-------+-----------+-----------+-------------+-------------------+\n|5  |Chris     |Hemmsworth  |chris@hemmsworth.com|{+91 9085879087, }              |[3, 4] |false      |NaN        |NULL         |2019-04-03 08:14:08|\n|1  |Corrie    |Van den Oord|cvandenoor@etsy.com |{+91 8645879087, +91 9878673289}|[1, 2] |true       |1000.55    |2021-01-15   |2021-02-10 01:15:00|\n|3  |James     |Bond        |james@bond.com      |{+91 3245879087, +91 9854673289}|[2, 3] |false      |750.6      |2023-01-12   |2018-05-05 05:17:02|\n|2  |John      |Cena        |john@cena.com       |{+91 9886879087, +91 9134673289}|[1]    |true       |900.0      |2022-05-15   |2024-03-15 01:16:00|\n|4  |Robert    |Dowrey      |robert@dowrey.com   |NULL                            |[2]    |true       |500.5      |NULL         |2019-04-03 08:14:08|\n+---+----------+------------+--------------------+--------------------------------+-------+-----------+-----------+-------------+-------------------+\n\n"
     ]
    }
   ],
   "source": [
    "userdf.sort(userdf['first_name']).show(truncate=False)"
   ]
  },
  {
   "cell_type": "code",
   "execution_count": 0,
   "metadata": {
    "application/vnd.databricks.v1+cell": {
     "cellMetadata": {
      "byteLimit": 2048000,
      "rowLimit": 10000
     },
     "inputWidgets": {},
     "nuid": "f204d002-3a4d-4b26-a018-df130d6486b9",
     "showTitle": false,
     "title": ""
    }
   },
   "outputs": [
    {
     "output_type": "stream",
     "name": "stdout",
     "output_type": "stream",
     "text": [
      "+---+----------+------------+--------------------+--------------------+-------+-----------+-----------+-------------+-------------------+\n| id|first_name|   last_name|               email|       phone_numbers|courses|is_customer|amount_paid|customer_from|    last_updated_ts|\n+---+----------+------------+--------------------+--------------------+-------+-----------+-----------+-------------+-------------------+\n|  5|     Chris|  Hemmsworth|chris@hemmsworth.com|  {+91 9085879087, }| [3, 4]|      false|        NaN|         NULL|2019-04-03 08:14:08|\n|  1|    Corrie|Van den Oord| cvandenoor@etsy.com|{+91 8645879087, ...| [1, 2]|       true|    1000.55|   2021-01-15|2021-02-10 01:15:00|\n|  3|     James|        Bond|      james@bond.com|{+91 3245879087, ...| [2, 3]|      false|      750.6|   2023-01-12|2018-05-05 05:17:02|\n|  2|      John|        Cena|       john@cena.com|{+91 9886879087, ...|    [1]|       true|      900.0|   2022-05-15|2024-03-15 01:16:00|\n|  4|    Robert|      Dowrey|   robert@dowrey.com|                NULL|    [2]|       true|      500.5|         NULL|2019-04-03 08:14:08|\n+---+----------+------------+--------------------+--------------------+-------+-----------+-----------+-------------+-------------------+\n\n"
     ]
    }
   ],
   "source": [
    "userdf.sort(col('first_name')).show()"
   ]
  },
  {
   "cell_type": "code",
   "execution_count": 0,
   "metadata": {
    "application/vnd.databricks.v1+cell": {
     "cellMetadata": {
      "byteLimit": 2048000,
      "rowLimit": 10000
     },
     "inputWidgets": {},
     "nuid": "d24d2c7e-e658-4c43-b71e-14f3a7451796",
     "showTitle": false,
     "title": ""
    }
   },
   "outputs": [
    {
     "output_type": "stream",
     "name": "stdout",
     "output_type": "stream",
     "text": [
      "+---+----------+------------+--------------------+--------------------+-------+-----------+-----------+-------------+-------------------+\n| id|first_name|   last_name|               email|       phone_numbers|courses|is_customer|amount_paid|customer_from|    last_updated_ts|\n+---+----------+------------+--------------------+--------------------+-------+-----------+-----------+-------------+-------------------+\n|  4|    Robert|      Dowrey|   robert@dowrey.com|                NULL|    [2]|       true|      500.5|         NULL|2019-04-03 08:14:08|\n|  5|     Chris|  Hemmsworth|chris@hemmsworth.com|  {+91 9085879087, }| [3, 4]|      false|        NaN|         NULL|2019-04-03 08:14:08|\n|  1|    Corrie|Van den Oord| cvandenoor@etsy.com|{+91 8645879087, ...| [1, 2]|       true|    1000.55|   2021-01-15|2021-02-10 01:15:00|\n|  2|      John|        Cena|       john@cena.com|{+91 9886879087, ...|    [1]|       true|      900.0|   2022-05-15|2024-03-15 01:16:00|\n|  3|     James|        Bond|      james@bond.com|{+91 3245879087, ...| [2, 3]|      false|      750.6|   2023-01-12|2018-05-05 05:17:02|\n+---+----------+------------+--------------------+--------------------+-------+-----------+-----------+-------------+-------------------+\n\n"
     ]
    }
   ],
   "source": [
    "userdf.sort('customer_from').show()"
   ]
  },
  {
   "cell_type": "code",
   "execution_count": 0,
   "metadata": {
    "application/vnd.databricks.v1+cell": {
     "cellMetadata": {
      "byteLimit": 2048000,
      "rowLimit": 10000
     },
     "inputWidgets": {},
     "nuid": "188c2216-4531-4f7c-afc5-b1ed257c4b3d",
     "showTitle": false,
     "title": ""
    }
   },
   "outputs": [
    {
     "output_type": "stream",
     "name": "stdout",
     "output_type": "stream",
     "text": [
      "+---+----------+------------+--------------------+--------------------+-------+-----------+-----------+-------------+-------------------+\n| id|first_name|   last_name|               email|       phone_numbers|courses|is_customer|amount_paid|customer_from|    last_updated_ts|\n+---+----------+------------+--------------------+--------------------+-------+-----------+-----------+-------------+-------------------+\n|  2|      John|        Cena|       john@cena.com|{+91 9886879087, ...|    [1]|       true|      900.0|   2022-05-15|2024-03-15 01:16:00|\n|  4|    Robert|      Dowrey|   robert@dowrey.com|                NULL|    [2]|       true|      500.5|         NULL|2019-04-03 08:14:08|\n|  1|    Corrie|Van den Oord| cvandenoor@etsy.com|{+91 8645879087, ...| [1, 2]|       true|    1000.55|   2021-01-15|2021-02-10 01:15:00|\n|  3|     James|        Bond|      james@bond.com|{+91 3245879087, ...| [2, 3]|      false|      750.6|   2023-01-12|2018-05-05 05:17:02|\n|  5|     Chris|  Hemmsworth|chris@hemmsworth.com|  {+91 9085879087, }| [3, 4]|      false|        NaN|         NULL|2019-04-03 08:14:08|\n+---+----------+------------+--------------------+--------------------+-------+-----------+-----------+-------------+-------------------+\n\n"
     ]
    }
   ],
   "source": [
    "userdf.sort(size('courses')).show()"
   ]
  },
  {
   "cell_type": "code",
   "execution_count": 0,
   "metadata": {
    "application/vnd.databricks.v1+cell": {
     "cellMetadata": {},
     "inputWidgets": {},
     "nuid": "15c3e412-c79a-4aa0-ad23-1085fb0bbbda",
     "showTitle": false,
     "title": ""
    }
   },
   "outputs": [],
   "source": []
  }
 ],
 "metadata": {
  "application/vnd.databricks.v1+notebook": {
   "dashboards": [],
   "language": "python",
   "notebookMetadata": {
    "pythonIndentUnit": 4
   },
   "notebookName": "04 - Sort Spark Data Frame in Ascending Order by a given column",
   "widgets": {}
  }
 },
 "nbformat": 4,
 "nbformat_minor": 0
}
